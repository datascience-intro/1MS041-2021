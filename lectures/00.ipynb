{
 "cells": [
  {
   "cell_type": "markdown",
   "id": "d56989bb",
   "metadata": {
    "deletable": false
   },
   "source": [
    "# [Introduction to Data Science: A Comp-Math-Stat Approach](http://datascience-intro.github.io/1MS041-2021/)    \n",
    "## 1MS041, 2021 \n",
    "&copy;2021 Raazesh Sainudiin, Benny Avelin. [Attribution 4.0 International     (CC BY 4.0)](https://creativecommons.org/licenses/by/4.0/)"
   ]
  },
  {
   "cell_type": "markdown",
   "metadata": {
    "collapsed": false
   },
   "source": [
    "# 00. Introduction \n",
    "\n",
    "1. Introduction\n",
    "2. What is SageMath and why are we using it?\n",
    "3. Interaction  - learning/teaching style\n",
    "4. What can you expect to get out of this course? \n",
    "\n",
    "\n",
    "## Introduction\n",
    "\n",
    "This is the code notebooks for 1MS041 at Uppsala University. 1MS042 is titled *Introduction to Data Science* and takes a computational, mathematical and statistical Approach.\n",
    "\n",
    "## Training in Advanced Computational Mathematical Research Environment\n",
    "\n",
    "At the end of these lab/lectures you will be able to use **SageMath/Python** to get further into advanced research-level data science problems using the vast tools in SageMath and the Python eco-system in general.\n",
    "\n",
    "## What is SageMath and why are we using it?\n",
    "\n",
    "We will be using Sage or [SageMath](http://www.sagemath.org/) for our *hands-on* work in this course. Sage is a free open-source mathematics software system licensed under the GPL.  Sage can be used to study mathematics and statistics, including algebra, calculus, elementary to very advanced number theory, cryptography, commutative algebra, group theory, combinatorics, graph theory, exact linear algebra, optimization, interactive data visualization, randomized or Monte Carlo algorithms, scientific and statistical computing and much more. It combines various software packages into an integrative learning, teaching and research experience that is well suited for novice as well as professional researchers.\n",
    "  \n",
    "Sage is a set of software libraries built on top of [Python](http://www.python.org/), a widely used general purpose programming language. Sage greatly enhance Python's already mathematically friendly nature. It is one of the languages used at Google, US National Aeronautic and Space Administration (NASA), US Jet Propulsion Laboratory (JPL), Industrial Light and Magic, YouTube, and other leading entities in industry and public sectors. Scientists, engineers, and mathematicians often find it well suited for their work. Obtain a more thorough rationale for Sage from <a href=\"http://www.sagemath.org/library/why.html\" target=\"_blank\">Why Sage?</a> and <a href=\"http://www.sagemath.org/library/stories.html\" target=\"_blank\">Success Stories, Testimonials and News Articles</a>. Jump start your motivation by taking a <a href=\"http://www.sagemath.org/tour.html\" target=\"_blank\">Sage Feature Tour</a> right now!\n",
    "\n",
    "## Interaction - learning/teaching style\n",
    "\n",
    "This is an interactive jupyter notebook with SageMath interpreter and interactive means...\n",
    "\n",
    "### Videos\n",
    "\n",
    "We will link relevant videos in the notebook, such as those from [The Khan Academy](http://www.khanacademy.org/) or open MOOCs from google, facebook, academia, etc.\n",
    "Please right-click and open video links in a separate Tab/window.\n",
    "\n",
    "* [watch Google's Hal Varian's 'statistics is the dream' job speech](https://youtu.be/D4FQsYTbLoI)\n",
    "* watch the then Chief Technology Officer [Gus Hunt](https://en.wikipedia.org/wiki/Gus_Hunt) of the US Central Intelligence Agency talk about Big Data and Data Science at the Gigaom Structure Data Conference about [We Try to Collect Everything and Hang Onto It Forever on March 21, 2013](https://youtu.be/GUPd2uMiXXg) and at [AWS Gov Summit 2011 on October 29 2011](https://youtu.be/SkIhHnoPpjA)\n",
    "* [watch UC Berkeley Professor Michael Jordan's speech on 'The Data Science Revolution'](https://youtu.be/ggq7HiDO0OU)\n",
    "* watch the (then) CEO of Google, [Sundar Pitchai](https://en.wikipedia.org/wiki/Sundar_Pichai), talk about what kinds of problems Google can solve as of April 9 2019 during [the first 10 minutes of the Opening Keynote of the Cloud Next 2019 Conference](https://youtu.be/XGrlWVWlpgE)\n",
    "* keep up with new advances in data science and engineering on your own!\n",
    "\n",
    "### Latex\n",
    "\n",
    "We will *formally present mathematical and statistical concepts* in the Notebook using Latex as follows:\n",
    "\n",
    "$$ \\sum_{i=1}^5 i = 1+2+3+4+5=15, \\qquad \\prod_{i=3}^6 i = 3 \\times 4 \\times 5 \\times 6 = 360 $$\n",
    "\n",
    "$$ \\binom{n}{k}:= \\frac{n!}{k!(n-k)!}, \\qquad \\lim_{x \\to \\infty}\\exp{(-x)} = 0 $$\n",
    "\n",
    "$$ \\{\\alpha, \\beta, \\gamma, \\delta, \\epsilon, \\zeta, \\mu,\\theta, \\vartheta, \\phi, \\varphi, \\omega, \\sigma, \\varsigma,\\Gamma, \\Delta, \\Theta, \\Phi, \\Omega\\}, \\qquad \\forall x \\in X, \\quad \\exists y \\leq \\epsilon, \\ldots $$\n",
    "\n",
    "### Interactive Visualizations\n",
    "\n",
    "We will use interactive visualisations to convey concepts when possible. See the Taylor approximation below for a given order.\n",
    "\n"
   ]
  },
  {
   "cell_type": "code",
   "execution_count": 1,
   "metadata": {
    "collapsed": false
   },
   "outputs": [
    {
     "data": {
      "application/vnd.jupyter.widget-view+json": {
       "model_id": "e778e9e8034a49d2891021bde0cdd689",
       "version_major": 2,
       "version_minor": 0
      },
      "text/plain": [
       "Interactive function <function _ at 0x7fec1b6bf048> with 1 widget\n",
       "  order: Dropdown(description='order', optio…"
      ]
     },
     "execution_count": 1,
     "metadata": {},
     "output_type": "execute_result"
    }
   ],
   "source": [
    "var('x')\n",
    "x0  = 0\n",
    "f   = sin(x)*e^(-x)\n",
    "p   = plot(f,-1,5, thickness=2)\n",
    "dot = point((x0,f(x=x0)),pointsize=80,rgbcolor=(1,0,0))\n",
    "@interact\n",
    "def _(order=[1..12]):\n",
    "    ft = f.taylor(x,x0,order)\n",
    "    pt = plot(ft,-1, 5, color='green', thickness=2)\n",
    "    pretty_print(html(r'$f(x)\\;=\\;%s$'%latex(f)))\n",
    "    pretty_print(html(r'$\\hat{f}(x;%s)\\;=\\;%s+\\mathcal{O}\\\n",
    "                 (x^{%s})$'%(x0,latex(ft),order+1)))\n",
    "    show(dot + p + pt, ymin = -.5, ymax = 1, figsize=[6,3])"
   ]
  },
  {
   "cell_type": "markdown",
   "metadata": {
    "collapsed": false
   },
   "source": [
    "#### Lab-Lecture Style of Teaching-Learning\n",
    "\n",
    "We will *write computer programs* within code cells in the Notebook right after we learn the mathematical and statistical concepts. \n",
    "\n",
    "#### Live Data Explorations and Modeling\n",
    "Let us visualize the CO2 data, fetched from US NOAA, and do a simple linear regression."
   ]
  },
  {
   "cell_type": "code",
   "execution_count": 2,
   "metadata": {
    "collapsed": false
   },
   "outputs": [
    {
     "data": {
      "application/vnd.jupyter.widget-view+json": {
       "model_id": "622058ffce544e59b6e5e361fa0dbfd7",
       "version_major": 2,
       "version_minor": 0
      },
      "text/plain": [
       "Interactive function <function mauna_loa_co2 at 0x7fec13ea7f28> with 2 widgets\n",
       "  start_date: TransformIntSlide…"
      ]
     },
     "execution_count": 2,
     "metadata": {},
     "output_type": "execute_result"
    }
   ],
   "source": [
    "# Author: Marshall Hampton \n",
    "import urllib.request as U\n",
    "import scipy.stats as Stat\n",
    "from IPython.display import HTML\n",
    "co2data = U.urlopen(\\\n",
    "          'ftp://ftp.cmdl.noaa.gov/ccg/co2/trends/co2_mm_mlo.txt'\\\n",
    "                   ).readlines()\n",
    "datalines = []\n",
    "for a_line_raw in co2data:\n",
    "    a_line = a_line_raw.decode('utf-8')\n",
    "    if a_line.find('Creation:') != -1:\n",
    "        cdate = a_line\n",
    "    if a_line[0] != '#':\n",
    "        temp = a_line.replace('\\n','').split(' ')\n",
    "        temp = [float(q) for q in temp if q != '']\n",
    "        datalines.append(temp)\n",
    "trdf = RealField(16)\n",
    "@interact\n",
    "def mauna_loa_co2(start_date = slider(1958,2018,1,1958), \\\n",
    "                  end_date = slider(1958, 2018,1,2018)):\n",
    "    htmls1 = '<h3>CO2 monthly averages at Mauna Loa (interpolated),\\\n",
    "    from NOAA/ESRL data</h3>'\n",
    "    htmls2 = '<h4>'+cdate+'</h4>'\n",
    "    sel_data = [[q[2],q[4]] for q in datalines if start_date < \\\n",
    "                q[2] < end_date]\n",
    "    c_max = max([q[1] for q in sel_data])\n",
    "    c_min = min([q[1] for q in sel_data])\n",
    "    slope, intercept, r, ttprob, stderr = Stat.linregress(sel_data)\n",
    "    pretty_print(html(htmls1+htmls2+'<h4>Linear regression slope: '\\\n",
    "                      + str(trdf(slope))+ \\\n",
    "                      ' ppm/year; correlation coefficient: ' +\\\n",
    "                      str(trdf(r)) + '</h4>'))\n",
    "    var('x,y')\n",
    "    show(list_plot(sel_data, plotjoined=True, rgbcolor=(1,0,0)) \n",
    "                   + plot(slope*x+intercept,start_date,end_date), \n",
    "                      xmin = start_date, ymin = c_min-2, axes = True, \\\n",
    "                      xmax = end_date, ymax = c_max+3, \\\n",
    "                      frame = False, figsize=[8,3])"
   ]
  },
  {
   "cell_type": "markdown",
   "metadata": {
    "collapsed": false
   },
   "source": [
    "### We will use publicly available resources generously!\n",
    "\n",
    "Here is an image of number systems from Wikipedia.\n",
    "\n",
    "<img src=\"https://upload.wikimedia.org/wikipedia/commons/a/a0/NumberSetinC.svg\" alt=\"NumberSetinC\" width='200'>\n",
    "\n",
    "We will also sometimes embed whole wikipedia pages. Expect cached wikipedia pages in your final exam. The course will prepare you to think from facts in publicly available information."
   ]
  },
  {
   "cell_type": "code",
   "execution_count": 4,
   "metadata": {
    "collapsed": false
   },
   "outputs": [
    {
     "data": {
      "text/html": [
       "\n",
       "        <iframe\n",
       "            width=\"95%\"\n",
       "            height=\"400\"\n",
       "            src=\"https://en.wikipedia.org/wiki/Number\"\n",
       "            frameborder=\"0\"\n",
       "            allowfullscreen\n",
       "        ></iframe>\n",
       "        "
      ],
      "text/plain": [
       "<IPython.lib.display.IFrame object at 0x7fec1248a630>"
      ]
     },
     "execution_count": 4,
     "metadata": {},
     "output_type": "execute_result"
    }
   ],
   "source": [
    "def showURL(url, ht=500):\n",
    "    \"\"\"Return an IFrame of the url to show in notebook \\\n",
    "       with height ht\"\"\"\n",
    "    from IPython.display import IFrame\n",
    "    return IFrame(url, width='95%', height=ht) \n",
    "showURL('https://en.wikipedia.org/wiki/Number',400)"
   ]
  },
  {
   "cell_type": "markdown",
   "metadata": {
    "collapsed": false
   },
   "source": [
    "## What can you expect to get out of this course?\n",
    "\n",
    "Strengthen your foundations in:\n",
    "\n",
    "- probability and statistics,\n",
    "- computing and data analysis\n",
    "\n",
    "in order to understand the probabilistic models and statistical inference procedures as well implement computer programs for processing raw data - a crucial distinguishing joint skillset of a *data scientist*.\n",
    " \n",
    "### What is Data Science?\n",
    "\n",
    "We will steer clear of academic/philosophical discussions on \"what is data science?\" and focus instead on the core skillset in mathematics, statistics and computing that is expected in a typical data science job today."
   ]
  },
  {
   "cell_type": "code",
   "execution_count": 5,
   "metadata": {
    "collapsed": false
   },
   "outputs": [
    {
     "data": {
      "text/html": [
       "\n",
       "        <iframe\n",
       "            width=\"95%\"\n",
       "            height=\"500\"\n",
       "            src=\"https://en.wikipedia.org/wiki/Data_science\"\n",
       "            frameborder=\"0\"\n",
       "            allowfullscreen\n",
       "        ></iframe>\n",
       "        "
      ],
      "text/plain": [
       "<IPython.lib.display.IFrame object at 0x7fec13f87048>"
      ]
     },
     "execution_count": 5,
     "metadata": {},
     "output_type": "execute_result"
    }
   ],
   "source": [
    "showURL(\"https://en.wikipedia.org/wiki/Data_science\")"
   ]
  },
  {
   "cell_type": "markdown",
   "metadata": {
    "collapsed": true,
    "jupyter": {
     "source_hidden": false
    }
   },
   "source": [
    "# Course Structure\n",
    "\n",
    "This course consists of \n",
    "\n",
    "* 14 lectures with theoretical content\n",
    "* 4 problem sessions\n",
    "* 4 computer lab sessions\n",
    "\n",
    "We will start with basics of programming in BASH and a review of Python before recollecting concepts in probability and setting the stage for applied statistics, including, hypothesis testing and parameter estimation.\n",
    "\n",
    "**Ethical implications**\n",
    "\n",
    "As Data scientists, you have the responsibility to ask questions such as: *what is the cost of such sophisticated prediction algorithms on our society and planet?* when we engage in the so-called *data science process*.\n",
    "\n",
    "<img src=\"https://raw.githubusercontent.com/lamastex/scalable-data-science/master/assets/images/sds.png\" alt=\"datascienceprocess\">\n",
    "\n",
    "Here, your first assigned reading is from the following work:\n",
    "\n",
    "- [https://anatomyof.ai/](https://anatomyof.ai/), \"Anatomy of an AI System\" By Kate Crawford and Vladan Joler (2018)\n",
    "\n",
    "The Amazon Echo as an anatomical map of human labor, data and planetary resources. Read the 16 pages of [ai-anatomy-publication.pdf](http://www.anatomyof.ai/img/ai-anatomy-publication.pdf) with highly detailed [ai-anatomy-map.pdf](https://anatomyof.ai/img/ai-anatomy-map.pdf) to complete the first problem in Assignment 1.\n",
    "\n",
    "<img src=\"https://anatomyof.ai/ai-system-facebook-og.jpg\" alt=\"ai-anatomy-map.pdf\">"
   ]
  },
  {
   "cell_type": "code",
   "execution_count": 0,
   "metadata": {
    "collapsed": false
   },
   "outputs": [],
   "source": []
  }
 ],
 "metadata": {
  "kernelspec": {
   "display_name": "SageMath 9.1",
   "language": "sagemath",
   "metadata": {
    "cocalc": {
     "description": "Open-source mathematical software system",
     "priority": 1,
     "url": "https://www.sagemath.org/"
    }
   },
   "name": "sage-9.1",
   "resource_dir": "/ext/jupyter/kernels/sage-9.1"
  },
  "language_info": {
   "codemirror_mode": {
    "name": "ipython",
    "version": 3
   },
   "file_extension": ".py",
   "mimetype": "text/x-python",
   "name": "python",
   "nbconvert_exporter": "python",
   "pygments_lexer": "ipython3",
   "version": "3.7.3"
  },
  "lx_course_instance": "2021",
  "lx_course_name": "Introduction to Data Science: A Comp-Math-Stat Approach",
  "lx_course_number": "1MS041"
 },
 "nbformat": 4,
 "nbformat_minor": 4
}
