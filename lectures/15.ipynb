{
 "cells": [
  {
   "cell_type": "markdown",
   "id": "a5efc607",
   "metadata": {
    "deletable": false
   },
   "source": [
    "# [Introduction to Data Science: A Comp-Math-Stat Approach](http://datascience-intro.github.io/1MS041-2021/)    \n",
    "## 1MS041, 2021 \n",
    "&copy;2021 Raazesh Sainudiin, Benny Avelin. [Attribution 4.0 International     (CC BY 4.0)](https://creativecommons.org/licenses/by/4.0/)"
   ]
  },
  {
   "cell_type": "markdown",
   "metadata": {
    "collapsed": false
   },
   "source": [
    "# 15. Supervised learning continued\n",
    "\n",
    "## Topics\n",
    "\n",
    "* Another viewpoint of classification (The perceptron)\n",
    "* The kernel trick\n",
    "* The learning problem\n",
    "* Uniform convergence of empirical mean (Finite) (PAC Learning)\n",
    "* Uniform convergence of empirical mean (Full) (PAC Learning)"
   ]
  },
  {
   "cell_type": "markdown",
   "metadata": {
    "collapsed": false
   },
   "source": [
    "We have seen the probabilistic viewpoint of machine learning, by going from the Likelihood to the so called loss funcntion. Finding the MLE is finding the minima in the loss function.\n",
    "\n",
    "Traditionally however the machine learning started in principle with a single algorithm called the perceptron algorithm. The ideas come from computer science and as such the focus and terminology is different, but let us stick to the terminology used in the book \"Foundations of Data Science\" Chap 5.\n",
    "\n",
    "Let us say that we are trying to device a decision rule based on input data being in $\\mathbb{R}^d$, it could be binary or other. This input could be for instance the words being used in an email, where we have some form of dictionary where each word is represented by a dimension. The simplest form of decision problem is that of a binary decision, like in the case of logistic regression (the decision could be the most likely output). A commonly chosen example is that of email spam classification.\n",
    "\n",
    "> Goal: find a \"simple\" rule that performs well on training data\n",
    "\n",
    "## The perceptron algorithm\n",
    "\n",
    "The perceptron algorithm tries to find a linear separator, i.e. a plane in $\\mathbb{R}$ that separates the two classes. The task is thus to find $w$ and $t$ such that for the training data $S$, the data consists of pairs $(x_i,l_i)$ the $x_i$ represents our features and the $l_i$ our labels or target.\n",
    "\n",
    "$$\n",
    "\\begin{aligned}\n",
    "    w \\cdot x_i > t \\quad \\text{for each $x_i$ labeled $+1$} \\\\\n",
    "    w \\cdot x_i < t \\quad \\text{for each $x_i$ labeled $-1$}\n",
    "\\end{aligned}\n",
    "$$\n",
    "\n",
    "Adding a new coordinate to our space allows us to consider $\\hat x_i = (x_i,1)$ and $\\hat w = (w,t)$, this allows us to rewrite the inequalities above as\n",
    "\n",
    "$$\n",
    "    (\\hat w \\cdot \\hat x_i) l_i > 0.\n",
    "$$\n",
    "\n",
    "### The algorithm\n",
    "1. $w = 0$\n",
    "2. while there exists $x_i$ with $x_i l_i \\cdot w \\leq 0$, update $w := w+x_il_i$"
   ]
  },
  {
   "cell_type": "code",
   "execution_count": 1,
   "metadata": {
    "collapsed": false
   },
   "outputs": [],
   "source": [
    "import numpy as np\n",
    "\n",
    "def gen_data(n_points=5,sep=1):\n",
    "    np.random.seed(3)\n",
    "    W = np.array([[1,-1],[1,1]])/np.sqrt(2)\n",
    "    rnd_pos_1 = np.random.uniform(0,1,size=(n_points,2))\n",
    "    X1 = (rnd_pos_1 + np.array([-1-sep,0]))@W\n",
    "    rnd_pos_2 = np.random.uniform(0,1,size=(n_points,2))\n",
    "    X2 = (rnd_pos_2 + np.array([+sep,0]))@W\n",
    "    \n",
    "    Xall = np.concatenate([X1,X2],axis=0)\n",
    "    y1 = np.ones(shape=n_points)\n",
    "    y2 = -np.ones(shape=n_points)\n",
    "    yall = np.concatenate([y1,y2])\n",
    "\n",
    "    X = np.concatenate([Xall,np.ones((n_points*2,1))],axis=1)\n",
    "    return X,X1,X2,Xall,yall\n",
    "X, X1, X2, Xall, yall = gen_data(n_points=100,sep=0.05)"
   ]
  },
  {
   "cell_type": "code",
   "execution_count": 2,
   "metadata": {
    "collapsed": false
   },
   "outputs": [
    {
     "data": {
      "text/plain": [
       "<matplotlib.collections.PathCollection object at 0x7f4303fbfcf8>"
      ]
     },
     "execution_count": 2,
     "metadata": {},
     "output_type": "execute_result"
    },
    {
     "data": {
      "image/png": "[encoded data removed]",
      "text/plain": [
       "<Figure size 576x576 with 1 Axes>"
      ]
     },
     "execution_count": 2,
     "metadata": {},
     "output_type": "execute_result"
    }
   ],
   "source": [
    "%matplotlib inline\n",
    "import matplotlib.pyplot as plt\n",
    "plt.figure(figsize=(8,8))\n",
    "plt.scatter(X1[:,0],X1[:,1], color='red')\n",
    "plt.scatter(X2[:,0],X2[:,1], color='blue')"
   ]
  },
  {
   "cell_type": "code",
   "execution_count": 3,
   "metadata": {
    "collapsed": false
   },
   "outputs": [
    {
     "data": {
      "application/vnd.jupyter.widget-view+json": {
       "model_id": "2c97628148c5479abc3e05afc8703e53",
       "version_major": 2,
       "version_minor": 0
      },
      "text/plain": [
       "Interactive function <function _ at 0x7f430615cc80> with 1 widget\n",
       "  n_steps: SelectionSlider(description='n_st…"
      ]
     },
     "execution_count": 3,
     "metadata": {},
     "output_type": "execute_result"
    }
   ],
   "source": [
    "@interact\n",
    "def _(n_steps=(0,(0..63))):\n",
    "    # X = (n_points,3)\n",
    "    # W = (n_points,3)\n",
    "    n_points = X.shape[0]\n",
    "    W = np.array([0,0,0])\n",
    "    P=points(zip(X1[:,0],X1[:,1]),color='blue')\n",
    "    P+=points(zip(X2[:,0],X2[:,1]),color='red')\n",
    "    \n",
    "    k = 0\n",
    "    max_iter=10000\n",
    "    j = 0\n",
    "    while ((k < n_steps) and (j < max_iter)):\n",
    "        i = j % n_points\n",
    "        j+=1\n",
    "        if (X[i,:]@W * yall[i] <= 0):\n",
    "            W = W + X[i,:]*yall[i]\n",
    "            P+=points(X[i,:2],color='yellow')\n",
    "            k+=1\n",
    "    print(W)\n",
    "    \n",
    "    x_left = -2\n",
    "    x_right = 2\n",
    "    y_left = 0\n",
    "    y_right = 0\n",
    "    if (W[1] != 0):\n",
    "        y_left = (-W[2] - x_left*W[0])/W[1]\n",
    "        y_right = (-W[2] - x_right*W[0])/W[1]\n",
    "    P+=line([(x_left,y_left),(x_right,y_right)])\n",
    "    \n",
    "    show(P,xmin=-1,xmax=2,ymin=-1,ymax=2)"
   ]
  },
  {
   "cell_type": "markdown",
   "metadata": {
    "collapsed": false
   },
   "source": [
    "### Theorem: Perceptron for linearly separable data\n",
    "> If there exists $w^\\ast$ such that $w^\\ast \\cdot x_i l_i \\geq 1$ for all $i$. Then the perceptron algorithm find a $w$ satisfying $w \\cdot x_i l_i \\geq 0$ for all $i$ in at most $r^2|w^\\ast|^2$ updates, where $r = \\max_i |x_i|$.\n",
    "\n",
    "So this theorem guarantees that if the two classes can be separated then the preceptron will also find a separator in finite time.\n",
    "\n",
    "### Kernels\n",
    "\n",
    "What about non-linearly separable data. Take for instance\n",
    "$$\n",
    "    X = (B_4 \\setminus B_3) \\cup B_1\n",
    "$$\n",
    "and let $c^\\ast = B_1$. We cannot separate these sets using a linear classifier"
   ]
  },
  {
   "cell_type": "code",
   "execution_count": 4,
   "metadata": {
    "collapsed": false
   },
   "outputs": [
    {
     "data": {
      "image/png": "[encoded data removed]",
      "text/plain": [
       "Graphics object consisting of 2 graphics primitives"
      ]
     },
     "execution_count": 4,
     "metadata": {},
     "output_type": "execute_result"
    }
   ],
   "source": [
    "A = np.random.normal(size=(100,2))\n",
    "A_unit = A/(np.linalg.norm(A,axis=1).reshape(-1,1))\n",
    "radial_A = 3+np.random.uniform(size=(100,1))\n",
    "P=points(A_unit*radial_A,color='blue')\n",
    "\n",
    "B = np.random.normal(size=(100,2))\n",
    "B_unit = B/(np.linalg.norm(B,axis=1).reshape(-1,1))\n",
    "radial_B = np.random.uniform(size=(100,1))\n",
    "P+=points(B_unit*radial_B,color='red')\n",
    "P.show()"
   ]
  },
  {
   "cell_type": "markdown",
   "metadata": {
    "collapsed": false
   },
   "source": [
    "we can however separate the following mapping of $X$. Namely in $\\mathbb R^2$ we can do\n",
    "$$\n",
    "    \\phi(x) = (x_1,x_2,x_1^2+x_2^2) \\in \\mathbb R^3\n",
    "$$\n",
    "This is clearly linearly separable as we can see in the following 3d plot"
   ]
  },
  {
   "cell_type": "code",
   "execution_count": 5,
   "metadata": {
    "collapsed": false
   },
   "outputs": [
    {
     "data": {
      "text/html": [
       "\n",
       "<iframe srcdoc=\"<!DOCTYPE html>\n",
       "<html>\n",
       "<head>\n",
       "<title></title>\n",
       "<meta charset=&quot;utf-8&quot;>\n",
       "<meta name=viewport content=&quot;width=device-width, user-scalable=no, minimum-scale=1.0, maximum-scale=1.0&quot;>\n",
       "<style>\n",
       "\n",
       "    body { margin: 0px; overflow: hidden; }\n",
       "\n",
       "    #menu-container { position: absolute; bottom: 30px; right: 40px; cursor: default; }\n",
       "\n",
       "    #menu-message { position: absolute; bottom: 0px; right: 0px; white-space: nowrap;\n",
       "                    display: none; background-color: #F5F5F5; padding: 10px; }\n",
       "\n",
       "    #menu-content { position: absolute; bottom: 0px; right: 0px;\n",
       "                    display: none; background-color: #F5F5F5; border-bottom: 1px solid black;\n",
       "                    border-right: 1px solid black; border-left: 1px solid black; }\n",
       "\n",
       "    #menu-content div { border-top: 1px solid black; padding: 10px; white-space: nowrap; }\n",
       "\n",
       "    #menu-content div:hover { background-color: #FEFEFE;; }\n",
       "  \n",
       "</style>\n",
       "</head>\n",
       "\n",
       "<body>\n",
       "\n",
       "<script src=&quot;/nbextensions/threejs/build/three.min.js&quot;></script>\n",
       "<script src=&quot;/nbextensions/threejs/examples/js/controls/OrbitControls.js&quot;></script>\n",
       "<script>\n",
       "  if ( !window.THREE ) document.write(' \\\n",
       "<script src=&quot;https://cdn.jsdelivr.net/gh/mrdoob/three.js@r110/build/three.min.js&quot;><\\/script> \\\n",
       "<script src=&quot;https://cdn.jsdelivr.net/gh/mrdoob/three.js@r110/examples/js/controls/OrbitControls.js&quot;><\\/script> \\\n",
       "            ');\n",
       "</script>\n",
       "        \n",
       "<script>\n",
       "\n",
       "    var scene = new THREE.Scene();\n",
       "\n",
       "    var renderer = new THREE.WebGLRenderer( { antialias: true, preserveDrawingBuffer: true } );\n",
       "    renderer.setPixelRatio( window.devicePixelRatio );\n",
       "    renderer.setSize( window.innerWidth, window.innerHeight );\n",
       "    renderer.setClearColor( 0xffffff, 1 );\n",
       "    document.body.appendChild( renderer.domElement );\n",
       "\n",
       "    var options = {&quot;aspectRatio&quot;: [1.0, 1.0, 1.0], &quot;axes&quot;: false, &quot;axesLabels&quot;: [&quot;x&quot;, &quot;y&quot;, &quot;z&quot;], &quot;decimals&quot;: 2, &quot;frame&quot;: true, &quot;projection&quot;: &quot;perspective&quot;};\n",
       "\n",
       "    // When animations are supported by the viewer, the value 'false'\n",
       "    // will be replaced with an option set in Python by the user\n",
       "    var animate = false; // options.animate;\n",
       "\n",
       "    var b = [{&quot;x&quot;:-3.7708399651743965, &quot;y&quot;:-3.7700111981264652, &quot;z&quot;:6.518826800788758e-05}, {&quot;x&quot;:3.931232379286089, &quot;y&quot;:3.9013226905736516, &quot;z&quot;:15.928659156667488}]; // bounds\n",
       "\n",
       "    if ( b[0].x === b[1].x ) {\n",
       "        b[0].x -= 1;\n",
       "        b[1].x += 1;\n",
       "    }\n",
       "    if ( b[0].y === b[1].y ) {\n",
       "        b[0].y -= 1;\n",
       "        b[1].y += 1;\n",
       "    }\n",
       "    if ( b[0].z === b[1].z ) {\n",
       "        b[0].z -= 1;\n",
       "        b[1].z += 1;\n",
       "    }\n",
       "\n",
       "    var rRange = Math.sqrt( Math.pow( b[1].x - b[0].x, 2 )\n",
       "                            + Math.pow( b[1].y - b[0].y, 2 ) );\n",
       "    var xRange = b[1].x - b[0].x;\n",
       "    var yRange = b[1].y - b[0].y;\n",
       "    var zRange = b[1].z - b[0].z;\n",
       "\n",
       "    var ar = options.aspectRatio;\n",
       "    var a = [ ar[0], ar[1], ar[2] ]; // aspect multipliers\n",
       "    var autoAspect = 2.5;\n",
       "    if ( zRange > autoAspect * rRange && a[2] === 1 ) a[2] = autoAspect * rRange / zRange;\n",
       "\n",
       "    // Distance from (xMid,yMid,zMid) to any corner of the bounding box, after applying aspectRatio\n",
       "    var midToCorner = Math.sqrt( a[0]*a[0]*xRange*xRange + a[1]*a[1]*yRange*yRange + a[2]*a[2]*zRange*zRange ) / 2;\n",
       "\n",
       "    var xMid = ( b[0].x + b[1].x ) / 2;\n",
       "    var yMid = ( b[0].y + b[1].y ) / 2;\n",
       "    var zMid = ( b[0].z + b[1].z ) / 2;\n",
       "\n",
       "    var box = new THREE.Geometry();\n",
       "    box.vertices.push( new THREE.Vector3( a[0]*b[0].x, a[1]*b[0].y, a[2]*b[0].z ) );\n",
       "    box.vertices.push( new THREE.Vector3( a[0]*b[1].x, a[1]*b[1].y, a[2]*b[1].z ) );\n",
       "    var boxMesh = new THREE.Line( box );\n",
       "    if ( options.frame ) scene.add( new THREE.BoxHelper( boxMesh, 'black' ) );\n",
       "\n",
       "    if ( options.axesLabels ) {\n",
       "\n",
       "        var d = options.decimals; // decimals\n",
       "        var offsetRatio = 0.1;\n",
       "        var al = options.axesLabels;\n",
       "\n",
       "        var offset = offsetRatio * a[1]*( b[1].y - b[0].y );\n",
       "        var xm = xMid.toFixed(d);\n",
       "        if ( /^-0.?0*$/.test(xm) ) xm = xm.substr(1);\n",
       "        addLabel( al[0] + '=' + xm, a[0]*xMid, a[1]*b[1].y+offset, a[2]*b[0].z );\n",
       "        addLabel( ( b[0].x ).toFixed(d), a[0]*b[0].x, a[1]*b[1].y+offset, a[2]*b[0].z );\n",
       "        addLabel( ( b[1].x ).toFixed(d), a[0]*b[1].x, a[1]*b[1].y+offset, a[2]*b[0].z );\n",
       "\n",
       "        var offset = offsetRatio * a[0]*( b[1].x - b[0].x );\n",
       "        var ym = yMid.toFixed(d);\n",
       "        if ( /^-0.?0*$/.test(ym) ) ym = ym.substr(1);\n",
       "        addLabel( al[1] + '=' + ym, a[0]*b[1].x+offset, a[1]*yMid, a[2]*b[0].z );\n",
       "        addLabel( ( b[0].y ).toFixed(d), a[0]*b[1].x+offset, a[1]*b[0].y, a[2]*b[0].z );\n",
       "        addLabel( ( b[1].y ).toFixed(d), a[0]*b[1].x+offset, a[1]*b[1].y, a[2]*b[0].z );\n",
       "\n",
       "        var offset = offsetRatio * a[1]*( b[1].y - b[0].y );\n",
       "        var zm = zMid.toFixed(d);\n",
       "        if ( /^-0.?0*$/.test(zm) ) zm = zm.substr(1);\n",
       "        addLabel( al[2] + '=' + zm, a[0]*b[1].x, a[1]*b[0].y-offset, a[2]*zMid );\n",
       "        addLabel( ( b[0].z ).toFixed(d), a[0]*b[1].x, a[1]*b[0].y-offset, a[2]*b[0].z );\n",
       "        addLabel( ( b[1].z ).toFixed(d), a[0]*b[1].x, a[1]*b[0].y-offset, a[2]*b[1].z );\n",
       "\n",
       "    }\n",
       "\n",
       "    function addLabel( text, x, y, z, color='black', fontsize=14  ) {\n",
       "\n",
       "        var canvas = document.createElement( 'canvas' );\n",
       "        var pixelRatio = Math.round( window.devicePixelRatio );\n",
       "        canvas.width = 128 * pixelRatio;\n",
       "        canvas.height = 32 * pixelRatio; // powers of two\n",
       "        canvas.style.width = '128px';\n",
       "        canvas.style.height = '32px';\n",
       "\n",
       "        var context = canvas.getContext( '2d' );\n",
       "        context.scale( pixelRatio, pixelRatio );\n",
       "        context.fillStyle = color;\n",
       "        context.font = fontsize + 'px monospace';\n",
       "        context.textAlign = 'center';\n",
       "        context.textBaseline = 'middle';\n",
       "        context.fillText( text, canvas.width/2/pixelRatio, canvas.height/2/pixelRatio );\n",
       "\n",
       "        var texture = new THREE.Texture( canvas );\n",
       "        texture.needsUpdate = true;\n",
       "\n",
       "        var sprite = new THREE.Sprite( new THREE.SpriteMaterial( { map: texture } ) );\n",
       "        sprite.position.set( x, y, z );\n",
       "\n",
       "        // Set the initial scale based on plot size to accomodate orthographic projection.\n",
       "        // For other projections, the scale will get reset each frame based on camera distance.\n",
       "        var scale = midToCorner/2;\n",
       "        sprite.scale.set( scale, scale*.25, 1 ); // ratio of canvas width to height\n",
       "\n",
       "        scene.add( sprite );\n",
       "\n",
       "    }\n",
       "\n",
       "    if ( options.axes ) scene.add( new THREE.AxesHelper( Math.min( a[0]*b[1].x, a[1]*b[1].y, a[2]*b[1].z ) ) );\n",
       "\n",
       "    var camera = createCamera();\n",
       "    camera.up.set( 0, 0, 1 );\n",
       "    camera.position.set( a[0]*(xMid+xRange), a[1]*(yMid+yRange), a[2]*(zMid+zRange) );\n",
       "\n",
       "    function createCamera() {\n",
       "\n",
       "        var aspect = window.innerWidth / window.innerHeight;\n",
       "\n",
       "        if ( options.projection === 'orthographic' ) {\n",
       "            var camera = new THREE.OrthographicCamera( -1, 1, 1, -1, -1000, 1000 );\n",
       "            updateCameraAspect( camera, aspect );\n",
       "            return camera;\n",
       "        }\n",
       "\n",
       "        return new THREE.PerspectiveCamera( 45, aspect, 0.1, 1000 );\n",
       "\n",
       "    }\n",
       "\n",
       "    function updateCameraAspect( camera, aspect ) {\n",
       "\n",
       "        if ( camera.isPerspectiveCamera ) {\n",
       "            camera.aspect = aspect;\n",
       "        } else if ( camera.isOrthographicCamera ) {\n",
       "            // Fit the camera frustum to the bounding box's diagonal so that the entire plot fits\n",
       "            // within at the default zoom level and camera position.\n",
       "            if ( aspect > 1 ) { // Wide window\n",
       "                camera.top = midToCorner;\n",
       "                camera.right = midToCorner * aspect;\n",
       "            } else { // Tall or square window\n",
       "                camera.top = midToCorner / aspect;\n",
       "                camera.right = midToCorner;\n",
       "            }\n",
       "            camera.bottom = -camera.top;\n",
       "            camera.left = -camera.right;\n",
       "        }\n",
       "\n",
       "        camera.updateProjectionMatrix();\n",
       "\n",
       "    }\n",
       "\n",
       "    var lights = [{&quot;x&quot;:-5, &quot;y&quot;:3, &quot;z&quot;:0, &quot;color&quot;:&quot;#7f7f7f&quot;, &quot;parent&quot;:&quot;camera&quot;}];\n",
       "    for ( var i=0 ; i < lights.length ; i++ ) {\n",
       "        var light = new THREE.DirectionalLight( lights[i].color, 1 );\n",
       "        light.position.set( a[0]*lights[i].x, a[1]*lights[i].y, a[2]*lights[i].z );\n",
       "        if ( lights[i].parent === 'camera' ) {\n",
       "            light.target.position.set( a[0]*xMid, a[1]*yMid, a[2]*zMid );\n",
       "            scene.add( light.target );\n",
       "            camera.add( light );\n",
       "        } else scene.add( light );\n",
       "    }\n",
       "    scene.add( camera );\n",
       "\n",
       "    var ambient = {&quot;color&quot;:&quot;#7f7f7f&quot;};\n",
       "    scene.add( new THREE.AmbientLight( ambient.color, 1 ) );\n",
       "\n",
       "    var controls = new THREE.OrbitControls( camera, renderer.domElement );\n",
       "    controls.target.set( a[0]*xMid, a[1]*yMid, a[2]*zMid );\n",
       "    controls.addEventListener( 'change', function() { if ( !animate ) render(); } );\n",
       "\n",
       "    window.addEventListener( 'resize', function() {\n",
       "        \n",
       "        renderer.setSize( window.innerWidth, window.innerHeight );\n",
       "        updateCameraAspect( camera, window.innerWidth / window.innerHeight );\n",
       "        if ( !animate ) render();\n",
       "        \n",
       "    } );\n",
       "\n",
       "    var texts = [];\n",
       "    for ( var i=0 ; i < texts.length ; i++ )\n",
       "        addLabel( texts[i].text, a[0]*texts[i].x, a[1]*texts[i].y, a[2]*texts[i].z, texts[i].color );\n",
       "\n",
       "    var points = [{&quot;point&quot;: [3.4713816351992857, 0.5607805820304191, 12.364965318381245], &quot;size&quot;: 20.0, &quot;color&quot;: &quot;#0000ff&quot;, &quot;opacity&quot;: 1.0}, {&quot;point&quot;: [2.7293001869789646, 2.9119717797437663, 15.928659156667488], &quot;size&quot;: 20.0, &quot;color&quot;: &quot;#0000ff&quot;, &quot;opacity&quot;: 1.0}, {&quot;point&quot;: [-1.8835039111882907, -3.2448481882294047, 14.076626748117237], &quot;size&quot;: 20.0, &quot;color&quot;: &quot;#0000ff&quot;, &quot;opacity&quot;: 1.0}, {&quot;point&quot;: [-1.1357155813563, 3.091548811400069, 10.847523935004654], &quot;size&quot;: 20.0, &quot;color&quot;: &quot;#0000ff&quot;, &quot;opacity&quot;: 1.0}, {&quot;point&quot;: [0.45217777467581655, 3.9013226905736516, 15.424783475895609], &quot;size&quot;: 20.0, &quot;color&quot;: &quot;#0000ff&quot;, &quot;opacity&quot;: 1.0}, {&quot;point&quot;: [1.6926494081010397, -2.6970074952398053, 10.13891144812449], &quot;size&quot;: 20.0, &quot;color&quot;: &quot;#0000ff&quot;, &quot;opacity&quot;: 1.0}, {&quot;point&quot;: [0.49333995191187086, 3.372246736214858, 11.61543235806417], &quot;size&quot;: 20.0, &quot;color&quot;: &quot;#0000ff&quot;, &quot;opacity&quot;: 1.0}, {&quot;point&quot;: [-0.9129011515428472, -3.2466913723359894, 11.374393379689208], &quot;size&quot;: 20.0, &quot;color&quot;: &quot;#0000ff&quot;, &quot;opacity&quot;: 1.0}, {&quot;point&quot;: [-1.7798183165956034, -3.5662339943155947, 15.88577814230137], &quot;size&quot;: 20.0, &quot;color&quot;: &quot;#0000ff&quot;, &quot;opacity&quot;: 1.0}, {&quot;point&quot;: [1.2753832075426006, -2.7203912032399633, 9.027130624747029], &quot;size&quot;: 20.0, &quot;color&quot;: &quot;#0000ff&quot;, &quot;opacity&quot;: 1.0}, {&quot;point&quot;: [0.1491703248017518, -3.6462155146877895, 13.3171393653514], &quot;size&quot;: 20.0, &quot;color&quot;: &quot;#0000ff&quot;, &quot;opacity&quot;: 1.0}, {&quot;point&quot;: [1.6626960656175906, 3.089683756223381, 12.310703920090837], &quot;size&quot;: 20.0, &quot;color&quot;: &quot;#0000ff&quot;, &quot;opacity&quot;: 1.0}, {&quot;point&quot;: [2.0530535366168676, -2.396850699215232, 9.959922098543577], &quot;size&quot;: 20.0, &quot;color&quot;: &quot;#0000ff&quot;, &quot;opacity&quot;: 1.0}, {&quot;point&quot;: [0.3873415856975885, -3.6210200440614884, 13.261819663505786], &quot;size&quot;: 20.0, &quot;color&quot;: &quot;#0000ff&quot;, &quot;opacity&quot;: 1.0}, {&quot;point&quot;: [3.7131683690058357, -0.8438984289200481, 14.499783894919181], &quot;size&quot;: 20.0, &quot;color&quot;: &quot;#0000ff&quot;, &quot;opacity&quot;: 1.0}, {&quot;point&quot;: [-3.560742682725157, 1.22933409478655, 14.190150769185413], &quot;size&quot;: 20.0, &quot;color&quot;: &quot;#0000ff&quot;, &quot;opacity&quot;: 1.0}, {&quot;point&quot;: [0.447307973658849, 3.044945610539599, 9.471778194443155], &quot;size&quot;: 20.0, &quot;color&quot;: &quot;#0000ff&quot;, &quot;opacity&quot;: 1.0}, {&quot;point&quot;: [1.8075663381911968, 3.336987209277203, 14.402779701841585], &quot;size&quot;: 20.0, &quot;color&quot;: &quot;#0000ff&quot;, &quot;opacity&quot;: 1.0}, {&quot;point&quot;: [-2.8738525501148073, -1.713495598567064, 11.195095646110083], &quot;size&quot;: 20.0, &quot;color&quot;: &quot;#0000ff&quot;, &quot;opacity&quot;: 1.0}, {&quot;point&quot;: [-3.268823564313125, 2.0389444151637095, 14.842501822736043], &quot;size&quot;: 20.0, &quot;color&quot;: &quot;#0000ff&quot;, &quot;opacity&quot;: 1.0}, {&quot;point&quot;: [-0.014948895632894858, 3.5620639259938875, 12.68852288234763], &quot;size&quot;: 20.0, &quot;color&quot;: &quot;#0000ff&quot;, &quot;opacity&quot;: 1.0}, {&quot;point&quot;: [-2.96939209377234, -0.8177372514239002, 9.485983618923997], &quot;size&quot;: 20.0, &quot;color&quot;: &quot;#0000ff&quot;, &quot;opacity&quot;: 1.0}, {&quot;point&quot;: [2.773022691841335, -2.51664505831775, 14.023157199022114], &quot;size&quot;: 20.0, &quot;color&quot;: &quot;#0000ff&quot;, &quot;opacity&quot;: 1.0}, {&quot;point&quot;: [2.3368475763172656, -2.6904178724354306, 12.699204923259865], &quot;size&quot;: 20.0, &quot;color&quot;: &quot;#0000ff&quot;, &quot;opacity&quot;: 1.0}, {&quot;point&quot;: [3.3672395667501394, -0.7576600118038406, 11.912350993374261], &quot;size&quot;: 20.0, &quot;color&quot;: &quot;#0000ff&quot;, &quot;opacity&quot;: 1.0}, {&quot;point&quot;: [3.637117691425921, -0.09876552583382502, 13.238379730376652], &quot;size&quot;: 20.0, &quot;color&quot;: &quot;#0000ff&quot;, &quot;opacity&quot;: 1.0}, {&quot;point&quot;: [2.5124696392914214, -2.3551266516960303, 11.859125233890119], &quot;size&quot;: 20.0, &quot;color&quot;: &quot;#0000ff&quot;, &quot;opacity&quot;: 1.0}, {&quot;point&quot;: [2.3287883646469867, -1.9492716705032966, 9.2229152927419], &quot;size&quot;: 20.0, &quot;color&quot;: &quot;#0000ff&quot;, &quot;opacity&quot;: 1.0}, {&quot;point&quot;: [0.7451608653808908, 3.8410925075269775, 15.309256366675081], &quot;size&quot;: 20.0, &quot;color&quot;: &quot;#0000ff&quot;, &quot;opacity&quot;: 1.0}, {&quot;point&quot;: [-2.146107119738956, -2.4907606001215736, 10.809664136512218], &quot;size&quot;: 20.0, &quot;color&quot;: &quot;#0000ff&quot;, &quot;opacity&quot;: 1.0}, {&quot;point&quot;: [-3.177806784810136, 0.8097169256117855, 10.754097461207538], &quot;size&quot;: 20.0, &quot;color&quot;: &quot;#0000ff&quot;, &quot;opacity&quot;: 1.0}, {&quot;point&quot;: [-3.045735685601893, 0.15592178626650113, 9.300817469981371], &quot;size&quot;: 20.0, &quot;color&quot;: &quot;#0000ff&quot;, &quot;opacity&quot;: 1.0}, {&quot;point&quot;: [-2.777979501713117, -2.470193861220123, 13.819027823947838], &quot;size&quot;: 20.0, &quot;color&quot;: &quot;#0000ff&quot;, &quot;opacity&quot;: 1.0}, {&quot;point&quot;: [-2.7219811771620686, 2.8061806943056204, 15.283831617918176], &quot;size&quot;: 20.0, &quot;color&quot;: &quot;#0000ff&quot;, &quot;opacity&quot;: 1.0}, {&quot;point&quot;: [-2.7232778328725096, -2.1391143077600785, 11.992052176678675], &quot;size&quot;: 20.0, &quot;color&quot;: &quot;#0000ff&quot;, &quot;opacity&quot;: 1.0}, {&quot;point&quot;: [-0.5784109069671145, -3.7700111981264652, 14.547543611297467], &quot;size&quot;: 20.0, &quot;color&quot;: &quot;#0000ff&quot;, &quot;opacity&quot;: 1.0}, {&quot;point&quot;: [-3.2866508621417476, -0.5281446841863543, 11.081010697051395], &quot;size&quot;: 20.0, &quot;color&quot;: &quot;#0000ff&quot;, &quot;opacity&quot;: 1.0}, {&quot;point&quot;: [0.2611848394223306, 3.374642955246566, 11.456432595739345], &quot;size&quot;: 20.0, &quot;color&quot;: &quot;#0000ff&quot;, &quot;opacity&quot;: 1.0}, {&quot;point&quot;: [3.129672799520648, 1.0200949496524196, 10.835445538365784], &quot;size&quot;: 20.0, &quot;color&quot;: &quot;#0000ff&quot;, &quot;opacity&quot;: 1.0}, {&quot;point&quot;: [0.2692189003455366, -3.28392159655327, 10.85661986861224], &quot;size&quot;: 20.0, &quot;color&quot;: &quot;#0000ff&quot;, &quot;opacity&quot;: 1.0}, {&quot;point&quot;: [0.40453627718405355, 3.538238365767372, 12.682780332546098], &quot;size&quot;: 20.0, &quot;color&quot;: &quot;#0000ff&quot;, &quot;opacity&quot;: 1.0}, {&quot;point&quot;: [2.729515207487141, -1.9004299584543862, 11.061887294894511], &quot;size&quot;: 20.0, &quot;color&quot;: &quot;#0000ff&quot;, &quot;opacity&quot;: 1.0}, {&quot;point&quot;: [0.8535005381554347, 2.9445954897388247, 9.399105766821846], &quot;size&quot;: 20.0, &quot;color&quot;: &quot;#0000ff&quot;, &quot;opacity&quot;: 1.0}, {&quot;point&quot;: [3.655942474332759, 0.5021594223173373, 13.618079461052416], &quot;size&quot;: 20.0, &quot;color&quot;: &quot;#0000ff&quot;, &quot;opacity&quot;: 1.0}, {&quot;point&quot;: [-2.043390271317005, -2.6022374150693546, 10.947083365299818], &quot;size&quot;: 20.0, &quot;color&quot;: &quot;#0000ff&quot;, &quot;opacity&quot;: 1.0}, {&quot;point&quot;: [-1.630897201132167, -2.974520670135023, 11.507598897721243], &quot;size&quot;: 20.0, &quot;color&quot;: &quot;#0000ff&quot;, &quot;opacity&quot;: 1.0}, {&quot;point&quot;: [1.9486261584967688, 2.520976079721366, 10.152464300105182], &quot;size&quot;: 20.0, &quot;color&quot;: &quot;#0000ff&quot;, &quot;opacity&quot;: 1.0}, {&quot;point&quot;: [1.5841972340794466, 2.6055602854189472, 9.298625277417434], &quot;size&quot;: 20.0, &quot;color&quot;: &quot;#0000ff&quot;, &quot;opacity&quot;: 1.0}, {&quot;point&quot;: [-2.800625142200226, 2.3473992529251277, 13.353784439757485], &quot;size&quot;: 20.0, &quot;color&quot;: &quot;#0000ff&quot;, &quot;opacity&quot;: 1.0}, {&quot;point&quot;: [-3.4013740759414546, 0.3860508096993199, 11.718380832156084], &quot;size&quot;: 20.0, &quot;color&quot;: &quot;#0000ff&quot;, &quot;opacity&quot;: 1.0}, {&quot;point&quot;: [3.931232379286089, -0.0954267601499029, 15.46369428650007], &quot;size&quot;: 20.0, &quot;color&quot;: &quot;#0000ff&quot;, &quot;opacity&quot;: 1.0}, {&quot;point&quot;: [-2.991557338699023, -0.4055722714112556, 9.113904178061663], &quot;size&quot;: 20.0, &quot;color&quot;: &quot;#0000ff&quot;, &quot;opacity&quot;: 1.0}, {&quot;point&quot;: [-1.633827370478007, -3.458386472177959, 14.629828867466589], &quot;size&quot;: 20.0, &quot;color&quot;: &quot;#0000ff&quot;, &quot;opacity&quot;: 1.0}, {&quot;point&quot;: [-1.9178412870421155, 2.330979107941791, 9.111578803944468], &quot;size&quot;: 20.0, &quot;color&quot;: &quot;#0000ff&quot;, &quot;opacity&quot;: 1.0}, {&quot;point&quot;: [3.0466614535615486, -0.8863266224043472, 10.067720894200468], &quot;size&quot;: 20.0, &quot;color&quot;: &quot;#0000ff&quot;, &quot;opacity&quot;: 1.0}, {&quot;point&quot;: [1.953090133253966, 2.2953533198343723, 9.08320793148867], &quot;size&quot;: 20.0, &quot;color&quot;: &quot;#0000ff&quot;, &quot;opacity&quot;: 1.0}, {&quot;point&quot;: [-3.5073646081037735, -0.11903800476518148, 12.315776540757415], &quot;size&quot;: 20.0, &quot;color&quot;: &quot;#0000ff&quot;, &quot;opacity&quot;: 1.0}, {&quot;point&quot;: [-0.837549800182993, 3.2474367062168255, 11.247334828670956], &quot;size&quot;: 20.0, &quot;color&quot;: &quot;#0000ff&quot;, &quot;opacity&quot;: 1.0}, {&quot;point&quot;: [-3.241478423503864, -0.710109150995984, 11.011437376369331], &quot;size&quot;: 20.0, &quot;color&quot;: &quot;#0000ff&quot;, &quot;opacity&quot;: 1.0}, {&quot;point&quot;: [2.552857905053856, 3.046096441706643, 15.795787015573834], &quot;size&quot;: 20.0, &quot;color&quot;: &quot;#0000ff&quot;, &quot;opacity&quot;: 1.0}, {&quot;point&quot;: [3.518789946195811, -0.6484918784906326, 12.802424401917026], &quot;size&quot;: 20.0, &quot;color&quot;: &quot;#0000ff&quot;, &quot;opacity&quot;: 1.0}, {&quot;point&quot;: [3.698713725705142, 1.3174551599584952, 15.416171323220876], &quot;size&quot;: 20.0, &quot;color&quot;: &quot;#0000ff&quot;, &quot;opacity&quot;: 1.0}, {&quot;point&quot;: [-3.3926546322318623, 1.9010263675958996, 15.124006703899173], &quot;size&quot;: 20.0, &quot;color&quot;: &quot;#0000ff&quot;, &quot;opacity&quot;: 1.0}, {&quot;point&quot;: [-1.875352876295798, 2.763287925213444, 11.152708568261344], &quot;size&quot;: 20.0, &quot;color&quot;: &quot;#0000ff&quot;, &quot;opacity&quot;: 1.0}, {&quot;point&quot;: [-0.30890804828533286, 3.640463204418304, 13.34839652501904], &quot;size&quot;: 20.0, &quot;color&quot;: &quot;#0000ff&quot;, &quot;opacity&quot;: 1.0}, {&quot;point&quot;: [2.148021775146226, -2.3652422567944833, 10.208368479828604], &quot;size&quot;: 20.0, &quot;color&quot;: &quot;#0000ff&quot;, &quot;opacity&quot;: 1.0}, {&quot;point&quot;: [3.252785285181033, 0.8636932535333308, 11.326578147689244], &quot;size&quot;: 20.0, &quot;color&quot;: &quot;#0000ff&quot;, &quot;opacity&quot;: 1.0}, {&quot;point&quot;: [-1.1335575124659887, 3.5060939746774333, 13.577647593337481], &quot;size&quot;: 20.0, &quot;color&quot;: &quot;#0000ff&quot;, &quot;opacity&quot;: 1.0}, {&quot;point&quot;: [-1.925722644755272, -3.004675715569017, 12.736483860253424], &quot;size&quot;: 20.0, &quot;color&quot;: &quot;#0000ff&quot;, &quot;opacity&quot;: 1.0}, {&quot;point&quot;: [-1.0658996308892499, -2.894958589506816, 9.516927258089133], &quot;size&quot;: 20.0, &quot;color&quot;: &quot;#0000ff&quot;, &quot;opacity&quot;: 1.0}, {&quot;point&quot;: [-0.8771392251239155, 2.9505199984763575, 9.474941481659908], &quot;size&quot;: 20.0, &quot;color&quot;: &quot;#0000ff&quot;, &quot;opacity&quot;: 1.0}, {&quot;point&quot;: [-3.7708399651743965, 0.03495199844553109, 14.220455685151782], &quot;size&quot;: 20.0, &quot;color&quot;: &quot;#0000ff&quot;, &quot;opacity&quot;: 1.0}, {&quot;point&quot;: [-3.2406390578485302, -1.7877681546183206, 13.697856477920805], &quot;size&quot;: 20.0, &quot;color&quot;: &quot;#0000ff&quot;, &quot;opacity&quot;: 1.0}, {&quot;point&quot;: [3.142109705343961, 1.8545220244915162, 13.312105339740825], &quot;size&quot;: 20.0, &quot;color&quot;: &quot;#0000ff&quot;, &quot;opacity&quot;: 1.0}, {&quot;point&quot;: [-3.2206530942124165, 0.032827242300474256, 10.373683981097068], &quot;size&quot;: 20.0, &quot;color&quot;: &quot;#0000ff&quot;, &quot;opacity&quot;: 1.0}, {&quot;point&quot;: [-2.7440928234860693, -2.605232394196885, 14.317281251680583], &quot;size&quot;: 20.0, &quot;color&quot;: &quot;#0000ff&quot;, &quot;opacity&quot;: 1.0}, {&quot;point&quot;: [-2.5538401297679454, -2.5044774483732937, 12.794506697823559], &quot;size&quot;: 20.0, &quot;color&quot;: &quot;#0000ff&quot;, &quot;opacity&quot;: 1.0}, {&quot;point&quot;: [1.5085200246351396, 2.762007824097871, 9.904319885103057], &quot;size&quot;: 20.0, &quot;color&quot;: &quot;#0000ff&quot;, &quot;opacity&quot;: 1.0}, {&quot;point&quot;: [2.9911744813963432, -1.0380399291367153, 10.02465167263884], &quot;size&quot;: 20.0, &quot;color&quot;: &quot;#0000ff&quot;, &quot;opacity&quot;: 1.0}, {&quot;point&quot;: [-3.6163892113222804, -0.17871097776330447, 13.110208541341304], &quot;size&quot;: 20.0, &quot;color&quot;: &quot;#0000ff&quot;, &quot;opacity&quot;: 1.0}, {&quot;point&quot;: [-2.8792291613024883, 2.7453046642873735, 15.826658263052638], &quot;size&quot;: 20.0, &quot;color&quot;: &quot;#0000ff&quot;, &quot;opacity&quot;: 1.0}, {&quot;point&quot;: [2.1424511504340393, 2.8757281131654766, 12.859909112846411], &quot;size&quot;: 20.0, &quot;color&quot;: &quot;#0000ff&quot;, &quot;opacity&quot;: 1.0}, {&quot;point&quot;: [-0.6224481026610368, -3.235843775516028, 10.858126580052147], &quot;size&quot;: 20.0, &quot;color&quot;: &quot;#0000ff&quot;, &quot;opacity&quot;: 1.0}, {&quot;point&quot;: [2.287548698674275, 2.9285732702319245, 13.809420447923278], &quot;size&quot;: 20.0, &quot;color&quot;: &quot;#0000ff&quot;, &quot;opacity&quot;: 1.0}, {&quot;point&quot;: [-3.189457212307372, 0.2965498528522954, 10.260579124366233], &quot;size&quot;: 20.0, &quot;color&quot;: &quot;#0000ff&quot;, &quot;opacity&quot;: 1.0}, {&quot;point&quot;: [2.704582937395241, -2.4381959096062356, 13.25956815887005], &quot;size&quot;: 20.0, &quot;color&quot;: &quot;#0000ff&quot;, &quot;opacity&quot;: 1.0}, {&quot;point&quot;: [3.3492395490027116, -0.6613139660703616, 11.6547417183236], &quot;size&quot;: 20.0, &quot;color&quot;: &quot;#0000ff&quot;, &quot;opacity&quot;: 1.0}, {&quot;point&quot;: [-1.8699767885679845, 2.3851518381097385, 9.185762480621298], &quot;size&quot;: 20.0, &quot;color&quot;: &quot;#0000ff&quot;, &quot;opacity&quot;: 1.0}, {&quot;point&quot;: [1.4455358806098948, -3.205540348604278, 12.36506290866066], &quot;size&quot;: 20.0, &quot;color&quot;: &quot;#0000ff&quot;, &quot;opacity&quot;: 1.0}, {&quot;point&quot;: [1.4389405506410664, -3.198762405615003, 12.302630835855094], &quot;size&quot;: 20.0, &quot;color&quot;: &quot;#0000ff&quot;, &quot;opacity&quot;: 1.0}, {&quot;point&quot;: [3.5678362838265043, -1.6042727658372906, 15.30314685539615], &quot;size&quot;: 20.0, &quot;color&quot;: &quot;#0000ff&quot;, &quot;opacity&quot;: 1.0}, {&quot;point&quot;: [2.1631969495681074, -3.015149309749223, 13.77054640270198], &quot;size&quot;: 20.0, &quot;color&quot;: &quot;#0000ff&quot;, &quot;opacity&quot;: 1.0}, {&quot;point&quot;: [1.4568284557976385, 2.965291678158863, 10.915303886179936], &quot;size&quot;: 20.0, &quot;color&quot;: &quot;#0000ff&quot;, &quot;opacity&quot;: 1.0}, {&quot;point&quot;: [-2.6368592275991927, 2.5167657322315837, 13.28713633711019], &quot;size&quot;: 20.0, &quot;color&quot;: &quot;#0000ff&quot;, &quot;opacity&quot;: 1.0}, {&quot;point&quot;: [-1.2774348726706808, -2.9884230176891236, 10.562511986569328], &quot;size&quot;: 20.0, &quot;color&quot;: &quot;#0000ff&quot;, &quot;opacity&quot;: 1.0}, {&quot;point&quot;: [-0.7953934299544274, -3.5665337403097577, 13.35281362918258], &quot;size&quot;: 20.0, &quot;color&quot;: &quot;#0000ff&quot;, &quot;opacity&quot;: 1.0}, {&quot;point&quot;: [-2.313681386128243, 2.7599381605743796, 12.970380206710997], &quot;size&quot;: 20.0, &quot;color&quot;: &quot;#0000ff&quot;, &quot;opacity&quot;: 1.0}, {&quot;point&quot;: [-0.47344309254974926, 3.5833447701775336, 13.064508103841751], &quot;size&quot;: 20.0, &quot;color&quot;: &quot;#0000ff&quot;, &quot;opacity&quot;: 1.0}, {&quot;point&quot;: [1.2261430732213676, -2.9136387746862478, 9.992717745363919], &quot;size&quot;: 20.0, &quot;color&quot;: &quot;#0000ff&quot;, &quot;opacity&quot;: 1.0}, {&quot;point&quot;: [-3.488981820002123, -1.2634018165646987, 13.769178290404307], &quot;size&quot;: 20.0, &quot;color&quot;: &quot;#0000ff&quot;, &quot;opacity&quot;: 1.0}, {&quot;point&quot;: [0.03474681242901967, 0.0054095962472919985, 0.0012366047055361914], &quot;size&quot;: 20.0, &quot;color&quot;: &quot;#ff0000&quot;, &quot;opacity&quot;: 1.0}, {&quot;point&quot;: [0.02330200022132461, 0.12249714492149358, 0.015548533728232013], &quot;size&quot;: 20.0, &quot;color&quot;: &quot;#ff0000&quot;, &quot;opacity&quot;: 1.0}, {&quot;point&quot;: [-0.2727746462256962, 0.06825941684840718, 0.07906535561203831], &quot;size&quot;: 20.0, &quot;color&quot;: &quot;#ff0000&quot;, &quot;opacity&quot;: 1.0}, {&quot;point&quot;: [0.317537328681844, 0.10806604263960376, 0.11250822467818608], &quot;size&quot;: 20.0, &quot;color&quot;: &quot;#ff0000&quot;, &quot;opacity&quot;: 1.0}, {&quot;point&quot;: [0.04781753846002065, -0.31393348121764264, 0.10084074761380354], &quot;size&quot;: 20.0, &quot;color&quot;: &quot;#ff0000&quot;, &quot;opacity&quot;: 1.0}, {&quot;point&quot;: [0.5399216786287913, 0.16818696020698506, 0.3198022726369976], &quot;size&quot;: 20.0, &quot;color&quot;: &quot;#ff0000&quot;, &quot;opacity&quot;: 1.0}, {&quot;point&quot;: [0.010546685149915821, -0.6553491607251851, 0.42959375503085595], &quot;size&quot;: 20.0, &quot;color&quot;: &quot;#ff0000&quot;, &quot;opacity&quot;: 1.0}, {&quot;point&quot;: [0.4781308209311371, 0.6964931186464293, 0.7137117462461121], &quot;size&quot;: 20.0, &quot;color&quot;: &quot;#ff0000&quot;, &quot;opacity&quot;: 1.0}, {&quot;point&quot;: [0.15090470748844212, 0.34864096430386243, 0.14432275273289935], &quot;size&quot;: 20.0, &quot;color&quot;: &quot;#ff0000&quot;, &quot;opacity&quot;: 1.0}, {&quot;point&quot;: [0.6011733150840369, 0.7200175913114837, 0.8798346865671215], &quot;size&quot;: 20.0, &quot;color&quot;: &quot;#ff0000&quot;, &quot;opacity&quot;: 1.0}, {&quot;point&quot;: [0.2769096219437569, -0.26178835474805334, 0.14521208140672695], &quot;size&quot;: 20.0, &quot;color&quot;: &quot;#ff0000&quot;, &quot;opacity&quot;: 1.0}, {&quot;point&quot;: [-0.4231131203097257, 0.014017590562064045, 0.17922120542339806], &quot;size&quot;: 20.0, &quot;color&quot;: &quot;#ff0000&quot;, &quot;opacity&quot;: 1.0}, {&quot;point&quot;: [0.21006576028622256, 0.3570505352339374, 0.1716127083554699], &quot;size&quot;: 20.0, &quot;color&quot;: &quot;#ff0000&quot;, &quot;opacity&quot;: 1.0}, {&quot;point&quot;: [-0.7214694584532546, 0.25335599696791367, 0.584707440680438], &quot;size&quot;: 20.0, &quot;color&quot;: &quot;#ff0000&quot;, &quot;opacity&quot;: 1.0}, {&quot;point&quot;: [-0.4568046141550987, 0.579366012422502, 0.5443354318637392], &quot;size&quot;: 20.0, &quot;color&quot;: &quot;#ff0000&quot;, &quot;opacity&quot;: 1.0}, {&quot;point&quot;: [-0.3116976322514701, 0.2849917439546223, 0.1783757080734697], &quot;size&quot;: 20.0, &quot;color&quot;: &quot;#ff0000&quot;, &quot;opacity&quot;: 1.0}, {&quot;point&quot;: [-0.3165108224410782, -0.13123648017048445, 0.11740211444986567], &quot;size&quot;: 20.0, &quot;color&quot;: &quot;#ff0000&quot;, &quot;opacity&quot;: 1.0}, {&quot;point&quot;: [-0.03078012333618627, 0.0765005524259887, 0.006799750514072285], &quot;size&quot;: 20.0, &quot;color&quot;: &quot;#ff0000&quot;, &quot;opacity&quot;: 1.0}, {&quot;point&quot;: [0.2303007939374553, -0.10666724000400063, 0.06441635577829331], &quot;size&quot;: 20.0, &quot;color&quot;: &quot;#ff0000&quot;, &quot;opacity&quot;: 1.0}, {&quot;point&quot;: [-0.06349705819231735, -0.04089331582667668, 0.005704139678378861], &quot;size&quot;: 20.0, &quot;color&quot;: &quot;#ff0000&quot;, &quot;opacity&quot;: 1.0}, {&quot;point&quot;: [0.10745126479194038, 0.3147602546056751, 0.11061979218481709], &quot;size&quot;: 20.0, &quot;color&quot;: &quot;#ff0000&quot;, &quot;opacity&quot;: 1.0}, {&quot;point&quot;: [-0.1594542649019364, -0.10219311370436092, 0.03586909508400934], &quot;size&quot;: 20.0, &quot;color&quot;: &quot;#ff0000&quot;, &quot;opacity&quot;: 1.0}, {&quot;point&quot;: [-0.17401245997859147, -0.6219209872768633, 0.41706605064322927], &quot;size&quot;: 20.0, &quot;color&quot;: &quot;#ff0000&quot;, &quot;opacity&quot;: 1.0}, {&quot;point&quot;: [-0.7462171895789558, 0.008684560542431791, 0.5569155156149305], &quot;size&quot;: 20.0, &quot;color&quot;: &quot;#ff0000&quot;, &quot;opacity&quot;: 1.0}, {&quot;point&quot;: [0.2100364104790928, -0.44105464921470927, 0.2386444973208522], &quot;size&quot;: 20.0, &quot;color&quot;: &quot;#ff0000&quot;, &quot;opacity&quot;: 1.0}, {&quot;point&quot;: [0.1030877822176498, 0.47139787629568736, 0.23284304861863775], &quot;size&quot;: 20.0, &quot;color&quot;: &quot;#ff0000&quot;, &quot;opacity&quot;: 1.0}, {&quot;point&quot;: [0.31673155055702795, -0.13565499201304185, 0.11872115197631761], &quot;size&quot;: 20.0, &quot;color&quot;: &quot;#ff0000&quot;, &quot;opacity&quot;: 1.0}, {&quot;point&quot;: [0.9324644234899503, 0.22458996214027563, 0.9199305521686159], &quot;size&quot;: 20.0, &quot;color&quot;: &quot;#ff0000&quot;, &quot;opacity&quot;: 1.0}, {&quot;point&quot;: [-0.6317072073733855, 0.766631281825313, 0.9867775181206039], &quot;size&quot;: 20.0, &quot;color&quot;: &quot;#ff0000&quot;, &quot;opacity&quot;: 1.0}, {&quot;point&quot;: [-0.502169026209508, 0.4004822803800179, 0.4125597877825848], &quot;size&quot;: 20.0, &quot;color&quot;: &quot;#ff0000&quot;, &quot;opacity&quot;: 1.0}, {&quot;point&quot;: [-0.7171350120581741, 0.4492086735937246, 0.7160710579515109], &quot;size&quot;: 20.0, &quot;color&quot;: &quot;#ff0000&quot;, &quot;opacity&quot;: 1.0}, {&quot;point&quot;: [-0.172092373414705, 0.3339117654807458, 0.14111285211397487], &quot;size&quot;: 20.0, &quot;color&quot;: &quot;#ff0000&quot;, &quot;opacity&quot;: 1.0}, {&quot;point&quot;: [0.5032227049717131, 0.30383696658548903, 0.3455499930629193], &quot;size&quot;: 20.0, &quot;color&quot;: &quot;#ff0000&quot;, &quot;opacity&quot;: 1.0}, {&quot;point&quot;: [0.019893687232030933, 0.36881909846514715, 0.1364232861843298], &quot;size&quot;: 20.0, &quot;color&quot;: &quot;#ff0000&quot;, &quot;opacity&quot;: 1.0}, {&quot;point&quot;: [-0.9228586924521723, 0.22135931477638363, 0.9006681124728032], &quot;size&quot;: 20.0, &quot;color&quot;: &quot;#ff0000&quot;, &quot;opacity&quot;: 1.0}, {&quot;point&quot;: [0.36007266562822104, 0.4895955487324098, 0.3693561258712021], &quot;size&quot;: 20.0, &quot;color&quot;: &quot;#ff0000&quot;, &quot;opacity&quot;: 1.0}, {&quot;point&quot;: [0.19473724968894204, 0.8726475221179383, 0.799436294274991], &quot;size&quot;: 20.0, &quot;color&quot;: &quot;#ff0000&quot;, &quot;opacity&quot;: 1.0}, {&quot;point&quot;: [0.08878149658006573, 0.6116033635421324, 0.381940828431046], &quot;size&quot;: 20.0, &quot;color&quot;: &quot;#ff0000&quot;, &quot;opacity&quot;: 1.0}, {&quot;point&quot;: [0.008174648205155555, 0.08437445050012618, 0.007185872770476295], &quot;size&quot;: 20.0, &quot;color&quot;: &quot;#ff0000&quot;, &quot;opacity&quot;: 1.0}, {&quot;point&quot;: [-0.23604769106264928, 0.19833457783663763, 0.09505511722164518], &quot;size&quot;: 20.0, &quot;color&quot;: &quot;#ff0000&quot;, &quot;opacity&quot;: 1.0}, {&quot;point&quot;: [-0.17161133855821575, -0.5677429268303864, 0.35178248248767596], &quot;size&quot;: 20.0, &quot;color&quot;: &quot;#ff0000&quot;, &quot;opacity&quot;: 1.0}, {&quot;point&quot;: [-0.9038440694032741, -0.14629973883163558, 0.8383377153776754], &quot;size&quot;: 20.0, &quot;color&quot;: &quot;#ff0000&quot;, &quot;opacity&quot;: 1.0}, {&quot;point&quot;: [0.6391534663553219, -0.15100304024690306, 0.43131907171783146], &quot;size&quot;: 20.0, &quot;color&quot;: &quot;#ff0000&quot;, &quot;opacity&quot;: 1.0}, {&quot;point&quot;: [0.3539944707137862, -0.015245088711499273, 0.12554449802575512], &quot;size&quot;: 20.0, &quot;color&quot;: &quot;#ff0000&quot;, &quot;opacity&quot;: 1.0}, {&quot;point&quot;: [-0.019387514816280132, -0.6575793736289356, 0.4327865083529747], &quot;size&quot;: 20.0, &quot;color&quot;: &quot;#ff0000&quot;, &quot;opacity&quot;: 1.0}, {&quot;point&quot;: [0.27485897227245887, 0.5697699316197089, 0.4001852296166001], &quot;size&quot;: 20.0, &quot;color&quot;: &quot;#ff0000&quot;, &quot;opacity&quot;: 1.0}, {&quot;point&quot;: [-0.21257470775733986, -0.9485296372654448, 0.9448964791490349], &quot;size&quot;: 20.0, &quot;color&quot;: &quot;#ff0000&quot;, &quot;opacity&quot;: 1.0}, {&quot;point&quot;: [-0.3789887034357891, 0.4745666665027359, 0.3688459582874595], &quot;size&quot;: 20.0, &quot;color&quot;: &quot;#ff0000&quot;, &quot;opacity&quot;: 1.0}, {&quot;point&quot;: [-0.0054411277095701115, -0.005965098260383974, 6.518826800788758e-05], &quot;size&quot;: 20.0, &quot;color&quot;: &quot;#ff0000&quot;, &quot;opacity&quot;: 1.0}, {&quot;point&quot;: [-0.7592165979943807, 0.6308351141204834, 0.9743627838775643], &quot;size&quot;: 20.0, &quot;color&quot;: &quot;#ff0000&quot;, &quot;opacity&quot;: 1.0}, {&quot;point&quot;: [-0.08164757907555838, -0.12070278174223625, 0.021235488689213475], &quot;size&quot;: 20.0, &quot;color&quot;: &quot;#ff0000&quot;, &quot;opacity&quot;: 1.0}, {&quot;point&quot;: [-0.36013244889741514, -0.02577195317938019, 0.1303595743195295], &quot;size&quot;: 20.0, &quot;color&quot;: &quot;#ff0000&quot;, &quot;opacity&quot;: 1.0}, {&quot;point&quot;: [0.954287924807045, -0.14103690719613454, 0.9305568526239876], &quot;size&quot;: 20.0, &quot;color&quot;: &quot;#ff0000&quot;, &quot;opacity&quot;: 1.0}, {&quot;point&quot;: [0.6594425956348483, 0.13112792041282026, 0.45205906844941696], &quot;size&quot;: 20.0, &quot;color&quot;: &quot;#ff0000&quot;, &quot;opacity&quot;: 1.0}, {&quot;point&quot;: [0.4345903997787156, 0.5261198091093535, 0.46567086911708644], &quot;size&quot;: 20.0, &quot;color&quot;: &quot;#ff0000&quot;, &quot;opacity&quot;: 1.0}, {&quot;point&quot;: [0.01455532528724175, 0.43368566065775044, 0.18829510975436686], &quot;size&quot;: 20.0, &quot;color&quot;: &quot;#ff0000&quot;, &quot;opacity&quot;: 1.0}, {&quot;point&quot;: [0.2584208052524141, -0.306231297685664, 0.16055892026955187], &quot;size&quot;: 20.0, &quot;color&quot;: &quot;#ff0000&quot;, &quot;opacity&quot;: 1.0}, {&quot;point&quot;: [0.26106293706839, -0.15418708947369442, 0.0919275156711432], &quot;size&quot;: 20.0, &quot;color&quot;: &quot;#ff0000&quot;, &quot;opacity&quot;: 1.0}, {&quot;point&quot;: [0.7135179572836915, 0.26531384580117306, 0.5794993121401004], &quot;size&quot;: 20.0, &quot;color&quot;: &quot;#ff0000&quot;, &quot;opacity&quot;: 1.0}, {&quot;point&quot;: [0.09839315497435255, -0.35061768539081695, 0.13261397425462085], &quot;size&quot;: 20.0, &quot;color&quot;: &quot;#ff0000&quot;, &quot;opacity&quot;: 1.0}, {&quot;point&quot;: [0.03443900995025674, 0.11917953596558087, 0.015389807199325069], &quot;size&quot;: 20.0, &quot;color&quot;: &quot;#ff0000&quot;, &quot;opacity&quot;: 1.0}, {&quot;point&quot;: [-0.13096040581043591, 0.15528048850561454, 0.04126265800057635], &quot;size&quot;: 20.0, &quot;color&quot;: &quot;#ff0000&quot;, &quot;opacity&quot;: 1.0}, {&quot;point&quot;: [0.11793042729149895, -0.08247095093847241, 0.020709043429851443], &quot;size&quot;: 20.0, &quot;color&quot;: &quot;#ff0000&quot;, &quot;opacity&quot;: 1.0}, {&quot;point&quot;: [-0.7688157602083053, 0.4633788978809327, 0.8057976761460222], &quot;size&quot;: 20.0, &quot;color&quot;: &quot;#ff0000&quot;, &quot;opacity&quot;: 1.0}, {&quot;point&quot;: [-0.2370016405617998, -0.12495808301041927, 0.07178430013862336], &quot;size&quot;: 20.0, &quot;color&quot;: &quot;#ff0000&quot;, &quot;opacity&quot;: 1.0}, {&quot;point&quot;: [0.10863194550950676, -0.2040847506221411, 0.05345148502168197], &quot;size&quot;: 20.0, &quot;color&quot;: &quot;#ff0000&quot;, &quot;opacity&quot;: 1.0}, {&quot;point&quot;: [-0.4263241757361016, -0.49736727133702513, 0.42912650541430447], &quot;size&quot;: 20.0, &quot;color&quot;: &quot;#ff0000&quot;, &quot;opacity&quot;: 1.0}, {&quot;point&quot;: [-0.055919652036285, 0.2955342814412241, 0.09046751899083987], &quot;size&quot;: 20.0, &quot;color&quot;: &quot;#ff0000&quot;, &quot;opacity&quot;: 1.0}, {&quot;point&quot;: [0.5653024349716844, 0.5714698117113922, 0.6461445886823697], &quot;size&quot;: 20.0, &quot;color&quot;: &quot;#ff0000&quot;, &quot;opacity&quot;: 1.0}, {&quot;point&quot;: [-0.6359377250543072, 0.25954366541843243, 0.47177970440608286], &quot;size&quot;: 20.0, &quot;color&quot;: &quot;#ff0000&quot;, &quot;opacity&quot;: 1.0}, {&quot;point&quot;: [-0.19245713198175474, 0.5571654459338595, 0.34747308179331904], &quot;size&quot;: 20.0, &quot;color&quot;: &quot;#ff0000&quot;, &quot;opacity&quot;: 1.0}, {&quot;point&quot;: [0.047219196897790305, -0.47406248584337596, 0.2269648930396733], &quot;size&quot;: 20.0, &quot;color&quot;: &quot;#ff0000&quot;, &quot;opacity&quot;: 1.0}, {&quot;point&quot;: [-0.20906576812362349, 0.3130788005004089, 0.14172683072389555], &quot;size&quot;: 20.0, &quot;color&quot;: &quot;#ff0000&quot;, &quot;opacity&quot;: 1.0}, {&quot;point&quot;: [-0.4199584031046655, -0.13451541559512764, 0.1944594573709506], &quot;size&quot;: 20.0, &quot;color&quot;: &quot;#ff0000&quot;, &quot;opacity&quot;: 1.0}, {&quot;point&quot;: [0.24420485840176664, -0.6634880310246282, 0.4998523801799649], &quot;size&quot;: 20.0, &quot;color&quot;: &quot;#ff0000&quot;, &quot;opacity&quot;: 1.0}, {&quot;point&quot;: [0.03164409448448921, 0.04981515308816318, 0.003482898192940413], &quot;size&quot;: 20.0, &quot;color&quot;: &quot;#ff0000&quot;, &quot;opacity&quot;: 1.0}, {&quot;point&quot;: [-0.13653611033097707, 0.1869556353443061, 0.053594519011305894], &quot;size&quot;: 20.0, &quot;color&quot;: &quot;#ff0000&quot;, &quot;opacity&quot;: 1.0}, {&quot;point&quot;: [-0.4659982004354392, -0.5218030234174544, 0.4894327180566643], &quot;size&quot;: 20.0, &quot;color&quot;: &quot;#ff0000&quot;, &quot;opacity&quot;: 1.0}, {&quot;point&quot;: [0.5092030835929261, 0.49313279345133315, 0.5024677323176597], &quot;size&quot;: 20.0, &quot;color&quot;: &quot;#ff0000&quot;, &quot;opacity&quot;: 1.0}, {&quot;point&quot;: [-0.3306257822061778, 0.4670778332320296, 0.32747511015617453], &quot;size&quot;: 20.0, &quot;color&quot;: &quot;#ff0000&quot;, &quot;opacity&quot;: 1.0}, {&quot;point&quot;: [-0.22596471069049592, -0.1316040853466725, 0.06837968575737377], &quot;size&quot;: 20.0, &quot;color&quot;: &quot;#ff0000&quot;, &quot;opacity&quot;: 1.0}, {&quot;point&quot;: [-0.1844125034988085, 0.12974832016456284, 0.05084259803222396], &quot;size&quot;: 20.0, &quot;color&quot;: &quot;#ff0000&quot;, &quot;opacity&quot;: 1.0}, {&quot;point&quot;: [0.4105465623947158, 0.34060126440496424, 0.2845577012083786], &quot;size&quot;: 20.0, &quot;color&quot;: &quot;#ff0000&quot;, &quot;opacity&quot;: 1.0}, {&quot;point&quot;: [-0.2622913418688717, 0.02687860367301006, 0.06951920735478408], &quot;size&quot;: 20.0, &quot;color&quot;: &quot;#ff0000&quot;, &quot;opacity&quot;: 1.0}, {&quot;point&quot;: [0.20137558577520762, -0.7114995965567656, 0.5467838024467483], &quot;size&quot;: 20.0, &quot;color&quot;: &quot;#ff0000&quot;, &quot;opacity&quot;: 1.0}, {&quot;point&quot;: [-0.6035648452745243, 0.4744104622709576, 0.5893558091634041], &quot;size&quot;: 20.0, &quot;color&quot;: &quot;#ff0000&quot;, &quot;opacity&quot;: 1.0}, {&quot;point&quot;: [0.6762539196799461, 0.24529597168711884, 0.5174894776084188], &quot;size&quot;: 20.0, &quot;color&quot;: &quot;#ff0000&quot;, &quot;opacity&quot;: 1.0}, {&quot;point&quot;: [0.5399806107347032, 0.32284345997470415, 0.39580695961786133], &quot;size&quot;: 20.0, &quot;color&quot;: &quot;#ff0000&quot;, &quot;opacity&quot;: 1.0}, {&quot;point&quot;: [0.7219804083764368, -0.5261605312505466, 0.7981006147252641], &quot;size&quot;: 20.0, &quot;color&quot;: &quot;#ff0000&quot;, &quot;opacity&quot;: 1.0}, {&quot;point&quot;: [-0.5319037203025289, -0.1498774784734534, 0.30538482622523133], &quot;size&quot;: 20.0, &quot;color&quot;: &quot;#ff0000&quot;, &quot;opacity&quot;: 1.0}, {&quot;point&quot;: [-0.048306490701182266, 0.2778838656880632, 0.07955295985360496], &quot;size&quot;: 20.0, &quot;color&quot;: &quot;#ff0000&quot;, &quot;opacity&quot;: 1.0}, {&quot;point&quot;: [0.2375640599626442, -0.009763187744587782, 0.05653200242087088], &quot;size&quot;: 20.0, &quot;color&quot;: &quot;#ff0000&quot;, &quot;opacity&quot;: 1.0}, {&quot;point&quot;: [-0.08964348339969393, -0.04451890306016737, 0.010017886845711779], &quot;size&quot;: 20.0, &quot;color&quot;: &quot;#ff0000&quot;, &quot;opacity&quot;: 1.0}, {&quot;point&quot;: [-0.2761983115622475, 0.5525702790400189, 0.3816194205882007], &quot;size&quot;: 20.0, &quot;color&quot;: &quot;#ff0000&quot;, &quot;opacity&quot;: 1.0}, {&quot;point&quot;: [-0.02776092691853411, 0.7646954640427573, 0.5855298217909441], &quot;size&quot;: 20.0, &quot;color&quot;: &quot;#ff0000&quot;, &quot;opacity&quot;: 1.0}, {&quot;point&quot;: [-0.545002029217637, 0.27457584218565145, 0.3724191049633017], &quot;size&quot;: 20.0, &quot;color&quot;: &quot;#ff0000&quot;, &quot;opacity&quot;: 1.0}, {&quot;point&quot;: [0.08011255004352166, -0.1054209391156815, 0.017531595078507992], &quot;size&quot;: 20.0, &quot;color&quot;: &quot;#ff0000&quot;, &quot;opacity&quot;: 1.0}, {&quot;point&quot;: [0.39388703950142634, 0.5800600020343255, 0.49161660584725986], &quot;size&quot;: 20.0, &quot;color&quot;: &quot;#ff0000&quot;, &quot;opacity&quot;: 1.0}, {&quot;point&quot;: [-0.4186043189938291, -0.6091989570799194, 0.5463529451875491], &quot;size&quot;: 20.0, &quot;color&quot;: &quot;#ff0000&quot;, &quot;opacity&quot;: 1.0}, {&quot;point&quot;: [-0.31361941526298476, 0.19423725779547224, 0.13608524994580123], &quot;size&quot;: 20.0, &quot;color&quot;: &quot;#ff0000&quot;, &quot;opacity&quot;: 1.0}];\n",
       "    for ( var i=0 ; i < points.length ; i++ ) addPoint( points[i] );\n",
       "\n",
       "    function addPoint( json ) {\n",
       "\n",
       "        var geometry = new THREE.Geometry();\n",
       "        var v = json.point;\n",
       "        geometry.vertices.push( new THREE.Vector3( a[0]*v[0], a[1]*v[1], a[2]*v[2] ) );\n",
       "\n",
       "        var canvas = document.createElement( 'canvas' );\n",
       "        canvas.width = 128;\n",
       "        canvas.height = 128;\n",
       "\n",
       "        var context = canvas.getContext( '2d' );\n",
       "        context.arc( 64, 64, 64, 0, 2 * Math.PI );\n",
       "        context.fillStyle = json.color;\n",
       "        context.fill();\n",
       "\n",
       "        var texture = new THREE.Texture( canvas );\n",
       "        texture.needsUpdate = true;\n",
       "\n",
       "        var transparent = json.opacity < 1 ? true : false;\n",
       "        var size = camera.isOrthographicCamera ? json.size : json.size/100;\n",
       "        var material = new THREE.PointsMaterial( { size: size, map: texture,\n",
       "                                                   transparent: transparent, opacity: json.opacity,\n",
       "                                                   alphaTest: .1 } );\n",
       "\n",
       "        var c = new THREE.Vector3();\n",
       "        geometry.computeBoundingBox();\n",
       "        geometry.boundingBox.getCenter( c );\n",
       "        geometry.translate( -c.x, -c.y, -c.z );\n",
       "\n",
       "        var mesh = new THREE.Points( geometry, material );\n",
       "        mesh.position.set( c.x, c.y, c.z );\n",
       "        scene.add( mesh );\n",
       "\n",
       "    }\n",
       "\n",
       "    var lines = [];\n",
       "    for ( var i=0 ; i < lines.length ; i++ ) addLine( lines[i] );\n",
       "\n",
       "    function addLine( json ) {\n",
       "\n",
       "        var geometry = new THREE.Geometry();\n",
       "        for ( var i=0 ; i < json.points.length ; i++ ) {\n",
       "            var v = json.points[i];\n",
       "            geometry.vertices.push( new THREE.Vector3( a[0]*v[0], a[1]*v[1], a[2]*v[2] ) );\n",
       "        }\n",
       "\n",
       "        var transparent = json.opacity < 1 ? true : false;\n",
       "        var material = new THREE.LineBasicMaterial( { color: json.color, linewidth: json.linewidth,\n",
       "                                                      transparent: transparent, opacity: json.opacity } );\n",
       "\n",
       "        var c = new THREE.Vector3();\n",
       "        geometry.computeBoundingBox();\n",
       "        geometry.boundingBox.getCenter( c );\n",
       "        geometry.translate( -c.x, -c.y, -c.z );\n",
       "\n",
       "        var mesh = new THREE.Line( geometry, material );\n",
       "        mesh.position.set( c.x, c.y, c.z );\n",
       "        scene.add( mesh );\n",
       "\n",
       "    }\n",
       "\n",
       "    var surfaces = [];\n",
       "    for ( var i=0 ; i < surfaces.length ; i++ ) addSurface( surfaces[i] );\n",
       "\n",
       "    function addSurface( json ) {\n",
       "\n",
       "        var useFaceColors = 'faceColors' in json ? true : false;\n",
       "\n",
       "        var geometry = new THREE.Geometry();\n",
       "        for ( var i=0 ; i < json.vertices.length ; i++ ) {\n",
       "            var v = json.vertices[i];\n",
       "            geometry.vertices.push( new THREE.Vector3( a[0]*v.x, a[1]*v.y, a[2]*v.z ) );\n",
       "        }\n",
       "        for ( var i=0 ; i < json.faces.length ; i++ ) {\n",
       "            var f = json.faces[i];\n",
       "            for ( var j=0 ; j < f.length - 2 ; j++ ) {\n",
       "                var face = new THREE.Face3( f[0], f[j+1], f[j+2] );\n",
       "                if ( useFaceColors ) face.color.set( json.faceColors[i] );\n",
       "                geometry.faces.push( face );\n",
       "            }\n",
       "        }\n",
       "        geometry.computeVertexNormals();\n",
       "\n",
       "        var side = json.singleSide ? THREE.FrontSide : THREE.DoubleSide;\n",
       "        var transparent = json.opacity < 1 ? true : false;\n",
       "\n",
       "        var material = new THREE.MeshPhongMaterial( { side: side,\n",
       "                                     color: useFaceColors ? 'white' : json.color,\n",
       "                                     vertexColors: useFaceColors ? THREE.FaceColors : THREE.NoColors,\n",
       "                                     transparent: transparent, opacity: json.opacity,\n",
       "                                     shininess: 20, flatShading: json.useFlatShading } );\n",
       "\n",
       "        var c = new THREE.Vector3();\n",
       "        geometry.computeBoundingBox();\n",
       "        geometry.boundingBox.getCenter( c );\n",
       "        geometry.translate( -c.x, -c.y, -c.z );\n",
       "\n",
       "        var mesh = new THREE.Mesh( geometry, material );\n",
       "        mesh.position.set( c.x, c.y, c.z );\n",
       "        if ( transparent && json.renderOrder ) mesh.renderOrder = json.renderOrder;\n",
       "        scene.add( mesh );\n",
       "\n",
       "        if ( json.showMeshGrid ) {\n",
       "\n",
       "            var geometry = new THREE.Geometry();\n",
       "\n",
       "            for ( var i=0 ; i < json.faces.length ; i++ ) {\n",
       "                var f = json.faces[i];\n",
       "                for ( var j=0 ; j < f.length ; j++ ) {\n",
       "                    var k = j === f.length-1 ? 0 : j+1;\n",
       "                    var v1 = json.vertices[f[j]];\n",
       "                    var v2 = json.vertices[f[k]];\n",
       "                    // vertices in opposite directions on neighboring faces\n",
       "                    var nudge = f[j] < f[k] ? .0005*zRange : -.0005*zRange;\n",
       "                    geometry.vertices.push( new THREE.Vector3( a[0]*v1.x, a[1]*v1.y, a[2]*(v1.z+nudge) ) );\n",
       "                    geometry.vertices.push( new THREE.Vector3( a[0]*v2.x, a[1]*v2.y, a[2]*(v2.z+nudge) ) );\n",
       "                }\n",
       "            }\n",
       "\n",
       "            var material = new THREE.LineBasicMaterial( { color: 'black', linewidth: 1 } );\n",
       "\n",
       "            var c = new THREE.Vector3();\n",
       "            geometry.computeBoundingBox();\n",
       "            geometry.boundingBox.getCenter( c );\n",
       "            geometry.translate( -c.x, -c.y, -c.z );\n",
       "\n",
       "            var mesh = new THREE.LineSegments( geometry, material );\n",
       "            mesh.position.set( c.x, c.y, c.z );\n",
       "            scene.add( mesh );\n",
       "\n",
       "        }\n",
       "\n",
       "    }\n",
       "\n",
       "    var scratch = new THREE.Vector3();\n",
       "\n",
       "    function render() {\n",
       "\n",
       "        if ( animate ) requestAnimationFrame( render );\n",
       "        renderer.render( scene, camera );\n",
       "\n",
       "        // Resize text based on distance from camera.\n",
       "        // Not neccessary for orthographic due to the nature of the projection (preserves sizes).\n",
       "        if ( !camera.isOrthographicCamera ) {\n",
       "            for ( var i=0 ; i < scene.children.length ; i++ ) {\n",
       "                if ( scene.children[i].type === 'Sprite' ) {\n",
       "                    var sprite = scene.children[i];\n",
       "                    var adjust = scratch.addVectors( sprite.position, scene.position )\n",
       "                                    .sub( camera.position ).length() / 5;\n",
       "                    sprite.scale.set( adjust, .25*adjust, 1 ); // ratio of canvas width to height\n",
       "                }\n",
       "            }\n",
       "        }\n",
       "    }\n",
       "    \n",
       "    render();\n",
       "    controls.update();\n",
       "    if ( !animate ) render();\n",
       "\n",
       "\n",
       "    // menu functions\n",
       "\n",
       "    function toggleMenu() {\n",
       "\n",
       "        var m = document.getElementById( 'menu-content' );\n",
       "        if ( m.style.display === 'block' ) m.style.display = 'none'\n",
       "        else m.style.display = 'block';\n",
       "\n",
       "    }\n",
       "\n",
       "\n",
       "    function saveAsPNG() {\n",
       "\n",
       "        var a = document.body.appendChild( document.createElement( 'a' ) );\n",
       "        a.href = renderer.domElement.toDataURL( 'image/png' );\n",
       "        a.download = 'screenshot';\n",
       "        a.click();\n",
       "\n",
       "    }\n",
       "\n",
       "    function saveAsHTML() {\n",
       "\n",
       "        toggleMenu(); // otherwise visible in output\n",
       "        event.stopPropagation();\n",
       "\n",
       "        var blob = new Blob( [ '<!DOCTYPE html>\\n' + document.documentElement.outerHTML ] );\n",
       "        var a = document.body.appendChild( document.createElement( 'a' ) );\n",
       "        a.href = window.URL.createObjectURL( blob );\n",
       "        a.download = 'graphic.html';\n",
       "        a.click();\n",
       "\n",
       "    }\n",
       "\n",
       "    function getViewpoint() {\n",
       "\n",
       "        function roundTo( x, n ) { return +x.toFixed(n); }\n",
       "\n",
       "        var v = camera.quaternion.inverse();\n",
       "        var r = Math.sqrt( v.x*v.x + v.y*v.y + v.z*v.z );\n",
       "        var axis = [ roundTo( v.x / r, 4 ), roundTo( v.y / r, 4 ), roundTo( v.z / r, 4 ) ];\n",
       "        var angle = roundTo( 2 * Math.atan2( r, v.w ) * 180 / Math.PI, 2 );\n",
       "\n",
       "        var textArea = document.createElement( 'textarea' );\n",
       "        textArea.textContent = JSON.stringify( axis ) + ',' + angle;\n",
       "        textArea.style.csstext = 'position: absolute; top: -100%';\n",
       "        document.body.append( textArea );\n",
       "        textArea.select();\n",
       "        document.execCommand( 'copy' );\n",
       "\n",
       "        var m = document.getElementById( 'menu-message' );\n",
       "        m.innerHTML = 'Viewpoint copied to clipboard';\n",
       "        m.style.display = 'block';\n",
       "        setTimeout( function() { m.style.display = 'none'; }, 2000 );\n",
       "\n",
       "    }\n",
       "\n",
       "</script>\n",
       "\n",
       "<div id=&quot;menu-container&quot; onclick=&quot;toggleMenu()&quot;>&#x24d8;\n",
       "<div id=&quot;menu-message&quot;></div>\n",
       "<div id=&quot;menu-content&quot;>\n",
       "<div onclick=&quot;saveAsPNG()&quot;>Save as PNG</div>\n",
       "<div onclick=&quot;saveAsHTML()&quot;>Save as HTML</div>\n",
       "<div onclick=&quot;getViewpoint()&quot;>Get Viewpoint</div>\n",
       "<div>Close Menu</div>\n",
       "</div></div>\n",
       "\n",
       "</body>\n",
       "</html>\n",
       "\"\n",
       "        width=\"100%\"\n",
       "        height=\"400\"\n",
       "        style=\"border: 0;\">\n",
       "</iframe>\n"
      ],
      "text/plain": [
       "Graphics3d Object"
      ]
     },
     "execution_count": 5,
     "metadata": {},
     "output_type": "execute_result"
    }
   ],
   "source": [
    "A_2d = A_unit*radial_A\n",
    "A_3d = np.concatenate([A_2d,np.linalg.norm(A_2d,axis=1).reshape(-1,1)^2],axis=1)\n",
    "B_2d = B_unit*radial_B\n",
    "B_3d = np.concatenate([B_2d,np.linalg.norm(B_2d,axis=1).reshape(-1,1)^2],axis=1)\n",
    "\n",
    "P=points(A_3d,size=20,color='blue')\n",
    "P+=points(B_3d,size=20,color='red')\n",
    "P.show()"
   ]
  },
  {
   "cell_type": "markdown",
   "metadata": {
    "collapsed": false
   },
   "source": [
    "> Remember the extra dimension that we always add to simplify notation. Therefore the full $\\phi$ in the above examples is $\\hat \\phi(x) = (x_1,x_2,x_1^2+x_2^2,1)$.\n",
    "\n",
    "So if we transform the $x \\to \\phi(x)$ for some good transformation $\\phi$ then our perceptron will try to solve\n",
    "$$\n",
    "    w \\cdot \\phi(x_i)l_i > 0\n",
    "$$\n",
    "furthermore, remember how we constructed $w$ using the perceptron algorithms, i.e. using additions of $x_i l_i$, which transforms into $\\phi(x_i)l_i$, and we start with $w=0$, this gives that the weight has the form\n",
    "$$\n",
    "    w = \\sum_{i=1}^n c_i \\phi(x_i)\n",
    "$$\n",
    "for numbers $c_i$. The perceptron algorithm becomes just addition and subtraction of certain $c_i$'s by 1."
   ]
  },
  {
   "cell_type": "markdown",
   "metadata": {
    "collapsed": false
   },
   "source": [
    "Furthermore\n",
    "$$\n",
    "    w \\cdot \\phi(x_i) = \\sum_{i=1}^n c_j \\phi(x_j) \\cdot \\phi(x_i) = \\sum_{i=1}^n c_i k_{ij}\n",
    "$$\n",
    "where $k_{ij} = \\phi(x_i) \\cdot \\phi(x_j)$."
   ]
  },
  {
   "cell_type": "markdown",
   "metadata": {
    "collapsed": false
   },
   "source": [
    "Is it easy to find such a mapping $\\phi$? No, it is actually quite difficult. Furthermore, if the mapping $\\phi$ is high dimensional we might need to do alot of computation, which is not so efficient. What if we had a function $k(x,y)$ that could be written as\n",
    "$$\n",
    "    k(x,y) = \\phi(x) \\cdot \\phi(y)\n",
    "$$\n",
    "for some $\\phi$ and $k$ is easier to compute, then our life would be simpler. Also, what if we are given a function $k(x,y)$ and we would like to know if it is a \"kernel function\".\n",
    "\n",
    "### Lemma\n",
    "If $k_{ij}$ is symmetric and positive semidefinite, then there is a mapping $\\phi$ such that\n",
    "$k_{ij} = \\phi(x_i)\\phi(x_j)$.\n",
    "\n",
    "### Proof\n",
    "1. $k = Q \\Lambda Q^T$ (eigendecomposition)\n",
    "2. $k$ is positive definite, all eigenvalues $\\geq 0$, so we can define $B = Q \\Lambda^{1/2}$.\n",
    "3. $k = B B^T$\n",
    "4. define $\\phi(x_i) = B_{i\\cdot}$, i.e. the $i$:th row of $B$, then $k_{ij} = \\phi(x_i)\\cdot \\phi(x_j)$.\n",
    "\n",
    "\n",
    "We now have a way to identify whenever a matrix $k$ is a kernel matrix. There are some standard choices of kernel functions one could try, that produces positive semi-definite matrices whenever all points $x_i$ are distinct.\n",
    "1. $k(x,y) = e^{-\\gamma |x-y|}$, called Radial Basis Function\n",
    "2. $k(x,y) = (\\gamma x \\cdot y + r)^d$, polynomial\n",
    "3. $k(x,y) = x \\cdot y$, linear\n",
    "4. $k(x,y) = \\tanh(\\gamma x \\cdot y + r)$, sigmoidal\n",
    "\n",
    "\n",
    "### Definition\n",
    "> We call a function $k(x,y)$ a kernel function if there is a mapping $\\phi$ such that $k(x,y) = \\phi(x) \\cdot \\phi(y)$.\n",
    "\n",
    "### Theorem (properties)\n",
    "Suppose $k_1,k_2$ are kernel functions. Then\n",
    "1. For any constant $c \\geq 0$, $c k_1$ is a kernel function.\n",
    "2. For any scalar function $f$, $k(x,y) = f(x)f(y)k_1(x,y)$ is a kernel function.\n",
    "3. $k_1 + k_2$ is a kernel function.\n",
    "4. $k_1k_2$ is a kernel function."
   ]
  },
  {
   "cell_type": "markdown",
   "metadata": {
    "collapsed": false
   },
   "source": [
    "## Let me cheat a bit\n",
    "\n",
    "As we have noted, the perceptron converges in finite time if the set is linearly separable. The way to solve this problem is to introduce a \"cost function\" that penalizes misses in classification, the goal is then to minimize the total cost. The perceptron becomes the Support Vector Machine in this case, the loss is the so called \"hinge loss\"\n",
    "$$\n",
    "    \\min(0,1-w \\cdot x_i l_i)\n",
    "$$\n",
    "this means that if $w \\cdot x_i l_i \\geq 1$ (which is the requirement for the perceptron) we have 0 cost, but if we are closer to the plane $w \\cdot x = 0$ then there is a cost proportional to 1 - distance.\n",
    "\n",
    "Consider the problem of differentiating between the following handwritten digits, where $c^\\ast$ is the set of digits greater than or equal to 5."
   ]
  },
  {
   "cell_type": "code",
   "execution_count": 6,
   "metadata": {
    "collapsed": false
   },
   "outputs": [
    {
     "data": {
      "image/png": "[encoded data removed]",
      "text/plain": [
       "<Figure size 432x288 with 10 Axes>"
      ]
     },
     "execution_count": 6,
     "metadata": {},
     "output_type": "execute_result"
    }
   ],
   "source": [
    "from sklearn.datasets import load_digits\n",
    "import matplotlib.pyplot as plt\n",
    "from sklearn.datasets import load_digits\n",
    "digits = load_digits()\n",
    "fig, ax = plt.subplots(2,5)\n",
    "plt.gray()\n",
    "for i in range(10):\n",
    "    row = floor(i/5)\n",
    "    column = i % 5\n",
    "    ax[row,column].imshow(digits['data'][i,:].reshape(8,8))"
   ]
  },
  {
   "cell_type": "code",
   "execution_count": 7,
   "metadata": {
    "collapsed": false
   },
   "outputs": [
    {
     "data": {
      "text/plain": [
       "SVC(kernel='linear')"
      ]
     },
     "execution_count": 7,
     "metadata": {},
     "output_type": "execute_result"
    }
   ],
   "source": [
    "from sklearn.svm import SVC\n",
    "\n",
    "labels = digits['target'] > 5\n",
    "\n",
    "X = digits['data']\n",
    "\n",
    "from sklearn.model_selection import train_test_split\n",
    "X_train, X_test, Y_train, Y_test = train_test_split(X,labels)\n",
    "\n",
    "per = SVC(kernel='linear')\n",
    "\n",
    "per.fit(X_train,Y_train)"
   ]
  },
  {
   "cell_type": "code",
   "execution_count": 8,
   "metadata": {
    "collapsed": false
   },
   "outputs": [
    {
     "name": "stdout",
     "output_type": "stream",
     "text": [
      "Training precision: \t 0.8864142538975501\n",
      "Test precision: \t 0.9133333333333333\n"
     ]
    }
   ],
   "source": [
    "print(\"Training precision: \\t\", per.score(X_train,Y_train))\n",
    "\n",
    "print(\"Test precision: \\t\", per.score(X_test,Y_test))"
   ]
  },
  {
   "cell_type": "markdown",
   "metadata": {
    "collapsed": false
   },
   "source": [
    "This is really interesting right? With just a linear classifier we can differentiate between digits less than and larger than 5 using a linear classifier up to 88% correct..."
   ]
  },
  {
   "cell_type": "markdown",
   "metadata": {
    "collapsed": false
   },
   "source": [
    "But, we talked about the fact that different kernels might improve things. A famous kernel is the Radial Basis Function kernel, which we showed above. Lets try it"
   ]
  },
  {
   "cell_type": "markdown",
   "metadata": {
    "collapsed": false
   },
   "source": [
    "### The Radial Basis Function Kernel"
   ]
  },
  {
   "cell_type": "code",
   "execution_count": 9,
   "metadata": {
    "collapsed": false
   },
   "outputs": [
    {
     "name": "stdout",
     "output_type": "stream",
     "text": [
      "Training precision: \t 0.9873793615441723\n",
      "Test precision: \t 0.9866666666666667\n"
     ]
    }
   ],
   "source": [
    "from sklearn.svm import SVC\n",
    "\n",
    "labels = digits['target'] > 5\n",
    "\n",
    "X = digits['data']\n",
    "\n",
    "from sklearn.model_selection import train_test_split\n",
    "X_train, X_test, Y_train, Y_test = train_test_split(X,labels)\n",
    "\n",
    "per = SVC(kernel='rbf')\n",
    "\n",
    "per.fit(X_train,Y_train)\n",
    "\n",
    "print(\"Training precision: \\t\", per.score(X_train,Y_train))\n",
    "\n",
    "print(\"Test precision: \\t\", per.score(X_test,Y_test))"
   ]
  },
  {
   "cell_type": "markdown",
   "metadata": {
    "collapsed": false
   },
   "source": [
    "This is borderline crazy, how can we differentiate between these digits at 98% accuracy?\n",
    "I would leave this up to you to think about. But the fact is that it does work well."
   ]
  },
  {
   "cell_type": "markdown",
   "metadata": {
    "collapsed": false
   },
   "source": [
    "## The underlying problem\n",
    "\n",
    "Consider a probability space $(\\Omega,P,F)$ where $\\Omega$ is the sample space and $P$ is the probability measure. In the theory of classifiers we often use the idea that $\\Omega$ is split into two parts, one part which corresponds to class  $1$ and one part which corresponds to class $-1$ (or 0). Let us call the subset of $\\Omega$ that is labeled as class $1$ the target concept.\n",
    "\n",
    "> The target concept $c^\\ast \\subset \\Omega$ is the set of outcomes which are labeled $1$, all other are labeled $-1$ (or zero)\n",
    "\n",
    "Often the sample space $\\Omega \\subset \\mathbb{R}^d$ and as such, each choice of weights $\\hat w$ would produce two a split of $\\Omega$ into two sets, i.e. the part of $\\Omega$ that is one one side of the plane and one which is on the other side of the plane. When we worked with kernel functions we can have a non-linear separating boundary. The point being that we can abstract our idea of a model as being a set.\n",
    "\n",
    "> A model in our view, i.e. a choice of weights for instance, is the same as a set in $\\Omega$, we can denote this set as $h \\subset \\Omega$.\n",
    "\n",
    "If $x \\in h$ we say that $h$ predicts $x$ as being in $c^\\ast$, but it can of-course be wrong. The error we are interested in is the missclassification rate, i.e.\n",
    "\n",
    "> False positive (FP) $x \\in h$ but $x \\not \\in c^\\ast$, and the other which is False Negative (FN) $x \\not \\in h$ but $x \\in c^\\ast$. \n",
    "\n",
    "The set of miscalssified samples can be written as the symmetric difference of the set $h$ and $c^\\ast$, i.e.\n",
    "\n",
    "$$\n",
    "    h \\Delta c^\\ast = (h \\setminus c^\\ast) \\cup (c^\\ast \\setminus h)\n",
    "$$\n",
    "\n",
    "<img src=\"images/symmetric-difference.jpg\"></img>"
   ]
  },
  {
   "cell_type": "markdown",
   "metadata": {
    "collapsed": false
   },
   "source": [
    "The true error rate that we are interested in is the probability of a missclassification, i.e.\n",
    "\n",
    "$$\n",
    "    P(h \\Delta c^\\ast) = P(\\text{\"h classifying x wrongly, i.e. FP or FN\"})\n",
    "$$\n",
    "\n",
    "This is what we want, but remember that we are taking a training set $S$ and building $h$ on that set. Perhaps  we can find a small training error, which would be\n",
    "\n",
    "$$\n",
    "    err(S) = \\frac{1}{n} \\sum_{i=1}^n \\mathbf{1}_{h \\Delta c^\\ast}(x_i), \\quad S = \\{x_1,\\ldots,x_n\\}\n",
    "$$"
   ]
  },
  {
   "cell_type": "markdown",
   "metadata": {
    "collapsed": false
   },
   "source": [
    "## Understanding model fit and generalization\n",
    "\n",
    "So far we have only considered quite simple models, we did however touch upon polynomial regression back in `12.ipynb`. The point I want to make here is that we can make the ansatz for the regression function $r(x) = E(Y \\mid X=x)$ arbitrarily complicated, think for instance of polynomials of arbitrarily high order.\n",
    "\n",
    "Let us highlight the problem with a simple example of polynomial regression using `scikit-learn`.\n",
    "\n",
    "Let us assume that $r(x) = -x^2$ and that $Y \\mid X \\sim N(r(x),0.1^2)$."
   ]
  },
  {
   "cell_type": "code",
   "execution_count": 10,
   "metadata": {
    "collapsed": false
   },
   "outputs": [
    {
     "data": {
      "image/png": "[encoded data removed]",
      "text/plain": [
       "Graphics object consisting of 1 graphics primitive"
      ]
     },
     "execution_count": 10,
     "metadata": {},
     "output_type": "execute_result"
    }
   ],
   "source": [
    "import numpy as np\n",
    "n_samples = 20\n",
    "sigma=0.3\n",
    "np.random.seed(6)\n",
    "X = np.random.uniform(size=n_samples)*2-1\n",
    "Y = -X**2 + np.random.normal(size=n_samples)*sigma\n",
    "points(zip(X,Y))"
   ]
  },
  {
   "cell_type": "markdown",
   "metadata": {
    "collapsed": false
   },
   "source": [
    "Ok, so our goal is to find the function $r(x)=-x^2$, but we do not now beforehand which power it is, so we have to make an ansatz. Perhaps our ansatz is the either it is linear, second or third order polynomial. Lets try all these and see what happens."
   ]
  },
  {
   "cell_type": "code",
   "execution_count": 11,
   "metadata": {
    "collapsed": false
   },
   "outputs": [],
   "source": [
    "# We will be trying all models on the same training data and hold out some as test-data\n",
    "from sklearn.model_selection import train_test_split\n",
    "X_train,X_test,Y_train,Y_test = train_test_split(X,Y,test_size=0.5)"
   ]
  },
  {
   "cell_type": "code",
   "execution_count": 12,
   "metadata": {
    "collapsed": false
   },
   "outputs": [],
   "source": [
    "X_lin_train = X_train.reshape(-1,1)\n",
    "X_second_train = np.stack([X_train,X_train^2],axis=1)\n",
    "X_third_train = np.stack([X_train,X_train^2,X_train^3],axis=1)"
   ]
  },
  {
   "cell_type": "code",
   "execution_count": 13,
   "metadata": {
    "collapsed": false
   },
   "outputs": [
    {
     "data": {
      "text/plain": [
       "LinearRegression()"
      ]
     },
     "execution_count": 13,
     "metadata": {},
     "output_type": "execute_result"
    }
   ],
   "source": [
    "from sklearn.linear_model import LinearRegression\n",
    "lr_lin = LinearRegression()\n",
    "lr_second = LinearRegression()\n",
    "lr_third = LinearRegression()\n",
    "\n",
    "lr_lin.fit(X_lin_train,Y_train)\n",
    "lr_second.fit(X_second_train,Y_train)\n",
    "lr_third.fit(X_third_train,Y_train)"
   ]
  },
  {
   "cell_type": "code",
   "execution_count": 14,
   "metadata": {
    "collapsed": false
   },
   "outputs": [
    {
     "data": {
      "image/png": "[encoded data removed]",
      "text/plain": [
       "Graphics object consisting of 5 graphics primitives"
      ]
     },
     "execution_count": 14,
     "metadata": {},
     "output_type": "execute_result"
    }
   ],
   "source": [
    "x_plot = np.linspace(-1,1,100).reshape(-1,1)\n",
    "P = line(zip(x_plot,lr_lin.predict(x_plot)),color='brown')\n",
    "P+= line(zip(x_plot,lr_second.predict(np.concatenate([x_plot,x_plot^2],axis=1))),color='green')\n",
    "P+= line(zip(x_plot,lr_third.predict(np.concatenate([x_plot,x_plot^2,x_plot^3],axis=1))),color='blue')\n",
    "P+= points(zip(X_train,Y_train),color='black')\n",
    "P+= points(zip(X_test,Y_test),color='red')\n",
    "show(P)"
   ]
  },
  {
   "cell_type": "markdown",
   "metadata": {
    "collapsed": false
   },
   "source": [
    "Since our dataset is not very large, i.e. we had only 10 points and 10 of those we trained on, the estimation problem will be noisy. But what we can tell from the picture above is that the green curve is doing best in terms of the red points which is the test-data. This is called the problem of generalization. Let us formalize this problem as follows\n",
    "\n",
    "## Formalizing the problem\n",
    "\n",
    "1. Our training set $S$ consists of points drawn IID from a distribution $D$\n",
    "2. Our objective is to predict well on new points that are also drawn IID from $D$.\n",
    "\n",
    "With this statement of the problem it becomes clear that if we can simulate the training-test split, train a model on the training data and test on the testing data, then we can get a measure of the generalization performance of the model itself on the distribution $D$."
   ]
  },
  {
   "cell_type": "markdown",
   "metadata": {
    "collapsed": false
   },
   "source": [
    "## The issue of overfitting and what to do about it?\n",
    "\n",
    "To analyze overfitting we have to dig into the ideas of learning theory. As such we need some definitions\n",
    "\n",
    "> A hypothesis class $\\mathcal H$ over $\\Omega$ is a collection of subsets of $\\Omega$, called hypothesises or concepts.\n",
    "\n",
    "### Example\n",
    "In the case of a linear classifier we have \n",
    "$$\\mathcal{H} = \\{\\{x \\in \\Omega: w \\cdot x \\geq 0\\}: w \\in \\mathbb R^d\\}.$$\n",
    "That is, the set of all half-spaces in $\\Omega \\subset \\mathbb R^d$.\n",
    "\n",
    "### Uniform convergence\n",
    "\n",
    "The goal of our algorithm can now be stated as the problem of finding an $h \\in \\mathcal H$ such that the true error is small, i.e. $P(h \\Delta c^\\ast)$ is small.\n",
    "\n",
    "The idea for us today is to start with a finite $\\mathcal H$, why?"
   ]
  },
  {
   "cell_type": "markdown",
   "metadata": {
    "collapsed": false
   },
   "source": [
    "<img src=\"images/Linear3pts.png\"></img>"
   ]
  },
  {
   "cell_type": "markdown",
   "metadata": {
    "collapsed": false
   },
   "source": [
    "Three points can always be split in any possible way so for 3 points we have for a linear classifier $|\\mathcal H| = 2^3$."
   ]
  },
  {
   "cell_type": "markdown",
   "metadata": {
    "collapsed": false
   },
   "source": [
    "<img width=200px src=\"images/Linear4pts.png\"></img>"
   ]
  },
  {
   "cell_type": "markdown",
   "metadata": {
    "collapsed": false
   },
   "source": [
    "For 4 points, we can no longer split every possible combination, for instance the one in the image above cannot be produced. Therefore $|H| < 2^4$. In fact there is a lemma called Sauer-Shelah lemma that states (in our case of linear problems in $\\mathbb R^2$)\n",
    "$$\n",
    "    |\\mathcal H_n| \\leq n^3 + 1\n",
    "$$\n",
    "\n",
    "So, with this motivation let us continue with finite set of $\\mathcal H$."
   ]
  },
  {
   "cell_type": "markdown",
   "metadata": {
    "collapsed": false
   },
   "source": [
    "We start with the theorem 5.4 from the book, but rephrased using our language\n",
    "\n",
    "### Theorem [Finite hypothesis class]\n",
    "> Let $(\\Omega,P,F)$ be a probability space, and let $\\mathcal{H}$ be a finite hypothesis class. Fix $\\epsilon > 0$ and let $S = \\{X_1,\\ldots,X_n\\}$ be IID sampled from $P$. Define $\\mathcal{H}_\\epsilon = \\{h \\in \\mathcal{H}, err(h) \\geq \\epsilon\\}$, then\n",
    ">$$P(\\{\\exists h_i \\in \\mathcal{H}_\\epsilon : err_S(h_i) = 0\\}) \\leq |\\mathcal{H}|(1-\\epsilon)^n$$\n",
    ">or equivalently\n",
    ">$$P(\\{err_S(h_i) > 0, \\forall h_i \\in \\mathcal{H}_\\epsilon\\}) \\geq 1-|\\mathcal{H}|(1-\\epsilon)^n.$$\n",
    ">If\n",
    ">$$n \\geq \\frac{1}{\\epsilon}(\\ln |\\mathcal H| + \\ln(1/\\delta)) $$\n",
    ">then\n",
    ">$$P(\\{err_S(h_i) > 0, \\forall h_i \\in \\mathcal{H}_\\epsilon\\}) \\geq 1-\\delta$$"
   ]
  },
  {
   "cell_type": "markdown",
   "metadata": {
    "collapsed": false
   },
   "source": [
    "In words, for a hypothesis $h$ with large true error, if the training set is large enough there is a high chance that the training set will also contain some missclassified items."
   ]
  },
  {
   "cell_type": "markdown",
   "metadata": {
    "collapsed": false
   },
   "source": [
    "### Proof\n",
    "\n",
    "The idea is as follows, if we know that $err(h) = P(h \\Delta c^\\ast) \\geq \\epsilon$, then define the random variable $Y(X) = \\mathbf{1}_{h \\Delta c^\\ast}(X)$ for $X \\sim P$. This r.v. $Y$ is either 1 or 0, and we know that\n",
    "$$\n",
    "    P(Y = 1) = P(X \\in h\\Delta c^\\ast) = P(h \\Delta c^\\ast) \\geq \\epsilon\n",
    "$$\n",
    "thus we know that $Y \\sim Bernoulli(\\theta)$ where $\\theta \\geq \\epsilon$. We can do the same of the entire sample $S$, and define a $Y_i$ for all $X_i$, and note that since $X_i$ is IID, then $Y_i$ is IID, and thus\n",
    "$$\n",
    "    P(err_S(h) = 0) = P(\\{Y_i = 0: \\forall i = 1,\\ldots,n\\}) = P(Y_1 = 0)^n \\leq (1-\\epsilon)^n.\n",
    "$$\n",
    "That is we can now do the following bound\n",
    "$$\n",
    "    P(\\cup_{h \\in \\mathcal{H_\\epsilon}} \\{err_S(h) = 0\\}) \\leq \\sum_{h \\in \\mathcal{H_\\epsilon}}P(err_S(h) = 0) \\leq |\\mathcal{H}_\\epsilon|(1-\\epsilon)^n \\leq |\\mathcal{H}|(1-\\epsilon)^n\n",
    "$$\n",
    "This proves the first statements, the second follow from taking the complement of the first. The last statement follows from plugging in the bound for $n$ and doing some simple estimation (See book)."
   ]
  },
  {
   "cell_type": "markdown",
   "metadata": {
    "collapsed": false
   },
   "source": [
    "Say that we had a way of finding for each $S$ a $h_S$ such that $err(h_S) = 0$, for each $S$? Think of the perceptron for instance."
   ]
  },
  {
   "cell_type": "markdown",
   "metadata": {
    "collapsed": false
   },
   "source": [
    "Then we can say that\n",
    "$$P(err(h_S) > \\epsilon) \\leq P(\\{\\exists h_i \\in \\mathcal{H}_\\epsilon : err_S(h_i) = 0\\})$$\n",
    "Note that in the above we have inequality because the event $\\{err(h_S) > \\epsilon\\} \\subset \\{\\exists h_i \\in \\mathcal{H}_\\epsilon : err_S(h_i) = 0\\}$. The conclusion is that\n",
    "\n",
    "### Theorem [PAC Learnability of Empirical Risk Minimization]\n",
    "> Let $(\\Omega,P,F)$ be a probability space, and let $\\mathcal{H}$ be a finite hypothesis class. Fix $\\epsilon > 0$ and let $S = \\{X_1,\\ldots,X_n\\}$ be IID sampled from $P$. Further assume that we have a way to construct $h_S \\in \\mathcal{H}$ such that $err_S(h_S) = 0$, then\n",
    ">$$P(err(e_S) > \\epsilon) \\leq |\\mathcal{H}|(1-\\epsilon)^n.$$\n",
    ">Again if \n",
    ">$$n \\geq \\frac{1}{\\epsilon}(\\ln |\\mathcal H| + \\ln(1/\\delta)) $$\n",
    ">then\n",
    ">$$P(err(h_S) < \\epsilon) \\geq 1-\\delta$$"
   ]
  },
  {
   "cell_type": "markdown",
   "metadata": {
    "collapsed": false
   },
   "source": [
    "That is with high probability the method which minimizes the training error has good true error. This ofcourse assumes that there is $h \\in \\mathcal{H}$ such that $err(h) = 0$. Which is not always the case, take the example of a curved decision boundary, and our hypothesis space consists of linear boundaries. This can happen if our kernel choice is not correct concerning the true $c^\\ast$. In that case, the above argument does not work and we have to use other tools.\n",
    "\n",
    "### Theorem (Hoeffding bounds)\n",
    ">Let $X_1,\\ldots, X_n$ be IID Bernoulli$(\\theta)$ r.v.. Let $\\overline{X}_n = \\sum_{i=1}^n X_i$. Now for any $0 \\leq \\alpha \\leq 1$\n",
    ">$$P(\\overline{X}_n > \\theta+\\alpha) \\leq e^{-2n\\alpha^2} $$\n",
    ">$$P(\\overline{X}_n < \\theta-\\alpha) \\leq e^{-2n\\alpha^2} $$\n",
    "\n",
    "We will not prove this now, but using this we can get the following result concerning uniform convergence of the error.\n",
    "\n",
    "### Theorem (Uniform convergence)\n",
    "> Let $(\\Omega,P,F)$ be a probability space, and let $\\mathcal{H}$ be a finite hypothesis class. Fix $\\epsilon > 0$ and let $S = \\{X_1,\\ldots,X_n\\}$ be IID sampled from $P$. Then\n",
    "> $$P(\\{|err(h) - err_S(h)| \\leq \\epsilon, \\forall h \\in \\mathcal{H}\\}) > 1-2|\\mathcal{H}|e^{-2n\\epsilon^2}$$\n",
    "\n",
    ">This tells us that the convergence in probability has a uniform rate!!!"
   ]
  },
  {
   "cell_type": "markdown",
   "metadata": {
    "collapsed": false
   },
   "source": [
    "### Proof\n",
    "Fix the hypothesis $h \\in \\mathcal{H}$, define $Y_i$ as in the proof of `Finite hypothesis class`, then $Y_i \\sim$ Bernoulli$(\\theta)$ and $\\theta = err(h)$, is one if $h$ makes a mistake and $0$ if not. For a single hypothesis we thus have $err_S(h) = \\overline{Y}_n$ and using the Hoeffding bound gives us\n",
    "$$\n",
    "    P(\\overline{Y_n} > err(h) + \\epsilon) \\leq e^{-2n\\epsilon^2}\n",
    "$$\n",
    "$$\n",
    "    P(\\overline{Y_n} > err(h) - \\epsilon) \\leq e^{-2n\\epsilon^2}\n",
    "$$\n",
    "i.e.\n",
    "$$\n",
    "    P(|err_S(h) - err(h)| > \\epsilon) \\leq 2 e^{-2n\\epsilon^2}\n",
    "$$\n",
    "since this holds for a single hypothesis we can again use the union bound to get\n",
    "$$\n",
    "    P(\\{|err_S(h) - err(h)| > \\epsilon, \\exists h \\in \\mathcal{H}) \\leq 2 |\\mathcal{H}| e^{-2n\\epsilon^2}\n",
    "$$\n",
    "taking the complement event we get the result of our theorem."
   ]
  },
  {
   "cell_type": "markdown",
   "metadata": {
    "collapsed": false
   },
   "source": [
    "### The case of infinite hypothesis spaces\n",
    "\n",
    "How do we generalize this to infinite hypothesis classes?\n",
    "\n",
    "The first thing we are going to do is to define data dependent equivalence classes.\n",
    "\n",
    "We start with a symmetrization lemma by Vapnik and Chervonenkis, in the book you can find this hidden in the proof of Theorem 5.14.\n",
    "\n",
    "**Symmetrization Lemma (Vapnik, Chervonenkis, 1971):** Let $S$ and $S'$ be two different sample data-sets from $\\mu$ then for $n \\epsilon^2 \\geq 2$\n",
    "$$\n",
    "    \\mathbb{P}\\left[\\sup_{h \\in \\mathcal{H}}\\left|err(h) - err_S(h)\\right| > \\epsilon\\right] \n",
    "    \\leq 2\\mathbb{P}\\left[\\sup_{h \\in \\mathcal{H}}\\left|err_S(h) - err_{S'}(h)\\right| > \\frac{\\epsilon}{2}\\right]\n",
    "$$"
   ]
  },
  {
   "cell_type": "markdown",
   "metadata": {
    "collapsed": false
   },
   "source": [
    "* Define data-dependent equivalence classes on $\\mathcal{H}$ with respect to $D$\n",
    "$$h_1 = h_2, \\iff h_1(x) = h_2(x), \\forall (x,.) \\in D$$\n",
    "i.e. they produce the same labels.\n",
    "* The set of classes is denoted $\\mathcal{H}_D$, note that $|\\mathcal{H}_D| < \\infty$."
   ]
  },
  {
   "cell_type": "markdown",
   "metadata": {
    "collapsed": false
   },
   "source": [
    "Now by the union bound we get\n",
    "$$\n",
    "\\begin{aligned}\n",
    "    \\mathbb{P}\\left[\\sup_{h \\in \\mathcal{H}_{S\\cup S'}}\\left|err_S(h) - err_{S'}(h)\\right|>\\frac{\\epsilon}{2}\\right] \n",
    "    \\leq s(\\mathcal{H},N) \\sup_{h \\in \\mathcal{H}} \\mathbb{P}\\left[\\left|err_S(h) - err_{S'}(h)\\right|>\\frac{\\epsilon}{2}\\right]\n",
    "\\end{aligned}\n",
    "$$\n",
    "where $s(\\mathcal{H},N)$ is an upper bound on $|\\mathcal{H}_{S \\cup S'}|$, called $\\pi_{\\mathcal H}(n)$ in the book."
   ]
  },
  {
   "cell_type": "markdown",
   "metadata": {
    "collapsed": false
   },
   "source": [
    "## Growth function (shattering number)\n",
    "\n",
    "The largest size of $\\mathcal{H}_D$ for a given $N$ is called the shattering number for $\\mathcal{H}$ given $N$\n",
    "$$s(\\mathcal{H},N) = \\sup_{x_1,\\ldots, x_N} |\\mathcal{H}_{\\{x_1,\\ldots,x_N\\}}|$$\n",
    "> **Note:** this is a combinatorial number and does not depend on $\\mu$. "
   ]
  },
  {
   "cell_type": "markdown",
   "metadata": {
    "collapsed": false
   },
   "source": [
    "## Can we bound $s(\\mathcal{H},N)$?\n",
    "\n",
    "* If we knew nothing then the best we can do is (binary classification)\n",
    "$$s(\\mathcal{H},N) \\leq 2^N$$\n",
    "Remember: Hoeffdings inequality gave a decay of $\\exp(-2N\\epsilon^2)$. **Too weak**\n",
    "\n",
    "* This is where **VC**(Vapnik Chervonenkis)-dimension comes in!\n",
    "\n",
    "## Vapnik Chervonenkis dimension\n",
    "**Def:** We say that $\\mathcal{H}$ **shatters** a set $D = \\{x_i,i=1,\\ldots, N\\}$ for any disjoint split $D_1,D_{-1}$ of $D$ we can find $h \\in \\mathcal{H}$ such that $h(D_1) = 1$, $h(D_{-1})=-1$.\n",
    "\n",
    "**Def:** The VC-dimension of $\\mathcal{H}$, denoted by $\\text{VC-dim}(\\mathcal{H})$ , equals the largest integer $n$ such that there exists a set of cardinality $n$ that is shattered by $\\mathcal{H}$.\n",
    "\n",
    "## Sauer–Shelah lemma (1972)\n",
    "Let $k = \\text{VC-dim}(\\mathcal{H})$ then for $N > 0$ we have\n",
    "$$\n",
    "    s(\\mathcal{H},N) \\leq \\sum_{i=0}^{k-1} {N \\choose i}\n",
    "$$\n",
    "\n",
    "* Independently proved by Sauer and Shelah in 1972\n",
    "* Actually proved slightly before by Vapnik and Chervonenkis (1971?)\n",
    "\n",
    "This is polynomial:\n",
    "$$s(\\mathcal{H},N) \\leq \\left ( \\frac{Ne}{k}\\right )^k $$\n",
    "\n",
    "Proof: Let $\\lambda \\in (0,1)$ then\n",
    "$$\n",
    "\\begin{aligned}\n",
    "    1 &= (\\lambda + (1-\\lambda))^N \\\\\n",
    "    &\\geq \\sum_{i=1}^{\\lambda N} {N \\choose i} \\lambda^i(1-\\lambda)^{n-1} \\\\\n",
    "    &\\geq \\sum_{i=1}^{\\lambda N} {N \\choose i} \\left (\\frac{\\lambda}{1-\\lambda} \\right )^{\\lambda n} (1-\\lambda)^n\n",
    "\\end{aligned}\n",
    "$$\n",
    "Thus\n",
    "$$\n",
    "\\begin{aligned}\n",
    "    \\sum_{i=1}^{\\lambda N} {N \\choose i} &\\leq e^{N((\\lambda-1)\\log(1-\\lambda)-\\lambda \\log(1-\\lambda))} \\\\\n",
    "    &\\leq e^{N(\\lambda-\\lambda \\log(1-\\lambda))} \\\\\n",
    "    &= \\left ( \\frac{e N}{\\lambda N} \\right )^{\\lambda N}\n",
    "\\end{aligned}\n",
    "$$\n",
    "Then for $k = \\lambda N$ we have our result."
   ]
  },
  {
   "cell_type": "markdown",
   "metadata": {
    "collapsed": false
   },
   "source": [
    "## Putting it all together\n",
    "\n",
    "$$\n",
    "\\begin{aligned}\n",
    "    \\mathbb{P}&\\left[\\sup_{h \\in \\mathcal{H}}\\left|err(h) - err_{S}(h)\\right| > \\epsilon\\right] \\\\\n",
    "    &\\leq 2\\mathbb{P}\\left[\\sup_{h \\in \\mathcal{H}}\\left|err_{S}(h) - err_{S'}(h)\\right| > \\frac{\\epsilon}{2}\\right] \\quad \\text{(Symmetrization Lemma)}\\\\\n",
    "    &\\leq 2 s(\\mathcal{H},2 N) \\sup_{h \\in \\mathcal{H}}  \\mathbb{P}\\left[\\left|err_{S}(h) - err_{S'}(h)\\right|>\\frac{\\epsilon}{2}\\right] \\text{(Shattering number + Classes)}\\\\\n",
    "    &\\leq 2 s(\\mathcal{H},2 N) \\sup_{h \\in \\mathcal{H}}   \\left ( \\mathbb{P}\\left[\\left|err(h) - err_{S}(h)\\right|>\\frac{\\epsilon}{4}\\right] + \\mathbb{P}\\left[\\left|err(h) - err_{S'}(h)\\right|>\\frac{\\epsilon}{4}\\right] \\right ) \\\\\n",
    "    &\\leq 8 s(\\mathcal{H}, 2N)\\exp \\left (-\\frac{N\\epsilon^2}{8} \\right ) \\quad \\text{(Hoeffdings Inequality)} \n",
    "\\end{aligned}\n",
    "$$"
   ]
  },
  {
   "cell_type": "markdown",
   "metadata": {
    "collapsed": false
   },
   "source": [
    "Finally we have proved the VC inequality\n",
    "\n",
    "# VC inequality (1971)\n",
    "\n",
    "$$\n",
    "\\begin{aligned}\n",
    "    \\mathbb{P}\\left[\\sup_{h \\in \\mathcal{H}}\\left|err(h) - err_S(h)\\right| > \\epsilon\\right] \n",
    "    \\leq 8 s(\\mathcal{H},2N) \\exp \\left (-\\frac{N\\epsilon^2}{8} \\right )\n",
    "\\end{aligned}\n",
    "$$\n",
    "\n",
    "Choosing the values of $\\epsilon$ wisely we can get\n",
    "\n",
    "# VC generalization bound\n",
    "Thus we can for any $\\delta$ find that with probability $(1-\\delta)$ the following estimate holds\n",
    "\n",
    "$$\n",
    "    err(h) \\leq err_{S} + \\sqrt{\\frac{8 \\ln(s(\\mathcal{H},2N))+8\\ln\\frac{8}{\\delta}}{N}}\n",
    "$$\n",
    "\n",
    "for any $h \\in \\mathcal{H}$.\n",
    "\n",
    "Using the bound on the growth function when we have a fixed VC dimension, the above bound becomes\n",
    "\n",
    "## VC generalization bound\n",
    "We can for any $\\delta$ find that with probability $(1-\\delta)$ the following estimate holds\n",
    "$k = \\text{VC-dim}(\\mathcal{H})$\n",
    "$$\n",
    "    err(h) \\leq err_{S} + \\sqrt{\\frac{8 k\\ln\\left ( \\frac{2Ne}{k}\\right )+8\\ln\\frac{8}{\\delta}}{N}}\n",
    "$$\n",
    "We need $k \\lesssim N$ in order for the estimate to be useful."
   ]
  },
  {
   "cell_type": "markdown",
   "metadata": {
    "collapsed": false
   },
   "source": [
    "We can plot how many data-points are needed just to make the quantity on the right hand side less than $1$."
   ]
  },
  {
   "cell_type": "code",
   "execution_count": 23,
   "metadata": {
    "collapsed": false
   },
   "outputs": [
    {
     "data": {
      "image/png": "[encoded data removed]",
      "text/plain": [
       "<Figure size 504x504 with 1 Axes>"
      ]
     },
     "execution_count": 23,
     "metadata": {},
     "output_type": "execute_result"
    }
   ],
   "source": [
    "from scipy.optimize import fsolve\n",
    "import numpy as np\n",
    "import matplotlib.pyplot as plt\n",
    "\n",
    "def find_N(k=1,prec=0.1):\n",
    "    delta=0.1\n",
    "    c = 8*k\n",
    "    t = 8*k*np.log(2*np.e/k)+8*np.log(8/delta)\n",
    "    func = lambda x: t+c*np.log(x)-prec*x\n",
    "    x_init = k*1000\n",
    "    return fsolve(func,x_init)\n",
    "\n",
    "k = np.arange(1,100)\n",
    "N = np.array([find_N(k0,1) for k0 in k]).ravel()\n",
    "def plot_numreq():\n",
    "    plt.figure(figsize=(7,7))\n",
    "    plt.plot(k,N)\n",
    "    plt.xlabel(\"VC-dimension = $k$\")\n",
    "    plt.ylabel(\"Datapoints required = $N$\")\n",
    "    plt.title(\"$\\\\frac{8 k\\\\ln\\\\left ( \\\\frac{2Ne}{k}\\\\right )+8\\\\ln\\\\frac{8}{\\\\delta}}{N} = 1, \\\\delta = 0.1$\",fontsize=15,pad=10)\n",
    "    plt.show()\n",
    "\n",
    "plot_numreq()"
   ]
  },
  {
   "cell_type": "markdown",
   "metadata": {
    "collapsed": false
   },
   "source": [
    "The above implies that for a model that has many parameters, we need a vast amount of data-points. Thus theoretical guarantees are quite lax."
   ]
  },
  {
   "cell_type": "markdown",
   "metadata": {
    "collapsed": false
   },
   "source": [
    "## Testing true error"
   ]
  },
  {
   "cell_type": "markdown",
   "metadata": {
    "collapsed": false
   },
   "source": [
    "In the context of the perceptron and our ideas of train-test splits we came across the general problem that, given a dataset we find the best fitting model to reduce an error rate. The question that was on our minds, how well does this model perform in general, i.e.  what is the true error rate? We showed that if the class of models are simple then there is a correlation between the training error rate and the true error rate.\n",
    "\n",
    "> Question: What happens if the model is complicated?\n",
    "\n",
    "> Question: The inequalities that we used can be quite imprecise due to the general nature of the problem. Is there a way to perform statistical tests instead?"
   ]
  },
  {
   "cell_type": "markdown",
   "metadata": {
    "collapsed": false
   },
   "source": [
    "### General problem\n",
    "<img width=500px src=\"images/Train-test-split.png\"></img>\n",
    "\n",
    "Call the training set $\\mathcal{T}$ and the test-set $\\mathcal{V}$. That is, we use the training data and some learning algorithm to obtain our estimated classifier $\\hat h$. Then we use the test data in order to estimate the true error of $\\hat h$, i.e. we do\n",
    "$$\n",
    "    \\hat L(h) = \\frac{1}{m} \\sum_{(X_i,l_i) \\in \\mathcal{V}} I(h(X_i) \\neq l_i)\n",
    "$$"
   ]
  },
  {
   "cell_type": "markdown",
   "metadata": {
    "collapsed": false
   },
   "source": [
    "Note that this is just another way to write what we had before, where we looked at the symmetric difference between sets instead. This just measures how many of the labels $h$ gets correct over the test-set $\\mathcal{V}$.\n",
    "\n",
    "It should be noted that this is the proper way of estimating the true error, since we are not using any samples that we trained on to test with. The reason we have to separate them completely, is that it is what we want. We care about prediction so we should test the error on \"new\" data."
   ]
  },
  {
   "cell_type": "markdown",
   "metadata": {
    "collapsed": false
   },
   "source": [
    "### Question: how do we estimate $err(h_S)$?\n",
    "\n",
    "#### k-fold cross validation\n",
    "1. Randomly divide the data into $K$ chunks of  approximately equal size.\n",
    "2. For  $k=1$ to $K$, do the following:\n",
    "    1. Delete chunk $k$ from the data\n",
    "    2. Compute the \"classifier\" $\\hat h_{(k)}$ from the rest of the data\n",
    "    3. Use $\\hat h_{(k)}$ to predict the data in chunk $k$. Let $\\hat L_{(k)}$ denote the observed error rate\n",
    "3. Let \n",
    "    $$\n",
    "        \\hat L(h) = \\frac{1}{K}\\sum_{k=1}^K \\hat L_{(k)}\n",
    "    $$"
   ]
  },
  {
   "cell_type": "markdown",
   "metadata": {
    "collapsed": false
   },
   "source": [
    "<img width=600px src=\"images/Cross-validate.png\"></img>"
   ]
  },
  {
   "cell_type": "markdown",
   "metadata": {
    "collapsed": false
   },
   "source": [
    "### Lets try it!\n",
    "\n",
    "The following dataset comes from the Coronary  Risk-Factor Study (CORIS). It involves 462 males between the ages of 15 and 64 from  three rural areas in South Africa `(Coronary risk factor screening in three rural communities. The CORIS baseline study, J E Rossouw, J P Du Plessis, A J Benadé, P C Jordaan, J P Kotzé, P L Jooste, J J Ferreira)`. The outcome variable is the precense $Y=1$ or absence $Y=0$ of coronary heart disease. There are 9 covariates\n",
    "* Systolic blood pressure\n",
    "* cumulative tobacco consumption\n",
    "* low density lipoprotein choleesterol\n",
    "* adiposity\n",
    "* family history of heart disease\n",
    "* type A behavior (??)\n",
    "* obesity\n",
    "* current alkohol consumption\n",
    "* age"
   ]
  },
  {
   "cell_type": "code",
   "execution_count": 32,
   "metadata": {
    "collapsed": false
   },
   "outputs": [],
   "source": [
    "import csv\n",
    "data = []\n",
    "with open('data/CORIS.csv',mode='r') as f:\n",
    "    reader  = csv.reader(f)\n",
    "    header = next(reader)\n",
    "    _ = next(reader) # remove info\n",
    "    _ = next(reader)\n",
    "    _ = next(reader)\n",
    "    for row in csv.reader(f):\n",
    "        data.append(np.array(row[1:],dtype=float))"
   ]
  },
  {
   "cell_type": "code",
   "execution_count": 33,
   "metadata": {
    "collapsed": false
   },
   "outputs": [
    {
     "data": {
      "text/plain": [
       "['row.names',\n",
       " 'sbp',\n",
       " 'tobacco',\n",
       " 'ldl',\n",
       " 'adiposity',\n",
       " 'famhist',\n",
       " 'typea',\n",
       " 'obesity',\n",
       " 'alcohol',\n",
       " 'age',\n",
       " 'chd']"
      ]
     },
     "execution_count": 33,
     "metadata": {},
     "output_type": "execute_result"
    }
   ],
   "source": [
    "header # This is why we remove the first item in the row"
   ]
  },
  {
   "cell_type": "code",
   "execution_count": 34,
   "metadata": {
    "collapsed": false
   },
   "outputs": [],
   "source": [
    "data_full = np.stack(data)\n",
    "X =  data_full[:,:-1]\n",
    "Y =  data_full[:,-1]"
   ]
  },
  {
   "cell_type": "code",
   "execution_count": 35,
   "metadata": {
    "collapsed": false
   },
   "outputs": [
    {
     "data": {
      "text/plain": [
       "(462, 9)"
      ]
     },
     "execution_count": 35,
     "metadata": {},
     "output_type": "execute_result"
    }
   ],
   "source": [
    "X.shape"
   ]
  },
  {
   "cell_type": "code",
   "execution_count": 36,
   "metadata": {
    "collapsed": false
   },
   "outputs": [],
   "source": [
    "import numpy as np\n",
    "def kfold(index_set,k=10,shuffle=False):\n",
    "    '''This  function will take an index set and split that index set into k chunks\n",
    "        The first n_samples % k folds have size n_samples // k + 1, \n",
    "        (if n_samples is not evenly divisable (remove +1 otherwise))\n",
    "        other folds have size n_samples // k, where n_samples is the number of samples.'''\n",
    "    n_samples = len(index_set)\n",
    "    groups = np.array(list(range(k))*(n_samples//k)+list(range(n_samples-(n_samples//k)*k)))\n",
    "    if (shuffle):\n",
    "        np.random.shuffle(groups)\n",
    "    test_chunks = [index_set[groups == i] for i in range(k)]\n",
    "    train_chunks = [index_set[groups != i] for i in range(k)]\n",
    "    return train_chunks,test_chunks"
   ]
  },
  {
   "cell_type": "code",
   "execution_count": 37,
   "metadata": {
    "collapsed": false
   },
   "outputs": [],
   "source": [
    "k = 10\n",
    "indexes = np.arange(len(X))\n",
    "train_chunks,test_chunks = kfold(indexes,k=k,shuffle=True)"
   ]
  },
  {
   "cell_type": "code",
   "execution_count": 38,
   "metadata": {
    "collapsed": false
   },
   "outputs": [],
   "source": [
    "from sklearn.linear_model import LogisticRegression\n",
    "\n",
    "error = []\n",
    "for train,test in zip(train_chunks,test_chunks):\n",
    "    X_train = X[train]\n",
    "    Y_train = Y[train]\n",
    "    X_test = X[test]\n",
    "    Y_test = Y[test]\n",
    "    \n",
    "    # Fit model\n",
    "    lr = LogisticRegression(max_iter=10000)\n",
    "    lr.fit(X_train,Y_train)\n",
    "    error.append(1-lr.score(X_test,Y_test))"
   ]
  },
  {
   "cell_type": "code",
   "execution_count": 39,
   "metadata": {
    "collapsed": false
   },
   "outputs": [
    {
     "data": {
      "text/plain": [
       "0.27927844588344125"
      ]
     },
     "execution_count": 39,
     "metadata": {},
     "output_type": "execute_result"
    }
   ],
   "source": [
    "np.mean(error)"
   ]
  },
  {
   "cell_type": "markdown",
   "metadata": {
    "collapsed": false
   },
   "source": [
    "## Big whoop! How does this help me?\n",
    "\n",
    "Good question. You can use this in different ways\n",
    "\n",
    "1. Provide an estimate of the true error of our model\n",
    "2. Use as a way to select between different models\n",
    "    1. We could in each fold train many types of  models and compute the mean of all the errors per type\n",
    "    2. Choose the model class / type that has the smallest mean error.\n",
    "    \n",
    "### Question: what is different from this and when we considered the model as fixed and tested the model on the test data?"
   ]
  },
  {
   "cell_type": "markdown",
   "metadata": {
    "collapsed": false
   },
   "source": [
    "## Using it to select models\n",
    "\n",
    "Lets revisit the problem above with the CORIS dataset and see how many features we should include"
   ]
  },
  {
   "cell_type": "code",
   "execution_count": 40,
   "metadata": {
    "collapsed": false
   },
   "outputs": [],
   "source": [
    "#Lets add a bunch of features, that corresponds to X and X^2\n",
    "X_augmented =  np.concatenate([X,X^2],axis=-1)"
   ]
  },
  {
   "cell_type": "code",
   "execution_count": 41,
   "metadata": {
    "collapsed": false
   },
   "outputs": [],
   "source": [
    "from sklearn.linear_model import LogisticRegression\n",
    "\n",
    "error = []\n",
    "for train,test in zip(train_chunks,test_chunks):\n",
    "    X_train = X_augmented[train]\n",
    "    Y_train = Y[train]\n",
    "    X_test = X_augmented[test]\n",
    "    Y_test = Y[test]\n",
    "    \n",
    "    # Fit model with n_params\n",
    "    fold_errors = []\n",
    "    for n in range(1,X_augmented.shape[1]):\n",
    "        lr = LogisticRegression(max_iter=10000)\n",
    "        lr.fit(X_train[:,0:n],Y_train)\n",
    "        fold_errors.append(1-lr.score(X_test[:,0:n],Y_test))\n",
    "    error.append(fold_errors)"
   ]
  },
  {
   "cell_type": "code",
   "execution_count": 42,
   "metadata": {
    "collapsed": false
   },
   "outputs": [
    {
     "data": {
      "image/png": "[encoded data removed]",
      "text/plain": [
       "Graphics object consisting of 1 graphics primitive"
      ]
     },
     "execution_count": 42,
     "metadata": {},
     "output_type": "execute_result"
    }
   ],
   "source": [
    "points(zip(range(1,X_augmented.shape[1]),np.mean(np.array(error),axis=0)))"
   ]
  },
  {
   "cell_type": "markdown",
   "metadata": {
    "collapsed": false
   },
   "source": [
    "We can now use the above plot to find the best choice being 7 features."
   ]
  },
  {
   "cell_type": "markdown",
   "metadata": {
    "collapsed": false
   },
   "source": [
    "### Question: Can we use the resulting smallest error as an estimate for the total error for that model?"
   ]
  },
  {
   "cell_type": "markdown",
   "metadata": {
    "collapsed": false
   },
   "source": [
    "It should be fairly clear from the construction that we have a downward biased estimate of the total error, so if we do model selection as above, we need to use new data to perform the final estimate."
   ]
  },
  {
   "cell_type": "markdown",
   "metadata": {
    "collapsed": false
   },
   "source": [
    "<img width=600px src=\"images/CV-validate.png\"></img>"
   ]
  },
  {
   "cell_type": "markdown",
   "metadata": {
    "collapsed": false
   },
   "source": [
    "This is basically a combination of the initial train-test split and the cross-validation method to select the model"
   ]
  }
 ],
 "metadata": {
  "kernelspec": {
   "display_name": "SageMath 9.1",
   "language": "sagemath",
   "metadata": {
    "cocalc": {
     "description": "Open-source mathematical software system",
     "priority": 1,
     "url": "https://www.sagemath.org/"
    }
   },
   "name": "sage-9.1",
   "resource_dir": "/ext/jupyter/kernels/sage-9.1"
  },
  "language_info": {
   "codemirror_mode": {
    "name": "ipython",
    "version": 3
   },
   "file_extension": ".py",
   "mimetype": "text/x-python",
   "name": "python",
   "nbconvert_exporter": "python",
   "pygments_lexer": "ipython3",
   "version": "3.7.8"
  },
  "lx_course_instance": "2021",
  "lx_course_name": "Introduction to Data Science: A Comp-Math-Stat Approach",
  "lx_course_number": "1MS041"
 },
 "nbformat": 4,
 "nbformat_minor": 4
}
