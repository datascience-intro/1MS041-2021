{
 "cells": [
  {
   "cell_type": "markdown",
   "id": "93a53867",
   "metadata": {
    "deletable": false
   },
   "source": [
    "# [Introduction to Data Science: A Comp-Math-Stat Approach](http://datascience-intro.github.io/1MS041-2021/)    \n",
    "## 1MS041, 2021 \n",
    "&copy;2021 Raazesh Sainudiin, Benny Avelin. [Attribution 4.0 International     (CC BY 4.0)](https://creativecommons.org/licenses/by/4.0/)"
   ]
  },
  {
   "cell_type": "markdown",
   "metadata": {
    "collapsed": false
   },
   "source": [
    "# 13. Markov Chains and Random Structures"
   ]
  },
  {
   "cell_type": "markdown",
   "metadata": {
    "collapsed": false
   },
   "source": [
    "**Markov chain**, named after [Andrey Markov](https://en.wikipedia.org/wiki/Andrey_Markov), is a mathematical model for a possibly dependent sequence of random variables. \n",
    "\n",
    "![](https://upload.wikimedia.org/wikipedia/commons/thumb/7/70/AAMarkov.jpg/330px-AAMarkov.jpg)\n",
    "\n",
    "Intuitively, a Markov Chain is a system which \"jumps\" among several states, with the next state depending (probabilistically) only on the current state. A useful heuristic is that of a frog jumping among several lily-pads, where the frog's memory is short enough that it doesn't remember what lily-pad it was last on, and so its next jump can only be influenced by where it is now.\n",
    "\n",
    "Formally, the Markov property states that the conditional probability distribution for the system at the next step (and in fact at all future steps) given its current state depends only on the current state of the system, and not additionally on the state of the system at previous steps:\n",
    "\n",
    "$$P(X_{n+1} \\ | \\, X_1,X_2,\\dots,X_n) = P(X_{n+1}|X_n). \\,$$\n",
    "Since the system changes randomly, it is generally impossible to predict the exact state of the system in the future. However, the statistical and probailistic properties of the system's future can be predicted. In many applications it is these statistical properties that are important.\n",
    "\n",
    "## Formal definition and terms\n",
    "\n",
    "A Markov chain is a sequence of random variables $X_1, X_2, X_3, \\ldots$ with the Markov property, namely that, given the present state, the future and past states are independent. Formally,\n",
    "\n",
    "$$P(X_{n+1}=x \\ | \\ X_1=x_1, X_2=x_2 \\ldots, X_n=x_n) = P(X_{n+1}=x|X_n=x_n).\\,$$\n",
    "\n",
    "The possible values of $X_i$ or the set of all states of the system form a countable set $\\mathbb{X}$ called the state space of the chain.\n",
    "\n",
    "The changes of state of the system are called transitions, and the probabilities associated with various state-changes are called transition probabilities.\n",
    "\n",
    "Markov chains are often depicted by a weighted directed graph, where the edges are labeled by the probabilities of going from one state to the other states. This is called the flow diagram or transition probability diagram.  The transition probability matrix $\\mathbf{P}$ encodes the probabilities associated with state-changes or \"jumps\" from one state to another in the state-space $\\mathbb{X}$. If $\\mathbb{X}$ is labelled by $\\{0,1,2,\\ldots\\}$ then the $i,j$-th entry in the matrix $\\mathbf{P}$ corresponds to the probability of going from state $i$ to state $j$ in one time-step.\n",
    "\n",
    "$$\\mathbf{P} = \\begin{bmatrix} p_{0,0} & p_{0,1} & p_{0,2} & \\ldots \\\\ p_{1,0} & p_{1,1} & p_{1,2} & \\ldots \\\\ p_{2,0} & p_{2,1} & p_{2,2} & \\ldots \\\\ \\vdots & \\vdots & \\vdots & \\ddots \\end{bmatrix}$$\n",
    "\n",
    "The state of the system at the $n$-th time step is described by a state probability vector $$\\mathbf{p}^{(n)} = \\left( \\mathbf{p}^{(n)}_0, \\mathbf{p}^{(n)}_1, \\mathbf{p}^{(n)}_2,\\ldots \\right)$$ Thus, $\\mathbf{p}^{(n)}_i$ is the probability you will find the Markov chain at state $i \\in \\mathbb{X}$ at time-step $n$ and $\\mathbf{p}^{(0)}_i$ is called the initial probability vector at the convenient initial time $0$.\n",
    "\n",
    " \n",
    "\n",
    "The state space $\\mathbb{X}$ and transition probability matrix $\\mathbf{P}$ completely characterizes a Markov chain.\n",
    "\n",
    "### Example 1: Dry-Wet chain, a toy weather model \n",
    "#### A SageMath break-down of the [Wiki Example](https://en.wikipedia.org/wiki/Examples_of_Markov_chains#A_simple_weather_model)\n"
   ]
  },
  {
   "cell_type": "code",
   "execution_count": 1,
   "metadata": {
    "collapsed": false
   },
   "outputs": [
    {
     "data": {
      "text/html": [
       "\n",
       "        <iframe\n",
       "            width=\"95%\"\n",
       "            height=\"400\"\n",
       "            src=\"https://en.wikipedia.org/wiki/Examples_of_Markov_chains#A_simple_weather_model\"\n",
       "            frameborder=\"0\"\n",
       "            allowfullscreen\n",
       "        ></iframe>\n",
       "        "
      ],
      "text/plain": [
       "<IPython.lib.display.IFrame object at 0x7f9850b6a470>"
      ]
     },
     "execution_count": 1,
     "metadata": {},
     "output_type": "execute_result"
    }
   ],
   "source": [
    "def showURL(url, ht=500):\n",
    "    \"\"\"Return an IFrame of the url to show in notebook with height ht\"\"\"\n",
    "    from IPython.display import IFrame\n",
    "    return IFrame(url, width='95%', height=ht) \n",
    "showURL('https://en.wikipedia.org/wiki/Examples_of_Markov_chains#A_simple_weather_model',400)"
   ]
  },
  {
   "cell_type": "markdown",
   "metadata": {
    "collapsed": false
   },
   "source": [
    "We can coarsely describe the weather of a given day by a toy model that states if it is \"wet\" or \"dry\". Each day the weather in our toy model is an element of our state space\n",
    "\n",
    "$$\\mathbb{X} = \\{\\text{\"wet\"}, \\text{\"dry\"}\\}.$$\n",
    "We can make a picture of our toy probability model with a flow diagram or transition probability diagram as follows:\n",
    "\n",
    " \n",
    "\n",
    "<img src=\"images/DryWet.png\" width=400>\n",
    "\n",
    "The probabilities of weather conditions, given the weather on the preceding day, can be represented by a transition probability matrix:\n",
    "\n",
    "$$\\mathbf{P} = \\begin{bmatrix} 0.9 & 0.1\\\\ 0.5 & 0.5 \\end{bmatrix}$$\n",
    "\n",
    "The matrix $\\mathbf{P}$ represents our toy weather model in which a dry day is 90% likely to be followed by another dry day, and a wet or rainy day is 50% likely to be followed by another wet day. The columns can be labelled \"dry\" and \"wet\" respectively, and the rows can be labelled in the same manner. For convenience, we will use integer labels $0$ and $1$ for \"dry\" and \"wet\", respectively.\n",
    "\n",
    "$(\\mathbf{P})_{i j}=p_{i,j}$ is the probability that, if a given day is of type $i$, it will be followed by a day of type $j$.\n",
    "\n",
    "Since the transition probability matrix $\\mathbf{P}$ is a stochastic matrix:\n",
    "\n",
    " \n",
    "\n",
    "The rows of $\\mathbf{P}$ sum to $1$.\n",
    "The probabiltites in each row can be thought of as \"current-state\" specific $de~Moivre(p_{i,j}'s)$ distribution\n",
    "Basically, you toss a current-state-specific many-faced weigted die to determine the next state\n",
    "How can we think of our toy weather model in terms of two Bernouli trials; $Bernoulli(0.9)$ and $Bernoulli(0.5)$? -- recall a fair coin in the wet pocket and the biased coin in the dry pocket analogy from lectures...\n",
    " \n",
    "\n",
    "How do we represent a matrix $\\mathbf{P}$ in Sage?"
   ]
  },
  {
   "cell_type": "code",
   "execution_count": 76,
   "metadata": {
    "collapsed": false
   },
   "outputs": [],
   "source": [
    "## uncomment for the docstring of matrix\n",
    "#?matrix # we have encountered matrix already"
   ]
  },
  {
   "cell_type": "markdown",
   "metadata": {
    "collapsed": false
   },
   "source": [
    "Let's construct and assign the matrix to `P`. \n",
    "\n",
    "We could have used `QQ` instead of `RR` below if the probabilities are rational and if we had a need for exact rational arithmetic."
   ]
  },
  {
   "cell_type": "code",
   "execution_count": 3,
   "metadata": {
    "collapsed": false
   },
   "outputs": [
    {
     "data": {
      "text/plain": [
       "[0.900000000000000 0.100000000000000]\n",
       "[0.500000000000000 0.500000000000000]"
      ]
     },
     "execution_count": 3,
     "metadata": {},
     "output_type": "execute_result"
    }
   ],
   "source": [
    "P = matrix(RR,[[9/10,1/10],[1/2,1/2]])   \n",
    "P               # display P"
   ]
  },
  {
   "cell_type": "code",
   "execution_count": 4,
   "metadata": {
    "collapsed": false
   },
   "outputs": [
    {
     "data": {
      "text/plain": [
       "0.100000000000000"
      ]
     },
     "execution_count": 4,
     "metadata": {},
     "output_type": "execute_result"
    }
   ],
   "source": [
    "P[0,1]   # recall accessing (i,j)-th entry of matrix P"
   ]
  },
  {
   "cell_type": "code",
   "execution_count": 5,
   "metadata": {
    "collapsed": false
   },
   "outputs": [
    {
     "data": {
      "text/plain": [
       "Full MatrixSpace of 2 by 2 dense matrices over Real Field with 53 bits of precision"
      ]
     },
     "execution_count": 5,
     "metadata": {},
     "output_type": "execute_result"
    }
   ],
   "source": [
    "# always know the parent of your matrix type\n",
    "P.parent()"
   ]
  },
  {
   "cell_type": "markdown",
   "metadata": {
    "collapsed": false
   },
   "source": [
    "### Predicting the weather with our Dry-Wet chain\n",
    "\n",
    "The weather on day 0 is known to be dry. This is represented by a probability vector in which the \"dry\" entry is 100%, and the \"wet\" entry is 0%:\n",
    "\n",
    "$$ \\mathbf{p}^{(0)} = \\begin{bmatrix} 1 & 0 \\end{bmatrix} $$\n",
    "The weather on day 1 can be predicted by:\n",
    "\n",
    "$$ \\mathbf{p}^{(1)} = \\mathbf{p}^{(0)} \\ \\mathbf{P} = \\begin{bmatrix} 1 & 0 \\end{bmatrix} \\begin{bmatrix} 0.9 & 0.1 \\\\ 0.5 & 0.5 \\end{bmatrix} = \\begin{bmatrix} 0.9 & 0.1 \\end{bmatrix} $$\n",
    "\n",
    "Thus, there is an 90% chance that day 1 will also be sunny."
   ]
  },
  {
   "cell_type": "code",
   "execution_count": 6,
   "metadata": {
    "collapsed": false
   },
   "outputs": [
    {
     "data": {
      "text/plain": [
       "(1, 0)"
      ]
     },
     "execution_count": 6,
     "metadata": {},
     "output_type": "execute_result"
    }
   ],
   "source": [
    "p0 = vector((1,0))    # initial probability vector for a dry day zero\n",
    "p0"
   ]
  },
  {
   "cell_type": "code",
   "execution_count": 7,
   "metadata": {
    "collapsed": false
   },
   "outputs": [
    {
     "data": {
      "text/plain": [
       "(0.900000000000000, 0.100000000000000)"
      ]
     },
     "execution_count": 7,
     "metadata": {},
     "output_type": "execute_result"
    }
   ],
   "source": [
    "p1 = p0*P                  # left multiply the matrix by the state prob vector\n",
    "p1"
   ]
  },
  {
   "cell_type": "markdown",
   "metadata": {
    "collapsed": false
   },
   "source": [
    "The weather on day 2 can be predicted in the same way:\n",
    "\n",
    "$$\\mathbf{p}^{(2)} =\\mathbf{p}^{(1)} \\ \\mathbf{P} = \\mathbf{p}^{(0)} \\ \\mathbf{P}^2 = \\begin{bmatrix} 1 & 0 \\end{bmatrix} \\ \\begin{bmatrix} 0.9 & 0.1 \\\\ 0.5 & 0.5 \\end{bmatrix}^2 = \\begin{bmatrix} 0.86 & 0.14 \\end{bmatrix}$$\n",
    "or, equivalently,\n",
    "\n",
    "$$ \\mathbf{p}^{(2)} =\\mathbf{p}^{(1)} \\ \\mathbf{P} = \\begin{bmatrix} 0.9 & 0.1 \\end{bmatrix} \\ \\begin{bmatrix} 0.9 & 0.1 \\\\ 0.5 & 0.5 \\end{bmatrix} = \\begin{bmatrix} 0.86 & 0.14 \\end{bmatrix} $$\n",
    "How do we do this in Sage?"
   ]
  },
  {
   "cell_type": "code",
   "execution_count": 8,
   "metadata": {
    "collapsed": false
   },
   "outputs": [
    {
     "data": {
      "text/plain": [
       "(0.860000000000000, 0.140000000000000)"
      ]
     },
     "execution_count": 8,
     "metadata": {},
     "output_type": "execute_result"
    }
   ],
   "source": [
    "p2 = p0*P^2       # left multiply the initial probability vector by square of P\n",
    "p2                # disclose the probability vector at time-step 2"
   ]
  },
  {
   "cell_type": "markdown",
   "metadata": {
    "collapsed": false
   },
   "source": [
    "or, equivalently,"
   ]
  },
  {
   "cell_type": "code",
   "execution_count": 9,
   "metadata": {
    "collapsed": false
   },
   "outputs": [
    {
     "data": {
      "text/plain": [
       "(0.860000000000000, 0.140000000000000)"
      ]
     },
     "execution_count": 9,
     "metadata": {},
     "output_type": "execute_result"
    }
   ],
   "source": [
    "p2 = p1*P  # left multiply the probability vector at time-step 1 by P\n",
    "\n",
    "# disclose the probability vector at time-step 2 (compare output of previous cell)\n",
    "p2"
   ]
  },
  {
   "cell_type": "markdown",
   "metadata": {
    "collapsed": false
   },
   "source": [
    "General rules for day $n$ follow from mathematical induction as follows:\n",
    "\n",
    "$$ \\mathbf{p}^{(n)} = \\mathbf{p}^{(n-1)} \\ \\mathbf{P} $$\n",
    "$$ \\mathbf{p}^{(n)} = \\mathbf{p}^{(0)} \\ \\mathbf{P}^n $$\n",
    "How do we operate with a matrix in SageMath to do this for any given $n$?"
   ]
  },
  {
   "cell_type": "code",
   "execution_count": 10,
   "metadata": {
    "collapsed": false
   },
   "outputs": [
    {
     "data": {
      "text/plain": [
       "(0.844000000000000, 0.156000000000000)"
      ]
     },
     "execution_count": 10,
     "metadata": {},
     "output_type": "execute_result"
    }
   ],
   "source": [
    "n = 3                     # assign some specific time-step or day\n",
    "dry_p0 = vector((1,0))    # initial probability vector for a dry day zero\n",
    "pn = dry_p0 * P^n         # probability vector for day n\n",
    "pn                        # display it"
   ]
  },
  {
   "cell_type": "code",
   "execution_count": 11,
   "metadata": {
    "collapsed": false
   },
   "outputs": [
    {
     "data": {
      "text/plain": [
       "(0.780000000000000, 0.220000000000000)"
      ]
     },
     "execution_count": 11,
     "metadata": {},
     "output_type": "execute_result"
    }
   ],
   "source": [
    "n = 3                     # assign some specific time-step or day\n",
    "wet_p0 = vector((0,1))    # initial probability vector for a wet day zero\n",
    "pn = wet_p0 * P^n         # probability vector for day n\n",
    "pn                        # display it"
   ]
  },
  {
   "cell_type": "markdown",
   "metadata": {
    "collapsed": false
   },
   "source": [
    "Let's get the state probability vector at time n = 0,1,...,nmax"
   ]
  },
  {
   "cell_type": "code",
   "execution_count": 12,
   "metadata": {
    "collapsed": false
   },
   "outputs": [
    {
     "data": {
      "text/plain": [
       "[(0, (0.000000000000000, 1.00000000000000)),\n",
       " (1, (0.500000000000000, 0.500000000000000)),\n",
       " (2, (0.700000000000000, 0.300000000000000)),\n",
       " (3, (0.780000000000000, 0.220000000000000))]"
      ]
     },
     "execution_count": 12,
     "metadata": {},
     "output_type": "execute_result"
    }
   ],
   "source": [
    "nmax = 3             # maximum number of days or time-steps of interest\n",
    "[(n, vector((0,1)) * P^n ) for n in range(nmax+1)] "
   ]
  },
  {
   "cell_type": "markdown",
   "metadata": {
    "collapsed": false
   },
   "source": [
    "In the next interact let's visualize the $n$-step state probability vector $\\mathbf{p}^{(n)}=(\\mathbf{p}^{(n)}_0,\\mathbf{p}^{(n)}_1)$, $n=0,1,\\ldots, {\\tt nmax}$ steps\n",
    "\n",
    "\n",
    "See what's going on here...? \n",
    "\n",
    "Try to increase `nmax` and see where the state prob vector is going geometrically."
   ]
  },
  {
   "cell_type": "code",
   "execution_count": 13,
   "metadata": {
    "collapsed": false
   },
   "outputs": [
    {
     "data": {
      "application/vnd.jupyter.widget-view+json": {
       "model_id": "033643b57f6f4bf1b6d808d1b8658f11",
       "version_major": 2,
       "version_minor": 0
      },
      "text/plain": [
       "Interactive function <function nStepProbVec at 0x7f984f7cdea0> with 1 widget\n",
       "  nmax: SelectionSlider(descripti…"
      ]
     },
     "execution_count": 13,
     "metadata": {},
     "output_type": "execute_result"
    }
   ],
   "source": [
    "@interact\n",
    "def nStepProbVec(nmax=(2,(1..20))):\n",
    "    # maximum number of time-steps of interest\n",
    "    # the next line is just html figure heading\n",
    "    # now we will plot the prob vectors \n",
    "    # the red points start on a dry day 0\n",
    "    pns_plot = point([vector((1,0)) * P^n  for n in range(nmax+1)],color='red')\n",
    "    pns_plot += line([vector((1,0)) * P^n  for n in range(nmax+1)],color='red')\n",
    "    # the blue points start on a wet day 0\n",
    "    pns_plot += point([vector((0,1)) * P^n  for n in range(nmax+1)],color='blue')\n",
    "    pns_plot += line([vector((0,1)) * P^n  for n in range(nmax+1)],color='blue')\n",
    "    # suppose we had initial state prob vector (0.833,0.167) then where do we go\n",
    "    pns_plot += point([vector((0.833,0.167)) * P^n  for n in range(nmax+1)],color='black')\n",
    "    pns_plot += line([vector((0.833,0.167)) * P^n  for n in range(nmax+1)],color='black')\n",
    "    pns_plot.show(figsize=[8,3],\n",
    "              axes_labels=['$\\\\mathbf{p}^{(n)}_0$','$\\\\mathbf{p}^{(n)}_1$'])"
   ]
  },
  {
   "cell_type": "markdown",
   "metadata": {
    "collapsed": false
   },
   "source": [
    "### Steady state of the weather in our Dry-Wet chain\n",
    "\n",
    "In this example, predictions for the weather on more distant days are increasingly inaccurate and tend towards a steady state vector. This vector represents the probabilities of dry and wet weather on all days, and is independent of the initial weather.\n",
    "\n",
    "The steady state vector is defined as:\n",
    "\n",
    "$$\\mathbf{s} = \\lim_{n \\to \\infty} \\mathbf{p}^{(n)}$$\n",
    "\n",
    "but only converges to a strictly positive vector if $\\mathbf{P}$ is a regular transition matrix (that is, there is at least one $\\mathbf{P}^n$ with all non-zero entries making the Markov chain irreducible and aperiodic).\n",
    "\n",
    "Since the $\\mathbf{s}$ is independent from initial conditions, it must be unchanged when transformed by $\\mathbf{P}$. This makes it an eigenvector (with eigenvalue $1$), and means it can be derived from $\\mathbf{P}$. For our toy model of weather:\n",
    "\n",
    " \n",
    "\n",
    "$$\\begin{matrix} \\mathbf{P} & = & \\begin{bmatrix} 0.9 & 0.1 \\\\ 0.5 & 0.5 \\end{bmatrix} \\\\ \\mathbf{s} \\ \\mathbf{P} & = & \\mathbf{s} & \\mbox{(} \\mathbf{s} \\mbox{ is unchanged by } \\mathbf{P} \\mbox{.)} \\\\ & = & \\mathbf{s} \\ \\mathbf{I} \\\\ \\mathbf{s} \\ (\\mathbf{P} - \\mathbf{I}) & = & \\mathbf{0} \\\\ & = & \\mathbf{s} \\left( \\begin{bmatrix} 0.9 & 0.1 \\\\ 0.5 & 0.5 \\end{bmatrix} - \\begin{bmatrix} 1 & 0 \\\\ 0 & 1 \\end{bmatrix} \\right) \\\\ & = & \\mathbf{s} \\begin{bmatrix} -0.1 & 0.1 \\\\ 0.5 & -0.5 \\end{bmatrix} \\end{matrix}$$ $$\\begin{bmatrix} \\mathbf{s}_0 & \\mathbf{s}_1 \\end{bmatrix} \\begin{bmatrix} -0.1 & 0.1 \\\\ 0.5 & -0.5 \\end{bmatrix} = \\begin{bmatrix} 0 & 0 \\end{bmatrix}$$\n",
    " \n",
    "\n",
    "\n",
    "So $- 0.1 \\mathbf{s}_0 + 0.5 \\mathbf{s}_1 = 0$ and since they are a probability vector we know that $\\mathbf{s}_0 + \\mathbf{s}_1 = 1$.\n",
    "\n",
    "Solving this pair of simultaneous equations gives the steady state distribution:\n",
    "\n",
    " \n",
    "\n",
    "$$\\left( \\mathbf{s}_0 , \\mathbf{s}_1 \\right) = \\left( 5/6 , 1/6 \\right) = \\left( 0.833 , 0.167 \\right)$$\n",
    " \n",
    "\n",
    "In conclusion, in the long term, 83% of days are dry.\n",
    "\n",
    "How do we operate the above to solve for $\\mathbf{s}$ in SageMath? There are two \"methods\". We can either use\n",
    "\n",
    "- Method 1: solve a system of linear equations with `solve` to get $\\mathbf{s}$ or\n",
    "- Method 2: obtain $\\mathbf{s}$ via eigen decomposition.\n",
    "\n",
    "You are not expected to follow method 2 if you have not had been introduced to eigenvalues and eigenvectors.\n",
    "\n",
    " \n",
    "\n",
    "### Method 1: Solving a system of equations to obtain $\\mathbb{s}$."
   ]
  },
  {
   "cell_type": "code",
   "execution_count": 14,
   "metadata": {
    "collapsed": false
   },
   "outputs": [
    {
     "data": {
      "text/plain": [
       "Full MatrixSpace of 2 by 2 dense matrices over Real Field with 53 bits of precision"
      ]
     },
     "execution_count": 14,
     "metadata": {},
     "output_type": "execute_result"
    }
   ],
   "source": [
    "#P = matrix(QQ,[[9/10,1/10],[1/2,1/2]]); P; P.parent()\n",
    "P = matrix(RR,[[9/10,1/10],[1/2,1/2]]); P; P.parent()"
   ]
  },
  {
   "cell_type": "code",
   "execution_count": 15,
   "metadata": {
    "collapsed": false
   },
   "outputs": [
    {
     "data": {
      "text/plain": [
       "Full MatrixSpace of 2 by 2 dense matrices over Integer Ring"
      ]
     },
     "execution_count": 15,
     "metadata": {},
     "output_type": "execute_result"
    }
   ],
   "source": [
    "I=matrix(2,2,1); I; I.parent()      # the 2X2 identity matrix"
   ]
  },
  {
   "cell_type": "code",
   "execution_count": 16,
   "metadata": {
    "collapsed": false
   },
   "outputs": [
    {
     "data": {
      "text/plain": [
       "Full MatrixSpace of 2 by 2 dense matrices over Real Field with 53 bits of precision"
      ]
     },
     "execution_count": 16,
     "metadata": {},
     "output_type": "execute_result"
    }
   ],
   "source": [
    "P-I; (P-I).parent()"
   ]
  },
  {
   "cell_type": "code",
   "execution_count": 17,
   "metadata": {
    "collapsed": false
   },
   "outputs": [],
   "source": [
    "s0, s1 = var('s0, s1')"
   ]
  },
  {
   "cell_type": "code",
   "execution_count": 18,
   "metadata": {
    "collapsed": false
   },
   "outputs": [
    {
     "data": {
      "text/plain": [
       "0.100000000000000*s0 - 0.500000000000000*s1"
      ]
     },
     "execution_count": 18,
     "metadata": {},
     "output_type": "execute_result"
    }
   ],
   "source": [
    "eqs = vector((s0,s1)) * (P-I); eqs[0]; eqs[1]"
   ]
  },
  {
   "cell_type": "code",
   "execution_count": 19,
   "metadata": {
    "collapsed": false
   },
   "outputs": [
    {
     "data": {
      "text/plain": [
       "[[s0 == (5/6), s1 == (1/6)]]"
      ]
     },
     "execution_count": 19,
     "metadata": {},
     "output_type": "execute_result"
    }
   ],
   "source": [
    "solve([eqs[0] == 0, eqs[1]==0, s0+s1==1], s0,s1)"
   ]
  },
  {
   "cell_type": "code",
   "execution_count": 20,
   "metadata": {
    "collapsed": false
   },
   "outputs": [
    {
     "data": {
      "text/plain": [
       "[[s0 == (5/6), s1 == (1/6)]]"
      ]
     },
     "execution_count": 20,
     "metadata": {},
     "output_type": "execute_result"
    }
   ],
   "source": [
    "solve([eqs[0] == 0, s0+s1==1], s0,s1)   # just use eqs[0]==0 since eqs[1]==0 is redundant"
   ]
  },
  {
   "cell_type": "code",
   "execution_count": 21,
   "metadata": {
    "collapsed": false
   },
   "outputs": [
    {
     "data": {
      "text/plain": [
       "[[s0 == (5/6), s1 == (1/6)]]"
      ]
     },
     "execution_count": 21,
     "metadata": {},
     "output_type": "execute_result"
    }
   ],
   "source": [
    "solve([eqs[1]==0, s0+s1==1], s0,s1)   # just use eqs[1]==0 since eqs[0]==0 is redundant"
   ]
  },
  {
   "cell_type": "markdown",
   "metadata": {
    "collapsed": false
   },
   "source": [
    "(End of Method 1 to solve for the steady state vector $\\mathbf{s}$.)\n",
    "\n",
    "---\n",
    "\n",
    "### Method 2: \n",
    "Alternatively use eigen decomposition over rationals in SageMath to solve for $\\mathbb{s}$. \n",
    "\n",
    "#### If your linear algebra is rusty\n",
    "To follow Method 2 you need to know a bit more about [eigen values, eigen vectors and eigen spaces](https://en.wikipedia.org/wiki/Eigenvalues_and_eigenvectors).\n",
    "\n",
    "Learn from Khan academy more slowly:\n",
    "-[https://www.khanacademy.org/math/linear-algebra/alternate-bases/eigen-everything/v/linear-algebra-introduction-to-eigenvalues-and-eigenvectors](https://www.khanacademy.org/math/linear-algebra/alternate-bases/eigen-everything/v/linear-algebra-introduction-to-eigenvalues-and-eigenvectors)\n",
    "\n",
    "Also, ensure you really understand the visual interactive exploration of low-dimensional eigen values and eigen vectors here:\n",
    "\n",
    "-[https://setosa.io/ev/eigenvectors-and-eigenvalues/](https://setosa.io/ev/eigenvectors-and-eigenvalues/)."
   ]
  },
  {
   "cell_type": "code",
   "execution_count": 22,
   "metadata": {
    "collapsed": false
   },
   "outputs": [
    {
     "data": {
      "text/plain": [
       "Full MatrixSpace of 2 by 2 dense matrices over Rational Field"
      ]
     },
     "execution_count": 22,
     "metadata": {},
     "output_type": "execute_result"
    }
   ],
   "source": [
    "P = matrix(QQ,[[9/10,1/10],[1/2,1/2]]); P; P.parent()"
   ]
  },
  {
   "cell_type": "code",
   "execution_count": 23,
   "metadata": {
    "collapsed": false
   },
   "outputs": [
    {
     "data": {
      "text/plain": [
       "[1, 2/5]"
      ]
     },
     "execution_count": 23,
     "metadata": {},
     "output_type": "execute_result"
    }
   ],
   "source": [
    "P.eigenvalues()"
   ]
  },
  {
   "cell_type": "code",
   "execution_count": 24,
   "metadata": {
    "collapsed": false
   },
   "outputs": [
    {
     "data": {
      "text/plain": [
       "[  1   0]\n",
       "[  0 2/5]"
      ]
     },
     "execution_count": 24,
     "metadata": {},
     "output_type": "execute_result"
    }
   ],
   "source": [
    "D, V = P.eigenmatrix_left()  # left eigen decomposition\n",
    "D                            # diagonal matrix of eigen values"
   ]
  },
  {
   "cell_type": "code",
   "execution_count": 25,
   "metadata": {
    "collapsed": false
   },
   "outputs": [
    {
     "data": {
      "text/plain": [
       "[  1 1/5]\n",
       "[  1  -1]"
      ]
     },
     "execution_count": 25,
     "metadata": {},
     "output_type": "execute_result"
    }
   ],
   "source": [
    "V                            # left eigen vectors"
   ]
  },
  {
   "cell_type": "code",
   "execution_count": 26,
   "metadata": {
    "collapsed": false
   },
   "outputs": [
    {
     "name": "stdout",
     "output_type": "stream",
     "text": [
      "(1, 1/5)\n",
      "(1, 1/5)\n"
     ]
    }
   ],
   "source": [
    "# checking when we left-multiply by left-eigenvector \n",
    "# of eigenvalue 1 we get the output scaled by 1\n",
    "print(V[0]); print(V[0]*P)"
   ]
  },
  {
   "cell_type": "code",
   "execution_count": 27,
   "metadata": {
    "collapsed": false
   },
   "outputs": [
    {
     "name": "stdout",
     "output_type": "stream",
     "text": [
      "(1, -1)\n",
      "(2/5, -2/5)\n"
     ]
    }
   ],
   "source": [
    "# checking when we left-multiply by left-eigenvector \n",
    "# of eigenvalue 2/5 we get the output scaled by 2/5\n",
    "print(V[1]); print(V[1]*P)"
   ]
  },
  {
   "cell_type": "code",
   "execution_count": 28,
   "metadata": {
    "collapsed": false
   },
   "outputs": [
    {
     "data": {
      "text/plain": [
       "[9/10 1/10]\n",
       "[ 1/2  1/2]"
      ]
     },
     "execution_count": 28,
     "metadata": {},
     "output_type": "execute_result"
    }
   ],
   "source": [
    "V.inverse()*D*V"
   ]
  },
  {
   "cell_type": "code",
   "execution_count": 29,
   "metadata": {
    "collapsed": false
   },
   "outputs": [
    {
     "data": {
      "text/plain": [
       "[9/10 1/10]\n",
       "[ 1/2  1/2]"
      ]
     },
     "execution_count": 29,
     "metadata": {},
     "output_type": "execute_result"
    }
   ],
   "source": [
    "# checking that the eigen decomposition of P is indeed P\n",
    "V*D*V.inverse()"
   ]
  },
  {
   "cell_type": "code",
   "execution_count": 30,
   "metadata": {
    "collapsed": false
   },
   "outputs": [
    {
     "data": {
      "text/plain": [
       "(1, 1/5)"
      ]
     },
     "execution_count": 30,
     "metadata": {},
     "output_type": "execute_result"
    }
   ],
   "source": [
    "EigVecForEigValue1 = V[0]; EigVecForEigValue1"
   ]
  },
  {
   "cell_type": "code",
   "execution_count": 31,
   "metadata": {
    "collapsed": false
   },
   "outputs": [
    {
     "data": {
      "text/plain": [
       "6/5"
      ]
     },
     "execution_count": 31,
     "metadata": {},
     "output_type": "execute_result"
    }
   ],
   "source": [
    "EigVecForEigValue1.norm(1)  # normalization factor"
   ]
  },
  {
   "cell_type": "code",
   "execution_count": 32,
   "metadata": {
    "collapsed": false
   },
   "outputs": [
    {
     "data": {
      "text/plain": [
       "(5/6, 1/6)"
      ]
     },
     "execution_count": 32,
     "metadata": {},
     "output_type": "execute_result"
    }
   ],
   "source": [
    "# normalize to make it a probability vector\n",
    "EigVecForEigValue1 / EigVecForEigValue1.norm(1)"
   ]
  },
  {
   "cell_type": "markdown",
   "metadata": {
    "collapsed": false
   },
   "source": [
    "(End of Method 2.)\n",
    "\n",
    "---"
   ]
  },
  {
   "cell_type": "code",
   "execution_count": 33,
   "metadata": {
    "collapsed": false
   },
   "outputs": [],
   "source": [
    "import urllib.request as U\n",
    "import numpy as np\n",
    "wetdataURL = 'https://www.math.canterbury.ac.nz/php/lib/cliflo/rainfall.php'\n",
    "wetdata = U.urlopen(wetdataURL).readlines()\n",
    "datalines=[]\n",
    "for a_line in wetdata:\n",
    "    #print a_line\n",
    "    temp = a_line.decode('utf8').replace('\\n','').split(',')\n",
    "    temp = [float(q) for q in temp if q != ',']\n",
    "    datalines.append(temp)\n",
    "chcRainfallData=np.array(datalines)"
   ]
  },
  {
   "cell_type": "code",
   "execution_count": 34,
   "metadata": {
    "collapsed": false
   },
   "outputs": [],
   "source": [
    "import numpy as np\n",
    "# in case the url fetch fails use the CSV backup in 'data/rainfallInChristchurch.csv'\n",
    "#import numpy as np\n",
    "chcRainfallData = np.genfromtxt ('data/rainfallInChristchurch.csv', delimiter=\",\")\n",
    "## Yeah, this is a much easier way to read a csv file into numpy array! \n",
    "## But this data was preformatted with no errors during type conversion"
   ]
  },
  {
   "cell_type": "code",
   "execution_count": 35,
   "metadata": {
    "collapsed": false
   },
   "outputs": [
    {
     "data": {
      "text/plain": [
       "25044"
      ]
     },
     "execution_count": 35,
     "metadata": {},
     "output_type": "execute_result"
    }
   ],
   "source": [
    "len(chcRainfallData)"
   ]
  },
  {
   "cell_type": "code",
   "execution_count": 36,
   "metadata": {
    "collapsed": false
   },
   "outputs": [
    {
     "data": {
      "text/plain": [
       "array([[19430802.,        0.],\n",
       "       [19430803.,        0.],\n",
       "       [19430804.,        0.],\n",
       "       [19430805.,        0.],\n",
       "       [19430806.,        0.],\n",
       "       [19430807.,        0.],\n",
       "       [19430808.,        0.],\n",
       "       [19430809.,        0.],\n",
       "       [19430810.,        0.],\n",
       "       [19430811.,        0.]])"
      ]
     },
     "execution_count": 36,
     "metadata": {},
     "output_type": "execute_result"
    }
   ],
   "source": [
    "chcRainfallData[0:10] "
   ]
  },
  {
   "cell_type": "code",
   "execution_count": 37,
   "metadata": {
    "collapsed": false
   },
   "outputs": [
    {
     "data": {
      "text/plain": [
       "array([20120506.,        0.])"
      ]
     },
     "execution_count": 37,
     "metadata": {},
     "output_type": "execute_result"
    }
   ],
   "source": [
    "chcRainfallData[-1] # the data goes from 1943 August 02 to 2012 May 06"
   ]
  },
  {
   "cell_type": "code",
   "execution_count": 38,
   "metadata": {
    "collapsed": false
   },
   "outputs": [
    {
     "data": {
      "application/vnd.jupyter.widget-view+json": {
       "model_id": "f4d8466c0948454c8cff85f0930d7266",
       "version_major": 2,
       "version_minor": 0
      },
      "text/plain": [
       "Interactive function <function chch_precipitation at 0x7f9847ae6d90> with 2 widgets\n",
       "  start_date: TransformInt…"
      ]
     },
     "execution_count": 38,
     "metadata": {},
     "output_type": "execute_result"
    }
   ],
   "source": [
    "@interact\n",
    "def chch_precipitation(start_date = slider(0,len(chcRainfallData)-1,1,len(chcRainfallData)-100), end_date = slider(0,len(chcRainfallData)-1,1,len(chcRainfallData)-1)):\n",
    "    sel_data = chcRainfallData[start_date:end_date]\n",
    "    c_max = max([q[1] for q in sel_data])\n",
    "    c_min = min([q[1] for q in sel_data])\n",
    "    sel_daysdata = [[i,sel_data[i][1]] for i in range(len(sel_data))]\n",
    "    show(list_plot(sel_daysdata, plotjoined=True, rgbcolor=(0,0,1)) , ymin = c_min-2, axes = True, ymax = c_max+3, frame = False, axes_labels=['days', 'mm'], figsize=(8,4))"
   ]
  },
  {
   "cell_type": "code",
   "execution_count": 39,
   "metadata": {
    "collapsed": false
   },
   "outputs": [
    {
     "data": {
      "text/plain": [
       "array([[1.9440218e+07, 5.0000000e-01],\n",
       "       [1.9440219e+07, 0.0000000e+00],\n",
       "       [1.9440220e+07, 0.0000000e+00],\n",
       "       [1.9440221e+07, 0.0000000e+00],\n",
       "       [1.9440222e+07, 5.3000000e+00],\n",
       "       [1.9440223e+07, 0.0000000e+00],\n",
       "       [1.9440224e+07, 0.0000000e+00],\n",
       "       [1.9440225e+07, 0.0000000e+00],\n",
       "       [1.9440226e+07, 0.0000000e+00],\n",
       "       [1.9440227e+07, 1.3000000e+00]])"
      ]
     },
     "execution_count": 39,
     "metadata": {},
     "output_type": "execute_result"
    }
   ],
   "source": [
    "xx=chcRainfallData[200:210]; xx"
   ]
  },
  {
   "cell_type": "code",
   "execution_count": 40,
   "metadata": {
    "collapsed": false
   },
   "outputs": [
    {
     "data": {
      "text/plain": [
       "[0.5, 0.0, 0.0, 0.0, 5.3, 0.0, 0.0, 0.0, 0.0, 1.3]"
      ]
     },
     "execution_count": 40,
     "metadata": {},
     "output_type": "execute_result"
    }
   ],
   "source": [
    "[xx[i][1] for i in range(len(xx))]"
   ]
  },
  {
   "cell_type": "code",
   "execution_count": 41,
   "metadata": {
    "collapsed": false
   },
   "outputs": [
    {
     "data": {
      "text/plain": [
       "[True, False, False, False, True, False, False, False, False, True]"
      ]
     },
     "execution_count": 41,
     "metadata": {},
     "output_type": "execute_result"
    }
   ],
   "source": [
    "[xx[i][1]>0 for i in range(len(xx))]"
   ]
  },
  {
   "cell_type": "code",
   "execution_count": 42,
   "metadata": {
    "collapsed": false
   },
   "outputs": [
    {
     "data": {
      "text/plain": [
       "[1, 0, 0, 0, 1, 0, 0, 0, 0, 1]"
      ]
     },
     "execution_count": 42,
     "metadata": {},
     "output_type": "execute_result"
    }
   ],
   "source": [
    "[int(xx[i][1]>0) for i in range(len(xx))] # now we have wet=1 and dry=0 days"
   ]
  },
  {
   "cell_type": "markdown",
   "metadata": {
    "collapsed": false
   },
   "source": [
    "Grab all the days data from start to end:"
   ]
  },
  {
   "cell_type": "code",
   "execution_count": 43,
   "metadata": {
    "collapsed": false
   },
   "outputs": [],
   "source": [
    " # all the data as 0s and 1s\n",
    "all_daysdata = [[i,int(chcRainfallData[i][1]>0)] for i in range(len(chcRainfallData))]"
   ]
  },
  {
   "cell_type": "code",
   "execution_count": 44,
   "metadata": {
    "collapsed": false
   },
   "outputs": [
    {
     "data": {
      "text/plain": [
       "[[25041, 0], [25042, 0]]"
      ]
     },
     "execution_count": 44,
     "metadata": {},
     "output_type": "execute_result"
    }
   ],
   "source": [
    "all_daysdata[-3:-1]"
   ]
  },
  {
   "cell_type": "markdown",
   "metadata": {
    "collapsed": false
   },
   "source": [
    "Interactive cell to allow you to select some specific data and turn it into the list of 0 or 1 tuples (this list will then be available in `sel_daysdata` in later cells in the worksheet).\n",
    "\n",
    "#### Daily Precipitation at Christchurch, fed from NIWA data (NZ's equivalent of US's NOAA)"
   ]
  },
  {
   "cell_type": "code",
   "execution_count": 45,
   "metadata": {
    "collapsed": false
   },
   "outputs": [
    {
     "data": {
      "application/vnd.jupyter.widget-view+json": {
       "model_id": "e012e9bb25e44c408eb0f6a6632b06c3",
       "version_major": 2,
       "version_minor": 0
      },
      "text/plain": [
       "Interactive function <function chch_wetdry at 0x7f9847ae6ea0> with 3 widgets\n",
       "  output: Checkbox(value=False, d…"
      ]
     },
     "execution_count": 45,
     "metadata": {},
     "output_type": "execute_result"
    }
   ],
   "source": [
    "@interact\n",
    "def chch_wetdry(output = checkbox(False, \"Print out selected Data?\"),start_date = slider(0,len(chcRainfallData)-1,1,len(chcRainfallData)-100), end_date = slider(0,len(chcRainfallData)-1,1,len(chcRainfallData)-1)):\n",
    "    global sel_daysdata  # made it a global so it is easy to choose data\n",
    "    sel_data = chcRainfallData[start_date:end_date]\n",
    "    sel_daysdata = [[i,int(sel_data[i][1]>0)] for i in range(len(sel_data))]\n",
    "    show(list_plot(sel_daysdata, plotjoined=True, rgbcolor=(0,0,1)) , ymin = 0, axes = True, ymax = +1, frame = False, axes_labels=['days', 'wet/dry'], figsize=(8,3))\n",
    "    if(output):\n",
    "        print(sel_daysdata)"
   ]
  },
  {
   "cell_type": "code",
   "execution_count": 46,
   "metadata": {
    "collapsed": false
   },
   "outputs": [
    {
     "name": "stdout",
     "output_type": "stream",
     "text": [
      "[[0, 0], [1, 0], [2, 0], [3, 1], [4, 1], [5, 1], [6, 0], [7, 0], [8, 0], [9, 0], [10, 0], [11, 0], [12, 1], [13, 1], [14, 0], [15, 0], [16, 0], [17, 0], [18, 1], [19, 1], [20, 1], [21, 1], [22, 0], [23, 1], [24, 0], [25, 0], [26, 0], [27, 0], [28, 1], [29, 1], [30, 1], [31, 1], [32, 0], [33, 0], [34, 0], [35, 1], [36, 0], [37, 0], [38, 1], [39, 1], [40, 0], [41, 1], [42, 1], [43, 0], [44, 0], [45, 0], [46, 0], [47, 0], [48, 1], [49, 1], [50, 0], [51, 1], [52, 1], [53, 0], [54, 0], [55, 0], [56, 0], [57, 0], [58, 1], [59, 0], [60, 0], [61, 0], [62, 0], [63, 0], [64, 0], [65, 0], [66, 1], [67, 0], [68, 0], [69, 0], [70, 0], [71, 0], [72, 1], [73, 1], [74, 1], [75, 0], [76, 0], [77, 0], [78, 0], [79, 0], [80, 1], [81, 0], [82, 0], [83, 0], [84, 0], [85, 0], [86, 0], [87, 0], [88, 0], [89, 0], [90, 1], [91, 1], [92, 0], [93, 1], [94, 0], [95, 1], [96, 0], [97, 0], [98, 0]]\n"
     ]
    }
   ],
   "source": [
    "print(sel_daysdata)"
   ]
  },
  {
   "cell_type": "code",
   "execution_count": 47,
   "metadata": {
    "collapsed": false
   },
   "outputs": [
    {
     "name": "stdout",
     "output_type": "stream",
     "text": [
      "[0, 0, 0, 1, 1, 1, 0, 0, 0, 0, 0, 0, 1, 1, 0, 0, 0, 0, 1, 1, 1, 1, 0, 1, 0, 0, 0, 0, 1, 1, 1, 1, 0, 0, 0, 1, 0, 0, 1, 1, 0, 1, 1, 0, 0, 0, 0, 0, 1, 1, 0, 1, 1, 0, 0, 0, 0, 0, 1, 0, 0, 0, 0, 0, 0, 0, 1, 0, 0, 0, 0, 0, 1, 1, 1, 0, 0, 0, 0, 0, 1, 0, 0, 0, 0, 0, 0, 0, 0, 0, 1, 1, 0, 1, 0, 1, 0, 0, 0]\n"
     ]
    }
   ],
   "source": [
    "x0ton = [sel_daysdata[i][1] for i in range(len(sel_daysdata))]\n",
    "print(x0ton)"
   ]
  },
  {
   "cell_type": "code",
   "execution_count": 48,
   "metadata": {
    "collapsed": false
   },
   "outputs": [
    {
     "data": {
      "text/plain": [
       "99"
      ]
     },
     "execution_count": 48,
     "metadata": {},
     "output_type": "execute_result"
    }
   ],
   "source": [
    "len(x0ton)"
   ]
  },
  {
   "cell_type": "markdown",
   "metadata": {
    "collapsed": false
   },
   "source": [
    "### Maximum likelihood estimation of the unknown transition probabilities \n",
    "#### for the Dry-Wet Markov chain model of Christchurch weather\n",
    "\n",
    "In the example we have been working with earlier, the transition probabilities were given by the matrix $$\\mathbf{P}=\\begin{bmatrix} 0.9 & 0.1\\\\0.5&0.5\\end{bmatrix}$$ and we simply used the given $\\mathbf{P}$ to understand the properties and utilities of the probability model for a possibly dependent sequence of $\\{0,1\\}$-valued random variables encoding the $\\{\\text{Dry},\\text{Wet}\\}$ days, respectively.\n",
    "\n",
    "What we want to do now is use the data from Christchurch's Aeroclub obtained from NIWA to estimate Christchurch's unknown transition probability matrix $$\\mathbf{P}= \\begin{bmatrix} p_{0,0} & p_{0,1}\\\\ p_{1,0} & p_{1,1} \\end{bmatrix}.$$ Let us use the principle of maximum likelihood and derive the maximum likelihood estimator $$\\widehat{\\mathbf{P}}=\\begin{bmatrix} \\hat{p}_{0,0} & \\hat{p}_{0,1}\\\\ \\hat{p}_{1,0} & \\hat{p}_{1,1}\\end{bmatrix}.$$\n",
    "\n",
    "Recall that the likelihood function $$L(\\text{unknown parameters} \\ ; \\ \\text{Data})$$ is essentially the joint density of the data $X_0,X_1,X_2,\\ldots,X_n$ as a function of the parameters. The data gives $n+1$ consecutive days of Dry or Wet recordings as $0$ or $1$ at the Christchurch's Aeroclub. What are the unknown parameters here? Well, they are the four entries $(p_{0,0}, p_{0,1}, p_{1,0}, p_{1,1})$ of the unknown $\\mathbf{P}$. But, due to the fact that $\\mathbf{P}$ is not any old matrix of real numbers, but rather a stochastic matrix, it is constrained so that the entries are non-negative and the entries of each row sums to $1$. For instance we can write the off-diagonal entries in terms of the diagonal entries $p_{0,1}=1-p_{0,0}$ and $p_{1,0}=1-p_{1,1}$ and merely treat two parameters $(p_{0,0},p_{1,1})$ as the truly unknowns that can take any value in the unit square $[0,1] \\times [0,1]$ parameter space. \n",
    "\n",
    "$$\n",
    "\\begin{aligned} L(p_{0,0},p_{1,1}) &=& L(p_{0,0},p_{1,1}; x_0,x_1,\\ldots,x_n)\\\\ \n",
    "&=& P\\left( X_0=x_0,X_1=x_1,\\ldots,X_{n-1}=x_{n-1},X_n=x_n \\right) \n",
    "\\end{aligned}\n",
    "$$ \n",
    "\n",
    "In the above equation, we are given that the transition probabilities are $p_{0,0},p_{1,1}$. \n",
    "\n",
    "Now, by definition of conditional probability and the markov property, \n",
    "\n",
    "$$\n",
    "\\scriptsize{\n",
    "\\begin{aligned} L(p_{0,0},p_{1,1}) &=& P\\left( X_n=x_n \\ | \\ X_{n-1}=x_{n-1},\\ldots,X_2=x_2,X_1=x_1,X_0=x_0 \\right) \\ P\\left( X_{n-1}=x_{n-1},\\ldots,X_2=x_2,X_1=x_1,X_0=x_0 \\right)\\\\ \n",
    "&=& P\\left( X_n=x_n \\ | \\ X_{n-1}=x_{n-1}\\right) \\ P\\left( X_{n-1}=x_{n-1},\\ldots,X_2=x_2,X_1=x_1,X_0=x_0 \\right) \\\\ \n",
    "&=& P\\left( X_n=x_n \\ | \\ X_{n-1}=x_{n-1}\\right) \\ P\\left( X_{n-1}=x_{n-1} \\ | \\ X_{n-2}=x_{n-2}, X_{n-3}=x_{n-3},\\ldots,X_2=x_2,X_1=x_1,X_0=x_0 \\right) \\\\ \n",
    "& & \\qquad \\qquad \\qquad P\\left(X_{n-2}=x_{n-2}, X_{n-3}=x_{n-3},\\ldots,X_2=x_2,X_1=x_1,X_0=x_0 \\right) \\\\ \n",
    "&=& P\\left( X_n=x_n \\ | \\ X_{n-1}=x_{n-1}\\right) \\ P\\left( X_{n-1}=x_{n-1} \\ | \\ X_{n-2}=x_{n-2} \\right) \\ P\\left(X_{n-2}=x_{n-2}, X_{n-3}=x_{n-3},\\ldots,X_2=x_2,X_1=x_1,X_0=x_0 \\right) \\\\ &\\vdots&\\\\ \n",
    "&=& P\\left( X_n=x_n \\ | \\ X_{n-1}=x_{n-1}\\right) \\ P\\left( X_{n-1}=x_{n-1} \\ | \\ X_{n-2}=x_{n-2} \\right) \\ \\cdots \\ P\\left( X_{2}=x_{2} \\ | \\ X_{1}=x_{1} \\right) \\ P\\left( X_{1}=x_{1} \\ | \\ X_{0}=x_{0} \\right) P(X_{0}=x_{0})\\\\ \n",
    "&=& P(X_{0}=x_{0}) \\ \\prod_{i=1}^n P \\left( X_i=x_i \\ | \\ X_{i-1}=x_{i-1} \\right) \\\\ \n",
    "&=& \\left( p_{0,0} \\right)^{n_{0,0}} \\ \\left( 1-p_{0,0} \\right)^{n_{0,1}} \\ \\left( p_{1,1} \\right)^{n_{1,1}} \\ \\left( 1-p_{1,1} \\right)^{n_{1,0}} ,\\\\ \n",
    "\\end{aligned} \n",
    "}\n",
    "$$ \n",
    "\n",
    "where, $n_{i,j}$ is the number of transitions from state $i$ to state $j$ in the observed data sequence $x_0,x_1,\\ldots,x_n$. Therefore the log likelihood function is \n",
    "$$ \n",
    "\\begin{aligned} l(p_{0,0},p_{1,1}) &=& \\log \\left( L(p_{0,0},p_{1,1}) \\right) \\\\\n",
    "&=& \\log \\left( \\left( p_{0,0} \\right)^{n_{0,0}} \\ \\left( 1-p_{0,0} \\right)^{n_{0,1}} \\ \\left( p_{1,1} \\right)^{n_{1,1}} \\ \\left( 1-p_{1,1} \\right)^{n_{1,0}} \\right) \\\\\n",
    "&=& {n_{0,0}} \\log \\left( p_{0,0} \\right) + {n_{0,1}} \\log \\left( 1 - p_{0,0} \\right) + {n_{1,1}} \\log \\left( p_{1,1} \\right) + {n_{1,0}} \\log \\left( 1-p_{1,1} \\right) \\end{aligned} \n",
    "$$ \n",
    "\n",
    "Finally, we can find the maximum likelihood estimates (MLEs) $\\widehat{p}_{0,0}$ and $\\widehat{p}_{1,1}$ for the unknown transition probabilities $p_{0,0}$ and $p_{1,1}$ by differentiating the loglikelihood function with respect to $p_{0,0}$ and $p_{1,1}$, respectively, and solving the resulting equations in terms of the variable of differentiation. This will yield the following which me can also obtain symbolically in sage. \n",
    "$$ \n",
    "\\begin{aligned} \n",
    "\\frac{d}{d p_{0,0}} \\left( l(p_{0,0},p_{1,1}) \\right) &=& \\frac{d}{d p_{0,0}} \\left( {n_{0,0}} \\log \\left( p_{0,0} \\right) + {n_{0,1}} \\log \\left( 1 - p_{0,0} \\right) + {n_{1,1}} \\log \\left( p_{1,1} \\right) + {n_{1,0}} \\log \\left( 1-p_{1,1} \\right) \\right) \\\\ \n",
    "&=& \\cdots \\\\ &=& \\frac{n_{0,0}}{p_{0,0}} - \\frac{n_{0,1}}{1-p_{0,0}} \n",
    "\\end{aligned} \n",
    "$$ \n",
    "\n",
    "Similarly, \n",
    "$$ \n",
    "\\begin{aligned} \\frac{d}{d p_{1,1}} \\left( l(p_{0,0},p_{1,1}) \\right) &=& \\frac{d}{d p_{1,1}} \\left( {n_{0,0}} \\log \\left( p_{0,0} \\right) + {n_{0,1}} \\log \\left( 1 - p_{0,0} \\right) + {n_{1,1}} \\log \\left( p_{1,1} \\right) + {n_{1,0}} \\log \\left( 1-p_{1,1} \\right) \\right) \\\\ \n",
    "&=& \\cdots \\\\ &=& \\frac{n_{1,1}}{p_{1,1}} - \\frac{n_{1,0}}{1-p_{1,1}} \n",
    "\\end{aligned} \n",
    "$$ \n",
    "\n",
    "Finally, solving the above equations in terms of $p_{0,0}$ and $p_{1,1}$ gives the MLEs that \n",
    "$$\\widehat{p}_{0,0} = \\frac{n_{0,0}}{n_{0,0}+n_{0,1}} \\quad \\text{and} \\quad \\widehat{p}_{1,1} = \\frac{n_{1,1}}{n_{1,0}+n_{1,1}}\n",
    "$$ \n",
    "as follows: \n",
    "$$ \\begin{aligned} \\frac{d}{d p_{0,0}} \\left( l(p_{0,0},p_{1,1}) \\right) &=& 0 \\\\ \n",
    "&\\Leftrightarrow& \\frac{n_{0,0}}{p_{0,0}} - \\frac{n_{0,1}}{1-p_{0,0}} = 0\\\\ \n",
    "&\\Leftrightarrow& p_{0,0} = \\frac{n_{0,0}}{n_{0,0}+n_{0,1}} \\end{aligned} \n",
    "$$ \n",
    "and \n",
    "$$ \n",
    "\\begin{aligned} \\frac{d}{d p_{1,1}} \\left( l(p_{0,0},p_{1,1}) \\right) &=& 0 \\\\\n",
    "&\\Leftrightarrow& \\frac{n_{1,1}}{p_{1,1}} - \\frac{n_{1,0}}{1-p_{1,1}} = 0\\\\\n",
    "&\\Leftrightarrow& p_{1,1} = \\frac{n_{1,1}}{n_{1,0}+n_{1,1}} \\end{aligned} \n",
    "$$"
   ]
  },
  {
   "cell_type": "markdown",
   "metadata": {
    "collapsed": false
   },
   "source": [
    "Let's make symbolic expressions for this log likelihood function:"
   ]
  },
  {
   "cell_type": "code",
   "execution_count": 49,
   "metadata": {
    "collapsed": false
   },
   "outputs": [],
   "source": [
    "var('p00, p11, n00, n01, n10, n11') # declare variables\n",
    "# assign the symbolic expression for the log likelihood function to L\n",
    "L=n00*log(p00) + n01*log(1-p00) + n11*log(p11) + n10*log(1-p11)"
   ]
  },
  {
   "cell_type": "code",
   "execution_count": 50,
   "metadata": {
    "collapsed": false
   },
   "outputs": [
    {
     "data": {
      "text/plain": [
       "n01/(p00 - 1) + n00/p00"
      ]
     },
     "execution_count": 50,
     "metadata": {},
     "output_type": "execute_result"
    }
   ],
   "source": [
    "L.diff(p00)  # differentiate log likelihood symbolically with respect to p00"
   ]
  },
  {
   "cell_type": "code",
   "execution_count": 51,
   "metadata": {
    "collapsed": false
   },
   "outputs": [
    {
     "data": {
      "text/plain": [
       "n10/(p11 - 1) + n11/p11"
      ]
     },
     "execution_count": 51,
     "metadata": {},
     "output_type": "execute_result"
    }
   ],
   "source": [
    "L.diff(p11)  # differentiate log likelihood symbolically with respect to p11"
   ]
  },
  {
   "cell_type": "code",
   "execution_count": 52,
   "metadata": {
    "collapsed": false
   },
   "outputs": [
    {
     "data": {
      "text/plain": [
       "[p00 == n00/(n00 + n01)]"
      ]
     },
     "execution_count": 52,
     "metadata": {},
     "output_type": "execute_result"
    }
   ],
   "source": [
    "solve(L.diff(p00)==0, p00)  # solve the equation in terms of p00 to get MLE"
   ]
  },
  {
   "cell_type": "code",
   "execution_count": 53,
   "metadata": {
    "collapsed": false
   },
   "outputs": [
    {
     "data": {
      "text/plain": [
       "[p11 == n11/(n10 + n11)]"
      ]
     },
     "execution_count": 53,
     "metadata": {},
     "output_type": "execute_result"
    }
   ],
   "source": [
    "solve(L.diff(p11)==0, p11)  # solve the equation in terms of p11 to get MLE"
   ]
  },
  {
   "cell_type": "code",
   "execution_count": 54,
   "metadata": {
    "collapsed": false
   },
   "outputs": [],
   "source": [
    "x0ton = [sel_daysdata[i][1] for i in range(len(sel_daysdata))]\n",
    "transitions_data =[(x0ton[i],x0ton[i+1]) for i in range(0,len(x0ton)-1,1)]\n",
    "#transitions_data"
   ]
  },
  {
   "cell_type": "code",
   "execution_count": 55,
   "metadata": {
    "collapsed": false
   },
   "outputs": [],
   "source": [
    "def makeFreqDict(myDataList):\n",
    "    '''Make a frequency mapping out of a list of data.\n",
    "    \n",
    "    Param myDataList, a list of data.\n",
    "    Return a dictionary mapping each unique data value to its frequency count.'''\n",
    "       \n",
    "    freqDict = {} # start with an empty dictionary\n",
    "        \n",
    "    for res in myDataList:\n",
    "        \n",
    "        if res in freqDict: # the data value already exists as a key\n",
    "                freqDict[res] = freqDict[res] + 1 # add 1 to the count using sage integers\n",
    "        else: # the data value does not exist as a key value\n",
    "            freqDict[res] = 1 # add a new key-value pair for this new data value, frequency 1\n",
    "        \n",
    "    return freqDict # return the dictionary created\n",
    "\n",
    "# end of makeFreqDict(...)"
   ]
  },
  {
   "cell_type": "code",
   "execution_count": 56,
   "metadata": {
    "collapsed": false
   },
   "outputs": [
    {
     "data": {
      "text/plain": [
       "{(0, 0): 48, (0, 1): 17, (1, 1): 16, (1, 0): 17}"
      ]
     },
     "execution_count": 56,
     "metadata": {},
     "output_type": "execute_result"
    }
   ],
   "source": [
    "transition_counts = makeFreqDict(transitions_data)\n",
    "transition_counts"
   ]
  },
  {
   "cell_type": "code",
   "execution_count": 57,
   "metadata": {
    "collapsed": false
   },
   "outputs": [
    {
     "data": {
      "text/plain": [
       "(48, 17, 17, 16)"
      ]
     },
     "execution_count": 57,
     "metadata": {},
     "output_type": "execute_result"
    }
   ],
   "source": [
    "n_00 = transition_counts[(0,0)]\n",
    "n_01 = transition_counts[(0,1)]\n",
    "n_10 = transition_counts[(1,0)]\n",
    "n_11 = transition_counts[(1,1)]\n",
    "n_00, n_01, n_10, n_11"
   ]
  },
  {
   "cell_type": "markdown",
   "metadata": {
    "collapsed": false
   },
   "source": [
    "Make a function to make a transition counts matrix from any list of 0/1 tuples passed in. "
   ]
  },
  {
   "cell_type": "code",
   "execution_count": 58,
   "metadata": {
    "collapsed": false
   },
   "outputs": [],
   "source": [
    "def makeTransitionCounts(theData):\n",
    "    '''Return a transition counts matrix from a list of tuples representing transitions between 2 states 0 and 1.\n",
    "    \n",
    "    Param theData is a list of tuples where the tuples can be (0,0) or (0,1) or (1,0) or (1,1).\n",
    "    Return a 2x2 matrix [[count of (0,0), count of (0,1)],[count of (1,0), count of (1,1)]].'''\n",
    "    \n",
    "    retMatrix = matrix([[0,0],[0,0]]) # default counts\n",
    "    x0ton = [theData[i][1] for i in range(len(theData))]\n",
    "    transitions_data =[(x0ton[i],x0ton[i+1]) for i in range(0,len(x0ton)-1,1)]\n",
    "    transition_counts = makeFreqDict(transitions_data)\n",
    "    #keysToFind = [(0,0),(0,1),(1,0),(1,1)]\n",
    "    # we will get an error if we try to access a value for a key that is not in the dictionary\n",
    "    # so we need to check if each of the keys we might find is in the dictionary\n",
    "    # and only try to access the count if the key is there \n",
    "    for i in [0,1]:  \n",
    "        for j in [0,1]:\n",
    "            if (i,j) in transition_counts:\n",
    "                retMatrix[i,j] = transition_counts[(i,j)]\n",
    "            # else the value in the matrix [i,j] stays as 0    \n",
    "    return retMatrix"
   ]
  },
  {
   "cell_type": "markdown",
   "metadata": {
    "collapsed": false
   },
   "source": [
    "Get the transition counts matrix for all the data (we will get the same as we had before, but as a matrix which echoes the layout of our transition probabilities matrix, and we would also be able to use our function for other lists of tuples):"
   ]
  },
  {
   "cell_type": "code",
   "execution_count": 59,
   "metadata": {
    "collapsed": false
   },
   "outputs": [
    {
     "data": {
      "text/plain": [
       "[12334  4094]\n",
       "[ 4094  4521]"
      ]
     },
     "execution_count": 59,
     "metadata": {},
     "output_type": "execute_result"
    }
   ],
   "source": [
    "allTransitionCounts = makeTransitionCounts(all_daysdata)\n",
    "allTransitionCounts"
   ]
  },
  {
   "cell_type": "markdown",
   "metadata": {
    "collapsed": false
   },
   "source": [
    "Make a function to turn transitions counts into a matrix of values for:\n",
    "\n",
    "$$\\widehat{\\mathbf{P}}=\\begin{bmatrix} \\hat{p}_{0,0} & \\hat{p}_{0,1}\\\\ \\hat{p}_{1,0} & \\hat{p}_{1,1}\\end{bmatrix}.$$"
   ]
  },
  {
   "cell_type": "code",
   "execution_count": 60,
   "metadata": {
    "collapsed": false
   },
   "outputs": [],
   "source": [
    "def makeMLEMatrix(tcMatrix):\n",
    "    '''Return an MLE Matrix from given 2-state transition count data.\n",
    "    \n",
    "    Param tcMatrix is a 2x2 matrix of transition counts. \n",
    "    Returns MLE matrix as \n",
    "    [[n_00/(n_00+n_01), n_01/(n_00+n_01)], [n_10/(n_10+n_11), n_11/(n_10+n_11)]].\n",
    "    Returns None if there is not at least one count in each row of tcMatrix.'''\n",
    "    \n",
    "    retValue = None\n",
    "    if (tcMatrix[0] > 0) and (tcMatrix[1] > 0):   \n",
    "        retValue = matrix(RR,[[tcMatrix[0,0]/(tcMatrix[0,0]+tcMatrix[0,1]), tcMatrix[0,1]/(tcMatrix[0,0]+tcMatrix[0,1])],[tcMatrix[1,0] / (tcMatrix[1,0]+tcMatrix[1,1]), tcMatrix[1,1]/(tcMatrix[1,0]+tcMatrix[1,1])]])\n",
    "    return retValue"
   ]
  },
  {
   "cell_type": "markdown",
   "metadata": {
    "collapsed": false
   },
   "source": [
    "Look at this for all the data:"
   ]
  },
  {
   "cell_type": "code",
   "execution_count": 61,
   "metadata": {
    "collapsed": false
   },
   "outputs": [
    {
     "data": {
      "text/plain": [
       "[0.750791331872413 0.249208668127587]\n",
       "[0.475217643644806 0.524782356355194]"
      ]
     },
     "execution_count": 61,
     "metadata": {},
     "output_type": "execute_result"
    }
   ],
   "source": [
    "allDataMLEMatrix = makeMLEMatrix(allTransitionCounts)\n",
    "allDataMLEMatrix"
   ]
  },
  {
   "cell_type": "code",
   "execution_count": 62,
   "metadata": {
    "collapsed": false
   },
   "outputs": [
    {
     "data": {
      "text/plain": [
       "[9/10 1/10]\n",
       "[ 1/2  1/2]"
      ]
     },
     "execution_count": 62,
     "metadata": {},
     "output_type": "execute_result"
    }
   ],
   "source": [
    "P                  # compare to made up probs in toy model"
   ]
  },
  {
   "cell_type": "markdown",
   "metadata": {
    "collapsed": false
   },
   "source": [
    "As we said before, we can concentrate just on two unknowns $(\\hat{p}_{0,0},\\hat{p}_{1,1})$, so we can make a function just to return this tuple:"
   ]
  },
  {
   "cell_type": "code",
   "execution_count": 63,
   "metadata": {
    "collapsed": false
   },
   "outputs": [],
   "source": [
    "def makeMLE00And11(tcMatrix):\n",
    "    '''Return an MLE tuple (p00, p11) from given 2-state transition count data.\n",
    "    \n",
    "    Param tcMatrix is a 2x2 matrix of transition counts. \n",
    "    Returns (n_00/(n_00+n_01, n_11/(n_10+n_11) from tcMatrix.\n",
    "    Returns null if there is not at least one count in each row of tcMatrix. '''\n",
    "    \n",
    "    retValue = None\n",
    "    if (tcMatrix[0] > 0) and (tcMatrix[1] > 0):   \n",
    "        retValue = (RR(tcMatrix[0,0]/(tcMatrix[0,0]+tcMatrix[0,1])), RR(tcMatrix[1,1]/(tcMatrix[1,0]+tcMatrix[1,1])))\n",
    "    return retValue"
   ]
  },
  {
   "cell_type": "markdown",
   "metadata": {
    "collapsed": false
   },
   "source": [
    "What is $(\\hat{p}_{0,0},\\hat{p}_{1,1})$ using all our data?"
   ]
  },
  {
   "cell_type": "code",
   "execution_count": 64,
   "metadata": {
    "collapsed": false
   },
   "outputs": [
    {
     "data": {
      "text/plain": [
       "(0.750791331872413, 0.524782356355194)"
      ]
     },
     "execution_count": 64,
     "metadata": {},
     "output_type": "execute_result"
    }
   ],
   "source": [
    "allDataMLE00And11 = makeMLE00And11(allTransitionCounts)\n",
    "allDataMLE00And11"
   ]
  },
  {
   "cell_type": "markdown",
   "metadata": {
    "collapsed": false
   },
   "source": [
    "We can use our log-likelihood function in the form of a Sage symbolic function with symbolic variables n00, n01, n10, n11, p00, p01, and substitute in the values we have just found, using all our data, for all of these variables, to find the maximum of the log-likelihood function (i.e. the value of the function evaluated at the MLE).\n",
    "\n",
    "#### Animation of the MLE and contour of log-likelihood function as the amount of data increases\n",
    "Here is a plot of $(\\hat{p}_{00},\\hat{p}_{11})$, moving as the amount of data increases.  It loops continually so if it looks like it is not moving, it is towards the end when the MLE has settled down - just wait a short while and the loop will start again:\n",
    "\n",
    " \n",
    "<table style=\"width:100%\">\n",
    "  <tr>\n",
    "  <th>MLE as the amount of data increases</th>\n",
    "  <th>log-likelihood contour with the MLE (black dot)</th>\n",
    "  <tr>\n",
    "    <th><img src=\"images/pMLEp00p11Anim.gif\" width=300></th>\n",
    "    <th><img src=\"images/contourLikAnim.gif\" width=300></th> \n",
    "  </tr>\n",
    "</table>\n"
   ]
  },
  {
   "cell_type": "code",
   "execution_count": 65,
   "metadata": {
    "collapsed": false
   },
   "outputs": [
    {
     "data": {
      "text/plain": [
       "-15184.6089012140"
      ]
     },
     "execution_count": 65,
     "metadata": {},
     "output_type": "execute_result"
    }
   ],
   "source": [
    "maxLogL= L.subs(n00=allTransitionCounts[0,0], n01=allTransitionCounts[0,1], n10=allTransitionCounts[1,0], n11=allTransitionCounts[1,1], p00=allDataMLE00And11[0], p11=allDataMLE00And11[1])\n",
    "maxLogL # this is the ML value"
   ]
  },
  {
   "cell_type": "code",
   "execution_count": 66,
   "metadata": {
    "collapsed": false
   },
   "outputs": [
    {
     "data": {
      "image/png": "[encoded data removed]",
      "text/plain": [
       "Graphics object consisting of 3 graphics primitives"
      ]
     },
     "execution_count": 66,
     "metadata": {},
     "output_type": "execute_result"
    }
   ],
   "source": [
    "#maxLogL= L.subs(n00=allTransitionCounts[0,0], n01=allTransitionCounts[0,1], n10=allTransitionCounts[1,0], n11=allTransitionCounts[1,1], p00=allDataMLE00And11[0], p11=allDataMLE00And11[1])\n",
    "# make a list of contours\n",
    "ourContours = list([maxLogL-2*i for i in range(0,10000,20)])\n",
    "ourContours.reverse() # contours need to be appropriately ordered\n",
    "# make a contour plot\n",
    "cp=contour_plot(L.subs(n00=allTransitionCounts[0,0], n01=allTransitionCounts[0,1], n10=allTransitionCounts[1,0], n11=allTransitionCounts[1,1]), (p00, 0.0001, .9999), (p11, .0001, .9999),fill=False, aspect_ratio=1, contours=10)\n",
    "cp+=contour_plot(L.subs(n00=allTransitionCounts[0,0], n01=allTransitionCounts[0,1], n10=allTransitionCounts[1,0], n11=allTransitionCounts[1,1]), (p00, 0.0001, .9999), (p11, .0001, .9999),fill=False, aspect_ratio=1,contours=ourContours, cmap='hsv')\n",
    "cp+=point(allDataMLE00And11,pointsize=50,rgbcolor='black')\n",
    "cp.show(figsize=(3,3))"
   ]
  },
  {
   "cell_type": "markdown",
   "metadata": {
    "collapsed": false
   },
   "source": [
    "**You Think**: What is the MLE of $\\theta$ in an product $Bernoulli(\\theta)$ experiment for the problem, i.e., we now model $$X_0,X_1,\\ldots,X_n \\overset{IID}{\\thicksim} Bernoulli(\\theta^*)$$"
   ]
  },
  {
   "cell_type": "code",
   "execution_count": 67,
   "metadata": {
    "collapsed": false
   },
   "outputs": [
    {
     "data": {
      "text/plain": [
       "([[0, 0], [1, 0], [2, 0], [3, 0], [4, 0]],\n",
       " [[25039, 1], [25040, 0], [25041, 0], [25042, 0]])"
      ]
     },
     "execution_count": 67,
     "metadata": {},
     "output_type": "execute_result"
    }
   ],
   "source": [
    "#recall the dataset with day numbers and wet=1 or dry=0\n",
    "all_daysdata[0:5], all_daysdata[-5:-1]"
   ]
  },
  {
   "cell_type": "code",
   "execution_count": 68,
   "metadata": {
    "collapsed": false
   },
   "outputs": [
    {
     "data": {
      "text/plain": [
       "{0: 16429, 1: 8615}"
      ]
     },
     "execution_count": 68,
     "metadata": {},
     "output_type": "execute_result"
    }
   ],
   "source": [
    "# what is the MLE thetahat of the wet or dry (1 or 0) days under IID Bernoulli(theta) RV\n",
    "makeFreqDict([x[1] for x in all_daysdata])"
   ]
  },
  {
   "cell_type": "markdown",
   "metadata": {
    "collapsed": false
   },
   "source": [
    "So, what is the MLE $\\hat{\\theta}$ of the unknown $\\theta^*$ the IID $Bernoulli(\\theta^*)$ model?"
   ]
  },
  {
   "cell_type": "markdown",
   "metadata": {
    "collapsed": false
   },
   "source": [
    "**Questions:** \n",
    "- So, what is the MLE $\\widehat{\\theta}$ of the unknown $\\theta^*$ the IID $Bernoulli(\\theta^*)$ model?\n",
    "- How is the Markov chain model fundamentally different from the IID $Bernoulli$ model?"
   ]
  },
  {
   "cell_type": "markdown",
   "metadata": {
    "collapsed": false
   },
   "source": [
    "Here is a nice trick to make a flow diagram fast and dirty in Sage. For our Christchurch Dry-Wet chain with MLE $\\widehat{\\mathbf{P}}$ we can do the following flow diagram."
   ]
  },
  {
   "cell_type": "code",
   "execution_count": 69,
   "metadata": {
    "collapsed": false
   },
   "outputs": [
    {
     "data": {
      "image/png": "[encoded data removed]",
      "text/plain": [
       "Graphics object consisting of 12 graphics primitives"
      ]
     },
     "execution_count": 69,
     "metadata": {},
     "output_type": "execute_result"
    }
   ],
   "source": [
    "P = matrix([[3/4,1/4],[1/2,1/2]])  # construct and assign the matrix to P\n",
    "p = DiGraph(P,format=\"weighted_adjacency_matrix\")\n",
    "pos_dict={}\n",
    "pos_dict[0] = [1,1]\n",
    "pos_dict[1] = [3,1]\n",
    "p.plot(edge_labels=True,pos=pos_dict,vertex_size=300).show()"
   ]
  },
  {
   "cell_type": "markdown",
   "metadata": {
    "collapsed": false
   },
   "source": [
    "### YouTry\n",
    "\n",
    "Consider the Markov chain describing the mode of transport used by a lazy professor. He has only two modes of transport, namely Walk or Drive. Label Walk by $0$ and Drive by $1$. If he walks today then he will definitely drive tomorrow. But, if he drives today then he flips a fair coin to decide whether he will Walk or Drive tomorrow. His decision to get to work is the same on each day. In the cells below try to:\n",
    "\n",
    "- Find the flow diagram\n",
    "- Find and assign the transition probability matrix for this Markov chain\n",
    "- Find the probability that he will drive on the $n$-th day given he will walk today (day $0$)\n",
    "- What is the steady state probability vector for this chain?\n",
    "\n",
    "**Also do by hand!**\n",
    "\n",
    "<br\\> <br \\> <br\\> <br \\>"
   ]
  },
  {
   "cell_type": "code",
   "execution_count": 0,
   "metadata": {
    "collapsed": false
   },
   "outputs": [],
   "source": []
  },
  {
   "cell_type": "code",
   "execution_count": 0,
   "metadata": {
    "collapsed": false
   },
   "outputs": [],
   "source": []
  },
  {
   "cell_type": "code",
   "execution_count": 0,
   "metadata": {
    "collapsed": false
   },
   "outputs": [],
   "source": []
  },
  {
   "cell_type": "markdown",
   "metadata": {
    "collapsed": false
   },
   "source": [
    "## Random Walks and Random Graphs in SageMath\n",
    "\n",
    "We get introduced to simple random walks in SageMath.\n",
    "\n",
    "Random walks on graphs is one of the most useful applications of Markov chains.\n",
    "\n",
    "First let us familiarize ourselves with some basic definitions in Graph Theory.\n"
   ]
  },
  {
   "cell_type": "markdown",
   "metadata": {
    "collapsed": false
   },
   "source": [
    "### Definitions in Graph Theory\n",
    "\n",
    "Here we take a brief tour of the most basic definitions in graph theory.\n",
    "A **Graph** $\\mathbb{G} := (\\mathbb{V},\\mathbb{E})$ consists of a **vertex set** $\\mathbb{V} := \\{v_1,v_2,\\ldots,v_k\\}$ together with an **edge set** $\\mathbb{E} := \\{e_1,e_2,\\ldots,e_l\\}$."
   ]
  },
  {
   "cell_type": "markdown",
   "metadata": {
    "collapsed": false
   },
   "source": [
    "- Each **edge** in $\\mathbb{E}$ connects two of the **vertices** in $\\mathbb{V}$.\n",
    "- A **directed edge** $e_h$ connecting vertex $v_i$ to $v_j$ is denoted by the ordered pair $(v_i, v_j)$.\n",
    "- An **undirected edge** simply connects two vertices without regard to order and is denoted by $\\{v_i,v_j\\}$ to represent both of the directed edges $(v_i,v_j)$ and $(v_j,v_i)$.\n",
    "\n",
    "Thus, $\\mathbb{E} \\subset \\mathbb{V}^2$ and a graph $\\mathbb{G}$ with directed edges in $\\mathbb{E}$ is said to be an **directed graph** and a graph $\\mathbb{G}$ with undirected edges is said to be an **undirected graph**.\n",
    "\n",
    "- Two vertices are **neighbours** if they share an edge, i.e., if they are connected by an edge.\n",
    "- The **neighbourhood** of a vertex $v_i$ denoted by $\\mathrm{nbhd}(v_i):=\\left\\{v_j : (v_i,v_j) \\in \\mathbb{E} \\right\\}$ is the set of neighbouring vertices of $v_i$.\n",
    "- The number of neighbours of a vertex $v_i$ in an undirected graph is called its **degree** and is denoted by $\\deg(v_i)$.\n",
    "\n",
    "Note that $\\deg(v_i) = \\# \\mathrm{nbhd}(v_i)$. If there is a sequences of edges or a **path** from every vertex to every other vertex then the undirected graph is said to be **connected**.\n"
   ]
  },
  {
   "cell_type": "markdown",
   "metadata": {
    "collapsed": false
   },
   "source": [
    "- In a graph we only allow one edge per pair of vertices but in a **multigraph** we allow more than one edge per pair of vertices.\n",
    "- An edge can be **weighted** by being associated with a real number called its **weight**. \n",
    "- More generally, vertices and edges can be augmented with various properties, including addresses, names, etc., and weights, relation types, etc. Graphs whose vertices and edges are further augmented by various properties are called **property graphs**, an extremely useful and versatile representation of data from different domains.\n",
    "\n",
    "We can represent a directed graph by its **adjacency matrix** given by:\n",
    "\n",
    "$$\n",
    "    A := \\left( A(v_i,v_j) \\right)_{(v_i,v_j) \\in \\mathbb{V} \\times \\mathbb{V}}, \\quad\n",
    "    A(v_i,v_j) =\n",
    "    \\begin{cases}\n",
    "            1 & \\text{if } \\  ( v_i, v_j ) \\in \\mathbb{E} \\\\\n",
    "        0 & \\text{otherwise} \\enspace .\n",
    "    \\end{cases}\n",
    "$$\n",
    "\n",
    "- Thus the adjacency matrix of an undirected graph is symmetric.\n",
    "- In a directed graph, each vertex $v_i$ has **in-edges** that come into it and **out-edges** that go out of it.\n",
    "- he number of in-edges and out-edges of $v_i$ is denoted by $\\mathrm{ideg}(v_i)$ and $\\mathrm{odeg}(v_i)$ respectively.\n",
    "- Note that a transition diagram of a Markov chain is a weighted directed graph and is represented by the transition probability matrix."
   ]
  },
  {
   "cell_type": "markdown",
   "metadata": {
    "collapsed": false
   },
   "source": [
    "## Problem: \n",
    "\n",
    "Try to make simple Markov chain models as random walks on a lattice or a graph by \n",
    "modifying the following scripts.\n",
    "\n",
    "Random Walks and Random Graphs in SageMath.\n",
    "\n",
    "We get introduced to simple random walks in SageMath."
   ]
  },
  {
   "cell_type": "code",
   "execution_count": 70,
   "metadata": {
    "collapsed": false
   },
   "outputs": [
    {
     "data": {
      "text/plain": [
       "[0, 0, 0, 1, 0, 0, 0, 1, 0, 1]"
      ]
     },
     "execution_count": 70,
     "metadata": {},
     "output_type": "execute_result"
    }
   ],
   "source": [
    "set_random_seed(0)\n",
    "v = [randint(0,1) for _ in range(10)]\n",
    "v"
   ]
  },
  {
   "cell_type": "code",
   "execution_count": 71,
   "metadata": {
    "collapsed": false
   },
   "outputs": [
    {
     "data": {
      "text/plain": [
       "0.3"
      ]
     },
     "execution_count": 71,
     "metadata": {},
     "output_type": "execute_result"
    }
   ],
   "source": [
    "sum(v)/float(len(v))"
   ]
  },
  {
   "cell_type": "code",
   "execution_count": 72,
   "metadata": {
    "collapsed": false
   },
   "outputs": [
    {
     "data": {
      "application/vnd.jupyter.widget-view+json": {
       "model_id": "2e1af573854d480ea18bdc0dc0e3052d",
       "version_major": 2,
       "version_minor": 0
      },
      "text/plain": [
       "Interactive function <function foo at 0x7f98471c9ae8> with 3 widgets\n",
       "  pts: Checkbox(value=True, description='…"
      ]
     },
     "execution_count": 72,
     "metadata": {},
     "output_type": "execute_result"
    }
   ],
   "source": [
    "vv = []; nn = 0\n",
    "@interact\n",
    "def foo(pts = checkbox(True, \"Show points\"), \n",
    "        refresh = checkbox(False, \"New random walk every time\"),\n",
    "        steps = (50,(10..500))):\n",
    "    # We cache the walk in the global variable vv, so that\n",
    "    # checking or unchecking the points checkbox doesn't change\n",
    "    # the random walk. \n",
    "    html(\"<h2>%s steps</h2>\"%steps)\n",
    "    global vv\n",
    "    if refresh or len(vv) == 0:\n",
    "        s = 0; v = [(0,0)]\n",
    "        for i in range(steps): \n",
    "             s += random() - 0.5\n",
    "             v.append((i, s)) \n",
    "        vv = v\n",
    "    elif len(vv) != steps:\n",
    "        # Add or subtract some points\n",
    "        s = vv[-1][1]; j = len(vv)\n",
    "        for i in range(steps - len(vv)):\n",
    "            s += random() - 0.5\n",
    "            vv.append((i+j,s))\n",
    "        v = vv[:steps]\n",
    "    else:\n",
    "        v = vv\n",
    "    L = line(v, rgbcolor='#4a8de2')\n",
    "    if pts: L += points(v, pointsize=10, rgbcolor='red')\n",
    "    show(L, xmin=0, figsize=[8,3])"
   ]
  },
  {
   "cell_type": "markdown",
   "metadata": {
    "collapsed": false
   },
   "source": [
    "### A 3D Random Walk\n",
    "\n",
    "This was done originally by William Stein."
   ]
  },
  {
   "cell_type": "code",
   "execution_count": 73,
   "metadata": {
    "collapsed": false
   },
   "outputs": [
    {
     "data": {
      "application/vnd.jupyter.widget-view+json": {
       "model_id": "c0452fa5cc8444df8d8737e7a6ded944",
       "version_major": 2,
       "version_minor": 0
      },
      "text/plain": [
       "Interactive function <function rwalk3d at 0x7f98471c91e0> with 2 widgets\n",
       "  n: IntSlider(value=525, description…"
      ]
     },
     "execution_count": 73,
     "metadata": {},
     "output_type": "execute_result"
    }
   ],
   "source": [
    "@interact\n",
    "def rwalk3d(n=(50,1000), frame=True):\n",
    "    pnt = [0.,0.,0.]\n",
    "    v = [copy(pnt)]\n",
    "    for i in range(n):\n",
    "        pnt[0] += random()-0.5\n",
    "        pnt[1] += random()-0.5\n",
    "        pnt[2] += random()-0.5\n",
    "        v.append(copy(pnt))\n",
    "    show(line3d(v,color='black'),aspect_ratio=[1,1,1],frame=frame,figsize=[6,6])"
   ]
  },
  {
   "cell_type": "code",
   "execution_count": 74,
   "metadata": {
    "collapsed": false,
    "scrolled": true
   },
   "outputs": [
    {
     "data": {
      "text/html": [
       "\n",
       "        <iframe\n",
       "            width=\"95%\"\n",
       "            height=\"300\"\n",
       "            src=\"https://en.wikipedia.org/wiki/Wiener_process#Wiener_process_as_a_limit_of_random_walk\"\n",
       "            frameborder=\"0\"\n",
       "            allowfullscreen\n",
       "        ></iframe>\n",
       "        "
      ],
      "text/plain": [
       "<IPython.lib.display.IFrame object at 0x7f98471cb898>"
      ]
     },
     "execution_count": 74,
     "metadata": {},
     "output_type": "execute_result"
    }
   ],
   "source": [
    "# recall Wiener Process!\n",
    "showURL(\"https://en.wikipedia.org/wiki/Wiener_process#Wiener_process_as_a_limit_of_random_walk\",300)"
   ]
  },
  {
   "cell_type": "markdown",
   "metadata": {
    "collapsed": false
   },
   "source": [
    "## Random Graphs\n",
    "\n",
    "Graphs are a rich source of random discrete structures. Let us get a prelude into them next.\n",
    "\n",
    "### Graph Browser, by Marshall Hampton"
   ]
  },
  {
   "cell_type": "code",
   "execution_count": 75,
   "metadata": {
    "collapsed": false
   },
   "outputs": [
    {
     "data": {
      "application/vnd.jupyter.widget-view+json": {
       "model_id": "6d035b681c4746ac862fa7ef185708fc",
       "version_major": 2,
       "version_minor": 0
      },
      "text/plain": [
       "Interactive function <function graph_browser at 0x7f98450fbc80> with 3 widgets\n",
       "  graph_name: Dropdown(descript…"
      ]
     },
     "execution_count": 75,
     "metadata": {},
     "output_type": "execute_result"
    }
   ],
   "source": [
    "grs = ['BalancedTree', 'BullGraph', 'ChvatalGraph', 'CirculantGraph', 'CircularLadderGraph', 'ClawGraph', 'CompleteBipartiteGraph', 'CompleteGraph', 'CubeGraph', 'CycleGraph', 'DegreeSequence', 'DegreeSequenceConfigurationModel', 'DegreeSequenceExpected', 'DegreeSequenceTree', 'DesarguesGraph', 'DiamondGraph', 'DodecahedralGraph', 'DorogovtsevGoltsevMendesGraph', 'EmptyGraph', 'FlowerSnark', 'FruchtGraph', 'Grid2dGraph', 'GridGraph', 'HeawoodGraph', 'HexahedralGraph', 'HoffmanSingletonGraph', 'HouseGraph', 'HouseXGraph', 'IcosahedralGraph', 'KrackhardtKiteGraph', 'LCFGraph', 'LadderGraph', 'LollipopGraph', 'MoebiusKantorGraph', 'OctahedralGraph', 'PappusGraph', 'PathGraph', 'PetersenGraph', 'RandomBarabasiAlbert', 'RandomGNM', 'RandomGNP', 'RandomHolmeKim', 'RandomLobster', 'RandomNewmanWattsStrogatz', 'RandomRegular', 'RandomTreePowerlaw', 'StarGraph', 'TetrahedralGraph', 'ThomsenGraph', 'WheelGraph']\n",
    "examples = {}\n",
    "for g in grs:\n",
    "    docs = eval('graphs.' + g + '.__doc__')\n",
    "    for docline in docs.split('\\n'):\n",
    "        ex_loc = docline.find('graphs.' + g)\n",
    "        if ex_loc != -1:\n",
    "            end_paren_loc = docline[ex_loc:].find(')')\n",
    "            ex_str = docline[ex_loc:end_paren_loc+ex_loc+1]\n",
    "            ex_str = ex_str.replace('i+','2+')\n",
    "            ex_str = ex_str.replace('(i','(4')\n",
    "            break\n",
    "    try:\n",
    "        gt2 = eval(ex_str)\n",
    "        examples[g] = ex_str\n",
    "    except:\n",
    "        grs.remove(g)\n",
    "@interact\n",
    "def graph_browser(graph_name = selector(grs, label = \"Graph type:\"), newargs = input_box('',type=str,label='tuple of args'), output_type = selector(['2D','3D'], default='2D')):\n",
    "    base_g_str = 'graphs.' + graph_name\n",
    "    docs = eval(base_g_str + '.__doc__')\n",
    "    doc_ex_loc = docs.find('EXAMPLE')\n",
    "    if docs.find('PLOTTING') != -1:\n",
    "        doc_ex_loc = min(doc_ex_loc, docs.find('PLOTTING'))\n",
    "    print (docs[0:doc_ex_loc].replace('\\n        ','\\n'))\n",
    "    if newargs != '':\n",
    "        try:\n",
    "            t_graph = eval(base_g_str + newargs)\n",
    "        except:\n",
    "            print (\"Invalid arguments, using default\")\n",
    "            t_graph = eval(examples[graph_name])\n",
    "    else: \n",
    "        t_graph = eval(examples[graph_name])\n",
    "    if output_type == '2D': show(t_graph)\n",
    "    if output_type == '3D': t_graph.show3d()"
   ]
  },
  {
   "cell_type": "code",
   "execution_count": 0,
   "metadata": {
    "collapsed": false
   },
   "outputs": [],
   "source": []
  },
  {
   "cell_type": "markdown",
   "metadata": {
    "collapsed": false
   },
   "source": [
    "There is so much more to explore. If you are into stochastic processes on discrete structures with  continuous time aspects then check out:\n",
    "\n",
    "- [http://doc.sagemath.org/html/en/reference/graphs/index.html](http://doc.sagemath.org/html/en/reference/graphs/index.html)"
   ]
  },
  {
   "cell_type": "markdown",
   "metadata": {
    "collapsed": false
   },
   "source": [
    "If you are interested in simulating an epidemic model on a random graph model of a possibly evolving host network check out [Simulating Transmission Processes on Networks. by Simon Godskesen who completed his Bachelor thesis in Mathematics Department at Uppsala University](https://youtu.be/duCn17MK_uU) and the links to GitHub from the description of the video. The simulation uses SageMath Kernel. Feel free to checkout Simon's `.ipynb` notebook code:\n",
    "\n",
    "- [https://github.com/lamastex/transmissionsOnNetworks/tree/main/codes](https://github.com/lamastex/transmissionsOnNetworks/tree/main/codes)"
   ]
  },
  {
   "cell_type": "code",
   "execution_count": 0,
   "metadata": {
    "collapsed": false
   },
   "outputs": [],
   "source": []
  },
  {
   "cell_type": "code",
   "execution_count": 0,
   "metadata": {
    "collapsed": false
   },
   "outputs": [],
   "source": []
  }
 ],
 "metadata": {
  "kernelspec": {
   "display_name": "SageMath 9.1",
   "language": "sagemath",
   "metadata": {
    "cocalc": {
     "description": "Open-source mathematical software system",
     "priority": 1,
     "url": "https://www.sagemath.org/"
    }
   },
   "name": "sage-9.1",
   "resource_dir": "/ext/jupyter/kernels/sage-9.1"
  },
  "language_info": {
   "codemirror_mode": {
    "name": "ipython",
    "version": 3
   },
   "file_extension": ".py",
   "mimetype": "text/x-python",
   "name": "python",
   "nbconvert_exporter": "python",
   "pygments_lexer": "ipython3",
   "version": "3.7.8"
  },
  "lx_course_instance": "2021",
  "lx_course_name": "Introduction to Data Science: A Comp-Math-Stat Approach",
  "lx_course_number": "1MS041"
 },
 "nbformat": 4,
 "nbformat_minor": 4
}
