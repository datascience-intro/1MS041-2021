{
 "cells": [
  {
   "cell_type": "markdown",
   "id": "e24691b0",
   "metadata": {
    "deletable": false
   },
   "source": [
    "# [Introduction to Data Science: A Comp-Math-Stat Approach](http://datascience-intro.github.io/1MS041-2021/)    \n",
    "## 1MS041, 2021 \n",
    "&copy;2021 Raazesh Sainudiin, Benny Avelin. [Attribution 4.0 International     (CC BY 4.0)](https://creativecommons.org/licenses/by/4.0/)"
   ]
  },
  {
   "cell_type": "markdown",
   "metadata": {
    "collapsed": false,
    "jupyter": {
     "source_hidden": false
    }
   },
   "source": [
    "# 04. Conditional Probability, Random Variables, Loops and Conditionals\n",
    "\n",
    "### Topics:\n",
    "\n",
    "- Probability\n",
    "- Independence\n",
    "- Conditional Probability\n",
    "- Bayes Theorem\n",
    "- Random Variables\n",
    "- For loops\n",
    "- Conditional Statements\n",
    "- List Comprehensions\n",
    "- Anonymous Functions \n",
    "\n",
    "### What have we done?\n",
    "* Bash (A standard way to work with a terminal)\n",
    "* Standard type (Numbers,Strings, Booleans and Sets)\n",
    "* Maps, functions and probabilities\n",
    "\n",
    "### Where are we going?\n",
    "* We want to build a foundation in the basics about programming / probability / randomness, since machine learning is all about considering the data as being randomly observed and containing random noise.\n",
    "* Also, the machine learning models that we will go through in this course are probabilistic, and to understand them and what they are supposed to do, we first need to all `learn the language`.\n",
    "* In notebook 09, you can see the titles are more focused on \"Estimation\". In our context Estimation is the Learning in machine Learning.\n",
    " \n",
    "\n",
    "## Probability \n",
    "\n",
    "### Recap on probability\n",
    "\n",
    "An experiment is an activity or procedure that produces distinct or well-defined outcomes.  The set of such outcomes is called the sample space of the experiment.  The sample space is usually denoted with the symbol $\\Omega$.  \n",
    "\n",
    "An event is a subset of the sample space. \n",
    "\n",
    "Probability is a function that associates each event in a set of events (denoted by $\\{ \\text{ events }\\}$) with a real number in the range 0 to 1 (denoted by $[0,1]$):\n",
    "\n",
    "$$P : \\{ \\text{ events } \\} \\rightarrow [0,1]$$\n",
    "\n",
    "while satisfying the following axioms:\n",
    "\n",
    "1. For any event $A$,  $0 \\le P(A) \\le 1$.\n",
    "- If $\\Omega$ is the sample space, $P(\\Omega) = 1$.\n",
    "- If $A$ and $B$ are disjoint (i.e., $A \\cap B =  \\emptyset$), then $P(A \\cup B) = P(A) + P(B)$.\n",
    "- If $A_1, A_2, \\ldots$ is an infinite sequence of pair-wise disjoint events (i.e., $A_i \\cap A_j =  \\emptyset$ when $i \\ne j$), then\n",
    "$$\n",
    "\\begin{array}{lcl}\n",
    "\\underbrace{P\\left(\\bigcup_{i=1}^{\\infty}A_i\\right)} &=& \\underbrace{\\sum_{i=1}^{\\infty}P\\left(A_i\\right)} \\\\\n",
    "A_1 \\cup A_2 \\cup A_3 \\dots &=& P(A_1) + P(A_2) + P(A_3) + \\ldots\n",
    "\\end{array}\n",
    "$$\n",
    "\n",
    "#### Property 1\n",
    "\n",
    "$P(A) = 1 - P(A^c)$, where $A^c = \\Omega \\setminus A$\n",
    "\n",
    "#### Property 2\n",
    "\n",
    "For any two events $A$, $B$,\n",
    "\n",
    "$P(A \\cup B) = P(A) + P(B) - P(A \\cap B)$\n",
    "\n",
    "\n",
    "The idea in Property 2 generalises to the *inclusion-exclusion formula* as follows:\n",
    "\n",
    "Let $A_1, A_2, \\ldots, A_n$ be any $n$ events.  Then,\n",
    "\n",
    "$$\n",
    "\\begin{array}{lcl}\n",
    "P\\left(\\bigcup_{i=1}^n A_i \\right) \n",
    "&=& \\sum_{i=1}^nP(A_i) \\, - \\, \\sum_{i<j}P(A_i \\cap A_j) \\\\ \n",
    "&\\,& \\quad + \\, \\sum_{i<j<k}P(A_i \\cap A_j \\cap A_k) + \\ldots + (-1)^{n+1}P(A_1 \\cap A_2 \\cap \\ldots \\cap A_n) \\end{array}\n",
    "$$\n",
    "\n",
    "In words, we take all the possible intersections of one, two, three, $\\ldots$, $n$ events and let the signs alternate to more carefully account for multiple countings.\n",
    "\n",
    "### Question\n",
    "\n",
    "Does the inclusion-exclusion formula agree with the extended Axiom 3: If $A_1, A_2, \\ldots, A_n$ are pair-wise disjoint events then $P\\left( \\bigcup_{i=1}^n A_i \\right) = \\sum_{i=1}^nP(A_i)$?\n",
    "\n",
    "### The domain of the probability function\n",
    "\n",
    "What exactly is stipulated by the axioms about the domain of the probability function?\n",
    "\n",
    "The domain should be a sigma-field ($\\sigma$-field) or sigma-algebra ($\\sigma$-algebra), denoted $\\sigma(\\Omega)$ or $\\mathcal{F}$ such that:\n",
    "\n",
    "- $\\Omega \\in \\, \\mathcal{F}$\n",
    "- $A \\in \\mathcal{F} \\Rightarrow A^c \\in \\, \\mathcal{F}$\n",
    "- $A_1, A_2, \\ldots \\in \\mathcal{F} \\Rightarrow \\cup A_i \\in \\, \\mathcal{F}$\n",
    "\n",
    "We will not use the full machinery of sigma-algebras in this course as it requires more formal training in mathemtics but it is important to know what's under the hood of the domain of our probability function; in case we need to [dive deeper into sigma-algebras](https://en.wikipedia.org/wiki/Sigma-algebra) for more compicated probabilistic models of our data."
   ]
  },
  {
   "cell_type": "code",
   "execution_count": 1,
   "metadata": {
    "collapsed": false
   },
   "outputs": [
    {
     "data": {
      "text/html": [
       "\n",
       "        <iframe\n",
       "            width=\"95%\"\n",
       "            height=\"600\"\n",
       "            src=\"https://en.wikipedia.org/wiki/Sigma-algebra\"\n",
       "            frameborder=\"0\"\n",
       "            allowfullscreen\n",
       "        ></iframe>\n",
       "        "
      ],
      "text/plain": [
       "<IPython.lib.display.IFrame object at 0x7fdd81e0a400>"
      ]
     },
     "execution_count": 1,
     "metadata": {},
     "output_type": "execute_result"
    }
   ],
   "source": [
    "def showURL(url, ht=500):\n",
    "    \"\"\"Return an IFrame of the url to show in notebook with height ht\"\"\"\n",
    "    from IPython.display import IFrame\n",
    "    return IFrame(url, width='95%', height=ht) \n",
    "showURL('https://en.wikipedia.org/wiki/Sigma-algebra',600)"
   ]
  },
  {
   "cell_type": "markdown",
   "metadata": {
    "collapsed": false
   },
   "source": [
    "### Probability Space\n",
    "Thus the domain of the probability is not just any old set of events (recall events are subsets of $\\Omega$), but rather a set of events that form a $\\sigma$-field that contains the sample space $\\Omega$, is closed under complementation and countable union.\n",
    "\n",
    "$\\left(\\Omega, \\mathcal{F}(\\Omega), P\\right)$ is called a *probability space* or probability triple.\n",
    "\n",
    "#### Example\n",
    "\n",
    "Let $\\Omega = \\{H, T\\}$.  What $\\sigma$-fields could we have?\n",
    "\n",
    "$\\mathcal{F}\\left({\\Omega}\\right) = \\{\\{H, T\\}, \\emptyset, \\{H\\}, \\{T\\}\\}$ is the finest $\\sigma$-field.\n",
    "\n",
    "$\\mathcal{F}'\\left({\\Omega}\\right) = \\{ \\{H, T\\}, \\emptyset \\}$ is a trivial $\\sigma$-field.\n",
    "\n",
    "#### Example\n",
    "\n",
    "Let $\\Omega = \\{\\omega_1, \\ldots, \\omega_n\\}$. \n",
    "\n",
    "$\\mathcal{F}\\left({\\Omega}\\right) = 2^\\Omega$, the set of all subsets of $\\Omega$, also known as the power set of $\\Omega$.\n",
    "\n",
    "$\\vert 2^\\Omega \\vert = 2^n$.\n",
    "\n",
    "We have finally defined *probability space* as quickly as possible from first principles. As your mathematical background matures you can dive deeper into more subtle aspects of [probability space](https://en.wikipedia.org/wiki/Probability_space), in its generality, as needed.\n",
    "\n",
    "[These examples](https://en.wikipedia.org/wiki/Probability_space#Examples) are great for becoming more familiar with probability spaces."
   ]
  },
  {
   "cell_type": "code",
   "execution_count": 2,
   "metadata": {
    "collapsed": false
   },
   "outputs": [
    {
     "data": {
      "text/html": [
       "\n",
       "        <iframe\n",
       "            width=\"95%\"\n",
       "            height=\"400\"\n",
       "            src=\"https://en.wikipedia.org/wiki/Probability_space\"\n",
       "            frameborder=\"0\"\n",
       "            allowfullscreen\n",
       "        ></iframe>\n",
       "        "
      ],
      "text/plain": [
       "<IPython.lib.display.IFrame object at 0x7fdd81e0a4e0>"
      ]
     },
     "execution_count": 2,
     "metadata": {},
     "output_type": "execute_result"
    }
   ],
   "source": [
    "showURL(\"https://en.wikipedia.org/wiki/Probability_space\",400)"
   ]
  },
  {
   "cell_type": "markdown",
   "metadata": {
    "collapsed": false
   },
   "source": [
    "### Independence\n",
    "\n",
    "Two events $A$ and $B$ are independent if $P(A \\cap B) = P(A)P(B)$.\n",
    "\n",
    "Intuitively, $A$ and $B$ are independent if the occurrence of $A$ has no influence on the probability of the occurrence of $B$ (and vice versa).\n",
    "\n",
    "#### Example\n",
    "\n",
    "Flip a fair coin  twice.  Event $A$ is the event \"The first flip is 'H'\"; event $B$ is the event \"The second flip is 'H'\".\n",
    "\n",
    "$P(A) = \\frac{1}{2}$, $P(B) = \\frac{1}{2}$\n",
    "\n",
    "Because the flips are independent (what happens on the first flip does not influence the second flip),\n",
    "\n",
    "$P(A \\cap B) = \\frac{1}{2} \\times \\frac{1}{2} = \\frac{1}{4}$.\n",
    "\n",
    "#### Example\n",
    "\n",
    "We can generalise this by saying that we will flip a coin with an unknown probability parameter $\\theta \\in [0,1]$.  We flip this coin twice and the coin is made so that for any flip,  $P(\\mbox{'H'}) = \\theta$, $P(\\mbox{'T'}) = 1-\\theta$.\n",
    "\n",
    "Take the same events as before: event $A$ is the event \"The first flip is 'H'\"; event $B$ is the event \"The second flip is 'H'\".\n",
    "\n",
    "Because the flips are independent,\n",
    "\n",
    "$P(A \\cap B) = \\theta \\times \\theta = \\theta^2$.\n",
    "\n",
    "If we take event $C$ as the event \"The second flip is 'T'\", then\n",
    "\n",
    "$P(A \\cap C) = \\theta \\times (1-\\theta)$.\n",
    "\n",
    "#### Example\n",
    "\n",
    "Roll a fair die twice.  The face of the die is enumerated 1, 2, 3, 4, 5, 6.\n",
    "\n",
    " Event $A$ is the event \"The first roll is 5\"; event $B$ is the event \"The second roll is 1\".\n",
    "\n",
    "$P(A) = \\frac{1}{6}$, $P(B) = \\frac{1}{6}$\n",
    "\n",
    "If the two rolls are independent,\n",
    "\n",
    "$P(A \\cap B) = \\frac{1}{6} \\times \\frac{1}{6} = \\frac{1}{36}$\n",
    "\n",
    "\n",
    "\n",
    "#### You try at home\n",
    "\n",
    "For those who are rusty on probability models.\n",
    "\n",
    "Suppose you roll two fair dice independently. What is the probability of getting the sum of the outcomes to be seven?\n",
    "\n",
    "Solution: Watch the [Khan Academy movie about probability and two dice](https://www.youtube.com/embed/2XToWi9j0Tk).\n"
   ]
  },
  {
   "cell_type": "markdown",
   "metadata": {
    "collapsed": false
   },
   "source": [
    "## Conditional probability\n",
    "\n",
    "Suppose that we are told that the event $A$ with $P(A) > 0$ occurs and we are interested in whether another event $B$ will now occur.  The sample space has  shrunk from $\\Omega$ to $A$.  The probability that event $B$ will occur given that $A$ has already occurred is defined by\n",
    "\n",
    "$$P(B|A) = \\frac{P(B \\cap A)}{P(A)}$$\n",
    "\n",
    "<img src=\"images/ConditionalProbabilityProgression.png\" alt=\"ConditionalProbabilityProgression.png\" width=700>\n",
    "\n",
    "\n",
    "We can understand this by noting that\n",
    "\n",
    "Only the outcomes in $B$ that also belong to $A$ can possibly now occur, and\n",
    "Since the new sample space is $A$, we have to divide by $P(A)$ to make $$P(A|A) = \\frac{P(A \\cap A)}{P(A)} = \\frac{P(A)}{P(A)} = 1$$\n",
    "If the two events $A$ and $B$ are independent then\n",
    "\n",
    "$$P(B|A) = \\frac{P(B \\cap A)}{P(A)} = \\frac{P(B)P(A)}{P(A)} = P(B)$$\n",
    "\n",
    "which makes sense - we said that if two events are independent, then the occurrence of $A$ has no influence on the probability of the occurrence of $B$.\n",
    "\n",
    "### Example\n",
    "\n",
    "Roll two fair dice. \n",
    "\n",
    " Event $A$ is the event \"The sum of the dice is 6\"; event $B$ is the event \"The first die is 2\".\n",
    "\n",
    "How many ways can we get a 6 out of two dice? \n",
    "\n",
    "\n",
    "<img src=\"images/TwoDiceOutcomes.png\" alt=\"TwoDiceOutcomes.png\" width=350>\n",
    "\n",
    "\n",
    "$A = \\{(1,5), (2,4), (3,3), (4,2), (5,1)\\}$\n",
    "\n",
    "$P(A) = \\frac{1}{36} + \\frac{1}{36} + \\frac{1}{36} + \\frac{1}{36} + \\frac{1}{36} = \\frac{5}{36}$\n",
    "\n",
    "<img src=\"images/TwoDiceOutcomesB.png\" alt=\"TwoDiceOutcomesB.png\" width=350>\n",
    "\n",
    "\n",
    "$B = \\{(2,1), (2,2), (2,3), (2,4), (2,5), (2,6)\\}$\n",
    "\n",
    "<img src=\"images/TwoDiceOutcomesAndB.png\" alt=\"TwoDiceOutcomesAndB.png\" width=350>\n",
    "\n",
    " \n",
    "\n",
    "$B \\cap A = \\{ (2,4)\\}$\n",
    "\n",
    "$P(B \\cap A) = \\frac{1}{36}$\n",
    "\n",
    "$P(B|A) = \\frac{P(B \\cap A)}{P(A)} = \\frac{\\frac{1}{36}}{\\frac{5}{36}} = \\frac{1}{5}$\n",
    "\n",
    "Look at this result in terms of what we said about the sample space shrinking to $A$.\n",
    "\n",
    "<img src=\"images/TwoDiceOutcomesBgivenA.png\" alt=\"TwoDiceOutcomesBgivenA.png\" width=350>\n",
    "\n",
    " \n",
    "\n",
    "### Bayes Theorem\n",
    "\n",
    "We just saw that $P(B|A)$, the conditional probability that event $B$ will occur given that $A$ has already occurred is defined by $P(B \\cap A)/P(A)$.  By using the fact that $B \\cap A = A \\cap B$ and reapplying the definition of conditional probability to $P(A|B)=P(A \\cap B)/P(B)$, we get the so-called Bayes theorem.\n",
    "\n",
    "$$\\boxed{P(B|A) = \\frac{P(B \\cap A)}{P(A)} = \\frac{P(A \\cap B)}{P(A)} = \\frac{P(A|B) P(B)}{P(A)}}$$\n",
    "\n",
    "#### You try at home\n",
    "\n",
    "Suppose we have a bag of ten coins. Nine of the ten coins are fair but one of the coins has heads on both sides. What is the probability of getting five heads in a row if I picked a coin at random from the bag and flipped it five times? If I obtained five heads in a row by choosing a coin out of the bag at random and flipping it five times, then what is the probability that I have picked the two-headed coin?\n",
    "\n",
    "Solution: Watch the Khan Academy movies about applications of conditional probability and Bayes theorem to this bag of 10 coins.\n",
    "\n",
    "- [http://www.youtube.com/watch?v=xf3vfczoCho](http://www.youtube.com/watch?v=xf3vfczoCho)\n",
    "- [http://www.youtube.com/watch?v=BLcgeLALLnc](http://www.youtube.com/watch?v=BLcgeLALLnc)\n",
    "- [http://www.youtube.com/watch?v=VVr8snbaxZg](http://www.youtube.com/watch?v=VVr8snbaxZg)\n",
    "\n"
   ]
  },
  {
   "cell_type": "markdown",
   "metadata": {
    "collapsed": false
   },
   "source": [
    "### A foretaste of simulation\n",
    "\n",
    "The next cell uses a function called `randint` which we will talk about more later in the course.   For this week we'll just use randint as a computerised way of rolling a die:  every time we call `randint(1,6)` we will get some integer number from 1 to 6, we won't be able to predict in advance what we will get, and the probability of each of the numbers `1, 2, 3, 4, 5, 6` is equal.  Here we use randint to simulate the experiment of tossing two dice.  The sample space $\\Omega$ is all 36 possible ordered pairs $(1,1), \\ldots (6,6)$.  We print out the results for each die.   Try evaluating the cell several times and notice how the numbers you get differ each time. "
   ]
  },
  {
   "cell_type": "code",
   "execution_count": 0,
   "metadata": {
    "collapsed": false
   },
   "outputs": [],
   "source": [
    "#randint? # uncomment and evaluate for help"
   ]
  },
  {
   "cell_type": "code",
   "execution_count": 5,
   "metadata": {
    "collapsed": false
   },
   "outputs": [
    {
     "name": "stdout",
     "output_type": "stream",
     "text": [
      "(die 1, die2) is ( 6 ,  4 )\n"
     ]
    }
   ],
   "source": [
    "# evaluate this cell again to see the random outcomes change\n",
    "die1 = randint(1,6)\n",
    "die2 = randint(1,6)\n",
    "print (\"(die 1, die2) is (\", die1, \", \", die2, \")\")"
   ]
  },
  {
   "cell_type": "markdown",
   "metadata": {
    "collapsed": false
   },
   "source": [
    "## Random Variables\n",
    "\n",
    "A random variable is a mapping from the sample space $\\Omega$ to the set of real numbers $\\mathbb{R}$.  In other words, it is a numerical value determined by the outcome of the experiment. (Actually, this is a real-valued random variable and one can have random variables taking values in other sets).\n",
    "\n",
    "This is not as complicated as it sounds:  let's look at a simple example:\n",
    "\n",
    "### Example\n",
    "\n",
    "#### Roll two fair dice.\n",
    "\n",
    "The sample space is the set of 36 ordered pairs $\\Omega = \\{(1,1), (1,2), \\dots, (2,1), (2,2), \\ldots, (1,6), \\ldots, (6,6)\\}$\n",
    "\n",
    "Let random variable $X$ be the sum of the two numbers that appear, $X : \\Omega \\rightarrow \\mathbb{R}$.\n",
    "\n",
    "<img src=\"images/RandomVariableMapping.png\" atl=\"RandomVariableMapping\" width=\"300\">\n",
    "\n",
    " \n",
    "\n",
    "For example, $X\\left(\\{(6,6)\\}\\right) = 12$\n",
    "\n",
    "$P(X=12) = P\\left(\\{(6,6)\\}\\right)$\n",
    "\n",
    "And, $X\\left( \\{ (3,2) \\}\\right) = 5$\n",
    "\n",
    "Formal definition of a random variable\n",
    "\n",
    "Let $\\left(\\Omega, \\mathcal{F}, P \\right)$ be some probability triple.  Then a random variable, say $X$, is a function from the sample space $\\Omega$ to the set of real numbers $\\mathbb{R}$\n",
    "\n",
    "$$X: \\Omega \\rightarrow \\mathbb{R}$$\n",
    "\n",
    "such that for every number $x$ in $\\mathbb{R}$, the inverse image of the half-open interval $(-\\infty, x]$ is an element of the collection of events $\\mathcal{F}$, i.e.,\n",
    "\n",
    "for every number $x$ in $\\mathbb{R}$, \n",
    "$$X^{[-1]}\\left( (-\\infty, x] \\right) := \\{\\omega: X(\\omega) \\le x\\} \\in \\mathcal{F}$$\n",
    "\n",
    "### Discrete random variable\n",
    "\n",
    "A random variable is said to be discrete when it can take a countable sequence of values (a finite set is countable).  The three examples below are discrete random variables.\n",
    "\n",
    "### Probability of a random variable\n",
    "\n",
    "Finally, we assign probability to a random variable $X$ as follows:\n",
    "\n",
    "$$P(X \\le x) = P \\left( X^{[-1]}\\left( (-\\infty, x] \\right) \\right) := P\\left( \\{ \\omega: X(\\omega) \\le x \\} \\right)$$\n",
    "\n",
    "### Distribution Function \n",
    "\n",
    "The distribution function (DF) or cumulative distribution function (CDF) of any RV $X$, denoted by $F$ is:\n",
    "\n",
    "$$F(x) := P(X \\leq x) = P\\left( \\{ \\omega: X(\\omega) \\leq x \\} \\right) \\mbox{, for any } x \\in \\mathbb{R}$$\n",
    "\n",
    " \n",
    "\n",
    "#### Example - Sum of Two Dice\n",
    "\n",
    "In our example above (tossing two die and taking $X$ as the sum of the numbers shown) we said that $X\\left((3,2)\\right) = 5$, but (3,2) is not the only outcome that $X$ maps to 5: $X^{[-1]}\\left(5\\right) = \\{(1,4), (2,3), (3,2), (4,1)\\}$\n",
    "\n",
    "$$\n",
    "\\begin{array}{lcl} P(X=5) & = & P\\left(\\{\\omega: X(\\omega) = 5\\}\\right)\\\\ & = & P\\left(X^{[-1]}\\left(5\\right)\\right)\\\\ & = & P(\\{(1,4), (2,3), (3,2), (4,1)\\})\n",
    "\\end{array}\n",
    "$$\n",
    "\n",
    "#### Example - Pick a Fruit at Random\n",
    "\n",
    "Remember our \"well-mixed\" fruit bowl containing 3 apples, 2 oranges, 1 lemon?  If our experiment is to take a piece of fruit from the bowl and the outcome is the kind of fruit we take, then we saw that $\\Omega = \\{\\mbox{apple}, \\mbox{orange}, \\mbox{lemon}\\}$.\n",
    "\n",
    "Define a random variable $Y$ to give each kind of fruit a numerical value: $Y(\\mbox{apple}) = 1$, $Y(\\mbox{orange}) = 0$, $Y(\\mbox{lemon}) = 0$.\n",
    "\n",
    "#### Example - Flip Until Heads\n",
    "\n",
    "Flip a fair coin  until a 'H' appears.  Let $X$ be the number of times we have to flip the coin until the first 'H'.  \n",
    "\n",
    "$\\Omega = \\{\\mbox{H}, \\mbox{TH}, \\mbox{TTH}, \\ldots, \\mbox{TTTTTTTTTH}, \\ldots \\}$\n",
    "\n",
    "$X(\\mbox{H}) = 0$,  $X(\\mbox{TH}) = 1$, $X(\\mbox{TTH}) = 2$, $\\ldots$\n",
    "\n",
    " \n",
    "\n",
    "#### You try at home\n",
    "\n",
    "Consider the example above of 'Pick a Fruit at Random'. We defined a random variable $Y$ there as $Y(\\mbox{apple}) = 1$, $Y(\\mbox{orange}) = 0$, $Y(\\mbox{lemon}) = 0$. Using step by step arguments as done in the example of 'Sum of Two Dice' above, find the following probabilities for our random variable $Y$: \n",
    "$$\n",
    "\\begin{array}{lcl}\n",
    "P(Y=0) & = & P\\left(\\{\\omega: Y(\\omega) = \\quad \\}\\right)\\\\ & = & P\\left(Y^{[-1]} \\left( \\quad \\right)\\right)\\\\ &= & P(\\{\\quad , \\quad \\})\n",
    "\\end{array}\n",
    "$$\n",
    "\n",
    "[Watch the Khan Academy movie about random variables](http://www.youtube.com/v/IYdiKeQ9xEI)\n",
    "\n",
    "When we introduced the subject of probability, we said that many famous people had become interested in it from the point of view of gambling.   Games of dice are one of the earliest forms of gambling (probably deriving from an even earlier game which involved throwing animal 'ankle' bones or astragali).   Galileo was one of those who wrote about dice, including an important piece which explained what many experienced gamblers had sensed but had not been able to formalise - the difference between the probability of throwing a 9 and the probability of throwing a 10 with two dice.  You should be able to see why this is from our map above.  If you are interested you can read a translation (Galileo wrote in Latin) of Galileo's Sorpa le Scoperte Dei Dadi.   This is also printed in a nice book, Games, Gods and Gambling by F.N. David (originally published 1962, newer editions now available).\n",
    "\n",
    "### Implementing a Random Variable  \n",
    "\n",
    "We have made our own random variable map object in Sage called RV.  As with the Sage probability maps we looked at last week, it is based on a map or dictionary.  We specify the sample the samplespace and probabilities and the random variable map, MapX, from the samplespace to the values taken by the random variable $X$)."
   ]
  },
  {
   "cell_type": "code",
   "execution_count": 6,
   "metadata": {
    "collapsed": false
   },
   "outputs": [],
   "source": [
    "# create a class for a random variable map - just evaluate this cell and don't worry about understanding this now\n",
    "# This was coded by Jenny Harlow\n",
    "\n",
    "class RV(object):                # class definition\n",
    "    'Random variable class'\n",
    "    def __init__(self, sspace=[], probs=[], probmap=None, values=[]): # constructor with default args\n",
    "        \n",
    "        # provide default empty values which will be used if initialisation fails in try clause    \n",
    "        self.__rvmap = {}  # if error, rvmap is empty\n",
    "        self.__rvinvmap = {}  # if error, rvinvmap is empty\n",
    "        self.__rvprobmap = {}  # if error, rvprobmap is empty\n",
    "        self.__lastvalue = None     # for the last value for which a probability was calculated\n",
    "         \n",
    "        try: # make checks on the objects given as sspace and probs\n",
    "            if probmap == None: # no probability map provided\n",
    "               self.__probmap = ProbyMap(sspace=sspace, probs=probs) # make the probability map\n",
    "               \n",
    "            else:\n",
    "                assert isinstance(probmap, ProbyMap) # make sure probmap is a ProbyMap\n",
    "                self.__probmap = probmap # use the provided probability map\n",
    "                sspace=[]\n",
    "                for ev in self.__probmap.ref_probmap.keys():\n",
    "                    sspace.append(ev)\n",
    "            values_list = list(values) # make values into a list\n",
    "            assert len(self.__probmap.ref_probmap.keys()) == len(values_list) # 1 value for each event\n",
    "            \n",
    "            # if there has been no error make the rv map as private\n",
    "            self.__rvmap = dict(zip(list(sspace),values_list))\n",
    "                                        # map from sspace to random variable values\n",
    "            \n",
    "            self.__rvinvmap = {} # make an empty map for inverse map from rvs to lists of events\n",
    "            self.__rvprobmap = {} # and an empty map for the map from rvs to probabilities\n",
    "            for ev in self.__rvmap: # fill in the inverse map and rvmap\n",
    "                if self.__rvmap[ev] in self.__rvinvmap.keys(): # if the rv already there\n",
    "                    self.__rvinvmap[self.__rvmap[ev]].append(ev) # add the event to list\n",
    "                    self.__rvprobmap[self.__rvmap[ev]].append(self.__probmap.ref_probmap[ev]) # add proby\n",
    "                else:\n",
    "                    self.__rvinvmap[self.__rvmap[ev]] = [ev, ] # add entry\n",
    "                    self.__rvprobmap[self.__rvmap[ev]] = [self.__probmap.ref_probmap[ev], ] # add entry\n",
    "\n",
    "        except AssertionError:\n",
    "            print(\"Check your sample space, probabilities and random variable values\")\n",
    "        except TypeError as diag: \n",
    "            print(str(diag))\n",
    "        \n",
    "           \n",
    "    def __str__(self):                            # redefine printable string rep\n",
    "        'Printable representation of the object.'\n",
    "        return \"Inverse map from RV to events is \" + str(self.__rvinvmap)        \n",
    "        \n",
    "        \n",
    "    __repr__ = __str__\n",
    "    \n",
    "    def __printprobs(self): # method to create a printable representation of the rv probababilities\n",
    "        'Printable representation of the probabilities.'\n",
    "        num_keys = len(self.__rvprobmap.keys())\n",
    "        counter1 = 0\n",
    "        retval = 'RV probabilites map is {'\n",
    "        for each_key in self.__rvprobmap:\n",
    "            counter1 += 1\n",
    "            retval += str(each_key)\n",
    "            retval += ': ['\n",
    "            num_vals = len(self.__rvprobmap[each_key])\n",
    "            counter2 = 0\n",
    "            for val in self.__rvprobmap[each_key]:\n",
    "                counter2 += 1\n",
    "                retval += \"%.3f\" % val\n",
    "                if counter2 < num_vals:\n",
    "                    retval += ', '\n",
    "            retval += ']'        \n",
    "            if counter1 < num_keys:\n",
    "                retval += ', '\n",
    "        retval += '}'        \n",
    "        return retval\n",
    "    \n",
    "    def get_probmap(self):                        # get a deep copy of the probmap\n",
    "        return copy.deepcopy(self.__probmap)      # getter cannot alter object's map\n",
    "    \n",
    "    def get_rvmap(self):                          # get a deep copy of the rv map\n",
    "        return copy.deepcopy(self.__rvmap)        # getter cannot alter object's map\n",
    "    \n",
    "    def get_rvinvmap(self):                          # get a deep copy of the rvinv map\n",
    "        return copy.deepcopy(self.__rvinvmap)        # getter cannot alter object's map\n",
    "        \n",
    "    def get_rvprobmap(self):                          # get a deep copy of the rv prob map\n",
    "        return copy.deepcopy(self.__rvprobmap)        # getter cannot alter object's map\n",
    "                \n",
    "    probmap = property(get_probmap)\n",
    "    rvmap = property(get_rvmap)\n",
    "    rvinvmap = property(get_rvinvmap)\n",
    "    rvprobmap = property(get_rvprobmap)\n",
    "    \n",
    "    \n",
    "    def __pow__(self, x):\n",
    "        '''random variable exponentiated.'''\n",
    "        try:\n",
    "            # proby map is going to be this object's proby map\n",
    "            newvalues = [] # empty list for new values\n",
    "            for ev in self.__probmap.ref_probmap: # for each event\n",
    "                oldval = self.__rvmap[ev]         # find the value the event maps to\n",
    "                newval = oldval^x                 # take the function of the value\n",
    "                newvalues.append(newval)          # add the function of the value to the list of values\n",
    "            \n",
    "            self.__lastvalue = 'X'                # set the last calculation attribute on this RV to 'X'\n",
    "            return RV(probmap=self.__probmap, values=newvalues)       \n",
    "            \n",
    "        except TypeError:\n",
    "            print(\"Cannot raise to power \" + str(x))\n",
    "            return None\n",
    "            \n",
    "    def __add__(self, x):\n",
    "        '''random variable with number added.'''\n",
    "        try:\n",
    "            # proby map is going to be this object's proby map\n",
    "            newvalues = [] # empty list for new values\n",
    "            for ev in self.__probmap.ref_probmap: # for each event\n",
    "                oldval = self.__rvmap[ev]         # find the value the event maps to\n",
    "                newval = oldval+x                 # take the function of the value\n",
    "                newvalues.append(newval)          # add the function of the value to the list of values\n",
    "            \n",
    "            self.__lastvalue = 'X'                # set the last calculation attribute on this RV to 'X'\n",
    "            return RV(probmap=self.__probmap, values=newvalues)       \n",
    "            \n",
    "        except TypeError:\n",
    "            print(\"Cannot add\" + str(x))\n",
    "            return None      \n",
    "            \n",
    "    __radd__ = __add__         # adding object to number is same as adding number to object\n",
    "    \n",
    "    def __sub__(self, x):\n",
    "        '''random variable with number substracted.'''\n",
    "        try:\n",
    "            # proby map is going to be this object's proby map\n",
    "            newvalues = [] # empty list for new values\n",
    "            for ev in self.__probmap.ref_probmap: # for each event\n",
    "                oldval = self.__rvmap[ev]         # find the value the event maps to\n",
    "                newval = oldval-x                 # take the function of the value\n",
    "                newvalues.append(newval)          # add the function of the value to the list of values\n",
    "            \n",
    "            self.__lastvalue = 'X'                # set the last calculation attribute on this RV to 'X'\n",
    "            return RV(probmap=self.__probmap, values=newvalues)       \n",
    "            \n",
    "        except TypeError:\n",
    "            print(\"Cannot substract\" + str(x))\n",
    "            return None      \n",
    "            \n",
    "    def __rsub__(self, x):\n",
    "        '''number with random variable number substracted.'''\n",
    "        try:\n",
    "            # proby map is going to be this object's proby map\n",
    "            newvalues = [] # empty list for new values\n",
    "            for ev in self.__probmap.ref_probmap: # for each event\n",
    "                oldval = self.__rvmap[ev]         # find the value the event maps to\n",
    "                newval = x-oldval                 # take the function of the value\n",
    "                newvalues.append(newval)          # add the function of the value to the list of values\n",
    "            \n",
    "            self.__lastvalue = 'X'                # set the last calculation attribute on this RV to 'X'\n",
    "            return RV(probmap=self.__probmap, values=newvalues)       \n",
    "            \n",
    "        except TypeError:\n",
    "            print (\"Cannot substract rv from \" + str(x))\n",
    "            return None  \n",
    "            \n",
    "    def __mul__(self, x):\n",
    "        '''random variable multiplied by number.'''\n",
    "        try:\n",
    "            # proby map is going to be this object's proby map\n",
    "            newvalues = [] # empty list for new values\n",
    "            for ev in self.__probmap.ref_probmap: # for each event\n",
    "                oldval = self.__rvmap[ev]         # find the value the event maps to\n",
    "                newval = oldval*x                 # take the function of the value\n",
    "                newvalues.append(newval)          # add the function of the value to the list of values\n",
    "            \n",
    "            self.__lastvalue = 'X'                # set the last calculation attribute on this RV to 'X'\n",
    "            return RV(probmap=self.__probmap, values=newvalues)       \n",
    "            \n",
    "        except TypeError:\n",
    "            print (\"Cannot multiply by \" + str(x))\n",
    "            return None   \n",
    "            \n",
    "    __rmul__ = __mul__      # object multiplied by number is same as number multiplied by object\n",
    "    \n",
    "    def __div__(self, x):\n",
    "        '''random variable divided  by number.\n",
    "        \n",
    "        This performs true division.'''\n",
    "        try:\n",
    "            # proby map is going to be this object's proby map\n",
    "            newvalues = [] # empty list for new values\n",
    "            for ev in self.__probmap.ref_probmap: # for each event\n",
    "                oldval = self.__rvmap[ev]         # find the value the event maps to\n",
    "                newval = oldval/float(x)          # take the function of the value\n",
    "                newvalues.append(newval)          # add the function of the value to the list of values\n",
    "            \n",
    "            self.__lastvalue = 'X'                # set the last calculation attribute on this RV to 'X'\n",
    "            return RV(probmap=self.__probmap, values=newvalues)       \n",
    "            \n",
    "        except TypeError:\n",
    "            print (\"Cannot divide by \" + str(x))\n",
    "            return None \n",
    "            \n",
    "    def P(self, myval):\n",
    "        '''Return the probability of a value.'''\n",
    "        self.__lastvalue = None     # reset attribute lastvalue\n",
    "        retval = 0     # default return value\n",
    "        try:                              \n",
    "            assert myval in self.__rvprobmap.keys()\n",
    "            retval = sum(self.__rvprobmap[myval])\n",
    "            self.__lastvalue = myval     # set lastvalue to the value we just calculated proby for\n",
    "                                         # last value is used by explainLastCalc method\n",
    "                            \n",
    "        except TypeError as diag:\n",
    "            print (str(diag))\n",
    "        \n",
    "        except AssertionError:\n",
    "            retval = 0                    \n",
    "        return retval\n",
    "    \n",
    "    def explainLastCalc(self):  # return details of the calculation for the last probability calculated\n",
    "        if self.__lastvalue == 'X':\n",
    "            retvalue = \"Sorry, that calculation was on function of this RV, not the RV itself\"\n",
    "        elif self.__lastvalue == None:\n",
    "            retvalue = \"Sorry, no valid last calculation to explain\"\n",
    "        elif self.__lastvalue == 'E':\n",
    "            try:\n",
    "                num_keys = len(self.__rvprobmap.keys())\n",
    "                counter = 0\n",
    "                retvalue = str(self)\n",
    "                retvalue += ' and \\n'\n",
    "                retvalue += self.__printprobs()\n",
    "                retvalue += '\\nso E()'\n",
    "                retvalue += ' = '\n",
    "                for val in self.__rvprobmap:\n",
    "                    retvalue += \"(%.1f\" % val\n",
    "                    retvalue += ' multiplied by '\n",
    "                    retvalue += \"%.3f\" % sum(self.__rvprobmap[val])\n",
    "                    retvalue += ')'\n",
    "                    counter+=1\n",
    "                    if counter < num_keys:\n",
    "                        retvalue += '\\n+ '\n",
    "                retvalue += '\\nwhich is '\n",
    "                retvalue += \"%.2f\" % self.Exp()        \n",
    "            except TypeError as diag:\n",
    "                retvalue = \"Error, \" + str(diag)\n",
    "        elif self.__lastvalue == 'V':\n",
    "            try:\n",
    "                num_keys = len(self.__rvprobmap.keys())\n",
    "                counter = 0\n",
    "                mean = self.Exp()\n",
    "                retvalue = str(self)\n",
    "                retvalue += ' and \\n'\n",
    "                retvalue += self.__printprobs()\n",
    "                retvalue += '\\nso Var()'\n",
    "                retvalue += ' = '\n",
    "                for val in self.__rvprobmap:\n",
    "                    retvalue += \"((%.1f - %.2f)^2\" % (val, mean)\n",
    "                    retvalue += ' multiplied by '\n",
    "                    retvalue += \"%.3f\" % sum(self.__rvprobmap[val])\n",
    "                    retvalue += ')'\n",
    "                    counter+=1\n",
    "                    if counter < num_keys:\n",
    "                        retvalue += '\\n+ '\n",
    "                retvalue += '\\n'\n",
    "                retvalue += \"where %.2f is the mean,\" % mean\n",
    "                retvalue += '\\nso the variance is '\n",
    "                retvalue += \"%.2f\" % self.Variance()        \n",
    "            except TypeError as diag:\n",
    "                retvalue = \"Error, \" + str(diag)\n",
    "        else:\n",
    "            try:\n",
    "                retvalue = str(self)\n",
    "                retvalue += ' and \\n'\n",
    "                retvalue += self.__printprobs()\n",
    "                retvalue += '\\nso P('\n",
    "                retvalue += str(self.__lastvalue)\n",
    "                retvalue += ') = '\n",
    "                retvalue += ' the sum of the probabilities '\n",
    "                retvalue += str(self.__lastvalue)\n",
    "                retvalue += ' maps to, which is '\n",
    "                retvalue += \"%.2f\" % self.P(self.__lastvalue)\n",
    "            except TypeError as diag:\n",
    "                retvalue = \"Error: Probably invalid value\"\n",
    "            \n",
    "        print (retvalue)\n",
    "\n",
    "            \n",
    "            \n",
    "    def Exp(self):\n",
    "        '''Return the expectation of this RV.'''\n",
    "        self.__lastvalue = None     # reset attribute lastvalue\n",
    "        retval = 0     # default return value\n",
    "        try:\n",
    "            for val in self.__rvprobmap:\n",
    "                retval += val * sum(self.__rvprobmap[val])                              \n",
    "            self.__lastvalue = 'E'     # set attribute lastvalue                           \n",
    "        except TypeError as diag:\n",
    "            print (str(diag))\n",
    "            retval = None      \n",
    "        \n",
    "        return float(retval)\n",
    "        \n",
    "    def Variance(self):\n",
    "        '''Return the variance of this RV.'''\n",
    "        self.__lastvalue = None     # reset attribute lastvalue\n",
    "        retval = 0     # default return value\n",
    "        try:\n",
    "            for val in self.__rvprobmap:\n",
    "                retval += val^2 * sum(self.__rvprobmap[val])\n",
    "            retval = retval - (self.Exp())^2                                  \n",
    "            self.__lastvalue = 'V'     # set attribute lastvalue                           \n",
    "        except TypeError as diag:\n",
    "            print (str(diag))\n",
    "            retval = None      \n",
    "        \n",
    "        return float(retval)\n",
    "           \n",
    "# the class has ended here, now we have definitions outside the class\n",
    "                                           \n",
    "def E(obj):\n",
    "    try:\n",
    "        assert isinstance(obj, RV)\n",
    "        retvalue = obj.Exp()\n",
    "    except AssertionError:\n",
    "        print (\"Sorry: can only do expectations on RVs\")\n",
    "        retvalue = None\n",
    "    return retvalue \n",
    "    \n",
    "def Var(obj):\n",
    "    try:\n",
    "        assert isinstance(obj, RV)\n",
    "        retvalue = obj.Variance()\n",
    "    except AssertionError:\n",
    "        print (\"Sorry: can only do variances on RVs\")\n",
    "        retvalue = None\n",
    "    return retvalue\n",
    "\n",
    "# create a class for a probability map - if you are new to SageMath/Python just evaluate and skip this cell\n",
    "# This was coded by Jenny Harlow\n",
    "\n",
    "import copy\n",
    "class ProbyMap(object):                # class definition\n",
    "    'Probability map class'\n",
    "    def __init__(self, sspace, probs): # constructor\n",
    "        self.__probmap = {}  # default probmap is empty\n",
    "        # make checks on the objects given as sspace and probs\n",
    "        try:                           \n",
    "            sspace_set = set(sspace) # check that we can make the sample space into a set\n",
    "            assert len(sspace_set) == len(sspace) # and not lose any elements\n",
    "            prob_list = list(probs) # and we can make the probs into a list\n",
    "            probsum = sum(prob_list) # and we can sum the probs\n",
    "            assert probsum == 1 # and the probs sum to 1\n",
    "            assert len(prob_list) == len(sspace_set) # and there is proby for each event\n",
    "            \n",
    "            self.__probmap = dict(zip(list(sspace),prob_list))    # map from sspace to probs\n",
    "                    \n",
    "        except TypeError as diag: # if there any problems with types\n",
    "            init_error = 1\n",
    "            print (str(diag))\n",
    "            \n",
    "        except AssertionError:\n",
    "            init_error = 1\n",
    "            print (\"Check sample space and probabilities\")\n",
    "            \n",
    "                  \n",
    "    def P(self, events):\n",
    "        '''Return the probability of an event or set of events.\n",
    "        \n",
    "        events is set of events in the sample space to calculate the probability for.'''\n",
    "        \n",
    "        retvalue = 0\n",
    "        try:                              \n",
    "            events_set = set(events) # check we can make a set out of the events\n",
    "            assert len(events_set) == len(events) # and not lose any events\n",
    "            assert events_set <= set(self.__probmap.keys()) # events subset of sample space\n",
    "        \n",
    "            for ev in events:     # add each mapped probability to the return value\n",
    "                retvalue += self.__probmap[ev]\n",
    "                \n",
    "        except TypeError as diag:\n",
    "            print (str(diag))\n",
    "        \n",
    "        except AssertionError:\n",
    "            print (\"Check your events\")\n",
    "        \n",
    "        return retvalue\n",
    "        \n",
    "    def __str__(self):                            # redefine printable string rep\n",
    "        'Printable representation of the object.'\n",
    "        num_keys = len(self.__probmap.keys())\n",
    "        counter = 0\n",
    "        retval = '{'\n",
    "        for each_key in self.__probmap:\n",
    "            counter += 1\n",
    "            retval += str(each_key)\n",
    "            retval += ': '\n",
    "            retval += \"%.3f\" % self.__probmap[each_key]\n",
    "            if counter < num_keys:\n",
    "                retval += ', '\n",
    "        retval += '}'        \n",
    "                \n",
    "        return retval\n",
    "        \n",
    "    __repr__ = __str__\n",
    "        \n",
    "    def get_probmap(self):                        # get a deep copy of the proby map\n",
    "        return copy.deepcopy(self.__probmap)      # getter cannot alter object's map\n",
    "    \n",
    "    probmap = property(get_probmap)               # allow read access via .probmap\n",
    "    \n",
    "    def get_ref_probmap(self):                    # get a reference to the real probmap\n",
    "        return self.__probmap                     # getter can alter the object's map\n",
    "        \n",
    "    \n",
    "    ref_probmap = property(get_ref_probmap)       # allow access via .ref_probmap\n",
    "    \n",
    "    @staticmethod\n",
    "    def dictExp(big_map, small_map):\n",
    "        '''Internal helper function for __pow__(...).\n",
    "        \n",
    "        Takes two proby map dictionaries and returns one mult by other.'''\n",
    "        new_bl = {}\n",
    "        for sle in small_map:\n",
    "            for ble in big_map:\n",
    "                new_key = str(ble) + ' ' + str (sle)\n",
    "                new_bl[new_key] = big_map[ble]*small_map[sle]\n",
    "        return new_bl\n",
    "        \n",
    "    def __pow__(self, x):\n",
    "        '''probability map exponentiated.'''\n",
    "        try:\n",
    "            assert isinstance(x, Integer)\n",
    "            pmap = copy.deepcopy(self.__probmap) # copy the probability map dictionary\n",
    "            new_pmap = copy.deepcopy(self.__probmap) # and another copy\n",
    "            for i in range(x-1):\n",
    "                new_pmap = self.dictExp(new_pmap, pmap)\n",
    "            \n",
    "            return ProbyMap(new_pmap.keys(), new_pmap.values())       \n",
    "            \n",
    "        except AssertionError:\n",
    "            print (\"cannot raise to non-integer power\")\n",
    "            return None"
   ]
  },
  {
   "cell_type": "markdown",
   "metadata": {
    "collapsed": false
   },
   "source": [
    "### Example 1: fruit bowl experiments\n",
    "\n",
    "We are going to use our class 'RV' above and the fruit bowl example, and the random variable $X$  to give each kind of fruit a numerical value: $X(\\mbox{apple}) = 1$, $X(\\mbox{orange}) = X(\\mbox{lemon}) = 0$   This is a discrete random variable because it can only take a finite number of discrete values (in this case, either 1 or 0). \n",
    "\n",
    "(You don't have to worry about how RV works: it is our 'home-made' class for you to try out.)"
   ]
  },
  {
   "cell_type": "code",
   "execution_count": 7,
   "metadata": {
    "collapsed": false
   },
   "outputs": [
    {
     "name": "stdout",
     "output_type": "stream",
     "text": [
      "defined samplespace, probabilities, and mapX\n"
     ]
    }
   ],
   "source": [
    "# the sample space set as a list of outcomes\n",
    "samplespace = ['apple', 'orange', 'lemon']\n",
    "# the corresponding list of outcome probabilities\n",
    "probabilities = [3/6, 2/6, 1/6]\n",
    "# list of image values corresponding to the list of outcomes \n",
    "# taken by the random variable X (1 if we pick an apple and 0 otherwise)\n",
    "mapX = [1, 0, 0]\n",
    "print(\"defined samplespace, probabilities, and mapX\")"
   ]
  },
  {
   "cell_type": "markdown",
   "metadata": {
    "collapsed": false
   },
   "source": [
    "To make an RV, we can specify the lists for the sample space, the probabilities, and the random variable values associated with each outcome.   Since there are three different lists here, we can make things clearer by actually saying what each list is.   The RV we create in the cell below is going to be called X."
   ]
  },
  {
   "cell_type": "code",
   "execution_count": 8,
   "metadata": {
    "collapsed": false
   },
   "outputs": [
    {
     "data": {
      "text/plain": [
       "Inverse map from RV to events is {1: ['apple'], 0: ['orange', 'lemon']}"
      ]
     },
     "execution_count": 8,
     "metadata": {},
     "output_type": "execute_result"
    }
   ],
   "source": [
    "X = RV(sspace=samplespace, probs=probabilities, values=mapX) # this random variable will be called X\n",
    "X # disclose the representation of the random variable X"
   ]
  },
  {
   "cell_type": "markdown",
   "metadata": {
    "collapsed": false
   },
   "source": [
    "We can get probabilities using the syntax `X.P(x)` to find $P(X=x)$.  "
   ]
  },
  {
   "cell_type": "code",
   "execution_count": 11,
   "metadata": {
    "collapsed": false
   },
   "outputs": [
    {
     "data": {
      "text/plain": [
       "1/2"
      ]
     },
     "execution_count": 11,
     "metadata": {},
     "output_type": "execute_result"
    }
   ],
   "source": [
    "X.P(1)     # find the probability that X is 1"
   ]
  },
  {
   "cell_type": "code",
   "execution_count": 12,
   "metadata": {
    "collapsed": false
   },
   "outputs": [
    {
     "name": "stdout",
     "output_type": "stream",
     "text": [
      "Inverse map from RV to events is {1: ['apple'], 0: ['orange', 'lemon']} and \n",
      "RV probabilites map is {1: [0.500], 0: [0.333, 0.167]}\n",
      "so P(1) =  the sum of the probabilities 1 maps to, which is 0.50\n"
     ]
    }
   ],
   "source": [
    "X.explainLastCalc()     # print out the values used in the calculation of the probability that X = 1"
   ]
  },
  {
   "cell_type": "markdown",
   "metadata": {
    "collapsed": false
   },
   "source": [
    "You have seen that different random variables can be defined on the same probability space, i.e., the sample space and the associated probability map, depending on how the outcomes are mapped to real values taken by the random variable.   Usually there is some good experimental or mathematical reason for the particular random variable (i.e., event-to-value-mappings) that we use.   In the experiment we just did we could have been an experimenter particularly interested in citrus fruit but not concerned with what particular kind of citrus it is.\n",
    "\n",
    "On the other hand, what if we want to differentiate between each fruit in the sample space?   Then we could give each fruit-outcome a different value."
   ]
  },
  {
   "cell_type": "code",
   "execution_count": 13,
   "metadata": {
    "collapsed": false
   },
   "outputs": [
    {
     "name": "stdout",
     "output_type": "stream",
     "text": [
      "defined sample space, probabilities, and mapZ\n"
     ]
    }
   ],
   "source": [
    "# the sample space set as a list of outcomes\n",
    "samplespace = ['apple', 'orange', 'lemon']\n",
    "# the corresponding list of outcome probabilities\n",
    "probabilities = [3/6, 2/6, 1/6]\n",
    "# list of image values corresponding to the list of outcomes \n",
    "# map for another random variable is 1, 2, 3 if the fruit we pick is apple, orange or lemon, respectively.\n",
    "mapZ = [1, 2, 3]\n",
    "\n",
    "print(\"defined sample space, probabilities, and mapZ\")"
   ]
  },
  {
   "cell_type": "code",
   "execution_count": 14,
   "metadata": {
    "collapsed": false
   },
   "outputs": [
    {
     "data": {
      "text/plain": [
       "Inverse map from RV to events is {1: ['apple'], 2: ['orange'], 3: ['lemon']}"
      ]
     },
     "execution_count": 14,
     "metadata": {},
     "output_type": "execute_result"
    }
   ],
   "source": [
    "Z = RV(sspace=samplespace, probs=probabilities, values=mapZ) # this random variable will be called Z\n",
    "Z # disclose the representation of the random variable Z"
   ]
  },
  {
   "cell_type": "code",
   "execution_count": 15,
   "metadata": {
    "collapsed": false
   },
   "outputs": [
    {
     "data": {
      "text/plain": [
       "(1/2, 1/3, 1/6)"
      ]
     },
     "execution_count": 15,
     "metadata": {},
     "output_type": "execute_result"
    }
   ],
   "source": [
    "Z.P(1), Z.P(2), Z.P(3) # find the probability that Z=1, Z=2, Z=3"
   ]
  },
  {
   "cell_type": "markdown",
   "metadata": {
    "collapsed": false
   },
   "source": [
    "### Example 2: Coin toss experiments\n",
    "\n",
    "An experiment that is used a lot in examples is the coin toss experiment.   If we toss a fair coin once, the sample space is either head (denoted here as H) or tail (T).   The probability of a head is a half and the probability of tail is a half.\n",
    "\n",
    "We can do the probability map for this as one of our `ProbyMap` objects."
   ]
  },
  {
   "cell_type": "code",
   "execution_count": 16,
   "metadata": {
    "collapsed": false
   },
   "outputs": [
    {
     "data": {
      "text/plain": [
       "{H: 0.500, T: 0.500}"
      ]
     },
     "execution_count": 16,
     "metadata": {},
     "output_type": "execute_result"
    }
   ],
   "source": [
    "samplespace = ['H', 'T']     # sample space is the result of one coin toss\n",
    "probabilities = [1/2,1/2]     # probabilities for a fair coin\n",
    "probMapCoinToss = ProbyMap(sspace = samplespace, probs=probabilities)\n",
    "# disclose the representation of the probability map from a one-coin toss sample space to the probabilities\n",
    "probMapCoinToss"
   ]
  },
  {
   "cell_type": "markdown",
   "metadata": {
    "collapsed": false
   },
   "source": [
    "Let's have a random variable called oneHead that takes the value 1 if we get one head, 0 otherwise and simulate this with an RV object. "
   ]
  },
  {
   "cell_type": "code",
   "execution_count": 17,
   "metadata": {
    "collapsed": false
   },
   "outputs": [
    {
     "data": {
      "text/plain": [
       "Inverse map from RV to events is {1: ['H'], 0: ['T']}"
      ]
     },
     "execution_count": 17,
     "metadata": {},
     "output_type": "execute_result"
    }
   ],
   "source": [
    "mapOneHead = [1, 0]     # map for a random variable is 1 if the result is a head, 0 if it is a tail\n",
    "oneHead = RV(sspace=samplespace, probs=probabilities, values=mapOneHead) # this random variable will be called OneHead\n",
    "oneHead     # disclose the representation of the random variable OneHead"
   ]
  },
  {
   "cell_type": "code",
   "execution_count": 18,
   "metadata": {
    "collapsed": false
   },
   "outputs": [
    {
     "data": {
      "text/plain": [
       "1/2"
      ]
     },
     "execution_count": 18,
     "metadata": {},
     "output_type": "execute_result"
    }
   ],
   "source": [
    "oneHead.P(1)     # find the probability that the random variable oneHead = 1"
   ]
  },
  {
   "cell_type": "markdown",
   "metadata": {
    "collapsed": false
   },
   "source": [
    "One toss is not very interesting.   \n",
    "What if we we have a sample space that is the possible outcomes of two independent tosses of the same coin?"
   ]
  },
  {
   "cell_type": "code",
   "execution_count": 19,
   "metadata": {
    "collapsed": false
   },
   "outputs": [
    {
     "data": {
      "text/plain": [
       "{H H: 0.250, T H: 0.250, H T: 0.250, T T: 0.250}"
      ]
     },
     "execution_count": 19,
     "metadata": {},
     "output_type": "execute_result"
    }
   ],
   "source": [
    "# we can 'square' our probability map from for one coin toss to get the map for two tosses of the coin\n",
    "probMapTwoCoinTosses = probMapCoinToss^2     \n",
    "# disclose the map from the events for two coin tosses to the probabilities (the probability map)\n",
    "probMapTwoCoinTosses"
   ]
  },
  {
   "cell_type": "markdown",
   "metadata": {
    "collapsed": false
   },
   "source": [
    "Tossing the coin twice and looking at the results of each toss in order is a different experiment to tossing the coin once.\n",
    "\n",
    "We have a different set of possible outcomes, $\\{HH, HT, TH, TT\\}$.   Note that the order matters:   getting a head in the first toss and a tail in the second ($HT$) is a different event to getting a tail in the first toss and a head in the second ($TH$).\n",
    "\n",
    "We can define a different random variable on this set of outcomes.   Let's take an experimenter who is particularly interested in the number of heads we get in two tosses."
   ]
  },
  {
   "cell_type": "code",
   "execution_count": 20,
   "metadata": {
    "collapsed": false
   },
   "outputs": [
    {
     "data": {
      "text/plain": [
       "Inverse map from RV to events is {2: ['H H'], 1: ['T H', 'H T'], 0: ['T T']}"
      ]
     },
     "execution_count": 20,
     "metadata": {},
     "output_type": "execute_result"
    }
   ],
   "source": [
    "mapHeadsInTwoTosses = [2, 1, 1 ,0] # map for a random variable is the number of heads in two tosses\n",
    "headsInTwoTosses=RV(probmap=probMapTwoCoinTosses, values=mapHeadsInTwoTosses) # this random variable will be called HeadsInTwoTosses\n",
    "headsInTwoTosses # disclose the representation of the random variable headsInTwoTosses"
   ]
  },
  {
   "cell_type": "markdown",
   "metadata": {
    "collapsed": false
   },
   "source": [
    "As you can see, two different events in the sample space, a head and then a tail ($HT$) and a tail and then a head ($TH$) both give this  random variable a value of 1.   The event $HH$ gives it a value 2 (2 heads) and the event $TT$ gives it a value 0 (no heads).\n",
    "\n",
    "Now we can try the probabilities."
   ]
  },
  {
   "cell_type": "code",
   "execution_count": 21,
   "metadata": {
    "collapsed": false
   },
   "outputs": [
    {
     "data": {
      "text/plain": [
       "1/4"
      ]
     },
     "execution_count": 21,
     "metadata": {},
     "output_type": "execute_result"
    }
   ],
   "source": [
    "headsInTwoTosses.P(0) # probability that headsInTwoTosses = 0"
   ]
  },
  {
   "cell_type": "code",
   "execution_count": 22,
   "metadata": {
    "collapsed": false
   },
   "outputs": [
    {
     "data": {
      "text/plain": [
       "1/2"
      ]
     },
     "execution_count": 22,
     "metadata": {},
     "output_type": "execute_result"
    }
   ],
   "source": [
    "headsInTwoTosses.P(1) # probability that headsInTwoTosses = 1"
   ]
  },
  {
   "cell_type": "code",
   "execution_count": 23,
   "metadata": {
    "collapsed": false
   },
   "outputs": [
    {
     "data": {
      "text/plain": [
       "1/4"
      ]
     },
     "execution_count": 23,
     "metadata": {},
     "output_type": "execute_result"
    }
   ],
   "source": [
    "headsInTwoTosses.P(2) # probability that headsInTwoTosses = 2"
   ]
  },
  {
   "cell_type": "code",
   "execution_count": 0,
   "metadata": {
    "collapsed": true
   },
   "outputs": [],
   "source": []
  },
  {
   "cell_type": "markdown",
   "metadata": {
    "collapsed": false
   },
   "source": [
    "### The indicator function\n",
    "\n",
    "The indicator function of an event $A \\in \\mathcal{F}$, denoted $\\mathbf{1}_A$, is defined as follows:\n",
    "\n",
    "\n",
    "\\begin{equation}\n",
    "\\mathbf{1}_A(\\omega) :=\n",
    "\\begin{cases}\n",
    "1 & \\qquad \\text{if} \\quad \\omega \\in A \\\\\n",
    "0 & \\qquad \\text{if} \\quad \\omega \\notin A\n",
    "\\end{cases}\n",
    "\\end{equation}\n",
    "\n",
    "\n",
    "The indicator function $\\mathbf{1}_A$ is really an RV.\n",
    "\n",
    "#### Example\n",
    "\n",
    "\"Will it rain tomorrow in the Southern Alps?\" can be formulated as the RV given by the indicator function of the event \"rain drops fall on the Southern Alps tomorrow\".  Can you imagine what the $\\omega$'s in the sample space $\\Omega$ can be?\n",
    "\n",
    "### Probability Mass Function\n",
    "\n",
    "Recall that a discrete RV $X$ takes on at most countably many values in $\\mathbb{R}$. \n",
    "\n",
    "The probability mass function (PMF) $f$ of a discrete RV $X$ is :\n",
    "\n",
    "$$f(x) := P(X=x) = P\\left(\\{\\omega: X(\\omega) = x \\}\\right)$$\n",
    "\n",
    "### Bernoulli random variable\n",
    "\n",
    "The Bernoulli RV is a $\\theta$-parameterised family of $\\mathbf{1}_A$.  \n",
    "\n",
    "Take an event $A$.  The parameter $\\theta$ (pronounced 'theta) denotes the probability that \"$A$ occurs\", i.e., $P(A) = \\theta$.\n",
    "\n",
    "The indicator function $\\mathbf{1}_A$ of \"$A$ occurs\" is the $Bernoulli(\\theta)$ RV. \n",
    "\n",
    "\n",
    "Given a parameter $\\theta \\in [0,1]$, the probability mass function (PMF) for the $Bernoulli(\\theta)$ RV $X$ is:\n",
    "\n",
    "\\begin{equation}\n",
    "f(x;\\theta)= \\theta^x (1-\\theta)^{1-x} \\mathbf{1}_{\\{0,1\\}}(x) =\n",
    "\\begin{cases}\n",
    "\\theta & \\text{if $x=1$,}\\\\\n",
    "1-\\theta & \\text{if $x=0$,}\\\\\n",
    "0 & \\text{otherwise}\n",
    "\\end{cases}\n",
    "\\end{equation}\n",
    "\n",
    "\n",
    "\n",
    "and its DF is:\n",
    "\n",
    "\n",
    "\\begin{equation}\n",
    "F(x;\\theta) =\n",
    "\\begin{cases}\n",
    "1 & \\text{if }1 \\le x \\text{,}\\\\\n",
    "1-\\theta & \\text{if } 0 \\le x < 1\\text{,}\\\\\n",
    "0 & \\text{otherwise}\n",
    "\\end{cases}\n",
    "\\end{equation}\n",
    "\n",
    "\n",
    "\n",
    "We emphasise the dependence of the probabilities on the parameter $\\theta$ by specifying it following the semicolon in the argument for $f$ and $F$ and by subscripting the probabilities, i.e. $P_{\\theta}(X=1)=\\theta$ and $P_{\\theta}(X=0)=1-\\theta$.\n",
    "\n"
   ]
  },
  {
   "cell_type": "markdown",
   "metadata": {
    "collapsed": false
   },
   "source": [
    "#### Draw the PMF $f(x;\\theta)$ for $Bernoulli(\\theta)$ RV by hand now!\n",
    "\n",
    "<br/><br/><br/><br/><br/><br/><br/><br/><br/><br/>\n",
    "\n",
    "\n",
    "#### Draw the DF $F(x;\\theta)$ for $Bernoulli(\\theta)$ RV by hand now!\n",
    "\n",
    "<br/><br/><br/><br/><br/><br/><br/><br/><br/><br/>\n"
   ]
  },
  {
   "cell_type": "markdown",
   "metadata": {
    "collapsed": false
   },
   "source": [
    "## Control structures in python and relation to random variables"
   ]
  },
  {
   "cell_type": "markdown",
   "metadata": {
    "collapsed": false
   },
   "source": [
    "### For loops\n",
    "\n",
    "*For loops* are a very useful way that most computer programming languages provide to allow us to repeat the same action.   In Sage, you can use a for loop on a list to just go through the elements in the list, doing something with each element in turn.\n",
    "\n",
    "The SageMath/Python syntax for a *for loop* is:\n",
    "\n",
    "1. Start with the keyword `for`\n",
    "- Then we use a kind of temporary variable which is going to take each value in the list, one by one, in order. In the example below we use the name x for this variable and write for x in myList.\n",
    "- After we have specified what we are looping through, we end the line with a colon `:` before continuing to the next line.\n",
    "- Now, we are ready to write the body of the for loop.   In the body, we put whatever we want to actually do with each value as we loop through.   Remember when we defined a function, and the function body was indented?  It's the same here:   the body is a block of code which is indented (the Sage standard indentation for block is 4 spaces).\n",
    "- Indicate to Sage when your for loop has ended by moving the beginning of the line following the for loop back so that is it aligned with the for which started the whole loop.\n",
    "\n",
    " \n",
    "The cell below gives a very simple example using a list."
   ]
  },
  {
   "cell_type": "code",
   "execution_count": 21,
   "metadata": {
    "collapsed": false,
    "scrolled": true
   },
   "outputs": [
    {
     "name": "stdout",
     "output_type": "stream",
     "text": [
      "1\n",
      "3\n",
      "6\n",
      "4\n",
      "2\n",
      "end of my first for loop\n"
     ]
    }
   ],
   "source": [
    "# a simple routine to print every number in a list\n",
    "myList = [1, 3, 6, 4, 2]\n",
    "\n",
    "for x in myList:            # this statement will just go through the list in order.\n",
    "                            # Note the :\n",
    "                            # each element in turn is assigned to the variable x\n",
    "    print(x)                 # body of the for loop (just one line in this case)\n",
    " \n",
    "print('end of my first for loop')  # not in the body of loop because it is not indented"
   ]
  },
  {
   "cell_type": "markdown",
   "metadata": {
    "collapsed": false
   },
   "source": [
    "If we wanted to do this for any list, we could write a simple function that takes any list we give it and puts it through a for loop, like the function below."
   ]
  },
  {
   "cell_type": "code",
   "execution_count": 23,
   "metadata": {
    "collapsed": false
   },
   "outputs": [],
   "source": [
    "def myPrintListFunc(ll):                               # start defining the function\n",
    "    '''A simple function to print a given list.'''     # the docstring for the function\n",
    "    for x in ll:                                       # body of the function starts\n",
    "        print(x)                                        # body of loop is indented again"
   ]
  },
  {
   "cell_type": "markdown",
   "metadata": {
    "collapsed": false
   },
   "source": [
    "Notice that we start indenting with 4 spaces when we write the function body.   Then, when we have the for loop inside the function body, we just indent the body of the for loop again.\n",
    "\n",
    "Sage needs the indentation to help it to know what is in a function, or a for loop, and what is outside, but indentation also helps us as programmers to be able to look at a piece of code and easily see what is going on.\n",
    "\n",
    "Let's try our function on another list."
   ]
  },
  {
   "cell_type": "code",
   "execution_count": 24,
   "metadata": {
    "collapsed": false
   },
   "outputs": [
    {
     "name": "stdout",
     "output_type": "stream",
     "text": [
      "20\n",
      "24\n",
      "46\n",
      "print appended list\n",
      "20\n",
      "24\n",
      "46\n",
      "22\n"
     ]
    }
   ],
   "source": [
    "anotherList = [20, 24, 46]\n",
    "myPrintListFunc(anotherList)\n",
    "anotherList.append(22)\n",
    "print(\"print appended list\")\n",
    "myPrintListFunc(anotherList)"
   ]
  },
  {
   "cell_type": "markdown",
   "metadata": {
    "collapsed": false
   },
   "source": [
    "We have just programmed a basic for loop with a list.   We can do much more than this with for loops, but this covers the essentials that we need to know.   The important thing to remember is that whenever you have a list, you can easily write a for loop to go through each element in turn and do something with it.\n",
    "\n",
    "#### You try\n",
    "\n",
    "#### Example 3: For loops\n",
    "\n",
    "Try first assigning the value 0 to a variable named `mySum` and then making yourself a list (you pick what it is called and what values it contains) and then looping through the list, adding each element in the list to `mySum`.  When the loop has finished, the value of `mySum` will be the accumulated value of all the elements in the list. "
   ]
  },
  {
   "cell_type": "code",
   "execution_count": 25,
   "metadata": {
    "collapsed": false
   },
   "outputs": [],
   "source": [
    "mySum = 0\n",
    "myList22 = [1,2,3,4]"
   ]
  },
  {
   "cell_type": "code",
   "execution_count": 26,
   "metadata": {
    "collapsed": false
   },
   "outputs": [
    {
     "name": "stdout",
     "output_type": "stream",
     "text": [
      "10\n"
     ]
    }
   ],
   "source": [
    "for x in myList22:\n",
    "    #print mySum\n",
    "    mySum=x+mySum\n",
    "    #print mySum\n",
    "print(mySum)"
   ]
  },
  {
   "cell_type": "markdown",
   "metadata": {
    "collapsed": false
   },
   "source": [
    "What about defining a function to accumulate the values in a list?  Remember to give your function a good name, and include the docstring to tell everyone what it does. "
   ]
  },
  {
   "cell_type": "code",
   "execution_count": 0,
   "metadata": {
    "collapsed": true
   },
   "outputs": [],
   "source": []
  },
  {
   "cell_type": "code",
   "execution_count": 0,
   "metadata": {
    "collapsed": true
   },
   "outputs": [],
   "source": []
  },
  {
   "cell_type": "markdown",
   "metadata": {
    "collapsed": false
   },
   "source": [
    "Try out your function!"
   ]
  },
  {
   "cell_type": "code",
   "execution_count": 0,
   "metadata": {
    "collapsed": true
   },
   "outputs": [],
   "source": []
  },
  {
   "cell_type": "markdown",
   "metadata": {
    "collapsed": false
   },
   "source": [
    "A for loop can be used on more than just a list.  For example, try a loop with the set S we make below - you can try making a loop to print the elements in the set one by one, as we did above, or to accumulate them, or do anything else you think is sensible ...."
   ]
  },
  {
   "cell_type": "code",
   "execution_count": 27,
   "metadata": {
    "collapsed": false
   },
   "outputs": [
    {
     "data": {
      "text/plain": [
       "{5, 10, 15, 70}"
      ]
     },
     "execution_count": 27,
     "metadata": {},
     "output_type": "execute_result"
    }
   ],
   "source": [
    "S=set([5,10,15, 70])     # make the set S \n",
    "S             # display the set S"
   ]
  },
  {
   "cell_type": "markdown",
   "metadata": {
    "collapsed": false
   },
   "source": [
    "Loop over the set and do something."
   ]
  },
  {
   "cell_type": "code",
   "execution_count": 28,
   "metadata": {
    "collapsed": false
   },
   "outputs": [
    {
     "name": "stdout",
     "output_type": "stream",
     "text": [
      "10\n",
      "5\n",
      "70\n",
      "15\n"
     ]
    }
   ],
   "source": [
    "for x in S:\n",
    "    print(x)"
   ]
  },
  {
   "cell_type": "markdown",
   "metadata": {
    "collapsed": false
   },
   "source": [
    "You can even use a for loop on a string like \"thisisastring\", but this is not as useful for us as being able to use a for loop on a list or set. \n",
    "\n",
    "We can use the `range` function we met last week to make a for loop that will do something a specified number of times.  Remind yourself about the range function:\n"
   ]
  },
  {
   "cell_type": "code",
   "execution_count": 29,
   "metadata": {
    "collapsed": false
   },
   "outputs": [
    {
     "data": {
      "text/plain": [
       "range(0, 10)"
      ]
     },
     "execution_count": 29,
     "metadata": {},
     "output_type": "execute_result"
    }
   ],
   "source": [
    "counter = range(10)    # reminder about range\n",
    "counter"
   ]
  },
  {
   "cell_type": "markdown",
   "metadata": {
    "collapsed": false
   },
   "source": [
    "Now let's use the counter idea do a specified number of rolls of the die that we can simulate with `randint(1,6)`.  Notice that here the actual value of the elements in the list is not being used directly: the list is being used like a counter to make sure that we do something a specified number of times."
   ]
  },
  {
   "cell_type": "code",
   "execution_count": 30,
   "metadata": {
    "collapsed": false
   },
   "outputs": [
    {
     "name": "stdout",
     "output_type": "stream",
     "text": [
      "Number on die is  3\n",
      "Number on die is  2\n",
      "Number on die is  6\n",
      "Number on die is  6\n",
      "Number on die is  4\n",
      "Number on die is  6\n",
      "Number on die is  1\n",
      "Number on die is  3\n",
      "Number on die is  1\n",
      "Number on die is  2\n"
     ]
    }
   ],
   "source": [
    "for c in range(10):\n",
    "    dieResult = randint(1,6)\n",
    "    print(\"Number on die is \", dieResult)"
   ]
  },
  {
   "cell_type": "markdown",
   "metadata": {
    "collapsed": false
   },
   "source": [
    "### Conditional statements\n",
    "\n",
    "A conditional statement is also known as an if statement or if-else statement.   And it's basically as simple as that:   if [some condition] is true then do [something].   To make it more powerful, we can also say else (ie, if not), then do [a different something].\n",
    "\n",
    "The if statement syntax is a way of putting into a programming language a way of thinking that we use every day:   E.g. \"if it is raining, I'll take the bus to uni; else I'll walk\".\n",
    "\n",
    "You'll notice that when we have an if statement, what we do depends on whether the condition we specify is true or false (i.e. is conditional on this expression).   This is why if statements are called conditional statements.\n",
    "\n",
    "When we say \"depends on whether the condition we specify is true or false\", in SageMath terms we are talking about whether the expression we specify as our condition evaluates to the Boolean true or the Boolean false.   Remember those Boolean values, true and false, that we talked about in Lab 1?\n",
    "\n",
    "The SageMath syntax for a conditional statement including if and else clauses is explained below:\n",
    "\n",
    "1. Start with the keyword `if`\n",
    "- Immediately after keyword `if` we specify the condition that determines what happens next.   The condition therefore has to be the kind of truth statement we talked about in Lab 1, an expression which SageMath can evaluate as either Boolean `true` or Boolean `false`.   The examples below will make this a bit clearer.\n",
    "- After we have specified the condition, we end the line with a colon `:` before continuing to the next line.\n",
    "- Now, immediately below the line that starts if, we give the code that says what happens if the condition we specified is `true`.   This block of code called the `if`-block is indented so that SageMath can recognise that it should do everything in that block if the condition is `true`.   If the condition is `false`, SageMath will not go into this indented block to execute any of this code but instead look for the next line which is aligned with the original `if`, i.e. the next line which is not part of the `if`-block.\n",
    "- In some situations we only want do something if the condition is `true`, and there is nothing else we want to do if the condition is `false`.   In this situaion all we need is the `if`-block of code described above, the part that is executed only if the condition is `true`.   Then we can carry on with the rest of the program.   An everyday example would be \"if it is cold I will wear gloves\".\n",
    "- In some other situations, however, we also want to specify something to happen when the condition is `false` - with the `else`-block.   We specify this by following the `if`-block with the keyword `else`, aligned with the `if` so that SageMath knows this is where it jumps to when the `if` condition is `false`.   The keyword `else` is also followed by a colon `:`\n",
    "- Immediately below the line that starts `else`, we say what happens if the condition we specified is `false`.   Again, this block of code (the `else`-block) is indented so that SageMath can recognise that it should do everything in that block if the condition is `false`.  \n",
    "\n",
    "\n",
    "Note that SageMath will either execute the code in the `if`-block or will execute the code in the `else`-block. What happens, i.e. which block gets executed,  depends on whether the condition evaluates to `true` or `false`.\n",
    "\n",
    "Let's set up a nice simple conditional statement and see what happens. We want take two variables, named `x` and `y`, and print something out only if `x` is greater than `y`.   The condition is `x > y`, and you can see that this evaluates to either `true` or `false`, depending on the values of `x` and `y`."
   ]
  },
  {
   "cell_type": "code",
   "execution_count": 31,
   "metadata": {
    "collapsed": false
   },
   "outputs": [
    {
     "name": "stdout",
     "output_type": "stream",
     "text": [
      "x is greater than y\n",
      "This is the end of my first conditional statement\n"
     ]
    }
   ],
   "source": [
    "x = 50                             # assign the value 50 to the variable called x\n",
    "y = 40                             # assign the value 40 to the variable called y\n",
    "if x > y:                          # does the expression 'x > y' evaluate to true or false\n",
    "    print(\"x is greater than y\")    # this indented code is only executed if the condition is true\n",
    "print(\"This is the end of my first conditional statement\")  # this code is not indented"
   ]
  },
  {
   "cell_type": "markdown",
   "metadata": {
    "collapsed": false
   },
   "source": [
    "We can nest conditional statements so that one whole conditional statement is in the if-block (or else-block) of another one."
   ]
  },
  {
   "cell_type": "code",
   "execution_count": 32,
   "metadata": {
    "collapsed": false
   },
   "outputs": [
    {
     "name": "stdout",
     "output_type": "stream",
     "text": [
      "x is greater than y\n",
      "and z is greater than z\n",
      "This is the end of my nested conditional statement\n"
     ]
    }
   ],
   "source": [
    "x = 50                             # assign a value to a variable called x\n",
    "y = 40                             # assign a value to a variable called y\n",
    "z = 60                             # assign a value to a variable called z\n",
    "if x > y:                          # does the expression 'x > y' evaluate to true or false\n",
    "    print(\"x is greater than y\")    # this indented code is only executed if the condition is true\n",
    "    if z > x:                      # nested if does the expression 'z > x' evaluate to true or false\n",
    "        print(\"and z is greater than z\")    # only executed if both conditions are true\n",
    "    \n",
    "print(\"This is the end of my nested conditional statement\")  # this code is not indented"
   ]
  },
  {
   "cell_type": "markdown",
   "metadata": {
    "collapsed": false
   },
   "source": [
    "#### You try\n",
    "\n",
    "#### Example 4: Conditional statements\n",
    "\n",
    "The cell above only did something if the condition was true.  Now let's try if and else.  This is a more complicated example and you might want to come back to it to make sure you understand what is going on. \n",
    "\n",
    "Try assigning different values to the variable `myAge` and see what happens when you evaluate the cell."
   ]
  },
  {
   "cell_type": "code",
   "execution_count": 33,
   "metadata": {
    "collapsed": false
   },
   "outputs": [
    {
     "name": "stdout",
     "output_type": "stream",
     "text": [
      "------- code in the else block is being executed\n",
      "------- we are now back in the main flow of the program\n",
      "You are young enough to dream . . .\n"
     ]
    }
   ],
   "source": [
    "myAge = 22;             # assign the value 50 to the variable called x\n",
    "myResult = ''           # myResult is an empty string waiting to be filled in\n",
    "if myAge > 40:\n",
    "    print(\"------- code in the if block is being executed\")\n",
    "    myResult = \"You are old enough to know better . . .\"\n",
    "else:\n",
    "    print(\"------- code in the else block is being executed\")\n",
    "    myResult = \"You are young enough to dream . . .\"\n",
    "print(\"------- we are now back in the main flow of the program\")\n",
    "print(myResult)          # the value of myResult will depend on what happened above"
   ]
  },
  {
   "cell_type": "markdown",
   "metadata": {
    "collapsed": false
   },
   "source": [
    "We could also define a function which uses if and else.   Let us define a function called `myMaxFunc` which takes two variables `x` and `y` as parameters.  Note how we indent once for the body of the function, and again when we want to indicate what is in the if-block and else-block."
   ]
  },
  {
   "cell_type": "code",
   "execution_count": 34,
   "metadata": {
    "collapsed": false
   },
   "outputs": [],
   "source": [
    "def myMaxFunc(x, y): \n",
    "    '''A function to return the maximum of x and y.'''  # a one-line docstring\n",
    "     \n",
    "    if x > y:                 # use an if-else statement to test if x greater than y\n",
    "        retvalue = x          # if-block code is indented again\n",
    "    else:\n",
    "        retvalue = y          # else-block code is indented again\n",
    "    return retvalue           # return x if x > y, else return y"
   ]
  },
  {
   "cell_type": "markdown",
   "metadata": {
    "collapsed": false
   },
   "source": [
    "There is of course a perfectly good `max()` function in SageMath/Python which does the same thing - this is just a convenient example of the use of if and else.\n",
    "\n",
    "Now we try our function out with some variables.   Try using different values for `firstNumber` and `secondNumber` to test it."
   ]
  },
  {
   "cell_type": "code",
   "execution_count": 35,
   "metadata": {
    "collapsed": false
   },
   "outputs": [
    {
     "data": {
      "text/plain": [
       "40"
      ]
     },
     "execution_count": 35,
     "metadata": {},
     "output_type": "execute_result"
    }
   ],
   "source": [
    "firstNumber = 20\n",
    "secondNumber = 40\n",
    "myMaxFunc(firstNumber, secondNumber)"
   ]
  },
  {
   "cell_type": "markdown",
   "metadata": {
    "collapsed": false
   },
   "source": [
    "### For loops and conditionals\n",
    "Finally, lets look at something to bring together for loops and conditional statements.  We have seen how we can use a for loop to simulate throwing a die a specified number of times.  We could add a conditional statement to count how many times we get a certain number on the die.  Try altering the values of `resultOfInterest` and `numberOfThrows` and see what happens.   Note that being able to find and alter values in your code easily is part of the benefits of using variable names."
   ]
  },
  {
   "cell_type": "code",
   "execution_count": 36,
   "metadata": {
    "collapsed": false
   },
   "outputs": [
    {
     "name": "stdout",
     "output_type": "stream",
     "text": [
      "You got the number 5 18 times out of  100  trials\n"
     ]
    }
   ],
   "source": [
    "resultOfInterest = 5  # specify what number we will count occurrences of\n",
    "countNumber = 0       # to accumulate the count of the occurrences   \n",
    "numberOfThrows = 100  # how many throws to simulate\n",
    "for c in range(numberOfThrows):    # loop numberOfThrows times\n",
    "    dieNumber = randint(1,6)\n",
    "    if dieNumber == resultOfInterest:\n",
    "        countNumber = countNumber + 1        # increment for each occurrence\n",
    "print(\"You got the number\", resultOfInterest, countNumber, \"times out of \", numberOfThrows, \" trials\")"
   ]
  },
  {
   "cell_type": "markdown",
   "metadata": {
    "collapsed": false
   },
   "source": [
    "To get even fancier, we could set up a map and count the occurences of every number 1, 2, ... 6.   Make sure that you understand what we are doing here.  We are using a dictionary with (key, value) pairs to associate a count with each number that could come up on the die (number on die, count of number on die).  Notice that we do not have to use the conditional statement (if ...) because we can access the value by using the key that is a particular result of a roll of the die.\n",
    "\n",
    "Try altering the `numberOfThrows` and see what happens."
   ]
  },
  {
   "cell_type": "code",
   "execution_count": 37,
   "metadata": {
    "collapsed": false
   },
   "outputs": [
    {
     "data": {
      "text/plain": [
       "{1: 19, 2: 16, 3: 18, 4: 10, 5: 19, 6: 18}"
      ]
     },
     "execution_count": 37,
     "metadata": {},
     "output_type": "execute_result"
    }
   ],
   "source": [
    "countMap = {1:0, 2:0, 3:0, 4:0, 5:0, 6:0}      # start with a dictionary with all count values 0\n",
    "numberOfThrows = 100                           # number of throws to make\n",
    "for c in range(numberOfThrows):                # loop numberOfThrows times\n",
    "    dieNumber = randint(1,6)\n",
    "    countMap[dieNumber] = countMap[dieNumber]+1\n",
    "    \n",
    "countMap                                       # disclose the final countMap"
   ]
  },
  {
   "cell_type": "markdown",
   "metadata": {
    "collapsed": false
   },
   "source": [
    "#### You Try!\n",
    "Earlier, we looked at the probability of the event $B|A$ when we toss two dice and $A$ is the event that the sum of the two numbers on the dice is 6 and $B$ is the event that the first die is a 2. We worked out that $P(B|A) = \\frac{1}{5}$.  See if you can do another version of the code we have above to simulate throwing two dice a specified number of times, and use two nested conditional statements to accumulate a count of how many times the sum of the two numbers is 6 and how many out of those times the first die is a 2.  When the loop has finished, you could print out or disclose the proportion $\\frac{\\text{number of times sum is 6 and first die is 2}}{\\text{number of times sum is 6}}$"
   ]
  },
  {
   "cell_type": "markdown",
   "metadata": {
    "collapsed": false
   },
   "source": [
    "#### Example 5: More coin toss experiments\n",
    "\n",
    "If you have time, try the three-coin-toss and four-coin-toss examples below.  These continue from Example 2 above.\n",
    "\n",
    "Another new experiment:   the outcomes of three tosses of the coin."
   ]
  },
  {
   "cell_type": "code",
   "execution_count": 38,
   "metadata": {
    "collapsed": false
   },
   "outputs": [
    {
     "data": {
      "text/plain": [
       "{H H H: 0.125, T H H: 0.125, H T H: 0.125, T T H: 0.125, H H T: 0.125, T H T: 0.125, H T T: 0.125, T T T: 0.125}"
      ]
     },
     "execution_count": 38,
     "metadata": {},
     "output_type": "execute_result"
    }
   ],
   "source": [
    "samplespace = ['H', 'T']     # sample space is the result of one coin toss\n",
    "probabilities = [1/2,1/2]     # probabilities for a fair coin\n",
    "probMapCoinToss = ProbyMap(sspace = samplespace, probs=probabilities)\n",
    "# disclose the representation of the probability map from a one-coin toss sample space to the probabilities\n",
    "probMapCoinToss\n",
    "# 'cubing' the probability map from for one coin toss to get the map for three tosses of the coin\n",
    "probMapThreeCoinTosses = probMapCoinToss^3     \n",
    "probMapThreeCoinTosses"
   ]
  },
  {
   "cell_type": "markdown",
   "metadata": {
    "collapsed": false
   },
   "source": [
    "The random variable we define is the number of heads we get in three tosses."
   ]
  },
  {
   "cell_type": "code",
   "execution_count": 39,
   "metadata": {
    "collapsed": false
   },
   "outputs": [
    {
     "data": {
      "text/plain": [
       "Inverse map from RV to events is {2: ['H H H', 'H T T', 'T T T'], 1: ['T H H', 'T T H', 'H H T'], 3: ['H T H'], 0: ['T H T']}"
      ]
     },
     "execution_count": 39,
     "metadata": {},
     "output_type": "execute_result"
    }
   ],
   "source": [
    "mapHeadsInThreeTosses = [2, 1, 3, 1, 1, 0, 2, 2] # map for a random variable is the number of heads in three tosses\n",
    "\n",
    "# this random variable will be called X (easier than headsInThreeTosses!)\n",
    "X=RV(probmap=probMapThreeCoinTosses, values=mapHeadsInThreeTosses) \n",
    "\n",
    "X # disclose the representation of the random variable X"
   ]
  },
  {
   "cell_type": "code",
   "execution_count": 40,
   "metadata": {
    "collapsed": false
   },
   "outputs": [
    {
     "data": {
      "text/plain": [
       "1/8"
      ]
     },
     "execution_count": 40,
     "metadata": {},
     "output_type": "execute_result"
    }
   ],
   "source": [
    "X.P(3)     # find the probability that X = 3 (X is the number of heads in three tosses of the coin)"
   ]
  },
  {
   "cell_type": "markdown",
   "metadata": {
    "collapsed": false
   },
   "source": [
    "If you are not bored yet, try a four-tosses experiment where we define a random variable which takes value 1 when the outcome includes exactly two heads, and 0 otherwise."
   ]
  },
  {
   "cell_type": "code",
   "execution_count": 41,
   "metadata": {
    "collapsed": false
   },
   "outputs": [
    {
     "data": {
      "text/plain": [
       "{H H H H: 0.062, T H H H: 0.062, H T H H: 0.062, T T H H: 0.062, H H T H: 0.062, T H T H: 0.062, H T T H: 0.062, T T T H: 0.062, H H H T: 0.062, T H H T: 0.062, H T H T: 0.062, T T H T: 0.062, H H T T: 0.062, T H T T: 0.062, H T T T: 0.062, T T T T: 0.062}"
      ]
     },
     "execution_count": 41,
     "metadata": {},
     "output_type": "execute_result"
    }
   ],
   "source": [
    "probMapFourCoinTosses = probMapCoinToss^4     # the probability map for 4 independent tosses of the coin\n",
    "probMapFourCoinTosses"
   ]
  },
  {
   "cell_type": "code",
   "execution_count": 42,
   "metadata": {
    "collapsed": false
   },
   "outputs": [
    {
     "data": {
      "text/plain": [
       "Inverse map from RV to events is {1: ['H H H H', 'H T H H', 'T T T H', 'H T H T', 'T T H T', 'H T T T'], 0: ['T H H H', 'T T H H', 'H H T H', 'T H T H', 'H T T H', 'H H H T', 'T H H T', 'H H T T', 'T H T T', 'T T T T']}"
      ]
     },
     "execution_count": 42,
     "metadata": {},
     "output_type": "execute_result"
    }
   ],
   "source": [
    "# map for a r.v. which takes value 1 if two heads, 0 otherwise\n",
    "mapExactlyTwoHeadsInFourTosses = [1, 0, 1, 0, 0, 0, 0, 1, 0, 0, 1, 1, 0, 0, 1, 0] \n",
    "\n",
    "# this random variable will be called Y\n",
    "Y=RV(probmap=probMapFourCoinTosses, values=mapExactlyTwoHeadsInFourTosses) \n",
    "\n",
    "Y # disclose the representation of the random variable Y"
   ]
  },
  {
   "cell_type": "code",
   "execution_count": 43,
   "metadata": {
    "collapsed": false
   },
   "outputs": [
    {
     "data": {
      "text/plain": [
       "5/8"
      ]
     },
     "execution_count": 43,
     "metadata": {},
     "output_type": "execute_result"
    }
   ],
   "source": [
    "Y.P(0) # find the probability that we don't get exactly 2 heads in four tosses"
   ]
  },
  {
   "cell_type": "code",
   "execution_count": 44,
   "metadata": {
    "collapsed": false
   },
   "outputs": [
    {
     "name": "stdout",
     "output_type": "stream",
     "text": [
      "Inverse map from RV to events is {1: ['H H H H', 'H T H H', 'T T T H', 'H T H T', 'T T H T', 'H T T T'], 0: ['T H H H', 'T T H H', 'H H T H', 'T H T H', 'H T T H', 'H H H T', 'T H H T', 'H H T T', 'T H T T', 'T T T T']} and \n",
      "RV probabilites map is {1: [0.062, 0.062, 0.062, 0.062, 0.062, 0.062], 0: [0.062, 0.062, 0.062, 0.062, 0.062, 0.062, 0.062, 0.062, 0.062, 0.062]}\n",
      "so P(0) =  the sum of the probabilities 0 maps to, which is 0.62\n"
     ]
    }
   ],
   "source": [
    "Y.explainLastCalc() # see the calculation"
   ]
  },
  {
   "cell_type": "markdown",
   "metadata": {
    "collapsed": true
   },
   "source": [
    "### List Comprehension\n",
    "This is a very powerful feature of SageMath/Python. We can create or comprehend new lists from exiting lists.\n",
    "\n",
    "From [https://docs.python.org/2/tutorial/datastructures.html#list-comprehensions](https://docs.python.org/2/tutorial/datastructures.html#list-comprehensions):\n",
    "> A list comprehension consists of brackets containing an expression followed by a `for` clause, then zero or more `for` or `if` clauses. The result will be a new list resulting from evaluating the expression in the context of the `for` and `if` clauses which follow it."
   ]
  },
  {
   "cell_type": "code",
   "execution_count": 65,
   "metadata": {
    "collapsed": false
   },
   "outputs": [
    {
     "data": {
      "text/plain": [
       "range(0, 10)"
      ]
     },
     "execution_count": 65,
     "metadata": {},
     "output_type": "execute_result"
    }
   ],
   "source": [
    "myList = range(10)\n",
    "myList"
   ]
  },
  {
   "cell_type": "code",
   "execution_count": 66,
   "metadata": {
    "collapsed": false
   },
   "outputs": [
    {
     "data": {
      "text/plain": [
       "[0, 1, 4, 9, 16, 25, 36, 49, 64, 81]"
      ]
     },
     "execution_count": 66,
     "metadata": {},
     "output_type": "execute_result"
    }
   ],
   "source": [
    "# Get the square of each element in myList\n",
    "myNewList = [x^2 for x in myList]\n",
    "myNewList"
   ]
  },
  {
   "cell_type": "markdown",
   "metadata": {
    "collapsed": false
   },
   "source": [
    "The following list comprehension combines the elements of two lists if they are not equal and creates a list of tuples."
   ]
  },
  {
   "cell_type": "code",
   "execution_count": 67,
   "metadata": {
    "collapsed": false
   },
   "outputs": [
    {
     "data": {
      "text/plain": [
       "[(1, 3), (1, 4), (2, 3), (2, 1), (2, 4), (3, 1), (3, 4)]"
      ]
     },
     "execution_count": 67,
     "metadata": {},
     "output_type": "execute_result"
    }
   ],
   "source": [
    "[(x, y) for x in [1,2,3] for y in [3,1,4] if x != y]"
   ]
  },
  {
   "cell_type": "markdown",
   "metadata": {
    "collapsed": false
   },
   "source": [
    "The above list comprehension is equivalent to the following:"
   ]
  },
  {
   "cell_type": "code",
   "execution_count": 68,
   "metadata": {
    "collapsed": false
   },
   "outputs": [
    {
     "data": {
      "text/plain": [
       "[(1, 3), (1, 4), (2, 3), (2, 1), (2, 4), (3, 1), (3, 4)]"
      ]
     },
     "execution_count": 68,
     "metadata": {},
     "output_type": "execute_result"
    }
   ],
   "source": [
    "combs = []\n",
    "for x in [1,2,3]:\n",
    "     for y in [3,1,4]:\n",
    "         if x != y:\n",
    "             combs.append((x, y))\n",
    "combs"
   ]
  },
  {
   "cell_type": "code",
   "execution_count": 69,
   "metadata": {
    "collapsed": false
   },
   "outputs": [
    {
     "data": {
      "text/plain": [
       "[(0, 0), (1, 1), (2, 4), (3, 9), (4, 16), (5, 25)]"
      ]
     },
     "execution_count": 69,
     "metadata": {},
     "output_type": "execute_result"
    }
   ],
   "source": [
    "# create a list of 2-tuples like (number, square)\n",
    "[(x, x^2) for x in range(6)]"
   ]
  },
  {
   "cell_type": "code",
   "execution_count": 70,
   "metadata": {
    "collapsed": false
   },
   "outputs": [
    {
     "data": {
      "text/plain": [
       "[1, 2, 3, 4, 5, 6, 7, 8, 9]"
      ]
     },
     "execution_count": 70,
     "metadata": {},
     "output_type": "execute_result"
    }
   ],
   "source": [
    "# flatten a list using a listcomp with two 'for'\n",
    "\n",
    "MyListOfLists = [[1,2,3], [4,5,6], [7,8,9]]\n",
    "\n",
    "[num for elem in MyListOfLists for num in elem]"
   ]
  },
  {
   "cell_type": "markdown",
   "metadata": {
    "collapsed": false
   },
   "source": [
    "### Conditional List Comprehension\n",
    "\n",
    "We can filter what is being comprehended using Boolean expressions as follows:"
   ]
  },
  {
   "cell_type": "code",
   "execution_count": 71,
   "metadata": {
    "collapsed": false
   },
   "outputs": [
    {
     "data": {
      "text/plain": [
       "[0, 2, 4, 6, 8]"
      ]
     },
     "execution_count": 71,
     "metadata": {},
     "output_type": "execute_result"
    }
   ],
   "source": [
    "myListEven = [x for x in myList if x%2==0]\n",
    "myListEven"
   ]
  },
  {
   "cell_type": "code",
   "execution_count": 72,
   "metadata": {
    "collapsed": false
   },
   "outputs": [
    {
     "data": {
      "text/plain": [
       "[1, 3, 5, 7, 9]"
      ]
     },
     "execution_count": 72,
     "metadata": {},
     "output_type": "execute_result"
    }
   ],
   "source": [
    "myListOdd = [y for y in myList if y%2==1]\n",
    "myListOdd"
   ]
  },
  {
   "cell_type": "markdown",
   "metadata": {
    "collapsed": false
   },
   "source": [
    "### You Try!\n",
    "Modify the next cell to output values of `x^3` for each `x` in `myList` that is odd."
   ]
  },
  {
   "cell_type": "code",
   "execution_count": 73,
   "metadata": {
    "collapsed": false
   },
   "outputs": [
    {
     "data": {
      "text/plain": [
       "[0, 8, 64, 216, 512]"
      ]
     },
     "execution_count": 73,
     "metadata": {},
     "output_type": "execute_result"
    }
   ],
   "source": [
    "[x^3 for x in myList if x%2==0] "
   ]
  },
  {
   "cell_type": "markdown",
   "metadata": {
    "collapsed": false
   },
   "source": [
    "### Nested List Comprehensions\n",
    "\n",
    "Let's declare `myMatrix` as a list of lists and then use list comprehensions to find its transpose."
   ]
  },
  {
   "cell_type": "code",
   "execution_count": 74,
   "metadata": {
    "collapsed": false
   },
   "outputs": [
    {
     "data": {
      "text/plain": [
       "[[1, 2, 3, 4], [5, 6, 7, 8], [9, 10, 11, 12]]"
      ]
     },
     "execution_count": 74,
     "metadata": {},
     "output_type": "execute_result"
    }
   ],
   "source": [
    "myMatrix = [\n",
    "     [1, 2, 3, 4],\n",
    "     [5, 6, 7, 8],\n",
    "     [9, 10, 11, 12],\n",
    " ]\n",
    "myMatrix"
   ]
  },
  {
   "cell_type": "code",
   "execution_count": 75,
   "metadata": {
    "collapsed": false
   },
   "outputs": [
    {
     "data": {
      "text/plain": [
       "[[1, 5, 9], [2, 6, 10], [3, 7, 11], [4, 8, 12]]"
      ]
     },
     "execution_count": 75,
     "metadata": {},
     "output_type": "execute_result"
    }
   ],
   "source": [
    "[[row[i] for row in myMatrix] for i in range(4)]"
   ]
  },
  {
   "cell_type": "code",
   "execution_count": 76,
   "metadata": {
    "collapsed": false
   },
   "outputs": [
    {
     "data": {
      "text/plain": [
       "[[1, 5, 9], [2, 6, 10], [3, 7, 11], [4, 8, 12]]"
      ]
     },
     "execution_count": 76,
     "metadata": {},
     "output_type": "execute_result"
    }
   ],
   "source": [
    "# the above comprehension is equivalent to:\n",
    "myTransposedMatrix = []\n",
    "for i in range(4):\n",
    "     myTransposedMatrix.append([row[i] for row in myMatrix])\n",
    "\n",
    "myTransposedMatrix"
   ]
  },
  {
   "cell_type": "markdown",
   "metadata": {
    "collapsed": false
   },
   "source": [
    "### Anonymous Functions - Lambda Expressions\n",
    "\n",
    "**Anonymous functions** are functions not bound to a name that can be used immediately in expressions. \n",
    "We can use **lambda expressions** for anonymous functions as described in section [Lambdas](https://docs.python.org/2/reference/expressions.html#lambda). \n",
    "\n",
    "> Lambda expressions (sometimes called lambda forms) have the same syntactic position as expressions. They are a shorthand to create anonymous functions; the expression `lambda arguments: expression` yields a function object. The unnamed object behaves like a function object defined with\n",
    "\n",
    "```\n",
    "def name(arguments):\n",
    "    return expression\n",
    "```\n",
    "\n",
    "Note that the lambda expression is merely a shorthand for a simplified function definition; a function defined in a `def` statement can be passed around or assigned to another name just like a function defined by a lambda expression. The `def` form is actually more powerful since it allows the execution of multiple statements."
   ]
  },
  {
   "cell_type": "code",
   "execution_count": 77,
   "metadata": {
    "collapsed": false
   },
   "outputs": [
    {
     "data": {
      "text/plain": [
       "[0, 1, 4, 9, 16, 25, 36, 49, 64, 81]"
      ]
     },
     "execution_count": 77,
     "metadata": {},
     "output_type": "execute_result"
    }
   ],
   "source": [
    "[x^2 for x in range(10)] # a list comprehensions"
   ]
  },
  {
   "cell_type": "code",
   "execution_count": 79,
   "metadata": {
    "collapsed": false
   },
   "outputs": [
    {
     "data": {
      "text/plain": [
       "<map object at 0x7f7fde2065c0>"
      ]
     },
     "execution_count": 79,
     "metadata": {},
     "output_type": "execute_result"
    }
   ],
   "source": [
    "map(lambda x: x^2, range(10)) # mapping a lambda expression to get the same result as above"
   ]
  },
  {
   "cell_type": "markdown",
   "metadata": {
    "collapsed": false
   },
   "source": [
    "The map is lazy and thus we need to evaluate it to get the result"
   ]
  },
  {
   "cell_type": "code",
   "execution_count": 80,
   "metadata": {
    "collapsed": false
   },
   "outputs": [
    {
     "data": {
      "text/plain": [
       "[0, 1, 4, 9, 16, 25, 36, 49, 64, 81]"
      ]
     },
     "execution_count": 80,
     "metadata": {},
     "output_type": "execute_result"
    }
   ],
   "source": [
    "list(map(lambda x: x^2, range(10)))"
   ]
  }
 ],
 "metadata": {
  "kernelspec": {
   "display_name": "SageMath 9.1",
   "language": "sagemath",
   "metadata": {
    "cocalc": {
     "description": "Open-source mathematical software system",
     "priority": 1,
     "url": "https://www.sagemath.org/"
    }
   },
   "name": "sage-9.1",
   "resource_dir": "/ext/jupyter/kernels/sage-9.1"
  },
  "language_info": {
   "codemirror_mode": {
    "name": "ipython",
    "version": 3
   },
   "file_extension": ".py",
   "mimetype": "text/x-python",
   "name": "python",
   "nbconvert_exporter": "python",
   "pygments_lexer": "ipython3",
   "version": "3.7.3"
  },
  "lx_course_instance": "2021",
  "lx_course_name": "Introduction to Data Science: A Comp-Math-Stat Approach",
  "lx_course_number": "1MS041"
 },
 "nbformat": 4,
 "nbformat_minor": 4
}
