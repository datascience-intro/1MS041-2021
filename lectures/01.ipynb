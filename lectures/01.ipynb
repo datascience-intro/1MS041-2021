{
 "cells": [
  {
   "cell_type": "markdown",
   "id": "37c2d04e",
   "metadata": {
    "deletable": false
   },
   "source": [
    "# [Introduction to Data Science: A Comp-Math-Stat Approach](http://datascience-intro.github.io/1MS041-2021/)    \n",
    "## 1MS041, 2021 \n",
    "&copy;2021 Raazesh Sainudiin, Benny Avelin. [Attribution 4.0 International     (CC BY 4.0)](https://creativecommons.org/licenses/by/4.0/)"
   ]
  },
  {
   "cell_type": "markdown",
   "metadata": {
    "collapsed": false
   },
   "source": [
    "# 01. BASH Unix Shell \n",
    "\n",
    "\n",
    "1. Dropping into BASH (Unix Shell) and using basic Shell commands\n",
    "    * `pwd` --- print working directory\n",
    "    * `ls` --- list files in current working directory\n",
    "    * `mkdir` --- make directory\n",
    "    * `cd` --- change directory\n",
    "    * `man ls` --- manual pages for any command\n",
    "2. Grabbing files from the internet using `curl`"
   ]
  },
  {
   "cell_type": "code",
   "execution_count": 1,
   "metadata": {
    "collapsed": false
   },
   "outputs": [
    {
     "data": {
      "text/html": [
       "\n",
       "        <iframe\n",
       "            width=\"95%\"\n",
       "            height=\"400\"\n",
       "            src=\"https://en.wikipedia.org/wiki/Bash_(Unix_shell)\"\n",
       "            frameborder=\"0\"\n",
       "            allowfullscreen\n",
       "        ></iframe>\n",
       "        "
      ],
      "text/plain": [
       "<IPython.lib.display.IFrame object at 0x7f8daa0bf7f0>"
      ]
     },
     "execution_count": 1,
     "metadata": {},
     "output_type": "execute_result"
    }
   ],
   "source": [
    "def showURL(url, ht=500):\n",
    "    \"\"\"Return an IFrame of the url to show in notebook with height ht\"\"\"\n",
    "    from IPython.display import IFrame \n",
    "    return IFrame(url, width='95%', height=ht) \n",
    "showURL('https://en.wikipedia.org/wiki/Bash_(Unix_shell)',400)"
   ]
  },
  {
   "cell_type": "markdown",
   "metadata": {
    "collapsed": false
   },
   "source": [
    "## 1. Dropping into BASH (Unix Shell)\n",
    "\n",
    "Using `%%sh` in a code cell we can access the BASH (Unix Shell) command prompt.\n",
    "\n",
    "Let us `pwd` or print working directory."
   ]
  },
  {
   "cell_type": "code",
   "execution_count": 2,
   "metadata": {
    "collapsed": false
   },
   "outputs": [
    {
     "name": "stdout",
     "output_type": "stream",
     "text": [
      "/home/user/datascience-intro/raaz/1MS041/master/jp\n"
     ]
    }
   ],
   "source": [
    "%%sh\n",
    "pwd"
   ]
  },
  {
   "cell_type": "code",
   "execution_count": 17,
   "metadata": {
    "collapsed": false
   },
   "outputs": [],
   "source": [
    "%%sh\n",
    "# this is a comment in BASH shell as it is preceeded by '#'\n",
    "ls # list the contents of this working directory"
   ]
  },
  {
   "cell_type": "code",
   "execution_count": 5,
   "metadata": {
    "collapsed": false
   },
   "outputs": [],
   "source": [
    "%%sh\n",
    "mkdir -p mydir"
   ]
  },
  {
   "cell_type": "code",
   "execution_count": 6,
   "metadata": {
    "collapsed": false
   },
   "outputs": [
    {
     "name": "stdout",
     "output_type": "stream",
     "text": [
      "/home/user/datascience-intro/raaz/1MS041/master/jp/mydir\n",
      "total 3600\n",
      "drwxr-xr-x  3 user user       5 Sep 14 11:42 .\n",
      "drwxr-xr-x 20 user user      68 Sep 14 12:04 ..\n",
      "-rw-r--r--  1 user user   29323 Sep 14 11:42 20170228.txt\n",
      "drwxr-xr-x  2 user user     232 Sep 14 11:42 sou\n",
      "-rw-r--r--  1 user user 3652403 Sep 14 11:42 sou.tar.gz\n"
     ]
    }
   ],
   "source": [
    "%%sh\n",
    "cd mydir\n",
    "pwd\n",
    "ls -al"
   ]
  },
  {
   "cell_type": "code",
   "execution_count": 7,
   "metadata": {
    "collapsed": false
   },
   "outputs": [
    {
     "name": "stdout",
     "output_type": "stream",
     "text": [
      "/home/user/datascience-intro/raaz/1MS041/master/jp\n"
     ]
    }
   ],
   "source": [
    "%%sh\n",
    "pwd"
   ]
  },
  {
   "cell_type": "markdown",
   "metadata": {
    "collapsed": false
   },
   "source": [
    "## \"Use the source\" by `man`-ning the unknown `command`\n",
    "\n",
    "By evaluating the next cell, you are using the `man`ual pages to find more about the command `ls`. You can learn more about any command called `command` by typing `man command` in the BASH shell.\n",
    "\n",
    "The output of the next cell with command `man ls` will look something like the following:\n",
    "\n",
    "```\n",
    "LS(1)                            User Commands                           LS(1)\n",
    "\n",
    "NAME\n",
    "       ls - list directory contents\n",
    "\n",
    "SYNOPSIS\n",
    "       ls [OPTION]... [FILE]...\n",
    "\n",
    "DESCRIPTION\n",
    "       List  information  about  the FILEs (the current directory by default).\n",
    "       Sort entries alphabetically if none of -cftuvSUX nor --sort  is  speci‐\n",
    "       fied.\n",
    "\n",
    "       Mandatory  arguments  to  long  options are mandatory for short options\n",
    "       too.\n",
    "\n",
    "       -a, --all\n",
    "              do not ignore entries starting with .\n",
    "\n",
    "       -A, --almost-all\n",
    "              do not list implied . and ..\n",
    "...\n",
    "...\n",
    "...\n",
    "   Exit status:\n",
    "       0      if OK,\n",
    "\n",
    "       1      if minor problems (e.g., cannot access subdirectory),\n",
    "\n",
    "       2      if serious trouble (e.g., cannot access command-line argument).\n",
    "\n",
    "AUTHOR\n",
    "       Written by Richard M. Stallman and David MacKenzie.\n",
    "\n",
    "REPORTING BUGS\n",
    "       GNU coreutils online help: <http://www.gnu.org/software/coreutils/>\n",
    "       Report ls translation bugs to <http://translationproject.org/team/>\n",
    "\n",
    "COPYRIGHT\n",
    "       Copyright © 2017 Free Software Foundation, Inc.   License  GPLv3+:  GNU\n",
    "       GPL version 3 or later <http://gnu.org/licenses/gpl.html>.\n",
    "       This  is  free  software:  you  are free to change and redistribute it.\n",
    "       There is NO WARRANTY, to the extent permitted by law.\n",
    "\n",
    "SEE ALSO\n",
    "       Full documentation at: <http://www.gnu.org/software/coreutils/ls>\n",
    "       or available locally via: info '(coreutils) ls invocation'\n",
    "\n",
    "GNU coreutils 8.28               January 2018                            LS(1)\n",
    "```"
   ]
  },
  {
   "cell_type": "code",
   "execution_count": 16,
   "metadata": {
    "collapsed": false
   },
   "outputs": [],
   "source": [
    "%%sh\n",
    "## uncomment by removing '#' in the next line and try executing this cell\n",
    "# man ls"
   ]
  },
  {
   "cell_type": "markdown",
   "metadata": {
    "collapsed": false
   },
   "source": [
    "## 2. Grabbing files from internet using curl"
   ]
  },
  {
   "cell_type": "code",
   "execution_count": 9,
   "metadata": {
    "collapsed": false
   },
   "outputs": [
    {
     "name": "stderr",
     "output_type": "stream",
     "text": [
      "  % Total    % Received % Xferd  Average Speed   Time    Time     Time  Current\n",
      "                                 Dload  Upload   Total   Spent    Left  Speed\n",
      "\r",
      "  0     0    0     0    0     0      0      0 --:--:-- --:--:-- --:--:--     0\r",
      " 22 29323   22  6643    0     0  12463      0  0:00:02 --:--:--  0:00:02 12440\r",
      "100 29323  100 29323    0     0  39097      0 --:--:-- --:--:-- --:--:-- 39045\n"
     ]
    }
   ],
   "source": [
    "%%sh\n",
    "cd mydir\n",
    "curl -O http://lamastex.org/datasets/public/SOU/sou/20170228.txt"
   ]
  },
  {
   "cell_type": "code",
   "execution_count": 10,
   "metadata": {
    "collapsed": false
   },
   "outputs": [
    {
     "name": "stdout",
     "output_type": "stream",
     "text": [
      "20170228.txt\n",
      "sou\n",
      "sou.tar.gz\n"
     ]
    }
   ],
   "source": [
    "%%sh\n",
    "ls mydir/"
   ]
  },
  {
   "cell_type": "code",
   "execution_count": 11,
   "metadata": {
    "collapsed": false
   },
   "outputs": [
    {
     "name": "stdout",
     "output_type": "stream",
     "text": [
      "Donald J. Trump \n",
      "\n",
      "February 28, 2017 \n",
      "Thank you very much. Mr. Speaker, Mr. Vice President, members of Congress, the first lady of the United States ... \n",
      "... and citizens of America, tonight, as we mark the conclusion of our celebration of Black History Month, we are reminded of our nation's path toward civil rights and the work that still remains to be done. \n",
      "Recent threats ... \n",
      "Recent threats targeting Jewish community centers and vandalism of Jewish cemeteries, as well as last week's shooting in Kansas City, remind us that while we may be a nation divided on policies, we are a country that stands united in condemning hate and evil in all of its very ugly forms. \n",
      "Each American generation passes the torch of truth, liberty and justice, in an unbroken chain all the way down to the present. That torch is now in our hands. And we will use it to light up the world. \n",
      "I am here tonight to deliver a message of unity and strength, and it is a message deeply delivered from my heart. A new chapter ... \n",
      "... of American greatness is now beginning. A new national pride is sweeping across our nation. And a new surge of optimism is placing impossible dreams firmly within our grasp. What we are witnessing today is the renewal of the American spirit. Our allies will find that America is once again ready to lead. \n"
     ]
    }
   ],
   "source": [
    "%%sh\n",
    "cd mydir/\n",
    "head 20170228.txt "
   ]
  },
  {
   "cell_type": "markdown",
   "metadata": {
    "collapsed": false
   },
   "source": [
    "## To have more fun with all SOU addresses\n",
    "Do the following:\n"
   ]
  },
  {
   "cell_type": "code",
   "execution_count": 12,
   "metadata": {
    "collapsed": false
   },
   "outputs": [
    {
     "name": "stderr",
     "output_type": "stream",
     "text": [
      "  % Total    % Received % Xferd  Average Speed   Time    Time     Time  Current\n",
      "                                 Dload  Upload   Total   Spent    Left  Speed\n",
      "\r",
      "  0     0    0     0    0     0      0      0 --:--:-- --:--:-- --:--:--     0\r",
      "  0 3566k    0  1079    0     0   2107      0  0:28:53 --:--:--  0:28:53  2107\r",
      " 18 3566k   18  644k    0     0   403k      0  0:00:08  0:00:01  0:00:07  403k\r",
      "100 3566k  100 3566k    0     0  1563k      0  0:00:02  0:00:02 --:--:-- 1563k\n"
     ]
    }
   ],
   "source": [
    "%%sh\n",
    "mkdir -p mydir # first create a directory called 'mydir'\n",
    "cd mydir # change into this mydir directory\n",
    "rm -f sou.tar.gz # remove any file in mydir called sou.tar.gz\n",
    "curl -O http://lamastex.org/datasets/public/SOU/sou.tar.gz"
   ]
  },
  {
   "cell_type": "code",
   "execution_count": 13,
   "metadata": {
    "collapsed": false
   },
   "outputs": [
    {
     "name": "stdout",
     "output_type": "stream",
     "text": [
      "/home/user/datascience-intro/raaz/1MS041/master/jp\n",
      "total 25K\n",
      "-rw-r--r-- 1 user user  29K Sep 14 12:07 20170228.txt\n",
      "drwxr-xr-x 2 user user  232 Sep 14 11:42 sou\n",
      "-rw-r--r-- 1 user user 3.5M Sep 14 12:07 sou.tar.gz\n"
     ]
    }
   ],
   "source": [
    "%%sh\n",
    "pwd\n",
    "ls -lh mydir"
   ]
  },
  {
   "cell_type": "code",
   "execution_count": 10,
   "metadata": {
    "collapsed": false
   },
   "outputs": [],
   "source": [
    "%%sh\n",
    "cd mydir \n",
    "tar zxvf sou.tar.gz"
   ]
  },
  {
   "cell_type": "markdown",
   "metadata": {
    "collapsed": false
   },
   "source": [
    "After running the above two cells, you should have all the SOU (State of Union) addresses. By evaluating the next cell's `ls ...` command you should see the SOU files like the following:\n",
    "\n",
    "```\n",
    "total 11M\n",
    "-rw------- 1 raazesh raazesh 6.6K Feb 18  2016 17900108.txt\n",
    "-rw------- 1 raazesh raazesh 8.3K Feb 18  2016 17901208.txt\n",
    "-rw------- 1 raazesh raazesh  14K Feb 18  2016 17911025.txt\n",
    "...\n",
    "...\n",
    "...\n",
    "-rw------- 1 raazesh raazesh  39K Feb 18  2016 20140128.txt\n",
    "-rw------- 1 raazesh raazesh  38K Feb 18  2016 20150120.txt\n",
    "-rw------- 1 raazesh raazesh  31K Feb 18  2016 20160112.txt\n",
    "```"
   ]
  },
  {
   "cell_type": "code",
   "execution_count": 11,
   "metadata": {
    "collapsed": false
   },
   "outputs": [],
   "source": [
    "%%sh\n",
    "ls -lh mydir/sou"
   ]
  },
  {
   "cell_type": "code",
   "execution_count": 15,
   "metadata": {
    "collapsed": false
   },
   "outputs": [
    {
     "name": "stdout",
     "output_type": "stream",
     "text": [
      "George Washington \n",
      "\n",
      "January 8, 1790 \n",
      "Fellow-Citizens of the Senate and House of Representatives: \n",
      "I embrace with great satisfaction the opportunity which now presents itself of congratulating you on the present favorable prospects of our public affairs. The recent accession of the important state of North Carolina to the Constitution of the United States (of which official information has been received), the rising credit and respectability of our country, the general and increasing good will toward the government of the Union, and the concord, peace, and plenty with which we are blessed are circumstances auspicious in an eminent degree to our national prosperity. \n",
      "In resuming your consultations for the general good you can not but derive encouragement from the reflection that the measures of the last session have been as satisfactory to your constituents as the novelty and difficulty of the work allowed you to hope. Still further to realize their expectations and to secure the blessings which a gracious Providence has placed within our reach will in the course of the present important session call for the cool and deliberate exertion of your patriotism, firmness, and wisdom. \n",
      "Among the many interesting objects which will engage your attention that of providing for the common defense will merit particular regard. To be prepared for war is one of the most effectual means of preserving peace. \n",
      "A free people ought not only to be armed, but disciplined; to which end a uniform and well-digested plan is requisite; and their safety and interest require that they should promote such manufactories as tend to render them independent of others for essential, particularly military, supplies. \n",
      "The proper establishment of the troops which may be deemed indispensable will be entitled to mature consideration. In the arrangements which may be made respecting it it will be of importance to conciliate the comfortable support of the officers and soldiers with a due regard to economy. \n",
      "There was reason to hope that the pacific measures adopted with regard to certain hostile tribes of Indians would have relieved the inhabitants of our southern and western frontiers from their depredations, but you will perceive from the information contained in the papers which I shall direct to be laid before you (comprehending a communication from the Commonwealth of Virginia) that we ought to be prepared to afford protection to those parts of the Union, and, if necessary, to punish aggressors. \n"
     ]
    }
   ],
   "source": [
    "%%sh\n",
    "head mydir/sou/17900108.txt"
   ]
  },
  {
   "cell_type": "code",
   "execution_count": 16,
   "metadata": {
    "collapsed": false
   },
   "outputs": [
    {
     "name": "stdout",
     "output_type": "stream",
     "text": [
      "Barack Obama \n",
      "\n",
      "January 12, 2016 \n",
      "Mr. Speaker, Mr. Vice President, Members of Congress, my fellow Americans: \n",
      "Tonight marks the eighth year I've come here to report on the State of the Union. And for this final one, I'm going to try to make it shorter. I know some of you are antsy to get back to Iowa. \n",
      "I also understand that because it's an election season, expectations for what we'll achieve this year are low. Still, Mr. Speaker, I appreciate the constructive approach you and the other leaders took at the end of last year to pass a budget and make tax cuts permanent for working families. So I hope we can work together this year on bipartisan priorities like criminal justice reform, and helping people who are battling prescription drug abuse. We just might surprise the cynics again. \n",
      "But tonight, I want to go easy on the traditional list of proposals for the year ahead. Don't worry, I've got plenty, from helping students learn to write computer code to personalizing medical treatments for patients. And I'll keep pushing for progress on the work that still needs doing. Fixing a broken immigration system. Protecting our kids from gun violence. Equal pay for equal work, paid leave, raising the minimum wage. All these things still matter to hardworking families; they are still the right thing to do; and I will not let up until they get done. \n",
      "But for my final address to this chamber, I don't want to talk just about the next year. I want to focus on the next five years, ten years, and beyond. \n",
      "I want to focus on our future. \n",
      "We live in a time of extraordinary change, change that's reshaping the way we live, the way we work, our planet and our place in the world. It's change that promises amazing medical breakthroughs, but also economic disruptions that strain working families. It promises education for girls in the most remote villages, but also connects terrorists plotting an ocean away. It's change that can broaden opportunity, or widen inequality. And whether we like it or not, the pace of this change will only accelerate. \n"
     ]
    }
   ],
   "source": [
    "%%sh\n",
    "head mydir/sou/20160112.txt"
   ]
  },
  {
   "cell_type": "markdown",
   "metadata": {
    "collapsed": false
   },
   "source": [
    "An interesting analysis of the textual content of the *State of the Union (SoU)* addresses by all US presidents was done in:\n",
    "\n",
    "-   [Alix Rule, Jean-Philippe Cointet, and Peter S. Bearman, Lexical shifts, substantive changes, and continuity in State of the Union discourse, 1790–2014, PNAS 2015 112 (35) 10837-10844; doi:10.1073/pnas.1512221112](http://www.pnas.org/content/112/35/10837.full).\n",
    "\n",
    "![](images/F5.large.png)\n",
    "\n",
    "[Image source](http://www.pnas.org/content/112/35/10837/F5.large.jpg)\n",
    "\n",
    "[Fig. 5](http://www.pnas.org/content/112/35/10837.full). A river network captures the flow across history of US political discourse, as perceived by contemporaries. Time moves along the x axis. Clusters on semantic networks of 300 most frequent terms for each of 10 historical periods are displayed as vertical bars. Relations between clusters of adjacent periods are indexed by gray flows, whose density reflects their degree of connection. Streams that connect at any point in history may be considered to be part of the same system, indicated with a single color.\n",
    "\n",
    "**You** *will be able to carry out such analyses and/or critically reflect on the mathematical statistical assumptions made in such analyses, as you learn more during your programme of study after successfully completing this course.*"
   ]
  },
  {
   "cell_type": "markdown",
   "metadata": {
    "collapsed": false
   },
   "source": [
    "## How was the `sou.tgz` file created?\n",
    "\n",
    "If you are curious, read: [http://lamastex.org/datasets/public/SOU/README.md](http://lamastex.org/datasets/public/SOU/README.md).\n",
    "\n",
    "Briefly, this is how a website with SOU was scraped by Paul Brouwers and adapted by Raazesh Sainudiin. A data scientist, and more generally a researcher interested in making statistical inference from data that is readily available online in a particular format, is expected to be comfortable with such *web-scraping tasks* (which can be done in more gracious and robust ways using specialised Python libraries). Such tasks also known as *Extract-Load-Transform (ELT)* operations are often time-consuming, expensive and the necessary first step towards extracting value from data.\n",
    "\n",
    "### A bit of bash and lynx to achieve the scraping of the state of the union addresses of the US Presidents,\n",
    "#### by Paul Brouwers\n",
    "\n",
    "The code below is mainly there to show how the text content of each state of the union address was scraped from the following URL:\n",
    "\n",
    "* [http://stateoftheunion.onetwothree.net/texts/index.html](http://stateoftheunion.onetwothree.net/texts/index.html)\n",
    "\n",
    "Such data acquisition tasks is usually the first and cucial step in a data scientist's workflow.\n",
    "\n",
    "We have done this and put the data in the distributed file system for easy loading into our notebooks for further analysis.  This keeps us from having to install unix programs like `lynx`, `sed`, etc. that are needed in the shell script below.\n",
    "\n",
    "\n",
    "```\n",
    "for i in $(lynx --dump http://stateoftheunion.onetwothree.net/texts/index.html | grep texts | grep -v index | sed 's/.*http/http/') ; do lynx --dump $i | tail -n+13 | head -n-14 | sed 's/^\\s\\+//' | sed -e ':a;N;$!ba;s/\\(.\\)\\n/\\1 /g' -e 's/\\n/\\n\\n/' > $(echo $i | sed 's/.*\\([0-9]\\{8\\}\\).*/\\1/').txt ; done\n",
    "```\n",
    "\n",
    "Or in a more atomic form:\n",
    "\n",
    "```\n",
    "for i in $(lynx --dump http://stateoftheunion.onetwothree.net/texts/index.html \\\n",
    "\n",
    "        | grep texts \\\n",
    "\n",
    "        | grep -v index \\\n",
    "\n",
    "        | sed 's/.*http/http/')\n",
    "\n",
    "do \n",
    "\n",
    "        lynx --dump $i \\\n",
    "\n",
    "               | tail -n+13 \\\n",
    "\n",
    "               | head -n-14 \\\n",
    "\n",
    "               | sed 's/^\\s\\+//' \\\n",
    "\n",
    "               | sed -e ':a;N;$!ba;s/\\(.\\)\\n/\\1 /g' -e 's/\\n/\\n\\n/' \\\n",
    "\n",
    "               > $(echo $i | sed 's/.*\\([0-9]\\{8\\}\\).*/\\1/').txt\n",
    "\n",
    "done\n",
    "```\n",
    "\n",
    "If you have time and are curious how each of the components in the above pipeline via `|` operators work, try to read `man echo`,  `man sed`,  `man grep`,  `man head`,  `man tail`, and  `man lynx` or `lynx --help`. If a command like `lynx` is not in your system, then you can install it with some work (mostly googling)."
   ]
  },
  {
   "cell_type": "code",
   "execution_count": 14,
   "metadata": {
    "collapsed": false
   },
   "outputs": [],
   "source": [
    "%%sh\n",
    "## uncomment by removing '#' in the next line and try executing this cell by pressing Ctrl-Enter to see if lynx is installed\n",
    "#lynx --help"
   ]
  },
  {
   "cell_type": "markdown",
   "metadata": {
    "collapsed": false
   },
   "source": [
    "So using `lynx` is not that difficult. Suppose you want to dump the contents of [https://lamastex.github.io/research/#available-student-projects](https://lamastex.github.io/research/#available-student-projects) to `stdout` or standard out, we can do the following:"
   ]
  },
  {
   "cell_type": "code",
   "execution_count": 15,
   "metadata": {
    "collapsed": false
   },
   "outputs": [],
   "source": [
    "%%sh\n",
    "## uncomment by removing '#' in the next line and try executing this cell if lynx is installed\n",
    "#lynx --dump https://lamastex.github.io/research/#available-student-projects"
   ]
  },
  {
   "cell_type": "markdown",
   "metadata": {
    "collapsed": false
   },
   "source": [
    "Hopefully, you had fun with BASH! Now let us put BASH to use."
   ]
  }
 ],
 "metadata": {
  "kernelspec": {
   "display_name": "SageMath 9.1",
   "language": "sagemath",
   "metadata": {
    "cocalc": {
     "description": "Open-source mathematical software system",
     "priority": 1,
     "url": "https://www.sagemath.org/"
    }
   },
   "name": "sage-9.1",
   "resource_dir": "/ext/jupyter/kernels/sage-9.1"
  },
  "language_info": {
   "codemirror_mode": {
    "name": "ipython",
    "version": 3
   },
   "file_extension": ".py",
   "mimetype": "text/x-python",
   "name": "python",
   "nbconvert_exporter": "python",
   "pygments_lexer": "ipython3",
   "version": "3.7.8"
  },
  "lx_course_instance": "2021",
  "lx_course_name": "Introduction to Data Science: A Comp-Math-Stat Approach",
  "lx_course_number": "1MS041"
 },
 "nbformat": 4,
 "nbformat_minor": 4
}
