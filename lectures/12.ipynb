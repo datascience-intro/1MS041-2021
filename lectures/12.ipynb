{
 "cells": [
  {
   "cell_type": "markdown",
   "id": "10fde79e",
   "metadata": {
    "deletable": false
   },
   "source": [
    "# [Introduction to Data Science: A Comp-Math-Stat Approach](http://datascience-intro.github.io/1MS041-2021/)    \n",
    "## 1MS041, 2021 \n",
    "&copy;2021 Raazesh Sainudiin, Benny Avelin. [Attribution 4.0 International     (CC BY 4.0)](https://creativecommons.org/licenses/by/4.0/)"
   ]
  },
  {
   "cell_type": "markdown",
   "metadata": {
    "collapsed": false
   },
   "source": [
    "# 12. Linear Regression\n",
    "\n",
    "- Regression \n",
    "  - linear models and their least-squares estimators\n",
    "  - assessing fit using diagnostic plots (residual analysis)\n",
    "  - multiple linear regression\n",
    "  - prediction\n",
    "  - prelude to statistical ML\n",
    "- Introduction to R in SageMath Jupyter IPython Notebook - SageMath/R\n"
   ]
  },
  {
   "cell_type": "markdown",
   "metadata": {
    "collapsed": false
   },
   "source": [
    "## Introduction\n",
    "**Regression** is a method for studying the relationship between a **response variable** $Y$ and a **covariate** $X$. \n",
    "The covariate is also called a **feature** or a **predictor** variable.\n",
    "\n",
    "A simple way to summarise the relationship between $X$ and $Y$ is through the regression function $r(x)$:\n",
    "\n",
    "$$\n",
    "r(x) = E(Y | X=x) = \\int y \\, f(y|x) dy\n",
    "$$\n",
    "\n",
    "Our objective is to estimate the regression function $r(x)$ from data of the form:\n",
    "\n",
    "$$\n",
    "(Y_1,X_1),(Y_2,X_2),\\ldots,(Y_n,X_n) \\overset{IID}{\\sim} F_{X,Y}\n",
    "$$\n",
    "\n",
    "We assume that $F_{X,Y}$, the joint distribution of $X$ and $Y$, is parametric and $r$ is linear."
   ]
  },
  {
   "cell_type": "markdown",
   "metadata": {
    "collapsed": false
   },
   "source": [
    "## Simple Linear Regression\n",
    "\n",
    "The **simple linear regression model** is when $X_i$ is real-valued (one-dimensional) and $r(x)$ is assumed to be linear:\n",
    "\n",
    "$$\n",
    "r(x) = \\beta_0 + \\beta_1 x, \\qquad \\text{and } \\quad V(Y | X=x)=\\sigma^2 \\, \\text{ is independent of } x\n",
    "$$\n",
    "\n",
    "Thus simple linear regression model is the following:\n",
    "\n",
    "$$\n",
    "\\boxed{\n",
    "Y_i = \\beta_0 + \\beta_1 X_i + \\epsilon_i, \\qquad \\text{ where, } \\quad E(\\epsilon_i | X_i)=0 \\text{ and } V(\\epsilon_i | X_i)=\\sigma^2\n",
    "}\n",
    "$$\n",
    "\n",
    "The unknown parameters and their estimates in the model are:\n",
    "\n",
    "- the intercept $\\beta_0$ and its estimate $\\widehat{\\beta}_0$,\n",
    "- the slope $\\beta_1$ and its estimate $\\widehat{\\beta}_1$ and\n",
    "- the variance $\\sigma^2$ and its estimate $\\widehat{\\sigma}^2$\n",
    "\n",
    "The **fitted line** is:\n",
    "$$\n",
    "\\widehat{r}(x) = \\widehat{\\beta}_0 + \\widehat{\\beta}_1 x\n",
    "$$\n",
    "\n",
    "The **fitted or predicted values** are:\n",
    "$$\n",
    "\\widehat{Y}_i = \\widehat{r}(X_i) \n",
    "$$\n",
    "\n",
    "The **residuals** are:\n",
    "$$\n",
    "\\widehat{\\epsilon}_i = Y_i-\\widehat{Y}_i=Y_i-\\left(\\widehat{\\beta}_0 + \\widehat{\\beta}_1 X_i\\right)\n",
    "$$\n",
    "\n",
    "The **residual sum of squares** or **RSS**, that measures how well the line fits the data, is defined by\n",
    "$$\n",
    "RSS = \\sum_{i=1}^n \\widehat{\\epsilon}_i^2\n",
    "$$\n",
    "\n",
    "The **least squares estimates** are the values $\\widehat{\\beta}_0$ and $\\widehat{\\beta}_1$ that minimise $RSS$ and they are given by:\n",
    "\n",
    "$$\n",
    "\\boxed{\n",
    "\\widehat{\\beta}_1 = \\displaystyle{\\frac{\\sum_{i=1}^n(X_i-\\overline{X}_n)(Y_i-\\overline{Y}_n)}{\\sum_{i=1}^n(X_i-\\overline{X}_n)^2}}\n",
    "\\, , \\qquad\n",
    "\\widehat{\\beta}_0 = \\displaystyle{\\overline{Y}_n - \\widehat{\\beta}_1 \\overline{X}_n}\n",
    "\\, , \\qquad \n",
    "\\widehat{\\sigma}^2 = \\displaystyle{\\left(\\frac{1}{n-2}\\right) \\sum_{i=1}^n \\widehat{\\epsilon}_i^2}\n",
    "}\n",
    "$$"
   ]
  },
  {
   "cell_type": "markdown",
   "metadata": {
    "collapsed": false
   },
   "source": [
    "### Interactive Animations for Regression\n",
    "\n",
    "Check out:\n",
    "- [https://setosa.io/ev/ordinary-least-squares-regression/](https://setosa.io/ev/ordinary-least-squares-regression/)"
   ]
  },
  {
   "cell_type": "markdown",
   "metadata": {
    "collapsed": false
   },
   "source": [
    "## Least Squares and Maximum Likelihood\n",
    "\n",
    "Suppose we add the assumption about the model's noise that \n",
    "\n",
    "$$\\boxed{\\displaystyle{\\epsilon_i | X_i \\sim Normal(0,\\sigma^2) \\quad \\text{ i.e., }\\quad Y_i|X_i \\sim Normal(\\mu_i,\\sigma^2), \\quad \\text{ where } \\quad \\mu_i = \\beta_0+\\beta_1 X_i }}$$\n",
    "\n",
    "Then, the total likelihood function is:\n",
    "\n",
    "$$\n",
    "\\begin{aligned}\n",
    "\\displaystyle{\\prod_{i=1}^n f(X_i,Y_i)} \\,\n",
    "&= \\displaystyle{\\prod_{i=1}^n f_X(X_i) \\, f_{Y|X}(Y_i|X_i)}\\\\ \n",
    "&= \\displaystyle{\\prod_{i=1}^n f_X(X_i) \\, \\prod_{i=1}^n f_{Y|X}(Y_i|X_i)}\\\\\n",
    "&=: L_{n,X} \\, L_{n,Y|X}\n",
    "\\end{aligned}\n",
    "$$\n",
    "\n",
    "where, $L_{n,X}:=\\prod_{i=1}^n f_X(X_i)$ is the marginal likelihood of $X_1,\\ldots,X_n$ that does not depend on the parameters $(\\beta_0,\\beta_1,\\sigma)$, and $L_{n,Y|X}:=\\prod_{i=1}^n f_{Y|X}(Y_i|X_i)$ is the *conditional likelihood* that does depend on the parameters. Therefore the conditional likelihood is the one we consider:\n",
    "\n",
    "$$\n",
    "\\begin{aligned}\n",
    "L(\\beta_0,\\beta_1,\\sigma) \\quad\n",
    "&\\propto \\quad \\displaystyle{\\prod_{i=1}^n f(X_i,Y_i)}  \\\\\n",
    "&\\propto \\quad L_{n,Y|X}  = \\displaystyle{\\prod_{i=1}^n f_{Y|X}(Y_i|X_i)}\\\\\n",
    "&\\propto \\quad \\displaystyle{\\sigma^{-n} \\exp\\left(-\\frac{1}{2 \\sigma^2}\\sum_{i=1}^n\\left(Y_i-\\mu_i\\right)^2 \\right)}\\\\\n",
    "\\end{aligned}\n",
    "$$\n",
    "\n",
    "and the conditional log-likelihood is:\n",
    "\n",
    "$$\n",
    "\\boxed{\n",
    "l(\\beta_0,\\beta_1,\\sigma) \\quad =\\quad \\displaystyle{-n \\log(\\sigma) -\\frac{1}{2 \\sigma^2} \\sum_{i=1}^n\\left(Y_i-\\mu_i\\right)^2 }\n",
    "}\n",
    "$$\n",
    "\n",
    "To find the MLE of $(\\beta_0,\\beta_1)$ we need to maximise $\\ell(\\beta_0,\\beta_1,\\sigma)$ for a given $\\sigma$. From the above expresion it is clear that maximising the log-likelihood is equivalent to minimising the *residual sum of squares* or *RSS* given by\n",
    "\n",
    "$$\n",
    "\\boxed{\n",
    "\\sum_{i=1}^n\\left(Y_i-\\mu_i\\right)^2\n",
    "}\n",
    "$$\n",
    "\n",
    "Therefore, we have shown the following Theorem.\n",
    "\n",
    "## Theorem [MLE is LSE] \n",
    "\n",
    "> Under the assumption of normally distributed noise, the maximum likelihood estimator (MLE) is the least squares estimator (LSE).\n",
    "\n",
    "We can maximise $l(\\beta_0,\\beta_1,\\sigma)$ over $\\sigma$ and obtain the MLE for $\\sigma$ as follows:\n",
    "\n",
    "$$\n",
    "\\widehat{\\sigma}^2  =  \\frac{1}{n} \\sum_{i=1}^n \\ \\widehat{\\epsilon}^2 \\, .\n",
    "$$\n",
    "\n",
    "But it is more common in practise to use the unbiased estimator, with $E(\\widehat{\\sigma}^2)=\\sigma^2$, that we saw earlier for sample size $n>2$:\n",
    "\n",
    "$$\n",
    "\\widehat{\\sigma}^2 = \\displaystyle{\\left(\\frac{1}{n-2}\\right) \\sum_{i=1}^n \\widehat{\\epsilon}_i^2} \\, .\n",
    "$$\n",
    "However the bias is usually quite small if $n$ is large."
   ]
  },
  {
   "cell_type": "markdown",
   "metadata": {
    "collapsed": false
   },
   "source": [
    "### Properties of the Least Squares Estimator (LSE)\n",
    "\n",
    "It's finally time to obtain the standard errors and limititng distribution of the least quares estimator (also the MLE).\n",
    "\n",
    "In regression we are interested in the properties of the estimators conditional on the covariates \n",
    "\n",
    "$$X_{1:n}:= (X_1,X_2,\\ldots,X_n)$$\n",
    "\n",
    "#### Conditional Mean and Variance of LSE\n",
    "\n",
    "Let $\\widehat{\\beta}^T=(\\widehat{\\beta}_0,\\widehat{\\beta}_1)^T$ denote the least squares estimators (which is also the MLE). Then\n",
    "\n",
    "$$\n",
    "\\begin{aligned}\n",
    "E \\left(\\widehat{\\beta} \\, | \\, X_{1:n} \\right) \n",
    "&=  \\displaystyle{\\left( {\\begin{array}{c}\n",
    "   \\beta_0 \\\\\n",
    "   \\beta_1 \\\\\n",
    "  \\end{array} } \\right)}\\\\\n",
    "V \\left(\\widehat{\\beta} \\, | \\, X_{1:n} \\right) \n",
    "&= \\displaystyle{\\frac{\\sigma^2}{n s_X^2} \n",
    "\\left( {\\begin{array}{cc}\n",
    "   \\frac{1}{n}\\sum_{i=1}^n X_i^2 & -\\overline{X}_n \\\\\n",
    "   -\\overline{X}_n & 1\\\\\n",
    "  \\end{array} } \\right)}\n",
    "\\end{aligned}\n",
    "$$\n",
    "\n",
    "where, \n",
    "\n",
    "$$\n",
    "s_X^2 = \\frac{1}{n} \\sum_{i=1}^n \\left(X_i -\\overline{X}_n\\right)^2\n",
    "$$\n",
    "\n",
    "#### Estimated Standard Errors\n",
    "\n",
    "The estimated standard errors for $\\widehat{\\beta}_0$ and $\\widehat{\\beta}_1$, or more precisely, the estimated standard errors conditional on the covariates, are given by the square-root of the diagonal terms of the variance-covariance matrix $V \\left(\\widehat{\\beta} \\, | \\, X_{1:n} \\right)$ and substituting the estimate $\\widehat{\\sigma}$ for $\\sigma$, as follows:\n",
    "\n",
    "$$\n",
    "\\begin{aligned}\n",
    "\\widehat{se}\\left(\\widehat{\\beta}_0\\right) := \\widehat{se}\\left(\\widehat{\\beta}_0 \\, | \\, X_{1:n} \\right) \\, \n",
    "&= \\, \\frac{\\widehat{\\sigma}}{s_X \\sqrt{n}} \\sqrt{\\frac{\\sum_{i=1}^nX_i^2}{n}}\\\\\n",
    "\\widehat{se}\\left(\\widehat{\\beta}_1\\right) := \\widehat{se}\\left(\\widehat{\\beta}_0 \\, | \\, X_{1:n}\\right) \\, \n",
    "&= \\, \\frac{\\widehat{\\sigma}}{s_X \\sqrt{n}}\n",
    "\\end{aligned}\n",
    "$$\n",
    "\n",
    "Thus under appropriate modeling assumptions in simple leinear regression we have the following four properties.\n",
    "\n",
    "#### Four Asymptotic Properties of the LSE\n",
    "\n",
    "##### 1. Asymptotic Consistency\n",
    "\n",
    "As $n \\to \\infty$, the LSE, i.e. $\\widehat{\\beta}_0$ and $\\widehat{\\beta}_1$, converges in probability to the parameters, i.e., $\\beta_0,\\beta_1$, generating the data $(Y_1,X_1),(Y_2,X_2),\\ldots,(Y_n,X_n)$ as summarised below.\n",
    "\n",
    "$$\n",
    "\\boxed{\n",
    "\\widehat{\\beta}_0 \\overset{P}{\\to} \\beta_0 \\quad \\text{ and } \\quad \\widehat{\\beta}_1 \\overset{P}{\\to} \\beta_1\n",
    "}\n",
    "$$\n",
    "\n",
    "##### 2. Asymptotic Normality\n",
    "\n",
    "As $n \\to \\infty$, the LSE, i.e. $\\widehat{\\beta}_0$ and $\\widehat{\\beta}_1$, converges in distribution to the parameters, i.e., $\\beta_0,\\beta_1$, generating the data $(Y_1,X_1),(Y_2,X_2),\\ldots,(Y_n,X_n)$ as summarised below.\n",
    "\n",
    "$$\n",
    "\\boxed{\n",
    "\\frac{\\widehat{\\beta}_0 - \\beta_0}{\\widehat{se}\\left(\\widehat{\\beta}_0\\right)} \\overset{d}{\\to} Normal(0,1) \\quad \\text{ and } \\quad \\frac{\\widehat{\\beta}_1 - \\beta_1}{\\widehat{se}\\left(\\widehat{\\beta}_1\\right)} \\overset{d}{\\to} Normal(0,1) \n",
    "}\n",
    "$$\n",
    "\n",
    "Note: in the above the exact distribution is actually the Student-t distribution, but nevertheless the normal distribution is a good approximation if $n > 30$.\n",
    "\n",
    "##### 3. Approximate $1-\\alpha$ Confidence Interval\n",
    "\n",
    "The $1-\\alpha$ confidence interval for $\\beta_0$ and $\\beta_1$ that is obtained from the approximately normal distribution as $n$ gets large is:\n",
    "\n",
    "$$\n",
    "\\boxed{\n",
    "\\widehat{\\beta}_0 \\, \\pm \\, z_{\\alpha/2} \\, \\widehat{se}\\left(\\widehat{\\beta}_0\\right) \\quad \\text{ and } \\quad\n",
    "\\widehat{\\beta}_1 \\, \\pm \\, z_{\\alpha/2} \\, \\widehat{se}\\left(\\widehat{\\beta}_1\\right) \n",
    "}\n",
    "$$\n",
    "\n",
    "##### 4. The Wald Test\n",
    "\n",
    "Recall Wald test statistic for testing the null hypothesis with the null value $\\beta^{(0)}$:\n",
    "\n",
    "$$\n",
    "H_0: \\beta = \\beta^{(0)} \\quad \\text{ versus } \\quad H_1: \\beta \\neq \\beta^{(0)} \\quad { is } \\quad W = \\frac{\\left(\\widehat{\\beta}-\\beta^{(0)}\\right)}{\\widehat{se}\\left(\\widehat{\\beta}\\right)}\n",
    "$$\n",
    "\n",
    "Thus the Wald test for testing $H_0: \\beta_1=0$ versus $H_1: \\beta_1 \\neq 0$ is to \n",
    "reject $H_0$ if $|W| > z_{\\alpha/2}$ where $W=\\frac{\\widehat{\\beta}_1}{\\widehat{se}\\left(\\widehat{\\beta}_1\\right)}$."
   ]
  },
  {
   "cell_type": "markdown",
   "metadata": {
    "collapsed": false
   },
   "source": [
    "## Implementing Simple Linear Regression from Scratch\n",
    "\n",
    "Using the above formulas we can implement Python functions to calculate the **least squares estimates**,\n",
    "$\\widehat{\\beta}_0$ and $\\widehat{\\beta}_1$, that minimise $RSS$."
   ]
  },
  {
   "cell_type": "code",
   "execution_count": 1,
   "metadata": {
    "collapsed": false
   },
   "outputs": [],
   "source": [
    "import numpy as np \n",
    "import matplotlib.pyplot as plt\n",
    "\n",
    "def estimate_coefficients(x, y): \n",
    "    # size of the dataset  \n",
    "    n = np.size(x) \n",
    "    # mean of x and y\n",
    "    mean_x, mean_y = np.mean(x), np.mean(y) \n",
    "    # xy cross-deviation and xx deviatio\n",
    "    SS_xy = np.sum(y*x) - n*mean_y*mean_x\n",
    "    SS_xx = np.sum(x*x) - n*mean_x*mean_x\n",
    "    # calculating LSE of regression coefficients \n",
    "    b1_hat = SS_xy / SS_xx \n",
    "    b0_hat = mean_y - b1_hat*mean_x \n",
    "    sigma_hat2 = np.mean((y - (b0_hat + b1_hat * x))^2)\n",
    "    if n>2:\n",
    "        sigma_hat2 = sigma_hat2*n/(n-2)\n",
    "    sigma_hat=np.sqrt(sigma_hat2)\n",
    "    return(b0_hat, b1_hat, sigma_hat)\n",
    "\n",
    "def standard_errors(x,y):\n",
    "    n = np.size(x) \n",
    "    b0_hat,b1_hat,s_hat = estimate_coefficients(x,y)\n",
    "    mean_x = np.mean(x)\n",
    "    s2X = np.mean( (x-mean_x)^2 )\n",
    "    se_b1 = s_hat/np.sqrt(s2X*n)\n",
    "    se_b0 = se_b1*np.sqrt(np.mean(x^2))\n",
    "    return (se_b0, se_b1)\n",
    "\n",
    "def plot_regression_line(x, y, b): \n",
    "    # plotting the data points on a graph\n",
    "    plt.scatter(x, y, color = \"m\",marker = \"o\", s = 10) \n",
    "    # predicted response vector \n",
    "    y_pred = b[0] + b[1]*x \n",
    "    # plotting the fitted regression line\n",
    "    plt.plot(x, y_pred, color = \"b\")\n",
    "    # putting generic labels for x and y axis\n",
    "    plt.xlabel('x') \n",
    "    plt.ylabel('y') \n",
    "    # function to show plotted graph\n",
    "    plt.show()\n",
    "\n",
    "def SimpleLinearRegression(x,y): \n",
    "    # estimating coefficients \n",
    "    b = estimate_coefficients(x, y) \n",
    "    print(\"Estimated coefficients:\\nb0_hat = {} \\nb1_hat = {}\\nsigma_hat = {}\".format(b[0], b[1],b[2])) \n",
    "    # plotting fitted regression line  with data\n",
    "    plot_regression_line(x, y, b)"
   ]
  },
  {
   "cell_type": "code",
   "execution_count": 2,
   "metadata": {
    "collapsed": false
   },
   "outputs": [
    {
     "name": "stdout",
     "output_type": "stream",
     "text": [
      "Estimated coefficients:\n",
      "b0_hat = 0.5998612958803515 \n",
      "b1_hat = 0.004267223518635576\n",
      "sigma_hat = 0.28404612916999544\n"
     ]
    },
    {
     "data": {
      "image/png": "[encoded data removed]",
      "text/plain": [
       "<Figure size 432x288 with 1 Axes>"
      ]
     },
     "execution_count": 2,
     "metadata": {},
     "output_type": "execute_result"
    }
   ],
   "source": [
    "# Datasets for x and y \n",
    "LSAT=np.array([576, 635, 558, 578, 666, 580, 555, 661, 651, 605, 653, 575, 545, 572, 594]) # LSAT data\n",
    "GPA=np.array([3.39, 3.30, 2.81, 3.03, 3.44, 3.07, 3.00, 3.43, 3.36, 3.13, 3.12, 2.74, 2.76, 2.88, 3.96]) # GPA data\n",
    "\n",
    "SimpleLinearRegression(LSAT,GPA)\n"
   ]
  },
  {
   "cell_type": "markdown",
   "metadata": {
    "collapsed": false
   },
   "source": [
    "We can look at the residuals of the fitted line as follows."
   ]
  },
  {
   "cell_type": "code",
   "execution_count": 3,
   "metadata": {
    "collapsed": false
   },
   "outputs": [
    {
     "data": {
      "image/png": "[encoded data removed]",
      "text/plain": [
       "<Figure size 432x288 with 1 Axes>"
      ]
     },
     "execution_count": 3,
     "metadata": {},
     "output_type": "execute_result"
    }
   ],
   "source": [
    "predictedGPA = 0.5998612958803515 + 0.004267223518635576*LSAT\n",
    "residuals = GPA - predictedGPA\n",
    "plt.scatter(LSAT, residuals, color = \"k\",marker = \"o\", s = 10) \n",
    "plt.axhline()\n",
    "# putting generic labels for x and y axis\n",
    "plt.ylabel('$\\\\epsilon_i$') \n",
    "plt.xlabel('LSAT') # draw a y=0 line\n",
    "plt.show()\n",
    "# in general we want residuals to be Normally distributes about 0 with the same variance"
   ]
  },
  {
   "cell_type": "markdown",
   "metadata": {
    "collapsed": false
   },
   "source": [
    "## Residual Analysis\n",
    "\n",
    "Looking at the residuals $\\epsilon_i$'s in the above plot we can notice how just $4$ of the $15$ datapoints are abov $0$. If $\\epsilon_i$ were truly IID $Normal(0,\\sigma^2)$, we would expect roughly the same number of points to be spread above and below zero, i.e., the $x$-axis, in an equally likely manner. Also, we would expect more points to be closer to zero and fewer points to be further away.\n",
    "\n",
    "In conclusion, the residuals of the linear regression of LSAT and GPA do not look like they are normall distributed.\n",
    "\n",
    "We could try different approaches to improve the model. For example, we could try to increase the sample size or standardise the scales by subtracting the sample mean and dividing by the the sample standard deviation for the $x$ and $y$ values separately and doing regression with the standardised data, etc.\n",
    "\n",
    "The [real wiki](http://reliawiki.org/index.php/Simple_Linear_Regression_Analysis) page has some simple examples of residual plots and they are useful for insights:\n",
    "\n",
    "> Examples of residual plots are shown in the following figure. (a) is a satisfactory plot with the residuals falling in a horizontal band with no systematic pattern. Such a plot indicates an appropriate regression model. (b) shows residuals falling in a funnel shape. Such a plot indicates increase in variance of residuals and the assumption of constant variance is violated here. Transformation on  may be helpful in this case (see Transformations). If the residuals follow the pattern of (c) or (d), then this is an indication that the linear regression model is not adequate. Addition of higher order terms to the regression model or transformation on  or  may be required in such cases. A plot of residuals may also show a pattern as seen in (e), indicating that the residuals increase (or decrease) as the run order sequence or time progresses. This may be due to factors such as operator-learning or instrument-creep and should be investigated further.)\n",
    "\n",
    "<img src=\"http://reliawiki.org/images/e/ee/Doe4.13.png\">"
   ]
  },
  {
   "cell_type": "markdown",
   "metadata": {
    "collapsed": false
   },
   "source": [
    "We can finally obtain 95% confidence intervals for the fitted parameters in the simple linear regression model and do a Wald test as follows."
   ]
  },
  {
   "cell_type": "code",
   "execution_count": 4,
   "metadata": {
    "collapsed": false
   },
   "outputs": [
    {
     "name": "stdout",
     "output_type": "stream",
     "text": [
      "Estimated standard errors for beta_0_hat and beta_1_hat are:\n",
      "1.0927735237389298 0.0018163754932013147\n",
      "and the approximate 95% confidence intervals for beta_0_hat is:\n",
      "          [  -1.585685751597508  ,  2.785408343358211  ]\n",
      "and the approximate 95% confidence intervals for beta_1_hat is:\n",
      "          [  0.0006344725322329466  ,  0.007899974505038206  ]\n",
      "The Wald test for the null hypothesis H0 that beta_1 = 0 is:\n",
      "Reject H0 that beta_1=0 at alpha=0.05, since W =  2.34930692172834\n"
     ]
    }
   ],
   "source": [
    "b0_hat, b1_hat, s_hat = estimate_coefficients(LSAT,GPA)\n",
    "se_b0,se_b1 = standard_errors(LSAT,GPA)\n",
    "print (\"Estimated standard errors for beta_0_hat and beta_1_hat are:\")\n",
    "print (se_b0,se_b1 )\n",
    "print (\"and the approximate 95% confidence intervals for beta_0_hat is:\")\n",
    "print (\"          [ \", b0_hat-2*se_b0,\" , \", b0_hat+2*se_b0, \" ]\")\n",
    "print (\"and the approximate 95% confidence intervals for beta_1_hat is:\")\n",
    "print (\"          [ \", b1_hat-2*se_b1,\" , \", b1_hat+2*se_b1, \" ]\")\n",
    "print (\"The Wald test for the null hypothesis H0 that beta_1 = 0 is:\")\n",
    "W = (b1_hat-0)/se_b1\n",
    "if abs(W > 2):\n",
    "    print (\"Reject H0 that beta_1=0 at alpha=0.05, since W = \",W)\n",
    "else:\n",
    "    print (\"fail to reject H0 that beta_1=0 at alpha=0.05, since W = \",W)"
   ]
  },
  {
   "cell_type": "markdown",
   "metadata": {
    "collapsed": false
   },
   "source": [
    "## Multiple Regression\n",
    "### This is just as simple, except we have more than one covariate\n",
    "\n",
    "Now, let's suppose that the covariate, feature, predictor or dependent variable is a vector of length $k$. So our data for regression is of the following form:\n",
    "\n",
    "$$\n",
    "(Y_1,X_1), (Y_2,X_2), \\ldots, (Y_i,X_i), \\ldots, (Y_n,X_n)\n",
    "$$\n",
    "\n",
    "where, $X_i$ is a vector of length $k$ for the $i$-th observation or datapoint $(Y_i,X_i)$. \n",
    "\n",
    "$$\n",
    "X_i = (X_{i,1},X_{i,2},\\ldots,X_{i,k}) \\, .\n",
    "$$\n",
    "\n",
    "Then the linear regression model is:\n",
    "\n",
    "$$\n",
    "Y_i = \\displaystyle{\\sum_{j=0}^k \\beta_j X_{i,j} + \\epsilon_i, \\quad \\text{ for } i \\in \\{1,2,\\ldots,n\\} }\n",
    "$$\n",
    "\n",
    "where $\\beta_0$ is the intercept term with $X_{i,0}=1$ for each $i \\in \\{1,2,\\ldots,n\\}$ and\n",
    "\n",
    "$$\n",
    "E \\left( \\epsilon_i | X_{1,i}, X_{2,i}, \\ldots, X_{k,i} \\right) = 0.\n",
    "$$\n",
    "\n",
    "We can denote the model using matrices and vectors more conveniently as follows:\n",
    "\n",
    "$$\n",
    "Y \n",
    "= \\displaystyle{\\left( {\\begin{array}{c}\n",
    "   Y_1 \\\\\n",
    "   Y_2 \\\\\n",
    "   \\vdots \\\\\n",
    "   Y_n\n",
    "  \\end{array} } \\right)} \\, ,\n",
    "\\qquad \n",
    "X \n",
    "=  \\displaystyle{\\left( {\\begin{array}{cccc}\n",
    "   1& X_{1,1}& \\ldots& X_{1,k} \\\\\n",
    "   1& X_{2,1}& \\ldots& X_{2,k} \\\\\n",
    "   \\vdots & \\vdots & \\vdots & \\vdots\\\\\n",
    "   1& X_{n,1}& \\ldots& X_{n,k} \n",
    "  \\end{array} } \\right)} \\, ,\n",
    "\\qquad\n",
    "\\beta \n",
    "= \\displaystyle{\\left( {\\begin{array}{c}\n",
    "   \\beta_0 \\\\\n",
    "   \\beta_1 \\\\\n",
    "   \\vdots \\\\\n",
    "   \\beta_k\n",
    "  \\end{array} } \\right)} \\, ,\n",
    "\\qquad \n",
    "\\epsilon \n",
    "= \\displaystyle{\\left( {\\begin{array}{c}\n",
    "   \\epsilon_1 \\\\\n",
    "   \\epsilon_2 \\\\\n",
    "   \\vdots \\\\\n",
    "   \\epsilon_n\n",
    "  \\end{array} } \\right)} \\, .\n",
    "$$\n",
    "\n",
    "With $X \\in \\mathbb{R}^{n \\times (k+1)}$, i.e., $X$ being a $n \\times (k+1)$ matrix, $\\beta \\in \\mathbb{R}^{(k+1) \\times 1}$, i.e., $\\beta$ being a a column vector with $k+1$ rows, and $\\epsilon \\in \\mathbb{R}^{n \\times 1}$, i.e., $\\epsilon$ being a column vector with $n$ rows, we obtain the multiple regression model:\n",
    "\n",
    "$$\n",
    "\\boxed{\n",
    "Y = X \\beta + \\epsilon \\, .\n",
    "}\n",
    "$$\n",
    "\n",
    "Just as in the 1D case with $k=1$, the least sqaures estimate is as follows, under the assumption that $X^T X$ is invertible:\n",
    "\n",
    "$$\n",
    "\\boxed{\n",
    "\\begin{aligned}\n",
    "\\widehat{\\beta} &= \\left( X^T X\\right)^{-1} X^T Y\\\\\n",
    "V\\left(\\widehat{\\beta} | X_{1:n} \\right) &= \\sigma^2 \\left( X^T X \\right)^{-1} \\\\\n",
    "\\widehat{\\beta} &\\approx Normal \\left(\\beta, \\sigma^2 \\left( X^T X\\right)^{-1} \\right)\n",
    "\\end{aligned} \\, .\n",
    "}\n",
    "$$\n",
    "\n",
    "The estimate of the regression function is:\n",
    "\n",
    "$$\n",
    "\\boxed{\n",
    "\\widehat{r}(x) = \\sum_{j=0}^k \\widehat{\\beta}_j \\, x_j \\, .\n",
    "}\n",
    "$$\n",
    "\n",
    "An unbiased estimate of $\\sigma^2$ is:\n",
    "\n",
    "$$\n",
    "\\widehat{\\sigma}^2 = \\left( \\frac{1}{n-(k+1)} \\right) \\sum_{i=1}^n \\widehat{\\epsilon}_i^2 \\, \n",
    "$$\n",
    "\n",
    "where $\\widehat{\\epsilon}$ is the vector of residuals:\n",
    "\n",
    "$$\n",
    "\\boxed{\n",
    "\\widehat{\\epsilon}=X \\widehat{\\beta} - Y\n",
    "} \\ , \\text{ i.e.,} \\quad\n",
    "\\widehat{\\epsilon}  = \\displaystyle{\\left( {\\begin{array}{c}\n",
    "   \\widehat{\\epsilon}_1 \\\\\n",
    "   \\widehat{\\epsilon}_2 \\\\\n",
    "   \\vdots \\\\\n",
    "   \\widehat{\\epsilon}_n\n",
    "  \\end{array} } \\right)} = \\displaystyle{\\left( {\\begin{array}{cccc}\n",
    "   1& X_{1,1}& \\ldots& X_{1,k} \\\\\n",
    "   1& X_{2,1}& \\ldots& X_{2,k} \\\\\n",
    "   \\vdots & \\vdots & \\vdots & \\vdots\\\\\n",
    "   1& X_{n,1}& \\ldots& X_{n,k} \n",
    "  \\end{array} } \\right)} \\ \n",
    "  \\displaystyle{\\left( {\\begin{array}{c}\n",
    "   \\widehat{\\beta}_0 \\\\\n",
    "   \\widehat{\\beta}_1 \\\\\n",
    "   \\vdots \\\\\n",
    "   \\widehat{\\beta}_k\n",
    "  \\end{array} } \\right)} \\ - \\displaystyle{\\left( {\\begin{array}{c}\n",
    "   Y_1 \\\\\n",
    "   Y_2 \\\\\n",
    "   \\vdots \\\\\n",
    "   Y_n\n",
    "  \\end{array} } \\right)}\n",
    "$$\n",
    "\n",
    "An approximate $1-\\alpha$ confidence interval for $\\beta_j$ is\n",
    "\n",
    "$$\n",
    "\\boxed{\n",
    "\\widehat{\\beta}_j \\pm z_{\\alpha/2} \\widehat{se}(\\widehat{\\beta}_j)\n",
    "}\n",
    "$$\n",
    "where $\\left(\\widehat{se}(\\widehat{\\beta}_j)\\right)^2$ is the $j$-th diagonal entry of the matrix  $\\widehat{\\sigma}^2 (X^T X)^{-1}$."
   ]
  },
  {
   "cell_type": "markdown",
   "metadata": {
    "collapsed": false
   },
   "source": [
    "### Solving Least Squares Using Numerical Linear Algebra Routine in scipy\n",
    "\n",
    "We can use [scipy.linalg.lstsq](https://docs.scipy.org/doc/scipy/reference/generated/scipy.linalg.lstsq.html#scipy.linalg.lstsq) to get the least squares solution to our regression problems quite easily, including generalisation to multiple linear regression when the covariates are in more than 1 dimension.\n",
    "\n",
    "Let us try to understand the code in the previous cell by learning how to do a least squares fit by setting up the right design matrix."
   ]
  },
  {
   "cell_type": "markdown",
   "metadata": {
    "collapsed": false
   },
   "source": [
    "#### Example 1: Fitting a Line is Simple Linear Regression"
   ]
  },
  {
   "cell_type": "code",
   "execution_count": 5,
   "metadata": {
    "collapsed": false
   },
   "outputs": [
    {
     "data": {
      "text/plain": [
       "array([[1. , 1. ],\n",
       "       [1. , 2.5],\n",
       "       [1. , 3.5],\n",
       "       [1. , 4. ],\n",
       "       [1. , 5. ],\n",
       "       [1. , 7. ],\n",
       "       [1. , 8.5]])"
      ]
     },
     "execution_count": 5,
     "metadata": {},
     "output_type": "execute_result"
    }
   ],
   "source": [
    "from scipy.linalg import lstsq\n",
    "import matplotlib.pyplot as plt\n",
    "import numpy as np\n",
    "\n",
    "# suppose we have the following data\n",
    "x = np.array([1, 2.5, 3.5, 4, 5, 7, 8.5])\n",
    "y = np.array([0.3, 1.1, 1.5, 2.0, 3.2, 6.6, 8.6])\n",
    "\n",
    "#We want to fit a line of the form y = a + b*x to this data. We first form the \n",
    "#“design matrix” M, with a constant column of 1s and a column containing x\n",
    "M1 = x[:, np.newaxis]^[0, 1]\n",
    "M1"
   ]
  },
  {
   "cell_type": "code",
   "execution_count": 6,
   "metadata": {
    "collapsed": false
   },
   "outputs": [
    {
     "data": {
      "text/plain": [
       "array([-1.93080357,  1.16875   ])"
      ]
     },
     "execution_count": 6,
     "metadata": {},
     "output_type": "execute_result"
    }
   ],
   "source": [
    "#We want to find the least-squares solution to \n",
    "#M1.dot(p) = y, where p is a vector with length 2 that holds the parameters a and b.\n",
    "p, res, rnk, s = lstsq(M1, y)\n",
    "p"
   ]
  },
  {
   "cell_type": "code",
   "execution_count": 7,
   "metadata": {
    "collapsed": false
   },
   "outputs": [
    {
     "data": {
      "image/png": "[encoded data removed]",
      "text/plain": [
       "<Figure size 432x288 with 1 Axes>"
      ]
     },
     "execution_count": 7,
     "metadata": {},
     "output_type": "execute_result"
    }
   ],
   "source": [
    "plt.plot(x, y, 'o', label='data')\n",
    "xx = np.linspace(0, 9, 101)\n",
    "yy = p[0] + p[1]*xx\n",
    "plt.plot(xx, yy, label='least squares fit, $y = a + bx$')\n",
    "plt.xlabel('x')\n",
    "plt.ylabel('y')\n",
    "plt.legend(framealpha=1, shadow=True)\n",
    "plt.grid(alpha=0.25)\n",
    "plt.show()"
   ]
  },
  {
   "cell_type": "markdown",
   "metadata": {
    "collapsed": false
   },
   "source": [
    "#### Example 2: Fitting a Quadratic is also Simple Linear Regresssion\n",
    "Suppose we want to fit a quadratic polynomial of the form $y = a + b*x^2$ to the same data. \n",
    "Then we first form the design matrix `M2`, with a constant column of `1`s and a column containing `x^2` as follows:"
   ]
  },
  {
   "cell_type": "code",
   "execution_count": 8,
   "metadata": {
    "collapsed": false
   },
   "outputs": [
    {
     "data": {
      "text/plain": [
       "array([[ 1.  ,  1.  ],\n",
       "       [ 1.  ,  6.25],\n",
       "       [ 1.  , 12.25],\n",
       "       [ 1.  , 16.  ],\n",
       "       [ 1.  , 25.  ],\n",
       "       [ 1.  , 49.  ],\n",
       "       [ 1.  , 72.25]])"
      ]
     },
     "execution_count": 8,
     "metadata": {},
     "output_type": "execute_result"
    }
   ],
   "source": [
    "M2 = x[:, np.newaxis]^[0, 2]\n",
    "M2"
   ]
  },
  {
   "cell_type": "code",
   "execution_count": 9,
   "metadata": {
    "collapsed": false
   },
   "outputs": [
    {
     "data": {
      "image/png": "[encoded data removed]",
      "text/plain": [
       "<Figure size 432x288 with 1 Axes>"
      ]
     },
     "execution_count": 9,
     "metadata": {},
     "output_type": "execute_result"
    }
   ],
   "source": [
    "# least square solution with M2\n",
    "p, res, rnk, s = lstsq(M2, y)\n",
    "plt.plot(x, y, 'o', label='data')\n",
    "xx = np.linspace(0, 9, 101)\n",
    "yy = p[0] + p[1]*xx^2\n",
    "plt.plot(xx, yy, label='least squares fit, $y = a + bx$')\n",
    "plt.xlabel('x')\n",
    "plt.ylabel('y')\n",
    "plt.legend(framealpha=1, shadow=True)\n",
    "plt.grid(alpha=0.25)\n",
    "plt.show()"
   ]
  },
  {
   "cell_type": "markdown",
   "metadata": {
    "collapsed": false
   },
   "source": [
    "#### Example 3: Fitting a 3rd Order Polynomial is Multiple Linear Regresssion\n",
    "Suppose we want to fit a degree-3 polynomial of the form $y = \\beta_0 + \\beta_1 x + \\beta_2 x^2+ \\beta_3 x^3$ to the same data. \n",
    "Then we first form the design matrix `M3`, with a constant column of `1`s with `x^0` and three additional columns containing `x^1`, `x^2` and `x^3` as follows:"
   ]
  },
  {
   "cell_type": "code",
   "execution_count": 10,
   "metadata": {
    "collapsed": false
   },
   "outputs": [
    {
     "data": {
      "text/plain": [
       "array([[  1.   ,   1.   ,   1.   ,   1.   ],\n",
       "       [  1.   ,   2.5  ,   6.25 ,  15.625],\n",
       "       [  1.   ,   3.5  ,  12.25 ,  42.875],\n",
       "       [  1.   ,   4.   ,  16.   ,  64.   ],\n",
       "       [  1.   ,   5.   ,  25.   , 125.   ],\n",
       "       [  1.   ,   7.   ,  49.   , 343.   ],\n",
       "       [  1.   ,   8.5  ,  72.25 , 614.125]])"
      ]
     },
     "execution_count": 10,
     "metadata": {},
     "output_type": "execute_result"
    }
   ],
   "source": [
    "# Fitting a cubic polynolial is the same idea\n",
    "M3 = x[:, np.newaxis]^[0, 1, 2, 3]\n",
    "M3"
   ]
  },
  {
   "cell_type": "code",
   "execution_count": 11,
   "metadata": {
    "collapsed": false
   },
   "outputs": [
    {
     "data": {
      "image/png": "[encoded data removed]",
      "text/plain": [
       "<Figure size 432x288 with 1 Axes>"
      ]
     },
     "execution_count": 11,
     "metadata": {},
     "output_type": "execute_result"
    }
   ],
   "source": [
    "p, res, rnk, s = lstsq(M3, y)\n",
    "plt.plot(x, y, 'o', label='data')\n",
    "xx = np.linspace(0, 9, 101)\n",
    "yy = p[0] + p[1]*xx + p[2]*xx^2 + p[3]*xx^3\n",
    "plt.plot(xx, yy, label='least squares fit, $y = a + bx$')\n",
    "plt.xlabel('x')\n",
    "plt.ylabel('y')\n",
    "plt.legend(framealpha=1, shadow=True)\n",
    "plt.grid(alpha=0.25)\n",
    "plt.show()"
   ]
  },
  {
   "cell_type": "markdown",
   "metadata": {
    "collapsed": false
   },
   "source": [
    "## Sample Exam Problem 8\n",
    "\n",
    "Using the `lstsq` method shown above, and data arrays `x` and `y` in the next cell that contain log light intensity and log surface temperature in a give range of measurements from nearby stars, compute the least squares estimates of $\\beta_0$ and $\\beta_1$ under the simple linear regression model with an intercept and a slope term. Make a plot similar to the one above with the data points and the fitted regression line."
   ]
  },
  {
   "cell_type": "code",
   "execution_count": 0,
   "metadata": {
    "collapsed": false
   },
   "outputs": [],
   "source": [
    "# Sample Exam Problem 8 \n",
    "# do not change this import and data block ########################\n",
    "from scipy.linalg import lstsq\n",
    "import matplotlib.pyplot as plt\n",
    "import numpy as np\n",
    "logLightIntens_logSurfTemp=[(4.37,5.23),(4.56,5.74),\n",
    "(4.26,4.93),(4.56,5.74),(4.30,5.19),(4.46,5.46),(3.84,4.65),(4.57,5.27),(4.26,5.57),(4.37,5.12),(3.49,5.73),\n",
    "(4.43,5.45),(4.48,5.42),(4.01,4.05),(4.29,4.26),(4.42,4.58),(4.23,3.94),(4.42,4.18),(4.23,4.18),(3.49,5.89),\n",
    "(4.29,4.38),(4.29,4.22),(4.42,4.42),(4.49,4.85),(4.38,5.02),(4.42,4.66),(4.29,4.66),(4.38,4.90),(4.22,4.39),\n",
    "(3.48,6.05),(4.38,4.42),(4.56,5.10),(4.45,5.22),(3.49,6.29),(4.23,4.34),(4.62,5.62),(4.53,5.10),(4.45,5.22),\n",
    "(4.53,5.18),(4.43,5.57),(4.38,4.62),(4.45,5.06),(4.50,5.34),(4.45,5.34),(4.55,5.54),(4.45,4.98),(4.42,4.50)]\n",
    "CleanedlogLightIntens_logSurfTemp=\\\n",
    "np.array([yx for yx in logLightIntens_logSurfTemp if yx[1]<5.9 and yx[0]>4]) # data range constraint\n",
    "x=CleanedlogLightIntens_logSurfTemp[:,1]\n",
    "y=CleanedlogLightIntens_logSurfTemp[:,0]\n",
    "########### end of import and data block ##########################\n",
    "\n",
    "# Replace only ZZZ by the right values\n",
    "M1 = ZZZ # design matrix M1\n",
    "b, res, rnk, s = lstsq(ZZZ,ZZZ)\n",
    "plt.plot(x, y, 'o', label='data')\n",
    "xx = np.linspace(ZZZ, ZZZ, 101)\n",
    "yy = ZZZ *xx\n",
    "plt.plot(xx, yy, label='least squares fit')\n",
    "plt.xlabel('log light intensity (X)')\n",
    "plt.ylabel('log surface temperature (Y)')\n",
    "plt.legend(framealpha=1, shadow=True)\n",
    "plt.grid(alpha=0.25)\n",
    "plt.text(4, 4.7, r'$\\widehat{r}(x) = \\widehat{\\beta}_0 + \\widehat{\\beta}_1 x, \\quad \\\n",
    "\\widehat{\\beta}_0 = $ %(b0)0.3f , $\\widehat{\\beta}_1 = $ %(b1)0.3f' % {'b0': b[0], 'b1': b[1]} )\n",
    "plt.show()"
   ]
  },
  {
   "cell_type": "code",
   "execution_count": 13,
   "metadata": {
    "collapsed": false
   },
   "outputs": [
    {
     "data": {
      "image/png": "[encoded data removed]",
      "text/plain": [
       "<Figure size 432x288 with 1 Axes>"
      ]
     },
     "execution_count": 13,
     "metadata": {},
     "output_type": "execute_result"
    }
   ],
   "source": [
    "# Sample Exam Problem 8 Solution\n",
    "logLightIntens_logSurfTemp=[(4.37,5.23),(4.56,5.74),\n",
    "(4.26,4.93),(4.56,5.74),(4.30,5.19),(4.46,5.46),(3.84,4.65),(4.57,5.27),(4.26,5.57),(4.37,5.12),(3.49,5.73),\n",
    "(4.43,5.45),(4.48,5.42),(4.01,4.05),(4.29,4.26),(4.42,4.58),(4.23,3.94),(4.42,4.18),(4.23,4.18),(3.49,5.89),\n",
    "(4.29,4.38),(4.29,4.22),(4.42,4.42),(4.49,4.85),(4.38,5.02),(4.42,4.66),(4.29,4.66),(4.38,4.90),(4.22,4.39),\n",
    "(3.48,6.05),(4.38,4.42),(4.56,5.10),(4.45,5.22),(3.49,6.29),(4.23,4.34),(4.62,5.62),(4.53,5.10),(4.45,5.22),\n",
    "(4.53,5.18),(4.43,5.57),(4.38,4.62),(4.45,5.06),(4.50,5.34),(4.45,5.34),(4.55,5.54),(4.45,4.98),(4.42,4.50)]\n",
    "CleanedlogLightIntens_logSurfTemp=\\\n",
    "np.array([yx for yx in logLightIntens_logSurfTemp if yx[1]<5.9 and yx[0]>4]) # data range constraint\n",
    "x=CleanedlogLightIntens_logSurfTemp[:,1]\n",
    "y=CleanedlogLightIntens_logSurfTemp[:,0]\n",
    "\n",
    "from scipy.linalg import lstsq\n",
    "import matplotlib.pyplot as plt\n",
    "import numpy as np\n",
    "M1 = x[:, np.newaxis]^[0, 1]\n",
    "b, res, rnk, s = lstsq(M1, y)\n",
    "plt.plot(x, y, 'o', label='data')\n",
    "xx = np.linspace(3.9, 5.8, 101)\n",
    "yy = b[0] + b[1]*xx\n",
    "plt.plot(xx, yy, label='least squares fit')\n",
    "plt.xlabel('log light intensity (X)')\n",
    "plt.ylabel('log surface temperature (Y)')\n",
    "plt.legend(framealpha=1, shadow=True)\n",
    "plt.grid(alpha=0.25)\n",
    "plt.text(4, 4.7, r'$\\widehat{r}(x) = \\widehat{\\beta}_0 + \\widehat{\\beta}_1 x, \\quad \\\n",
    "\\widehat{\\beta}_0 = $ %(b0)0.3f , $\\widehat{\\beta}_1 = $ %(b1)0.3f' % {'b0': b[0], 'b1': b[1]} )\n",
    "plt.show()"
   ]
  },
  {
   "cell_type": "markdown",
   "metadata": {
    "collapsed": false
   },
   "source": [
    "## Prediction\n",
    "\n",
    "Let's consider the 1D setting for simplicity of notation. \n",
    "Suppose we have estimated a regression model:\n",
    "$$\\widehat{r}(x) = \\widehat{\\beta}_0 + \\widehat{\\beta}_1 x $$\n",
    "from data $(X_1,Y_1), (X_2,Y_2), \\ldots, (X_n,Y_n)$.\n",
    "\n",
    "Now suppose we observe the value $X=x_*$ of the covariate of a new observarion but *do not* observe the response $Y_*$ and want to **predict** it. An estimate of $Y_*$ is\n",
    "\n",
    "$$\n",
    "\\boxed{\n",
    "\\widehat{Y}_* = \\widehat{\\beta}_0 + \\widehat{\\beta}_1 x_* \\, .\n",
    "}\n",
    "$$\n",
    "\n",
    "By the formula for the variance of the sum of two random variables:\n",
    "\n",
    "$$\n",
    "V(\\widehat{Y}_*) = V(\\widehat{\\beta}_0 + \\widehat{\\beta}_1 x_*) \n",
    "= V(\\widehat{\\beta}_0) + x_*^2 V(\\widehat{\\beta}_1 ) + 2 x_* Cov (\\widehat{\\beta}_0,\\widehat{\\beta}_1)\n",
    "$$\n",
    "\n",
    "We have all the needed terms to compute $V(\\widehat{Y}_*)$ from the earlier result on the conditional variance of the least squares estimate:\n",
    "\n",
    "$$\n",
    "V \\left( \\widehat{\\beta} \\, | \\, X_{1:n} \\right) \n",
    "= \\frac{\\sigma^2}{n s_X^2} \n",
    "\\left( \n",
    "{\\begin{array}{cc}\n",
    "   \\frac{1}{n}\\sum_{i=1}^n X_i^2 & -\\overline{X}_n \\\\\n",
    "   -\\overline{X}_n & 1\\\\\n",
    "  \\end{array}} \n",
    "  \\right)\n",
    "$$\n",
    "\n",
    "The estimated standard error $\\widehat{se}(\\widehat{Y}_*)$ is just $\\sqrt{V(\\widehat{Y}_*)}$ with $\\widehat{\\sigma}^2$ substituted in for $\\sigma^2$. An approximate $1-\\alpha$ confidence interval for $Y^*$ is called an **approximate $1-\\alpha$ prediction interval for $Y_*$** and is given by\n",
    "\n",
    "$$\n",
    "\\boxed{\n",
    "\\widehat{Y}_* \\pm z_{\\alpha/2} \\widehat{\\xi}_n \\, , \\quad \\text{ where } \\quad \n",
    "\\widehat{\\xi}^2_n = \\widehat{\\sigma}^2 \\left( \\frac{\\sum_{i=1}^n (X_i-X_*)^2}{n \\sum_{i=1}^n (X_i-\\overline{X})^2} + 1 \\right)\n",
    "}\n",
    "$$"
   ]
  },
  {
   "cell_type": "markdown",
   "metadata": {
    "collapsed": false
   },
   "source": [
    "## Multiple Regression on 2018 Swedish Election Data\n",
    "\n",
    "If you are interested, you already have the basic skills to look at the data from Swedish election using these ideas.\n",
    "\n",
    "Try to model, say the $\\log$ of the number of district-level votes for the top two most voted parties.\n",
    "\n",
    "You can introduce latitude of the district centres (if you have such information from geospatial database you could join), distance of the district to one of the four largest cities in Sweden, or the socio-economic indicators of the district for Swedish Central Statistical Bureau, etc., as covariates.\n",
    "\n",
    "But this is a good project and beyond current scope (mainly due to time limitations)."
   ]
  },
  {
   "cell_type": "markdown",
   "metadata": {
    "collapsed": false
   },
   "source": [
    "## Prelude to Statistical Machine Learning\n",
    "\n",
    "Here, we just start you off on the path to more statistical modeling for purposes of prediction.\n",
    "Now statistical learning from the 1970s is needed to mathematically justify the methods.\n",
    "\n",
    "\n",
    "### Loss functions and gradient descent\n",
    "\n",
    "In the above example with linear regression we wanted to minimize the vertical distance between the fitted line and the data, this vertical distance is a prime example of a **loss function**. In general when we are faced with a regression problem we want a way of measure how good our model is, this quantity that we want to *minimise* is called the loss function and its expectation (over different sample data-points is called the **risk**). The mathematical statistical justification for this approach towards minimising expected loss or risk is called [empirical risk minimisation](https://en.wikipedia.org/wiki/Empirical_risk_minimization), as we will see in the sequel in more detail.\n",
    "\n",
    "Let us circle back to linear regression once again. The way the `np.argmin` method searched for the minimum of:\n",
    "\n",
    "$$L(a,b) = \\sum_{i=1}^N (y_i - f_{a,b}(x_i))^2$$\n",
    "\n",
    "was by simply evaluating $L(a,b)$ for each value of $a$ in the array `prop_a` with our guessed values for $a$ and picking the $a$ that minimised $L(a,b)$. Recall we fixed $b$ in the search."
   ]
  },
  {
   "cell_type": "code",
   "execution_count": 14,
   "metadata": {
    "collapsed": false
   },
   "outputs": [],
   "source": [
    "import numpy as np\n",
    "import matplotlib.pyplot as plt\n",
    "np.random.seed(1)\n",
    "x = np.linspace(-1,1,10)\n",
    "epsilon = np.random.normal(loc=0,scale=1,size=len(x),)\n",
    "y = 2*x + 1 + epsilon"
   ]
  },
  {
   "cell_type": "code",
   "execution_count": 15,
   "metadata": {
    "collapsed": false
   },
   "outputs": [
    {
     "name": "stdout",
     "output_type": "stream",
     "text": [
      "Optimal a: 0.902859, optimal b: 1.818182\n"
     ]
    },
    {
     "data": {
      "image/png": "[encoded data removed]",
      "text/plain": [
       "<Figure size 432x288 with 1 Axes>"
      ]
     },
     "execution_count": 15,
     "metadata": {},
     "output_type": "execute_result"
    }
   ],
   "source": [
    "# These are our guesses for b\n",
    "prop_b = np.linspace(0,4,100)\n",
    "\n",
    "# Compute the residual if we use these b's, remember this is with a = 0,\n",
    "# as noted above the a can be taken to be the mean of the unadjusted residual for each b\n",
    "\n",
    "unadj_residual = y.reshape(-1,1)-prop_b.reshape(1,-1)*x.reshape(-1,1)\n",
    "\n",
    "# Compute the variance of the unadjusted residual\n",
    "variance_residual = np.std(unadj_residual,axis=0)**2\n",
    "\n",
    "# Plot the variance for each proposed value of b\n",
    "plt.plot(prop_b,variance_residual)\n",
    "\n",
    "# Find the minimum variance\n",
    "min_index = np.argmin(variance_residual)\n",
    "\n",
    "# Set a and b based on this minimum\n",
    "a = np.mean(unadj_residual[:,min_index])\n",
    "b = prop_b[min_index]\n",
    "\n",
    "print(\"Optimal a: %f, optimal b: %f\" % (a,b))"
   ]
  },
  {
   "cell_type": "markdown",
   "metadata": {
    "collapsed": false
   },
   "source": [
    "> np.argmin? # see the docstring for np.argmin and other functions/methods we are using throughout if you need to know right away.\n",
    "\n",
    "This approaching of evaluating the loss at a set of parameter values quickly becomes infeasible when the dimension of the problem is larger than $1$. \n",
    "\n",
    "Even if we just have two guess for each dimension of the parameter space with $d$ dimensions, then we will need to evaluate the loss at $2^d$ parameter values. When $d=10,100,1000$ the number of evaluation points become $1024$, $1.268e30, 1.072e301$, respectively.\n",
    "\n",
    "Often in big-data settings, the number of dimensions for the regression problem can easily extend over a few thousands. \n",
    "Thus, we need a systematic way to find the optimal parameters, i.e., the parameters that minimise the loss function."
   ]
  },
  {
   "cell_type": "code",
   "execution_count": 16,
   "metadata": {
    "collapsed": false
   },
   "outputs": [],
   "source": [
    "def L(a,b):\n",
    "    return np.mean((y-(a+b*x))^2)"
   ]
  },
  {
   "cell_type": "code",
   "execution_count": 17,
   "metadata": {
    "collapsed": false
   },
   "outputs": [
    {
     "data": {
      "text/html": [
       "\n",
       "<iframe srcdoc=\"<!DOCTYPE html>\n",
       "<html>\n",
       "<head>\n",
       "<title></title>\n",
       "<meta charset=&quot;utf-8&quot;>\n",
       "<meta name=viewport content=&quot;width=device-width, user-scalable=no, minimum-scale=1.0, maximum-scale=1.0&quot;>\n",
       "<style>\n",
       "\n",
       "    body { margin: 0px; overflow: hidden; }\n",
       "\n",
       "    #menu-container { position: absolute; bottom: 30px; right: 40px; cursor: default; }\n",
       "\n",
       "    #menu-message { position: absolute; bottom: 0px; right: 0px; white-space: nowrap;\n",
       "                    display: none; background-color: #F5F5F5; padding: 10px; }\n",
       "\n",
       "    #menu-content { position: absolute; bottom: 0px; right: 0px;\n",
       "                    display: none; background-color: #F5F5F5; border-bottom: 1px solid black;\n",
       "                    border-right: 1px solid black; border-left: 1px solid black; }\n",
       "\n",
       "    #menu-content div { border-top: 1px solid black; padding: 10px; white-space: nowrap; }\n",
       "\n",
       "    #menu-content div:hover { background-color: #FEFEFE;; }\n",
       "  \n",
       "</style>\n",
       "</head>\n",
       "\n",
       "<body>\n",
       "\n",
       "<script src=&quot;/nbextensions/threejs/build/three.min.js&quot;></script>\n",
       "<script src=&quot;/nbextensions/threejs/examples/js/controls/OrbitControls.js&quot;></script>\n",
       "<script>\n",
       "  if ( !window.THREE ) document.write(' \\\n",
       "<script src=&quot;https://cdn.jsdelivr.net/gh/mrdoob/three.js@r110/build/three.min.js&quot;><\\/script> \\\n",
       "<script src=&quot;https://cdn.jsdelivr.net/gh/mrdoob/three.js@r110/examples/js/controls/OrbitControls.js&quot;><\\/script> \\\n",
       "            ');\n",
       "</script>\n",
       "        \n",
       "<script>\n",
       "\n",
       "    var scene = new THREE.Scene();\n",
       "\n",
       "    var renderer = new THREE.WebGLRenderer( { antialias: true, preserveDrawingBuffer: true } );\n",
       "    renderer.setPixelRatio( window.devicePixelRatio );\n",
       "    renderer.setSize( window.innerWidth, window.innerHeight );\n",
       "    renderer.setClearColor( 0xffffff, 1 );\n",
       "    document.body.appendChild( renderer.domElement );\n",
       "\n",
       "    var options = {&quot;aspectRatio&quot;: [1.0, 1.0, 1.0], &quot;axes&quot;: false, &quot;axesLabels&quot;: [&quot;x&quot;, &quot;y&quot;, &quot;z&quot;], &quot;decimals&quot;: 2, &quot;frame&quot;: true, &quot;projection&quot;: &quot;perspective&quot;};\n",
       "\n",
       "    // When animations are supported by the viewer, the value 'false'\n",
       "    // will be replaced with an option set in Python by the user\n",
       "    var animate = false; // options.animate;\n",
       "\n",
       "    var b = [{&quot;x&quot;:0.5, &quot;y&quot;:1.5, &quot;z&quot;:1.4065492723375546}, {&quot;x&quot;:1.5, &quot;y&quot;:2.5, &quot;z&quot;:1.9458535010164624}]; // bounds\n",
       "\n",
       "    if ( b[0].x === b[1].x ) {\n",
       "        b[0].x -= 1;\n",
       "        b[1].x += 1;\n",
       "    }\n",
       "    if ( b[0].y === b[1].y ) {\n",
       "        b[0].y -= 1;\n",
       "        b[1].y += 1;\n",
       "    }\n",
       "    if ( b[0].z === b[1].z ) {\n",
       "        b[0].z -= 1;\n",
       "        b[1].z += 1;\n",
       "    }\n",
       "\n",
       "    var rRange = Math.sqrt( Math.pow( b[1].x - b[0].x, 2 )\n",
       "                            + Math.pow( b[1].y - b[0].y, 2 ) );\n",
       "    var xRange = b[1].x - b[0].x;\n",
       "    var yRange = b[1].y - b[0].y;\n",
       "    var zRange = b[1].z - b[0].z;\n",
       "\n",
       "    var ar = options.aspectRatio;\n",
       "    var a = [ ar[0], ar[1], ar[2] ]; // aspect multipliers\n",
       "    var autoAspect = 2.5;\n",
       "    if ( zRange > autoAspect * rRange && a[2] === 1 ) a[2] = autoAspect * rRange / zRange;\n",
       "\n",
       "    // Distance from (xMid,yMid,zMid) to any corner of the bounding box, after applying aspectRatio\n",
       "    var midToCorner = Math.sqrt( a[0]*a[0]*xRange*xRange + a[1]*a[1]*yRange*yRange + a[2]*a[2]*zRange*zRange ) / 2;\n",
       "\n",
       "    var xMid = ( b[0].x + b[1].x ) / 2;\n",
       "    var yMid = ( b[0].y + b[1].y ) / 2;\n",
       "    var zMid = ( b[0].z + b[1].z ) / 2;\n",
       "\n",
       "    var box = new THREE.Geometry();\n",
       "    box.vertices.push( new THREE.Vector3( a[0]*b[0].x, a[1]*b[0].y, a[2]*b[0].z ) );\n",
       "    box.vertices.push( new THREE.Vector3( a[0]*b[1].x, a[1]*b[1].y, a[2]*b[1].z ) );\n",
       "    var boxMesh = new THREE.Line( box );\n",
       "    if ( options.frame ) scene.add( new THREE.BoxHelper( boxMesh, 'black' ) );\n",
       "\n",
       "    if ( options.axesLabels ) {\n",
       "\n",
       "        var d = options.decimals; // decimals\n",
       "        var offsetRatio = 0.1;\n",
       "        var al = options.axesLabels;\n",
       "\n",
       "        var offset = offsetRatio * a[1]*( b[1].y - b[0].y );\n",
       "        var xm = xMid.toFixed(d);\n",
       "        if ( /^-0.?0*$/.test(xm) ) xm = xm.substr(1);\n",
       "        addLabel( al[0] + '=' + xm, a[0]*xMid, a[1]*b[1].y+offset, a[2]*b[0].z );\n",
       "        addLabel( ( b[0].x ).toFixed(d), a[0]*b[0].x, a[1]*b[1].y+offset, a[2]*b[0].z );\n",
       "        addLabel( ( b[1].x ).toFixed(d), a[0]*b[1].x, a[1]*b[1].y+offset, a[2]*b[0].z );\n",
       "\n",
       "        var offset = offsetRatio * a[0]*( b[1].x - b[0].x );\n",
       "        var ym = yMid.toFixed(d);\n",
       "        if ( /^-0.?0*$/.test(ym) ) ym = ym.substr(1);\n",
       "        addLabel( al[1] + '=' + ym, a[0]*b[1].x+offset, a[1]*yMid, a[2]*b[0].z );\n",
       "        addLabel( ( b[0].y ).toFixed(d), a[0]*b[1].x+offset, a[1]*b[0].y, a[2]*b[0].z );\n",
       "        addLabel( ( b[1].y ).toFixed(d), a[0]*b[1].x+offset, a[1]*b[1].y, a[2]*b[0].z );\n",
       "\n",
       "        var offset = offsetRatio * a[1]*( b[1].y - b[0].y );\n",
       "        var zm = zMid.toFixed(d);\n",
       "        if ( /^-0.?0*$/.test(zm) ) zm = zm.substr(1);\n",
       "        addLabel( al[2] + '=' + zm, a[0]*b[1].x, a[1]*b[0].y-offset, a[2]*zMid );\n",
       "        addLabel( ( b[0].z ).toFixed(d), a[0]*b[1].x, a[1]*b[0].y-offset, a[2]*b[0].z );\n",
       "        addLabel( ( b[1].z ).toFixed(d), a[0]*b[1].x, a[1]*b[0].y-offset, a[2]*b[1].z );\n",
       "\n",
       "    }\n",
       "\n",
       "    function addLabel( text, x, y, z, color='black', fontsize=14  ) {\n",
       "\n",
       "        var canvas = document.createElement( 'canvas' );\n",
       "        var pixelRatio = Math.round( window.devicePixelRatio );\n",
       "        canvas.width = 128 * pixelRatio;\n",
       "        canvas.height = 32 * pixelRatio; // powers of two\n",
       "        canvas.style.width = '128px';\n",
       "        canvas.style.height = '32px';\n",
       "\n",
       "        var context = canvas.getContext( '2d' );\n",
       "        context.scale( pixelRatio, pixelRatio );\n",
       "        context.fillStyle = color;\n",
       "        context.font = fontsize + 'px monospace';\n",
       "        context.textAlign = 'center';\n",
       "        context.textBaseline = 'middle';\n",
       "        context.fillText( text, canvas.width/2/pixelRatio, canvas.height/2/pixelRatio );\n",
       "\n",
       "        var texture = new THREE.Texture( canvas );\n",
       "        texture.needsUpdate = true;\n",
       "\n",
       "        var sprite = new THREE.Sprite( new THREE.SpriteMaterial( { map: texture } ) );\n",
       "        sprite.position.set( x, y, z );\n",
       "\n",
       "        // Set the initial scale based on plot size to accomodate orthographic projection.\n",
       "        // For other projections, the scale will get reset each frame based on camera distance.\n",
       "        var scale = midToCorner/2;\n",
       "        sprite.scale.set( scale, scale*.25, 1 ); // ratio of canvas width to height\n",
       "\n",
       "        scene.add( sprite );\n",
       "\n",
       "    }\n",
       "\n",
       "    if ( options.axes ) scene.add( new THREE.AxesHelper( Math.min( a[0]*b[1].x, a[1]*b[1].y, a[2]*b[1].z ) ) );\n",
       "\n",
       "    var camera = createCamera();\n",
       "    camera.up.set( 0, 0, 1 );\n",
       "    camera.position.set( a[0]*(xMid+xRange), a[1]*(yMid+yRange), a[2]*(zMid+zRange) );\n",
       "\n",
       "    function createCamera() {\n",
       "\n",
       "        var aspect = window.innerWidth / window.innerHeight;\n",
       "\n",
       "        if ( options.projection === 'orthographic' ) {\n",
       "            var camera = new THREE.OrthographicCamera( -1, 1, 1, -1, -1000, 1000 );\n",
       "            updateCameraAspect( camera, aspect );\n",
       "            return camera;\n",
       "        }\n",
       "\n",
       "        return new THREE.PerspectiveCamera( 45, aspect, 0.1, 1000 );\n",
       "\n",
       "    }\n",
       "\n",
       "    function updateCameraAspect( camera, aspect ) {\n",
       "\n",
       "        if ( camera.isPerspectiveCamera ) {\n",
       "            camera.aspect = aspect;\n",
       "        } else if ( camera.isOrthographicCamera ) {\n",
       "            // Fit the camera frustum to the bounding box's diagonal so that the entire plot fits\n",
       "            // within at the default zoom level and camera position.\n",
       "            if ( aspect > 1 ) { // Wide window\n",
       "                camera.top = midToCorner;\n",
       "                camera.right = midToCorner * aspect;\n",
       "            } else { // Tall or square window\n",
       "                camera.top = midToCorner / aspect;\n",
       "                camera.right = midToCorner;\n",
       "            }\n",
       "            camera.bottom = -camera.top;\n",
       "            camera.left = -camera.right;\n",
       "        }\n",
       "\n",
       "        camera.updateProjectionMatrix();\n",
       "\n",
       "    }\n",
       "\n",
       "    var lights = [{&quot;x&quot;:-5, &quot;y&quot;:3, &quot;z&quot;:0, &quot;color&quot;:&quot;#7f7f7f&quot;, &quot;parent&quot;:&quot;camera&quot;}];\n",
       "    for ( var i=0 ; i < lights.length ; i++ ) {\n",
       "        var light = new THREE.DirectionalLight( lights[i].color, 1 );\n",
       "        light.position.set( a[0]*lights[i].x, a[1]*lights[i].y, a[2]*lights[i].z );\n",
       "        if ( lights[i].parent === 'camera' ) {\n",
       "            light.target.position.set( a[0]*xMid, a[1]*yMid, a[2]*zMid );\n",
       "            scene.add( light.target );\n",
       "            camera.add( light );\n",
       "        } else scene.add( light );\n",
       "    }\n",
       "    scene.add( camera );\n",
       "\n",
       "    var ambient = {&quot;color&quot;:&quot;#7f7f7f&quot;};\n",
       "    scene.add( new THREE.AmbientLight( ambient.color, 1 ) );\n",
       "\n",
       "    var controls = new THREE.OrbitControls( camera, renderer.domElement );\n",
       "    controls.target.set( a[0]*xMid, a[1]*yMid, a[2]*zMid );\n",
       "    controls.addEventListener( 'change', function() { if ( !animate ) render(); } );\n",
       "\n",
       "    window.addEventListener( 'resize', function() {\n",
       "        \n",
       "        renderer.setSize( window.innerWidth, window.innerHeight );\n",
       "        updateCameraAspect( camera, window.innerWidth / window.innerHeight );\n",
       "        if ( !animate ) render();\n",
       "        \n",
       "    } );\n",
       "\n",
       "    var texts = [];\n",
       "    for ( var i=0 ; i < texts.length ; i++ )\n",
       "        addLabel( texts[i].text, a[0]*texts[i].x, a[1]*texts[i].y, a[2]*texts[i].z, texts[i].color );\n",
       "\n",
       "    var points = [];\n",
       "    for ( var i=0 ; i < points.length ; i++ ) addPoint( points[i] );\n",
       "\n",
       "    function addPoint( json ) {\n",
       "\n",
       "        var geometry = new THREE.Geometry();\n",
       "        var v = json.point;\n",
       "        geometry.vertices.push( new THREE.Vector3( a[0]*v[0], a[1]*v[1], a[2]*v[2] ) );\n",
       "\n",
       "        var canvas = document.createElement( 'canvas' );\n",
       "        canvas.width = 128;\n",
       "        canvas.height = 128;\n",
       "\n",
       "        var context = canvas.getContext( '2d' );\n",
       "        context.arc( 64, 64, 64, 0, 2 * Math.PI );\n",
       "        context.fillStyle = json.color;\n",
       "        context.fill();\n",
       "\n",
       "        var texture = new THREE.Texture( canvas );\n",
       "        texture.needsUpdate = true;\n",
       "\n",
       "        var transparent = json.opacity < 1 ? true : false;\n",
       "        var size = camera.isOrthographicCamera ? json.size : json.size/100;\n",
       "        var material = new THREE.PointsMaterial( { size: size, map: texture,\n",
       "                                                   transparent: transparent, opacity: json.opacity,\n",
       "                                                   alphaTest: .1 } );\n",
       "\n",
       "        var c = new THREE.Vector3();\n",
       "        geometry.computeBoundingBox();\n",
       "        geometry.boundingBox.getCenter( c );\n",
       "        geometry.translate( -c.x, -c.y, -c.z );\n",
       "\n",
       "        var mesh = new THREE.Points( geometry, material );\n",
       "        mesh.position.set( c.x, c.y, c.z );\n",
       "        scene.add( mesh );\n",
       "\n",
       "    }\n",
       "\n",
       "    var lines = [];\n",
       "    for ( var i=0 ; i < lines.length ; i++ ) addLine( lines[i] );\n",
       "\n",
       "    function addLine( json ) {\n",
       "\n",
       "        var geometry = new THREE.Geometry();\n",
       "        for ( var i=0 ; i < json.points.length ; i++ ) {\n",
       "            var v = json.points[i];\n",
       "            geometry.vertices.push( new THREE.Vector3( a[0]*v[0], a[1]*v[1], a[2]*v[2] ) );\n",
       "        }\n",
       "\n",
       "        var transparent = json.opacity < 1 ? true : false;\n",
       "        var material = new THREE.LineBasicMaterial( { color: json.color, linewidth: json.linewidth,\n",
       "                                                      transparent: transparent, opacity: json.opacity } );\n",
       "\n",
       "        var c = new THREE.Vector3();\n",
       "        geometry.computeBoundingBox();\n",
       "        geometry.boundingBox.getCenter( c );\n",
       "        geometry.translate( -c.x, -c.y, -c.z );\n",
       "\n",
       "        var mesh = new THREE.Line( geometry, material );\n",
       "        mesh.position.set( c.x, c.y, c.z );\n",
       "        scene.add( mesh );\n",
       "\n",
       "    }\n",
       "\n",
       "    var surfaces = [{&quot;vertices&quot;: [{&quot;x&quot;: 0.5, &quot;y&quot;: 1.5, &quot;z&quot;: 1.6132016306362427}, {&quot;x&quot;: 0.5, &quot;y&quot;: 1.5256410256410255, &quot;z&quot;: 1.6065710928193269}, {&quot;x&quot;: 0.5256410256410257, &quot;y&quot;: 1.5256410256410255, &quot;z&quot;: 1.586569113518128}, {&quot;x&quot;: 0.5256410256410257, &quot;y&quot;: 1.5, &quot;z&quot;: 1.5931996513350435}, {&quot;x&quot;: 0.5, &quot;y&quot;: 1.551282051282051, &quot;z&quot;: 1.6004762649398312}, {&quot;x&quot;: 0.5256410256410257, &quot;y&quot;: 1.551282051282051, &quot;z&quot;: 1.5804742856386318}, {&quot;x&quot;: 0.5, &quot;y&quot;: 1.5769230769230766, &quot;z&quot;: 1.594917146997754}, {&quot;x&quot;: 0.5256410256410257, &quot;y&quot;: 1.5769230769230766, &quot;z&quot;: 1.5749151676965547}, {&quot;x&quot;: 0.5, &quot;y&quot;: 1.6025641025641022, &quot;z&quot;: 1.5898937389930965}, {&quot;x&quot;: 0.5256410256410257, &quot;y&quot;: 1.6025641025641022, &quot;z&quot;: 1.5698917596918969}, {&quot;x&quot;: 0.5, &quot;y&quot;: 1.6282051282051277, &quot;z&quot;: 1.5854060409258581}, {&quot;x&quot;: 0.5256410256410257, &quot;y&quot;: 1.6282051282051277, &quot;z&quot;: 1.565404061624659}, {&quot;x&quot;: 0.5, &quot;y&quot;: 1.6538461538461533, &quot;z&quot;: 1.581454052796039}, {&quot;x&quot;: 0.5256410256410257, &quot;y&quot;: 1.6538461538461533, &quot;z&quot;: 1.56145207349484}, {&quot;x&quot;: 0.5, &quot;y&quot;: 1.6794871794871788, &quot;z&quot;: 1.5780377746036396}, {&quot;x&quot;: 0.5256410256410257, &quot;y&quot;: 1.6794871794871788, &quot;z&quot;: 1.55803579530244}, {&quot;x&quot;: 0.5, &quot;y&quot;: 1.7051282051282044, &quot;z&quot;: 1.5751572063486592}, {&quot;x&quot;: 0.5256410256410257, &quot;y&quot;: 1.7051282051282044, &quot;z&quot;: 1.5551552270474598}, {&quot;x&quot;: 0.5, &quot;y&quot;: 1.73076923076923, &quot;z&quot;: 1.5728123480310978}, {&quot;x&quot;: 0.5256410256410257, &quot;y&quot;: 1.73076923076923, &quot;z&quot;: 1.552810368729899}, {&quot;x&quot;: 0.5, &quot;y&quot;: 1.7564102564102555, &quot;z&quot;: 1.5710031996509568}, {&quot;x&quot;: 0.5256410256410257, &quot;y&quot;: 1.7564102564102555, &quot;z&quot;: 1.5510012203497578}, {&quot;x&quot;: 0.5, &quot;y&quot;: 1.782051282051281, &quot;z&quot;: 1.5697297612082344}, {&quot;x&quot;: 0.5256410256410257, &quot;y&quot;: 1.782051282051281, &quot;z&quot;: 1.5497277819070352}, {&quot;x&quot;: 0.5, &quot;y&quot;: 1.8076923076923066, &quot;z&quot;: 1.5689920327029314}, {&quot;x&quot;: 0.5256410256410257, &quot;y&quot;: 1.8076923076923066, &quot;z&quot;: 1.5489900534017322}, {&quot;x&quot;: 0.5, &quot;y&quot;: 1.8333333333333321, &quot;z&quot;: 1.568790014135048}, {&quot;x&quot;: 0.5256410256410257, &quot;y&quot;: 1.8333333333333321, &quot;z&quot;: 1.5487880348338485}, {&quot;x&quot;: 0.5, &quot;y&quot;: 1.8589743589743577, &quot;z&quot;: 1.5691237055045837}, {&quot;x&quot;: 0.5256410256410257, &quot;y&quot;: 1.8589743589743577, &quot;z&quot;: 1.5491217262033843}, {&quot;x&quot;: 0.5, &quot;y&quot;: 1.8846153846153832, &quot;z&quot;: 1.5699931068115387}, {&quot;x&quot;: 0.5256410256410257, &quot;y&quot;: 1.8846153846153832, &quot;z&quot;: 1.5499911275103393}, {&quot;x&quot;: 0.5, &quot;y&quot;: 1.9102564102564088, &quot;z&quot;: 1.5713982180559132}, {&quot;x&quot;: 0.5256410256410257, &quot;y&quot;: 1.9102564102564088, &quot;z&quot;: 1.551396238754714}, {&quot;x&quot;: 0.5, &quot;y&quot;: 1.9358974358974343, &quot;z&quot;: 1.5733390392377067}, {&quot;x&quot;: 0.5256410256410257, &quot;y&quot;: 1.9358974358974343, &quot;z&quot;: 1.5533370599365075}, {&quot;x&quot;: 0.5, &quot;y&quot;: 1.96153846153846, &quot;z&quot;: 1.5758155703569199}, {&quot;x&quot;: 0.5256410256410257, &quot;y&quot;: 1.96153846153846, &quot;z&quot;: 1.5558135910557205}, {&quot;x&quot;: 0.5, &quot;y&quot;: 1.9871794871794854, &quot;z&quot;: 1.5788278114135523}, {&quot;x&quot;: 0.5256410256410257, &quot;y&quot;: 1.9871794871794854, &quot;z&quot;: 1.558825832112353}, {&quot;x&quot;: 0.5, &quot;y&quot;: 2.012820512820511, &quot;z&quot;: 1.5823757624076038}, {&quot;x&quot;: 0.5256410256410257, &quot;y&quot;: 2.012820512820511, &quot;z&quot;: 1.562373783106405}, {&quot;x&quot;: 0.5, &quot;y&quot;: 2.0384615384615365, &quot;z&quot;: 1.586459423339075}, {&quot;x&quot;: 0.5256410256410257, &quot;y&quot;: 2.0384615384615365, &quot;z&quot;: 1.5664574440378758}, {&quot;x&quot;: 0.5, &quot;y&quot;: 2.064102564102562, &quot;z&quot;: 1.5910787942079656}, {&quot;x&quot;: 0.5256410256410257, &quot;y&quot;: 2.064102564102562, &quot;z&quot;: 1.5710768149067662}, {&quot;x&quot;: 0.5, &quot;y&quot;: 2.0897435897435876, &quot;z&quot;: 1.596233875014275}, {&quot;x&quot;: 0.5256410256410257, &quot;y&quot;: 2.0897435897435876, &quot;z&quot;: 1.5762318957130759}, {&quot;x&quot;: 0.5, &quot;y&quot;: 2.115384615384613, &quot;z&quot;: 1.6019246657580042}, {&quot;x&quot;: 0.5256410256410257, &quot;y&quot;: 2.115384615384613, &quot;z&quot;: 1.5819226864568052}, {&quot;x&quot;: 0.5, &quot;y&quot;: 2.1410256410256387, &quot;z&quot;: 1.6081511664391528}, {&quot;x&quot;: 0.5256410256410257, &quot;y&quot;: 2.1410256410256387, &quot;z&quot;: 1.5881491871379534}, {&quot;x&quot;: 0.5, &quot;y&quot;: 2.1666666666666643, &quot;z&quot;: 1.6149133770577202}, {&quot;x&quot;: 0.5256410256410257, &quot;y&quot;: 2.1666666666666643, &quot;z&quot;: 1.5949113977565212}, {&quot;x&quot;: 0.5, &quot;y&quot;: 2.19230769230769, &quot;z&quot;: 1.6222112976137073}, {&quot;x&quot;: 0.5256410256410257, &quot;y&quot;: 2.19230769230769, &quot;z&quot;: 1.6022093183125083}, {&quot;x&quot;: 0.5, &quot;y&quot;: 2.2179487179487154, &quot;z&quot;: 1.630044928107114}, {&quot;x&quot;: 0.5256410256410257, &quot;y&quot;: 2.2179487179487154, &quot;z&quot;: 1.610042948805915}, {&quot;x&quot;: 0.5, &quot;y&quot;: 2.243589743589741, &quot;z&quot;: 1.63841426853794}, {&quot;x&quot;: 0.5256410256410257, &quot;y&quot;: 2.243589743589741, &quot;z&quot;: 1.6184122892367405}, {&quot;x&quot;: 0.5, &quot;y&quot;: 2.2692307692307665, &quot;z&quot;: 1.6473193189061845}, {&quot;x&quot;: 0.5256410256410257, &quot;y&quot;: 2.2692307692307665, &quot;z&quot;: 1.6273173396049856}, {&quot;x&quot;: 0.5, &quot;y&quot;: 2.294871794871792, &quot;z&quot;: 1.6567600792118493}, {&quot;x&quot;: 0.5256410256410257, &quot;y&quot;: 2.294871794871792, &quot;z&quot;: 1.6367580999106501}, {&quot;x&quot;: 0.5, &quot;y&quot;: 2.3205128205128176, &quot;z&quot;: 1.6667365494549333}, {&quot;x&quot;: 0.5256410256410257, &quot;y&quot;: 2.3205128205128176, &quot;z&quot;: 1.6467345701537337}, {&quot;x&quot;: 0.5, &quot;y&quot;: 2.346153846153843, &quot;z&quot;: 1.6772487296354364}, {&quot;x&quot;: 0.5256410256410257, &quot;y&quot;: 2.346153846153843, &quot;z&quot;: 1.657246750334237}, {&quot;x&quot;: 0.5, &quot;y&quot;: 2.3717948717948687, &quot;z&quot;: 1.688296619753359}, {&quot;x&quot;: 0.5256410256410257, &quot;y&quot;: 2.3717948717948687, &quot;z&quot;: 1.6682946404521595}, {&quot;x&quot;: 0.5, &quot;y&quot;: 2.3974358974358942, &quot;z&quot;: 1.6998802198087002}, {&quot;x&quot;: 0.5256410256410257, &quot;y&quot;: 2.3974358974358942, &quot;z&quot;: 1.6798782405075012}, {&quot;x&quot;: 0.5, &quot;y&quot;: 2.42307692307692, &quot;z&quot;: 1.7119995298014619}, {&quot;x&quot;: 0.5256410256410257, &quot;y&quot;: 2.42307692307692, &quot;z&quot;: 1.6919975505002625}, {&quot;x&quot;: 0.5, &quot;y&quot;: 2.4487179487179453, &quot;z&quot;: 1.7246545497316421}, {&quot;x&quot;: 0.5256410256410257, &quot;y&quot;: 2.4487179487179453, &quot;z&quot;: 1.704652570430443}, {&quot;x&quot;: 0.5, &quot;y&quot;: 2.474358974358971, &quot;z&quot;: 1.7378452795992416}, {&quot;x&quot;: 0.5256410256410257, &quot;y&quot;: 2.474358974358971, &quot;z&quot;: 1.7178433002980427}, {&quot;x&quot;: 0.5, &quot;y&quot;: 2.5, &quot;z&quot;: 1.7515717194042626}, {&quot;x&quot;: 0.5256410256410257, &quot;y&quot;: 2.5, &quot;z&quot;: 1.7315697401030636}, {&quot;x&quot;: 0.5512820512820513, &quot;y&quot;: 1.5256410256410255, &quot;z&quot;: 1.567882058608776}, {&quot;x&quot;: 0.5512820512820513, &quot;y&quot;: 1.5, &quot;z&quot;: 1.5745125964256916}, {&quot;x&quot;: 0.5512820512820513, &quot;y&quot;: 1.551282051282051, &quot;z&quot;: 1.56178723072928}, {&quot;x&quot;: 0.5512820512820513, &quot;y&quot;: 1.5769230769230766, &quot;z&quot;: 1.556228112787203}, {&quot;x&quot;: 0.5512820512820513, &quot;y&quot;: 1.6025641025641022, &quot;z&quot;: 1.551204704782545}, {&quot;x&quot;: 0.5512820512820513, &quot;y&quot;: 1.6282051282051277, &quot;z&quot;: 1.546717006715307}, {&quot;x&quot;: 0.5512820512820513, &quot;y&quot;: 1.6538461538461533, &quot;z&quot;: 1.5427650185854882}, {&quot;x&quot;: 0.5512820512820513, &quot;y&quot;: 1.6794871794871788, &quot;z&quot;: 1.5393487403930883}, {&quot;x&quot;: 0.5512820512820513, &quot;y&quot;: 1.7051282051282044, &quot;z&quot;: 1.536468172138108}, {&quot;x&quot;: 0.5512820512820513, &quot;y&quot;: 1.73076923076923, &quot;z&quot;: 1.534123313820547}, {&quot;x&quot;: 0.5512820512820513, &quot;y&quot;: 1.7564102564102555, &quot;z&quot;: 1.5323141654404056}, {&quot;x&quot;: 0.5512820512820513, &quot;y&quot;: 1.782051282051281, &quot;z&quot;: 1.5310407269976833}, {&quot;x&quot;: 0.5512820512820513, &quot;y&quot;: 1.8076923076923066, &quot;z&quot;: 1.5303029984923804}, {&quot;x&quot;: 0.5512820512820513, &quot;y&quot;: 1.8333333333333321, &quot;z&quot;: 1.530100979924497}, {&quot;x&quot;: 0.5512820512820513, &quot;y&quot;: 1.8589743589743577, &quot;z&quot;: 1.5304346712940327}, {&quot;x&quot;: 0.5512820512820513, &quot;y&quot;: 1.8846153846153832, &quot;z&quot;: 1.5313040726009874}, {&quot;x&quot;: 0.5512820512820513, &quot;y&quot;: 1.9102564102564088, &quot;z&quot;: 1.5327091838453621}, {&quot;x&quot;: 0.5512820512820513, &quot;y&quot;: 1.9358974358974343, &quot;z&quot;: 1.5346500050271557}, {&quot;x&quot;: 0.5512820512820513, &quot;y&quot;: 1.96153846153846, &quot;z&quot;: 1.5371265361463688}, {&quot;x&quot;: 0.5512820512820513, &quot;y&quot;: 1.9871794871794854, &quot;z&quot;: 1.5401387772030013}, {&quot;x&quot;: 0.5512820512820513, &quot;y&quot;: 2.012820512820511, &quot;z&quot;: 1.543686728197053}, {&quot;x&quot;: 0.5512820512820513, &quot;y&quot;: 2.0384615384615365, &quot;z&quot;: 1.5477703891285242}, {&quot;x&quot;: 0.5512820512820513, &quot;y&quot;: 2.064102564102562, &quot;z&quot;: 1.5523897599974146}, {&quot;x&quot;: 0.5512820512820513, &quot;y&quot;: 2.0897435897435876, &quot;z&quot;: 1.5575448408037242}, {&quot;x&quot;: 0.5512820512820513, &quot;y&quot;: 2.115384615384613, &quot;z&quot;: 1.5632356315474532}, {&quot;x&quot;: 0.5512820512820513, &quot;y&quot;: 2.1410256410256387, &quot;z&quot;: 1.5694621322286015}, {&quot;x&quot;: 0.5512820512820513, &quot;y&quot;: 2.1666666666666643, &quot;z&quot;: 1.5762243428471694}, {&quot;x&quot;: 0.5512820512820513, &quot;y&quot;: 2.19230769230769, &quot;z&quot;: 1.5835222634031563}, {&quot;x&quot;: 0.5512820512820513, &quot;y&quot;: 2.2179487179487154, &quot;z&quot;: 1.591355893896563}, {&quot;x&quot;: 0.5512820512820513, &quot;y&quot;: 2.243589743589741, &quot;z&quot;: 1.5997252343273887}, {&quot;x&quot;: 0.5512820512820513, &quot;y&quot;: 2.2692307692307665, &quot;z&quot;: 1.6086302846956335}, {&quot;x&quot;: 0.5512820512820513, &quot;y&quot;: 2.294871794871792, &quot;z&quot;: 1.6180710450012985}, {&quot;x&quot;: 0.5512820512820513, &quot;y&quot;: 2.3205128205128176, &quot;z&quot;: 1.6280475152443823}, {&quot;x&quot;: 0.5512820512820513, &quot;y&quot;: 2.346153846153843, &quot;z&quot;: 1.6385596954248853}, {&quot;x&quot;: 0.5512820512820513, &quot;y&quot;: 2.3717948717948687, &quot;z&quot;: 1.6496075855428078}, {&quot;x&quot;: 0.5512820512820513, &quot;y&quot;: 2.3974358974358942, &quot;z&quot;: 1.6611911855981494}, {&quot;x&quot;: 0.5512820512820513, &quot;y&quot;: 2.42307692307692, &quot;z&quot;: 1.6733104955909106}, {&quot;x&quot;: 0.5512820512820513, &quot;y&quot;: 2.4487179487179453, &quot;z&quot;: 1.6859655155210909}, {&quot;x&quot;: 0.5512820512820513, &quot;y&quot;: 2.474358974358971, &quot;z&quot;: 1.699156245388691}, {&quot;x&quot;: 0.5512820512820513, &quot;y&quot;: 2.5, &quot;z&quot;: 1.7128826851937116}, {&quot;x&quot;: 0.576923076923077, &quot;y&quot;: 1.5256410256410255, &quot;z&quot;: 1.5505099280912717}, {&quot;x&quot;: 0.576923076923077, &quot;y&quot;: 1.5, &quot;z&quot;: 1.5571404659081873}, {&quot;x&quot;: 0.576923076923077, &quot;y&quot;: 1.551282051282051, &quot;z&quot;: 1.5444151002117754}, {&quot;x&quot;: 0.576923076923077, &quot;y&quot;: 1.5769230769230766, &quot;z&quot;: 1.5388559822696986}, {&quot;x&quot;: 0.576923076923077, &quot;y&quot;: 1.6025641025641022, &quot;z&quot;: 1.5338325742650407}, {&quot;x&quot;: 0.576923076923077, &quot;y&quot;: 1.6282051282051277, &quot;z&quot;: 1.5293448761978023}, {&quot;x&quot;: 0.576923076923077, &quot;y&quot;: 1.6538461538461533, &quot;z&quot;: 1.5253928880679835}, {&quot;x&quot;: 0.576923076923077, &quot;y&quot;: 1.6794871794871788, &quot;z&quot;: 1.5219766098755838}, {&quot;x&quot;: 0.576923076923077, &quot;y&quot;: 1.7051282051282044, &quot;z&quot;: 1.5190960416206036}, {&quot;x&quot;: 0.576923076923077, &quot;y&quot;: 1.73076923076923, &quot;z&quot;: 1.516751183303043}, {&quot;x&quot;: 0.576923076923077, &quot;y&quot;: 1.7564102564102555, &quot;z&quot;: 1.514942034922901}, {&quot;x&quot;: 0.576923076923077, &quot;y&quot;: 1.782051282051281, &quot;z&quot;: 1.513668596480179}, {&quot;x&quot;: 0.576923076923077, &quot;y&quot;: 1.8076923076923066, &quot;z&quot;: 1.5129308679748759}, {&quot;x&quot;: 0.576923076923077, &quot;y&quot;: 1.8333333333333321, &quot;z&quot;: 1.5127288494069924}, {&quot;x&quot;: 0.576923076923077, &quot;y&quot;: 1.8589743589743577, &quot;z&quot;: 1.5130625407765281}, {&quot;x&quot;: 0.576923076923077, &quot;y&quot;: 1.8846153846153832, &quot;z&quot;: 1.5139319420834831}, {&quot;x&quot;: 0.576923076923077, &quot;y&quot;: 1.9102564102564088, &quot;z&quot;: 1.5153370533278576}, {&quot;x&quot;: 0.576923076923077, &quot;y&quot;: 1.9358974358974343, &quot;z&quot;: 1.5172778745096511}, {&quot;x&quot;: 0.576923076923077, &quot;y&quot;: 1.96153846153846, &quot;z&quot;: 1.5197544056288643}, {&quot;x&quot;: 0.576923076923077, &quot;y&quot;: 1.9871794871794854, &quot;z&quot;: 1.5227666466854965}, {&quot;x&quot;: 0.576923076923077, &quot;y&quot;: 2.012820512820511, &quot;z&quot;: 1.5263145976795482}, {&quot;x&quot;: 0.576923076923077, &quot;y&quot;: 2.0384615384615365, &quot;z&quot;: 1.5303982586110194}, {&quot;x&quot;: 0.576923076923077, &quot;y&quot;: 2.064102564102562, &quot;z&quot;: 1.5350176294799098}, {&quot;x&quot;: 0.576923076923077, &quot;y&quot;: 2.0897435897435876, &quot;z&quot;: 1.5401727102862197}, {&quot;x&quot;: 0.576923076923077, &quot;y&quot;: 2.115384615384613, &quot;z&quot;: 1.5458635010299486}, {&quot;x&quot;: 0.576923076923077, &quot;y&quot;: 2.1410256410256387, &quot;z&quot;: 1.552090001711097}, {&quot;x&quot;: 0.576923076923077, &quot;y&quot;: 2.1666666666666643, &quot;z&quot;: 1.5588522123296646}, {&quot;x&quot;: 0.576923076923077, &quot;y&quot;: 2.19230769230769, &quot;z&quot;: 1.5661501328856517}, {&quot;x&quot;: 0.576923076923077, &quot;y&quot;: 2.2179487179487154, &quot;z&quot;: 1.5739837633790583}, {&quot;x&quot;: 0.576923076923077, &quot;y&quot;: 2.243589743589741, &quot;z&quot;: 1.5823531038098844}, {&quot;x&quot;: 0.576923076923077, &quot;y&quot;: 2.2692307692307665, &quot;z&quot;: 1.5912581541781292}, {&quot;x&quot;: 0.576923076923077, &quot;y&quot;: 2.294871794871792, &quot;z&quot;: 1.6006989144837938}, {&quot;x&quot;: 0.576923076923077, &quot;y&quot;: 2.3205128205128176, &quot;z&quot;: 1.6106753847268773}, {&quot;x&quot;: 0.576923076923077, &quot;y&quot;: 2.346153846153843, &quot;z&quot;: 1.6211875649073808}, {&quot;x&quot;: 0.576923076923077, &quot;y&quot;: 2.3717948717948687, &quot;z&quot;: 1.632235455025303}, {&quot;x&quot;: 0.576923076923077, &quot;y&quot;: 2.3974358974358942, &quot;z&quot;: 1.643819055080645}, {&quot;x&quot;: 0.576923076923077, &quot;y&quot;: 2.42307692307692, &quot;z&quot;: 1.6559383650734059}, {&quot;x&quot;: 0.576923076923077, &quot;y&quot;: 2.4487179487179453, &quot;z&quot;: 1.6685933850035863}, {&quot;x&quot;: 0.576923076923077, &quot;y&quot;: 2.474358974358971, &quot;z&quot;: 1.681784114871186}, {&quot;x&quot;: 0.576923076923077, &quot;y&quot;: 2.5, &quot;z&quot;: 1.6955105546762073}, {&quot;x&quot;: 0.6025641025641026, &quot;y&quot;: 1.5256410256410255, &quot;z&quot;: 1.5344527219656148}, {&quot;x&quot;: 0.6025641025641026, &quot;y&quot;: 1.5, &quot;z&quot;: 1.5410832597825301}, {&quot;x&quot;: 0.6025641025641026, &quot;y&quot;: 1.551282051282051, &quot;z&quot;: 1.5283578940861182}, {&quot;x&quot;: 0.6025641025641026, &quot;y&quot;: 1.5769230769230766, &quot;z&quot;: 1.5227987761440414}, {&quot;x&quot;: 0.6025641025641026, &quot;y&quot;: 1.6025641025641022, &quot;z&quot;: 1.5177753681393837}, {&quot;x&quot;: 0.6025641025641026, &quot;y&quot;: 1.6282051282051277, &quot;z&quot;: 1.5132876700721452}, {&quot;x&quot;: 0.6025641025641026, &quot;y&quot;: 1.6538461538461533, &quot;z&quot;: 1.5093356819423265}, {&quot;x&quot;: 0.6025641025641026, &quot;y&quot;: 1.6794871794871788, &quot;z&quot;: 1.5059194037499268}, {&quot;x&quot;: 0.6025641025641026, &quot;y&quot;: 1.7051282051282044, &quot;z&quot;: 1.5030388354949467}, {&quot;x&quot;: 0.6025641025641026, &quot;y&quot;: 1.73076923076923, &quot;z&quot;: 1.5006939771773857}, {&quot;x&quot;: 0.6025641025641026, &quot;y&quot;: 1.7564102564102555, &quot;z&quot;: 1.498884828797244}, {&quot;x&quot;: 0.6025641025641026, &quot;y&quot;: 1.782051282051281, &quot;z&quot;: 1.4976113903545218}, {&quot;x&quot;: 0.6025641025641026, &quot;y&quot;: 1.8076923076923066, &quot;z&quot;: 1.496873661849219}, {&quot;x&quot;: 0.6025641025641026, &quot;y&quot;: 1.8333333333333321, &quot;z&quot;: 1.4966716432813354}, {&quot;x&quot;: 0.6025641025641026, &quot;y&quot;: 1.8589743589743577, &quot;z&quot;: 1.497005334650871}, {&quot;x&quot;: 0.6025641025641026, &quot;y&quot;: 1.8846153846153832, &quot;z&quot;: 1.4978747359578262}, {&quot;x&quot;: 0.6025641025641026, &quot;y&quot;: 1.9102564102564088, &quot;z&quot;: 1.4992798472022004}, {&quot;x&quot;: 0.6025641025641026, &quot;y&quot;: 1.9358974358974343, &quot;z&quot;: 1.501220668383994}, {&quot;x&quot;: 0.6025641025641026, &quot;y&quot;: 1.96153846153846, &quot;z&quot;: 1.5036971995032071}, {&quot;x&quot;: 0.6025641025641026, &quot;y&quot;: 1.9871794871794854, &quot;z&quot;: 1.5067094405598396}, {&quot;x&quot;: 0.6025641025641026, &quot;y&quot;: 2.012820512820511, &quot;z&quot;: 1.5102573915538913}, {&quot;x&quot;: 0.6025641025641026, &quot;y&quot;: 2.0384615384615365, &quot;z&quot;: 1.5143410524853627}, {&quot;x&quot;: 0.6025641025641026, &quot;y&quot;: 2.064102564102562, &quot;z&quot;: 1.518960423354253}, {&quot;x&quot;: 0.6025641025641026, &quot;y&quot;: 2.0897435897435876, &quot;z&quot;: 1.5241155041605625}, {&quot;x&quot;: 0.6025641025641026, &quot;y&quot;: 2.115384615384613, &quot;z&quot;: 1.5298062949042914}, {&quot;x&quot;: 0.6025641025641026, &quot;y&quot;: 2.1410256410256387, &quot;z&quot;: 1.53603279558544}, {&quot;x&quot;: 0.6025641025641026, &quot;y&quot;: 2.1666666666666643, &quot;z&quot;: 1.5427950062040077}, {&quot;x&quot;: 0.6025641025641026, &quot;y&quot;: 2.19230769230769, &quot;z&quot;: 1.5500929267599948}, {&quot;x&quot;: 0.6025641025641026, &quot;y&quot;: 2.2179487179487154, &quot;z&quot;: 1.5579265572534018}, {&quot;x&quot;: 0.6025641025641026, &quot;y&quot;: 2.243589743589741, &quot;z&quot;: 1.5662958976842272}, {&quot;x&quot;: 0.6025641025641026, &quot;y&quot;: 2.2692307692307665, &quot;z&quot;: 1.5752009480524722}, {&quot;x&quot;: 0.6025641025641026, &quot;y&quot;: 2.294871794871792, &quot;z&quot;: 1.5846417083581368}, {&quot;x&quot;: 0.6025641025641026, &quot;y&quot;: 2.3205128205128176, &quot;z&quot;: 1.5946181786012206}, {&quot;x&quot;: 0.6025641025641026, &quot;y&quot;: 2.346153846153843, &quot;z&quot;: 1.6051303587817238}, {&quot;x&quot;: 0.6025641025641026, &quot;y&quot;: 2.3717948717948687, &quot;z&quot;: 1.6161782488996461}, {&quot;x&quot;: 0.6025641025641026, &quot;y&quot;: 2.3974358974358942, &quot;z&quot;: 1.627761848954988}, {&quot;x&quot;: 0.6025641025641026, &quot;y&quot;: 2.42307692307692, &quot;z&quot;: 1.6398811589477489}, {&quot;x&quot;: 0.6025641025641026, &quot;y&quot;: 2.4487179487179453, &quot;z&quot;: 1.6525361788779294}, {&quot;x&quot;: 0.6025641025641026, &quot;y&quot;: 2.474358974358971, &quot;z&quot;: 1.665726908745529}, {&quot;x&quot;: 0.6025641025641026, &quot;y&quot;: 2.5, &quot;z&quot;: 1.67945334855055}, {&quot;x&quot;: 0.6282051282051283, &quot;y&quot;: 1.5256410256410255, &quot;z&quot;: 1.5197104402318051}, {&quot;x&quot;: 0.6282051282051283, &quot;y&quot;: 1.5, &quot;z&quot;: 1.5263409780487212}, {&quot;x&quot;: 0.6282051282051283, &quot;y&quot;: 1.551282051282051, &quot;z&quot;: 1.513615612352309}, {&quot;x&quot;: 0.6282051282051283, &quot;y&quot;: 1.5769230769230766, &quot;z&quot;: 1.5080564944102322}, {&quot;x&quot;: 0.6282051282051283, &quot;y&quot;: 1.6025641025641022, &quot;z&quot;: 1.503033086405574}, {&quot;x&quot;: 0.6282051282051283, &quot;y&quot;: 1.6282051282051277, &quot;z&quot;: 1.4985453883383362}, {&quot;x&quot;: 0.6282051282051283, &quot;y&quot;: 1.6538461538461533, &quot;z&quot;: 1.494593400208517}, {&quot;x&quot;: 0.6282051282051283, &quot;y&quot;: 1.6794871794871788, &quot;z&quot;: 1.4911771220161174}, {&quot;x&quot;: 0.6282051282051283, &quot;y&quot;: 1.7051282051282044, &quot;z&quot;: 1.4882965537611372}, {&quot;x&quot;: 0.6282051282051283, &quot;y&quot;: 1.73076923076923, &quot;z&quot;: 1.485951695443576}, {&quot;x&quot;: 0.6282051282051283, &quot;y&quot;: 1.7564102564102555, &quot;z&quot;: 1.4841425470634346}, {&quot;x&quot;: 0.6282051282051283, &quot;y&quot;: 1.782051282051281, &quot;z&quot;: 1.4828691086207124}, {&quot;x&quot;: 0.6282051282051283, &quot;y&quot;: 1.8076923076923066, &quot;z&quot;: 1.4821313801154097}, {&quot;x&quot;: 0.6282051282051283, &quot;y&quot;: 1.8333333333333321, &quot;z&quot;: 1.4819293615475257}, {&quot;x&quot;: 0.6282051282051283, &quot;y&quot;: 1.8589743589743577, &quot;z&quot;: 1.4822630529170615}, {&quot;x&quot;: 0.6282051282051283, &quot;y&quot;: 1.8846153846153832, &quot;z&quot;: 1.4831324542240165}, {&quot;x&quot;: 0.6282051282051283, &quot;y&quot;: 1.9102564102564088, &quot;z&quot;: 1.4845375654683912}, {&quot;x&quot;: 0.6282051282051283, &quot;y&quot;: 1.9358974358974343, &quot;z&quot;: 1.4864783866501847}, {&quot;x&quot;: 0.6282051282051283, &quot;y&quot;: 1.96153846153846, &quot;z&quot;: 1.488954917769398}, {&quot;x&quot;: 0.6282051282051283, &quot;y&quot;: 1.9871794871794854, &quot;z&quot;: 1.4919671588260301}, {&quot;x&quot;: 0.6282051282051283, &quot;y&quot;: 2.012820512820511, &quot;z&quot;: 1.4955151098200818}, {&quot;x&quot;: 0.6282051282051283, &quot;y&quot;: 2.0384615384615365, &quot;z&quot;: 1.4995987707515535}, {&quot;x&quot;: 0.6282051282051283, &quot;y&quot;: 2.064102564102562, &quot;z&quot;: 1.5042181416204434}, {&quot;x&quot;: 0.6282051282051283, &quot;y&quot;: 2.0897435897435876, &quot;z&quot;: 1.509373222426753}, {&quot;x&quot;: 0.6282051282051283, &quot;y&quot;: 2.115384615384613, &quot;z&quot;: 1.5150640131704822}, {&quot;x&quot;: 0.6282051282051283, &quot;y&quot;: 2.1410256410256387, &quot;z&quot;: 1.5212905138516306}, {&quot;x&quot;: 0.6282051282051283, &quot;y&quot;: 2.1666666666666643, &quot;z&quot;: 1.5280527244701985}, {&quot;x&quot;: 0.6282051282051283, &quot;y&quot;: 2.19230769230769, &quot;z&quot;: 1.5353506450261856}, {&quot;x&quot;: 0.6282051282051283, &quot;y&quot;: 2.2179487179487154, &quot;z&quot;: 1.543184275519592}, {&quot;x&quot;: 0.6282051282051283, &quot;y&quot;: 2.243589743589741, &quot;z&quot;: 1.5515536159504175}, {&quot;x&quot;: 0.6282051282051283, &quot;y&quot;: 2.2692307692307665, &quot;z&quot;: 1.5604586663186628}, {&quot;x&quot;: 0.6282051282051283, &quot;y&quot;: 2.294871794871792, &quot;z&quot;: 1.5698994266243271}, {&quot;x&quot;: 0.6282051282051283, &quot;y&quot;: 2.3205128205128176, &quot;z&quot;: 1.579875896867411}, {&quot;x&quot;: 0.6282051282051283, &quot;y&quot;: 2.346153846153843, &quot;z&quot;: 1.5903880770479142}, {&quot;x&quot;: 0.6282051282051283, &quot;y&quot;: 2.3717948717948687, &quot;z&quot;: 1.6014359671658365}, {&quot;x&quot;: 0.6282051282051283, &quot;y&quot;: 2.3974358974358942, &quot;z&quot;: 1.6130195672211785}, {&quot;x&quot;: 0.6282051282051283, &quot;y&quot;: 2.42307692307692, &quot;z&quot;: 1.6251388772139392}, {&quot;x&quot;: 0.6282051282051283, &quot;y&quot;: 2.4487179487179453, &quot;z&quot;: 1.63779389714412}, {&quot;x&quot;: 0.6282051282051283, &quot;y&quot;: 2.474358974358971, &quot;z&quot;: 1.6509846270117194}, {&quot;x&quot;: 0.6282051282051283, &quot;y&quot;: 2.5, &quot;z&quot;: 1.6647110668167406}, {&quot;x&quot;: 0.653846153846154, &quot;y&quot;: 1.5256410256410255, &quot;z&quot;: 1.5062830828898433}, {&quot;x&quot;: 0.653846153846154, &quot;y&quot;: 1.5, &quot;z&quot;: 1.5129136207067588}, {&quot;x&quot;: 0.653846153846154, &quot;y&quot;: 1.551282051282051, &quot;z&quot;: 1.500188255010347}, {&quot;x&quot;: 0.653846153846154, &quot;y&quot;: 1.5769230769230766, &quot;z&quot;: 1.49462913706827}, {&quot;x&quot;: 0.653846153846154, &quot;y&quot;: 1.6025641025641022, &quot;z&quot;: 1.4896057290636124}, {&quot;x&quot;: 0.653846153846154, &quot;y&quot;: 1.6282051282051277, &quot;z&quot;: 1.4851180309963743}, {&quot;x&quot;: 0.653846153846154, &quot;y&quot;: 1.6538461538461533, &quot;z&quot;: 1.4811660428665552}, {&quot;x&quot;: 0.653846153846154, &quot;y&quot;: 1.6794871794871788, &quot;z&quot;: 1.4777497646741555}, {&quot;x&quot;: 0.653846153846154, &quot;y&quot;: 1.7051282051282044, &quot;z&quot;: 1.4748691964191751}, {&quot;x&quot;: 0.653846153846154, &quot;y&quot;: 1.73076923076923, &quot;z&quot;: 1.4725243381016142}, {&quot;x&quot;: 0.653846153846154, &quot;y&quot;: 1.7564102564102555, &quot;z&quot;: 1.4707151897214727}, {&quot;x&quot;: 0.653846153846154, &quot;y&quot;: 1.782051282051281, &quot;z&quot;: 1.4694417512787503}, {&quot;x&quot;: 0.653846153846154, &quot;y&quot;: 1.8076923076923066, &quot;z&quot;: 1.4687040227734474}, {&quot;x&quot;: 0.653846153846154, &quot;y&quot;: 1.8333333333333321, &quot;z&quot;: 1.4685020042055639}, {&quot;x&quot;: 0.653846153846154, &quot;y&quot;: 1.8589743589743577, &quot;z&quot;: 1.4688356955750996}, {&quot;x&quot;: 0.653846153846154, &quot;y&quot;: 1.8846153846153832, &quot;z&quot;: 1.4697050968820546}, {&quot;x&quot;: 0.653846153846154, &quot;y&quot;: 1.9102564102564088, &quot;z&quot;: 1.471110208126429}, {&quot;x&quot;: 0.653846153846154, &quot;y&quot;: 1.9358974358974343, &quot;z&quot;: 1.4730510293082228}, {&quot;x&quot;: 0.653846153846154, &quot;y&quot;: 1.96153846153846, &quot;z&quot;: 1.4755275604274358}, {&quot;x&quot;: 0.653846153846154, &quot;y&quot;: 1.9871794871794854, &quot;z&quot;: 1.4785398014840683}, {&quot;x&quot;: 0.653846153846154, &quot;y&quot;: 2.012820512820511, &quot;z&quot;: 1.4820877524781202}, {&quot;x&quot;: 0.653846153846154, &quot;y&quot;: 2.0384615384615365, &quot;z&quot;: 1.486171413409591}, {&quot;x&quot;: 0.653846153846154, &quot;y&quot;: 2.064102564102562, &quot;z&quot;: 1.4907907842784813}, {&quot;x&quot;: 0.653846153846154, &quot;y&quot;: 2.0897435897435876, &quot;z&quot;: 1.4959458650847912}, {&quot;x&quot;: 0.653846153846154, &quot;y&quot;: 2.115384615384613, &quot;z&quot;: 1.5016366558285201}, {&quot;x&quot;: 0.653846153846154, &quot;y&quot;: 2.1410256410256387, &quot;z&quot;: 1.5078631565096685}, {&quot;x&quot;: 0.653846153846154, &quot;y&quot;: 2.1666666666666643, &quot;z&quot;: 1.5146253671282364}, {&quot;x&quot;: 0.653846153846154, &quot;y&quot;: 2.19230769230769, &quot;z&quot;: 1.5219232876842235}, {&quot;x&quot;: 0.653846153846154, &quot;y&quot;: 2.2179487179487154, &quot;z&quot;: 1.52975691817763}, {&quot;x&quot;: 0.653846153846154, &quot;y&quot;: 2.243589743589741, &quot;z&quot;: 1.5381262586084559}, {&quot;x&quot;: 0.653846153846154, &quot;y&quot;: 2.2692307692307665, &quot;z&quot;: 1.5470313089767005}, {&quot;x&quot;: 0.653846153846154, &quot;y&quot;: 2.294871794871792, &quot;z&quot;: 1.5564720692823653}, {&quot;x&quot;: 0.653846153846154, &quot;y&quot;: 2.3205128205128176, &quot;z&quot;: 1.566448539525449}, {&quot;x&quot;: 0.653846153846154, &quot;y&quot;: 2.346153846153843, &quot;z&quot;: 1.576960719705952}, {&quot;x&quot;: 0.653846153846154, &quot;y&quot;: 2.3717948717948687, &quot;z&quot;: 1.5880086098238746}, {&quot;x&quot;: 0.653846153846154, &quot;y&quot;: 2.3974358974358942, &quot;z&quot;: 1.5995922098792166}, {&quot;x&quot;: 0.653846153846154, &quot;y&quot;: 2.42307692307692, &quot;z&quot;: 1.611711519871977}, {&quot;x&quot;: 0.653846153846154, &quot;y&quot;: 2.4487179487179453, &quot;z&quot;: 1.6243665398021583}, {&quot;x&quot;: 0.653846153846154, &quot;y&quot;: 2.474358974358971, &quot;z&quot;: 1.6375572696697578}, {&quot;x&quot;: 0.653846153846154, &quot;y&quot;: 2.5, &quot;z&quot;: 1.6512837094747783}, {&quot;x&quot;: 0.6794871794871796, &quot;y&quot;: 1.5256410256410255, &quot;z&quot;: 1.4941706499397285}, {&quot;x&quot;: 0.6794871794871796, &quot;y&quot;: 1.5, &quot;z&quot;: 1.5008011877566443}, {&quot;x&quot;: 0.6794871794871796, &quot;y&quot;: 1.551282051282051, &quot;z&quot;: 1.4880758220602324}, {&quot;x&quot;: 0.6794871794871796, &quot;y&quot;: 1.5769230769230766, &quot;z&quot;: 1.4825167041181548}, {&quot;x&quot;: 0.6794871794871796, &quot;y&quot;: 1.6025641025641022, &quot;z&quot;: 1.4774932961134974}, {&quot;x&quot;: 0.6794871794871796, &quot;y&quot;: 1.6282051282051277, &quot;z&quot;: 1.4730055980462593}, {&quot;x&quot;: 0.6794871794871796, &quot;y&quot;: 1.6538461538461533, &quot;z&quot;: 1.4690536099164404}, {&quot;x&quot;: 0.6794871794871796, &quot;y&quot;: 1.6794871794871788, &quot;z&quot;: 1.4656373317240408}, {&quot;x&quot;: 0.6794871794871796, &quot;y&quot;: 1.7051282051282044, &quot;z&quot;: 1.4627567634690604}, {&quot;x&quot;: 0.6794871794871796, &quot;y&quot;: 1.73076923076923, &quot;z&quot;: 1.4604119051514997}, {&quot;x&quot;: 0.6794871794871796, &quot;y&quot;: 1.7564102564102555, &quot;z&quot;: 1.458602756771358}, {&quot;x&quot;: 0.6794871794871796, &quot;y&quot;: 1.782051282051281, &quot;z&quot;: 1.4573293183286355}, {&quot;x&quot;: 0.6794871794871796, &quot;y&quot;: 1.8076923076923066, &quot;z&quot;: 1.4565915898233326}, {&quot;x&quot;: 0.6794871794871796, &quot;y&quot;: 1.8333333333333321, &quot;z&quot;: 1.4563895712554493}, {&quot;x&quot;: 0.6794871794871796, &quot;y&quot;: 1.8589743589743577, &quot;z&quot;: 1.456723262624985}, {&quot;x&quot;: 0.6794871794871796, &quot;y&quot;: 1.8846153846153832, &quot;z&quot;: 1.4575926639319399}, {&quot;x&quot;: 0.6794871794871796, &quot;y&quot;: 1.9102564102564088, &quot;z&quot;: 1.4589977751763143}, {&quot;x&quot;: 0.6794871794871796, &quot;y&quot;: 1.9358974358974343, &quot;z&quot;: 1.460938596358108}, {&quot;x&quot;: 0.6794871794871796, &quot;y&quot;: 1.96153846153846, &quot;z&quot;: 1.463415127477321}, {&quot;x&quot;: 0.6794871794871796, &quot;y&quot;: 1.9871794871794854, &quot;z&quot;: 1.4664273685339535}, {&quot;x&quot;: 0.6794871794871796, &quot;y&quot;: 2.012820512820511, &quot;z&quot;: 1.4699753195280052}, {&quot;x&quot;: 0.6794871794871796, &quot;y&quot;: 2.0384615384615365, &quot;z&quot;: 1.4740589804594761}, {&quot;x&quot;: 0.6794871794871796, &quot;y&quot;: 2.064102564102562, &quot;z&quot;: 1.4786783513283666}, {&quot;x&quot;: 0.6794871794871796, &quot;y&quot;: 2.0897435897435876, &quot;z&quot;: 1.4838334321346767}, {&quot;x&quot;: 0.6794871794871796, &quot;y&quot;: 2.115384615384613, &quot;z&quot;: 1.4895242228784054}, {&quot;x&quot;: 0.6794871794871796, &quot;y&quot;: 2.1410256410256387, &quot;z&quot;: 1.495750723559554}, {&quot;x&quot;: 0.6794871794871796, &quot;y&quot;: 2.1666666666666643, &quot;z&quot;: 1.5025129341781218}, {&quot;x&quot;: 0.6794871794871796, &quot;y&quot;: 2.19230769230769, &quot;z&quot;: 1.5098108547341087}, {&quot;x&quot;: 0.6794871794871796, &quot;y&quot;: 2.2179487179487154, &quot;z&quot;: 1.5176444852275153}, {&quot;x&quot;: 0.6794871794871796, &quot;y&quot;: 2.243589743589741, &quot;z&quot;: 1.526013825658341}, {&quot;x&quot;: 0.6794871794871796, &quot;y&quot;: 2.2692307692307665, &quot;z&quot;: 1.5349188760265864}, {&quot;x&quot;: 0.6794871794871796, &quot;y&quot;: 2.294871794871792, &quot;z&quot;: 1.5443596363322507}, {&quot;x&quot;: 0.6794871794871796, &quot;y&quot;: 2.3205128205128176, &quot;z&quot;: 1.5543361065753345}, {&quot;x&quot;: 0.6794871794871796, &quot;y&quot;: 2.346153846153843, &quot;z&quot;: 1.5648482867558373}, {&quot;x&quot;: 0.6794871794871796, &quot;y&quot;: 2.3717948717948687, &quot;z&quot;: 1.57589617687376}, {&quot;x&quot;: 0.6794871794871796, &quot;y&quot;: 2.3974358974358942, &quot;z&quot;: 1.587479776929102}, {&quot;x&quot;: 0.6794871794871796, &quot;y&quot;: 2.42307692307692, &quot;z&quot;: 1.5995990869218633}, {&quot;x&quot;: 0.6794871794871796, &quot;y&quot;: 2.4487179487179453, &quot;z&quot;: 1.6122541068520433}, {&quot;x&quot;: 0.6794871794871796, &quot;y&quot;: 2.474358974358971, &quot;z&quot;: 1.6254448367196432}, {&quot;x&quot;: 0.6794871794871796, &quot;y&quot;: 2.5, &quot;z&quot;: 1.6391712765246642}, {&quot;x&quot;: 0.7051282051282053, &quot;y&quot;: 1.5256410256410255, &quot;z&quot;: 1.4833731413814615}, {&quot;x&quot;: 0.7051282051282053, &quot;y&quot;: 1.5, &quot;z&quot;: 1.490003679198377}, {&quot;x&quot;: 0.7051282051282053, &quot;y&quot;: 1.551282051282051, &quot;z&quot;: 1.4772783135019651}, {&quot;x&quot;: 0.7051282051282053, &quot;y&quot;: 1.5769230769230766, &quot;z&quot;: 1.471719195559888}, {&quot;x&quot;: 0.7051282051282053, &quot;y&quot;: 1.6025641025641022, &quot;z&quot;: 1.4666957875552307}, {&quot;x&quot;: 0.7051282051282053, &quot;y&quot;: 1.6282051282051277, &quot;z&quot;: 1.4622080894879923}, {&quot;x&quot;: 0.7051282051282053, &quot;y&quot;: 1.6538461538461533, &quot;z&quot;: 1.4582561013581734}, {&quot;x&quot;: 0.7051282051282053, &quot;y&quot;: 1.6794871794871788, &quot;z&quot;: 1.4548398231657738}, {&quot;x&quot;: 0.7051282051282053, &quot;y&quot;: 1.7051282051282044, &quot;z&quot;: 1.4519592549107936}, {&quot;x&quot;: 0.7051282051282053, &quot;y&quot;: 1.73076923076923, &quot;z&quot;: 1.4496143965932324}, {&quot;x&quot;: 0.7051282051282053, &quot;y&quot;: 1.7564102564102555, &quot;z&quot;: 1.4478052482130912}, {&quot;x&quot;: 0.7051282051282053, &quot;y&quot;: 1.782051282051281, &quot;z&quot;: 1.4465318097703688}, {&quot;x&quot;: 0.7051282051282053, &quot;y&quot;: 1.8076923076923066, &quot;z&quot;: 1.4457940812650656}, {&quot;x&quot;: 0.7051282051282053, &quot;y&quot;: 1.8333333333333321, &quot;z&quot;: 1.445592062697182}, {&quot;x&quot;: 0.7051282051282053, &quot;y&quot;: 1.8589743589743577, &quot;z&quot;: 1.4459257540667179}, {&quot;x&quot;: 0.7051282051282053, &quot;y&quot;: 1.8846153846153832, &quot;z&quot;: 1.4467951553736733}, {&quot;x&quot;: 0.7051282051282053, &quot;y&quot;: 1.9102564102564088, &quot;z&quot;: 1.4482002666180476}, {&quot;x&quot;: 0.7051282051282053, &quot;y&quot;: 1.9358974358974343, &quot;z&quot;: 1.450141087799841}, {&quot;x&quot;: 0.7051282051282053, &quot;y&quot;: 1.96153846153846, &quot;z&quot;: 1.4526176189190543}, {&quot;x&quot;: 0.7051282051282053, &quot;y&quot;: 1.9871794871794854, &quot;z&quot;: 1.4556298599756865}, {&quot;x&quot;: 0.7051282051282053, &quot;y&quot;: 2.012820512820511, &quot;z&quot;: 1.4591778109697384}, {&quot;x&quot;: 0.7051282051282053, &quot;y&quot;: 2.0384615384615365, &quot;z&quot;: 1.4632614719012094}, {&quot;x&quot;: 0.7051282051282053, &quot;y&quot;: 2.064102564102562, &quot;z&quot;: 1.4678808427700996}, {&quot;x&quot;: 0.7051282051282053, &quot;y&quot;: 2.0897435897435876, &quot;z&quot;: 1.4730359235764094}, {&quot;x&quot;: 0.7051282051282053, &quot;y&quot;: 2.115384615384613, &quot;z&quot;: 1.4787267143201386}, {&quot;x&quot;: 0.7051282051282053, &quot;y&quot;: 2.1410256410256387, &quot;z&quot;: 1.484953215001287}, {&quot;x&quot;: 0.7051282051282053, &quot;y&quot;: 2.1666666666666643, &quot;z&quot;: 1.4917154256198546}, {&quot;x&quot;: 0.7051282051282053, &quot;y&quot;: 2.19230769230769, &quot;z&quot;: 1.4990133461758417}, {&quot;x&quot;: 0.7051282051282053, &quot;y&quot;: 2.2179487179487154, &quot;z&quot;: 1.506846976669248}, {&quot;x&quot;: 0.7051282051282053, &quot;y&quot;: 2.243589743589741, &quot;z&quot;: 1.5152163171000739}, {&quot;x&quot;: 0.7051282051282053, &quot;y&quot;: 2.2692307692307665, &quot;z&quot;: 1.524121367468319}, {&quot;x&quot;: 0.7051282051282053, &quot;y&quot;: 2.294871794871792, &quot;z&quot;: 1.5335621277739837}, {&quot;x&quot;: 0.7051282051282053, &quot;y&quot;: 2.3205128205128176, &quot;z&quot;: 1.5435385980170673}, {&quot;x&quot;: 0.7051282051282053, &quot;y&quot;: 2.346153846153843, &quot;z&quot;: 1.5540507781975703}, {&quot;x&quot;: 0.7051282051282053, &quot;y&quot;: 2.3717948717948687, &quot;z&quot;: 1.5650986683154928}, {&quot;x&quot;: 0.7051282051282053, &quot;y&quot;: 2.3974358974358942, &quot;z&quot;: 1.5766822683708346}, {&quot;x&quot;: 0.7051282051282053, &quot;y&quot;: 2.42307692307692, &quot;z&quot;: 1.5888015783635958}, {&quot;x&quot;: 0.7051282051282053, &quot;y&quot;: 2.4487179487179453, &quot;z&quot;: 1.601456598293776}, {&quot;x&quot;: 0.7051282051282053, &quot;y&quot;: 2.474358974358971, &quot;z&quot;: 1.6146473281613758}, {&quot;x&quot;: 0.7051282051282053, &quot;y&quot;: 2.5, &quot;z&quot;: 1.6283737679663972}, {&quot;x&quot;: 0.730769230769231, &quot;y&quot;: 1.5256410256410255, &quot;z&quot;: 1.473890557215042}, {&quot;x&quot;: 0.730769230769231, &quot;y&quot;: 1.5, &quot;z&quot;: 1.4805210950319576}, {&quot;x&quot;: 0.730769230769231, &quot;y&quot;: 1.551282051282051, &quot;z&quot;: 1.4677957293355457}, {&quot;x&quot;: 0.730769230769231, &quot;y&quot;: 1.5769230769230766, &quot;z&quot;: 1.4622366113934688}, {&quot;x&quot;: 0.730769230769231, &quot;y&quot;: 1.6025641025641022, &quot;z&quot;: 1.457213203388811}, {&quot;x&quot;: 0.730769230769231, &quot;y&quot;: 1.6282051282051277, &quot;z&quot;: 1.4527255053215729}, {&quot;x&quot;: 0.730769230769231, &quot;y&quot;: 1.6538461538461533, &quot;z&quot;: 1.448773517191754}, {&quot;x&quot;: 0.730769230769231, &quot;y&quot;: 1.6794871794871788, &quot;z&quot;: 1.4453572389993543}, {&quot;x&quot;: 0.730769230769231, &quot;y&quot;: 1.7051282051282044, &quot;z&quot;: 1.442476670744374}, {&quot;x&quot;: 0.730769230769231, &quot;y&quot;: 1.73076923076923, &quot;z&quot;: 1.4401318124268132}, {&quot;x&quot;: 0.730769230769231, &quot;y&quot;: 1.7564102564102555, &quot;z&quot;: 1.4383226640466715}, {&quot;x&quot;: 0.730769230769231, &quot;y&quot;: 1.782051282051281, &quot;z&quot;: 1.437049225603949}, {&quot;x&quot;: 0.730769230769231, &quot;y&quot;: 1.8076923076923066, &quot;z&quot;: 1.4363114970986461}, {&quot;x&quot;: 0.730769230769231, &quot;y&quot;: 1.8333333333333321, &quot;z&quot;: 1.4361094785307624}, {&quot;x&quot;: 0.730769230769231, &quot;y&quot;: 1.8589743589743577, &quot;z&quot;: 1.4364431699002986}, {&quot;x&quot;: 0.730769230769231, &quot;y&quot;: 1.8846153846153832, &quot;z&quot;: 1.4373125712072532}, {&quot;x&quot;: 0.730769230769231, &quot;y&quot;: 1.9102564102564088, &quot;z&quot;: 1.4387176824516277}, {&quot;x&quot;: 0.730769230769231, &quot;y&quot;: 1.9358974358974343, &quot;z&quot;: 1.4406585036334218}, {&quot;x&quot;: 0.730769230769231, &quot;y&quot;: 1.96153846153846, &quot;z&quot;: 1.4431350347526346}, {&quot;x&quot;: 0.730769230769231, &quot;y&quot;: 1.9871794871794854, &quot;z&quot;: 1.4461472758092668}, {&quot;x&quot;: 0.730769230769231, &quot;y&quot;: 2.012820512820511, &quot;z&quot;: 1.4496952268033187}, {&quot;x&quot;: 0.730769230769231, &quot;y&quot;: 2.0384615384615365, &quot;z&quot;: 1.45377888773479}, {&quot;x&quot;: 0.730769230769231, &quot;y&quot;: 2.064102564102562, &quot;z&quot;: 1.45839825860368}, {&quot;x&quot;: 0.730769230769231, &quot;y&quot;: 2.0897435897435876, &quot;z&quot;: 1.46355333940999}, {&quot;x&quot;: 0.730769230769231, &quot;y&quot;: 2.115384615384613, &quot;z&quot;: 1.4692441301537191}, {&quot;x&quot;: 0.730769230769231, &quot;y&quot;: 2.1410256410256387, &quot;z&quot;: 1.475470630834867}, {&quot;x&quot;: 0.730769230769231, &quot;y&quot;: 2.1666666666666643, &quot;z&quot;: 1.4822328414534356}, {&quot;x&quot;: 0.730769230769231, &quot;y&quot;: 2.19230769230769, &quot;z&quot;: 1.4895307620094222}, {&quot;x&quot;: 0.730769230769231, &quot;y&quot;: 2.2179487179487154, &quot;z&quot;: 1.4973643925028288}, {&quot;x&quot;: 0.730769230769231, &quot;y&quot;: 2.243589743589741, &quot;z&quot;: 1.5057337329336544}, {&quot;x&quot;: 0.730769230769231, &quot;y&quot;: 2.2692307692307665, &quot;z&quot;: 1.5146387833018995}, {&quot;x&quot;: 0.730769230769231, &quot;y&quot;: 2.294871794871792, &quot;z&quot;: 1.524079543607564}, {&quot;x&quot;: 0.730769230769231, &quot;y&quot;: 2.3205128205128176, &quot;z&quot;: 1.5340560138506478}, {&quot;x&quot;: 0.730769230769231, &quot;y&quot;: 2.346153846153843, &quot;z&quot;: 1.5445681940311509}, {&quot;x&quot;: 0.730769230769231, &quot;y&quot;: 2.3717948717948687, &quot;z&quot;: 1.5556160841490734}, {&quot;x&quot;: 0.730769230769231, &quot;y&quot;: 2.3974358974358942, &quot;z&quot;: 1.5671996842044151}, {&quot;x&quot;: 0.730769230769231, &quot;y&quot;: 2.42307692307692, &quot;z&quot;: 1.5793189941971764}, {&quot;x&quot;: 0.730769230769231, &quot;y&quot;: 2.4487179487179453, &quot;z&quot;: 1.5919740141273568}, {&quot;x&quot;: 0.730769230769231, &quot;y&quot;: 2.474358974358971, &quot;z&quot;: 1.6051647439949566}, {&quot;x&quot;: 0.730769230769231, &quot;y&quot;: 2.5, &quot;z&quot;: 1.6188911837999775}, {&quot;x&quot;: 0.7564102564102566, &quot;y&quot;: 1.5256410256410255, &quot;z&quot;: 1.4657228974404697}, {&quot;x&quot;: 0.7564102564102566, &quot;y&quot;: 1.5, &quot;z&quot;: 1.4723534352573855}, {&quot;x&quot;: 0.7564102564102566, &quot;y&quot;: 1.551282051282051, &quot;z&quot;: 1.4596280695609738}, {&quot;x&quot;: 0.7564102564102566, &quot;y&quot;: 1.5769230769230766, &quot;z&quot;: 1.4540689516188967}, {&quot;x&quot;: 0.7564102564102566, &quot;y&quot;: 1.6025641025641022, &quot;z&quot;: 1.4490455436142389}, {&quot;x&quot;: 0.7564102564102566, &quot;y&quot;: 1.6282051282051277, &quot;z&quot;: 1.4445578455470007}, {&quot;x&quot;: 0.7564102564102566, &quot;y&quot;: 1.6538461538461533, &quot;z&quot;: 1.4406058574171816}, {&quot;x&quot;: 0.7564102564102566, &quot;y&quot;: 1.6794871794871788, &quot;z&quot;: 1.4371895792247822}, {&quot;x&quot;: 0.7564102564102566, &quot;y&quot;: 1.7051282051282044, &quot;z&quot;: 1.4343090109698022}, {&quot;x&quot;: 0.7564102564102566, &quot;y&quot;: 1.73076923076923, &quot;z&quot;: 1.431964152652241}, {&quot;x&quot;: 0.7564102564102566, &quot;y&quot;: 1.7564102564102555, &quot;z&quot;: 1.4301550042720994}, {&quot;x&quot;: 0.7564102564102566, &quot;y&quot;: 1.782051282051281, &quot;z&quot;: 1.4288815658293772}, {&quot;x&quot;: 0.7564102564102566, &quot;y&quot;: 1.8076923076923066, &quot;z&quot;: 1.4281438373240738}, {&quot;x&quot;: 0.7564102564102566, &quot;y&quot;: 1.8333333333333321, &quot;z&quot;: 1.4279418187561905}, {&quot;x&quot;: 0.7564102564102566, &quot;y&quot;: 1.8589743589743577, &quot;z&quot;: 1.4282755101257263}, {&quot;x&quot;: 0.7564102564102566, &quot;y&quot;: 1.8846153846153832, &quot;z&quot;: 1.4291449114326813}, {&quot;x&quot;: 0.7564102564102566, &quot;y&quot;: 1.9102564102564088, &quot;z&quot;: 1.4305500226770556}, {&quot;x&quot;: 0.7564102564102566, &quot;y&quot;: 1.9358974358974343, &quot;z&quot;: 1.4324908438588495}, {&quot;x&quot;: 0.7564102564102566, &quot;y&quot;: 1.96153846153846, &quot;z&quot;: 1.4349673749780625}, {&quot;x&quot;: 0.7564102564102566, &quot;y&quot;: 1.9871794871794854, &quot;z&quot;: 1.437979616034695}, {&quot;x&quot;: 0.7564102564102566, &quot;y&quot;: 2.012820512820511, &quot;z&quot;: 1.4415275670287466}, {&quot;x&quot;: 0.7564102564102566, &quot;y&quot;: 2.0384615384615365, &quot;z&quot;: 1.4456112279602178}, {&quot;x&quot;: 0.7564102564102566, &quot;y&quot;: 2.064102564102562, &quot;z&quot;: 1.4502305988291082}, {&quot;x&quot;: 0.7564102564102566, &quot;y&quot;: 2.0897435897435876, &quot;z&quot;: 1.4553856796354179}, {&quot;x&quot;: 0.7564102564102566, &quot;y&quot;: 2.115384615384613, &quot;z&quot;: 1.4610764703791468}, {&quot;x&quot;: 0.7564102564102566, &quot;y&quot;: 2.1410256410256387, &quot;z&quot;: 1.4673029710602954}, {&quot;x&quot;: 0.7564102564102566, &quot;y&quot;: 2.1666666666666643, &quot;z&quot;: 1.4740651816788632}, {&quot;x&quot;: 0.7564102564102566, &quot;y&quot;: 2.19230769230769, &quot;z&quot;: 1.4813631022348503}, {&quot;x&quot;: 0.7564102564102566, &quot;y&quot;: 2.2179487179487154, &quot;z&quot;: 1.4891967327282567}, {&quot;x&quot;: 0.7564102564102566, &quot;y&quot;: 2.243589743589741, &quot;z&quot;: 1.4975660731590827}, {&quot;x&quot;: 0.7564102564102566, &quot;y&quot;: 2.2692307692307665, &quot;z&quot;: 1.5064711235273276}, {&quot;x&quot;: 0.7564102564102566, &quot;y&quot;: 2.294871794871792, &quot;z&quot;: 1.5159118838329921}, {&quot;x&quot;: 0.7564102564102566, &quot;y&quot;: 2.3205128205128176, &quot;z&quot;: 1.525888354076076}, {&quot;x&quot;: 0.7564102564102566, &quot;y&quot;: 2.346153846153843, &quot;z&quot;: 1.5364005342565787}, {&quot;x&quot;: 0.7564102564102566, &quot;y&quot;: 2.3717948717948687, &quot;z&quot;: 1.5474484243745013}, {&quot;x&quot;: 0.7564102564102566, &quot;y&quot;: 2.3974358974358942, &quot;z&quot;: 1.559032024429843}, {&quot;x&quot;: 0.7564102564102566, &quot;y&quot;: 2.42307692307692, &quot;z&quot;: 1.5711513344226042}, {&quot;x&quot;: 0.7564102564102566, &quot;y&quot;: 2.4487179487179453, &quot;z&quot;: 1.5838063543527847}, {&quot;x&quot;: 0.7564102564102566, &quot;y&quot;: 2.474358974358971, &quot;z&quot;: 1.5969970842203844}, {&quot;x&quot;: 0.7564102564102566, &quot;y&quot;: 2.5, &quot;z&quot;: 1.6107235240254052}, {&quot;x&quot;: 0.7820512820512823, &quot;y&quot;: 1.5256410256410255, &quot;z&quot;: 1.4588701620577453}, {&quot;x&quot;: 0.7820512820512823, &quot;y&quot;: 1.5, &quot;z&quot;: 1.465500699874661}, {&quot;x&quot;: 0.7820512820512823, &quot;y&quot;: 1.551282051282051, &quot;z&quot;: 1.452775334178249}, {&quot;x&quot;: 0.7820512820512823, &quot;y&quot;: 1.5769230769230766, &quot;z&quot;: 1.4472162162361717}, {&quot;x&quot;: 0.7820512820512823, &quot;y&quot;: 1.6025641025641022, &quot;z&quot;: 1.4421928082315145}, {&quot;x&quot;: 0.7820512820512823, &quot;y&quot;: 1.6282051282051277, &quot;z&quot;: 1.437705110164276}, {&quot;x&quot;: 0.7820512820512823, &quot;y&quot;: 1.6538461538461533, &quot;z&quot;: 1.433753122034457}, {&quot;x&quot;: 0.7820512820512823, &quot;y&quot;: 1.6794871794871788, &quot;z&quot;: 1.4303368438420572}, {&quot;x&quot;: 0.7820512820512823, &quot;y&quot;: 1.7051282051282044, &quot;z&quot;: 1.4274562755870774}, {&quot;x&quot;: 0.7820512820512823, &quot;y&quot;: 1.73076923076923, &quot;z&quot;: 1.4251114172695163}, {&quot;x&quot;: 0.7820512820512823, &quot;y&quot;: 1.7564102564102555, &quot;z&quot;: 1.4233022688893746}, {&quot;x&quot;: 0.7820512820512823, &quot;y&quot;: 1.782051282051281, &quot;z&quot;: 1.4220288304466526}, {&quot;x&quot;: 0.7820512820512823, &quot;y&quot;: 1.8076923076923066, &quot;z&quot;: 1.4212911019413492}, {&quot;x&quot;: 0.7820512820512823, &quot;y&quot;: 1.8333333333333321, &quot;z&quot;: 1.4210890833734653}, {&quot;x&quot;: 0.7820512820512823, &quot;y&quot;: 1.8589743589743577, &quot;z&quot;: 1.4214227747430015}, {&quot;x&quot;: 0.7820512820512823, &quot;y&quot;: 1.8846153846153832, &quot;z&quot;: 1.4222921760499565}, {&quot;x&quot;: 0.7820512820512823, &quot;y&quot;: 1.9102564102564088, &quot;z&quot;: 1.4236972872943308}, {&quot;x&quot;: 0.7820512820512823, &quot;y&quot;: 1.9358974358974343, &quot;z&quot;: 1.4256381084761247}, {&quot;x&quot;: 0.7820512820512823, &quot;y&quot;: 1.96153846153846, &quot;z&quot;: 1.428114639595338}, {&quot;x&quot;: 0.7820512820512823, &quot;y&quot;: 1.9871794871794854, &quot;z&quot;: 1.43112688065197}, {&quot;x&quot;: 0.7820512820512823, &quot;y&quot;: 2.012820512820511, &quot;z&quot;: 1.4346748316460216}, {&quot;x&quot;: 0.7820512820512823, &quot;y&quot;: 2.0384615384615365, &quot;z&quot;: 1.438758492577493}, {&quot;x&quot;: 0.7820512820512823, &quot;y&quot;: 2.064102564102562, &quot;z&quot;: 1.4433778634463832}, {&quot;x&quot;: 0.7820512820512823, &quot;y&quot;: 2.0897435897435876, &quot;z&quot;: 1.4485329442526929}, {&quot;x&quot;: 0.7820512820512823, &quot;y&quot;: 2.115384615384613, &quot;z&quot;: 1.4542237349964224}, {&quot;x&quot;: 0.7820512820512823, &quot;y&quot;: 2.1410256410256387, &quot;z&quot;: 1.4604502356775706}, {&quot;x&quot;: 0.7820512820512823, &quot;y&quot;: 2.1666666666666643, &quot;z&quot;: 1.4672124462961382}, {&quot;x&quot;: 0.7820512820512823, &quot;y&quot;: 2.19230769230769, &quot;z&quot;: 1.4745103668521256}, {&quot;x&quot;: 0.7820512820512823, &quot;y&quot;: 2.2179487179487154, &quot;z&quot;: 1.4823439973455317}, {&quot;x&quot;: 0.7820512820512823, &quot;y&quot;: 2.243589743589741, &quot;z&quot;: 1.4907133377763577}, {&quot;x&quot;: 0.7820512820512823, &quot;y&quot;: 2.2692307692307665, &quot;z&quot;: 1.499618388144603}, {&quot;x&quot;: 0.7820512820512823, &quot;y&quot;: 2.294871794871792, &quot;z&quot;: 1.5090591484502671}, {&quot;x&quot;: 0.7820512820512823, &quot;y&quot;: 2.3205128205128176, &quot;z&quot;: 1.519035618693351}, {&quot;x&quot;: 0.7820512820512823, &quot;y&quot;: 2.346153846153843, &quot;z&quot;: 1.5295477988738544}, {&quot;x&quot;: 0.7820512820512823, &quot;y&quot;: 2.3717948717948687, &quot;z&quot;: 1.5405956889917765}, {&quot;x&quot;: 0.7820512820512823, &quot;y&quot;: 2.3974358974358942, &quot;z&quot;: 1.5521792890471182}, {&quot;x&quot;: 0.7820512820512823, &quot;y&quot;: 2.42307692307692, &quot;z&quot;: 1.5642985990398797}, {&quot;x&quot;: 0.7820512820512823, &quot;y&quot;: 2.4487179487179453, &quot;z&quot;: 1.5769536189700597}, {&quot;x&quot;: 0.7820512820512823, &quot;y&quot;: 2.474358974358971, &quot;z&quot;: 1.5901443488376599}, {&quot;x&quot;: 0.7820512820512823, &quot;y&quot;: 2.5, &quot;z&quot;: 1.6038707886426806}, {&quot;x&quot;: 0.8076923076923079, &quot;y&quot;: 1.5256410256410255, &quot;z&quot;: 1.453332351066868}, {&quot;x&quot;: 0.8076923076923079, &quot;y&quot;: 1.5, &quot;z&quot;: 1.459962888883784}, {&quot;x&quot;: 0.8076923076923079, &quot;y&quot;: 1.551282051282051, &quot;z&quot;: 1.4472375231873718}, {&quot;x&quot;: 0.8076923076923079, &quot;y&quot;: 1.5769230769230766, &quot;z&quot;: 1.4416784052452947}, {&quot;x&quot;: 0.8076923076923079, &quot;y&quot;: 1.6025641025641022, &quot;z&quot;: 1.436654997240637}, {&quot;x&quot;: 0.8076923076923079, &quot;y&quot;: 1.6282051282051277, &quot;z&quot;: 1.4321672991733987}, {&quot;x&quot;: 0.8076923076923079, &quot;y&quot;: 1.6538461538461533, &quot;z&quot;: 1.4282153110435796}, {&quot;x&quot;: 0.8076923076923079, &quot;y&quot;: 1.6794871794871788, &quot;z&quot;: 1.4247990328511801}, {&quot;x&quot;: 0.8076923076923079, &quot;y&quot;: 1.7051282051282044, &quot;z&quot;: 1.4219184645962}, {&quot;x&quot;: 0.8076923076923079, &quot;y&quot;: 1.73076923076923, &quot;z&quot;: 1.419573606278639}, {&quot;x&quot;: 0.8076923076923079, &quot;y&quot;: 1.7564102564102555, &quot;z&quot;: 1.4177644578984974}, {&quot;x&quot;: 0.8076923076923079, &quot;y&quot;: 1.782051282051281, &quot;z&quot;: 1.4164910194557752}, {&quot;x&quot;: 0.8076923076923079, &quot;y&quot;: 1.8076923076923066, &quot;z&quot;: 1.4157532909504724}, {&quot;x&quot;: 0.8076923076923079, &quot;y&quot;: 1.8333333333333321, &quot;z&quot;: 1.4155512723825885}, {&quot;x&quot;: 0.8076923076923079, &quot;y&quot;: 1.8589743589743577, &quot;z&quot;: 1.4158849637521242}, {&quot;x&quot;: 0.8076923076923079, &quot;y&quot;: 1.8846153846153832, &quot;z&quot;: 1.4167543650590795}, {&quot;x&quot;: 0.8076923076923079, &quot;y&quot;: 1.9102564102564088, &quot;z&quot;: 1.4181594763034537}, {&quot;x&quot;: 0.8076923076923079, &quot;y&quot;: 1.9358974358974343, &quot;z&quot;: 1.4201002974852475}, {&quot;x&quot;: 0.8076923076923079, &quot;y&quot;: 1.96153846153846, &quot;z&quot;: 1.4225768286044604}, {&quot;x&quot;: 0.8076923076923079, &quot;y&quot;: 1.9871794871794854, &quot;z&quot;: 1.425589069661093}, {&quot;x&quot;: 0.8076923076923079, &quot;y&quot;: 2.012820512820511, &quot;z&quot;: 1.4291370206551448}, {&quot;x&quot;: 0.8076923076923079, &quot;y&quot;: 2.0384615384615365, &quot;z&quot;: 1.4332206815866155}, {&quot;x&quot;: 0.8076923076923079, &quot;y&quot;: 2.064102564102562, &quot;z&quot;: 1.4378400524555064}, {&quot;x&quot;: 0.8076923076923079, &quot;y&quot;: 2.0897435897435876, &quot;z&quot;: 1.4429951332618158}, {&quot;x&quot;: 0.8076923076923079, &quot;y&quot;: 2.115384615384613, &quot;z&quot;: 1.448685924005545}, {&quot;x&quot;: 0.8076923076923079, &quot;y&quot;: 2.1410256410256387, &quot;z&quot;: 1.4549124246866936}, {&quot;x&quot;: 0.8076923076923079, &quot;y&quot;: 2.1666666666666643, &quot;z&quot;: 1.4616746353052614}, {&quot;x&quot;: 0.8076923076923079, &quot;y&quot;: 2.19230769230769, &quot;z&quot;: 1.468972555861248}, {&quot;x&quot;: 0.8076923076923079, &quot;y&quot;: 2.2179487179487154, &quot;z&quot;: 1.4768061863546549}, {&quot;x&quot;: 0.8076923076923079, &quot;y&quot;: 2.243589743589741, &quot;z&quot;: 1.4851755267854805}, {&quot;x&quot;: 0.8076923076923079, &quot;y&quot;: 2.2692307692307665, &quot;z&quot;: 1.4940805771537256}, {&quot;x&quot;: 0.8076923076923079, &quot;y&quot;: 2.294871794871792, &quot;z&quot;: 1.50352133745939}, {&quot;x&quot;: 0.8076923076923079, &quot;y&quot;: 2.3205128205128176, &quot;z&quot;: 1.5134978077024737}, {&quot;x&quot;: 0.8076923076923079, &quot;y&quot;: 2.346153846153843, &quot;z&quot;: 1.524009987882977}, {&quot;x&quot;: 0.8076923076923079, &quot;y&quot;: 2.3717948717948687, &quot;z&quot;: 1.5350578780008992}, {&quot;x&quot;: 0.8076923076923079, &quot;y&quot;: 2.3974358974358942, &quot;z&quot;: 1.546641478056241}, {&quot;x&quot;: 0.8076923076923079, &quot;y&quot;: 2.42307692307692, &quot;z&quot;: 1.558760788049002}, {&quot;x&quot;: 0.8076923076923079, &quot;y&quot;: 2.4487179487179453, &quot;z&quot;: 1.5714158079791827}, {&quot;x&quot;: 0.8076923076923079, &quot;y&quot;: 2.474358974358971, &quot;z&quot;: 1.5846065378467824}, {&quot;x&quot;: 0.8076923076923079, &quot;y&quot;: 2.5, &quot;z&quot;: 1.5983329776518036}, {&quot;x&quot;: 0.8333333333333336, &quot;y&quot;: 1.5256410256410255, &quot;z&quot;: 1.4491094644678382}, {&quot;x&quot;: 0.8333333333333336, &quot;y&quot;: 1.5, &quot;z&quot;: 1.4557400022847538}, {&quot;x&quot;: 0.8333333333333336, &quot;y&quot;: 1.551282051282051, &quot;z&quot;: 1.4430146365883418}, {&quot;x&quot;: 0.8333333333333336, &quot;y&quot;: 1.5769230769230766, &quot;z&quot;: 1.4374555186462652}, {&quot;x&quot;: 0.8333333333333336, &quot;y&quot;: 1.6025641025641022, &quot;z&quot;: 1.4324321106416071}, {&quot;x&quot;: 0.8333333333333336, &quot;y&quot;: 1.6282051282051277, &quot;z&quot;: 1.427944412574369}, {&quot;x&quot;: 0.8333333333333336, &quot;y&quot;: 1.6538461538461533, &quot;z&quot;: 1.4239924244445503}, {&quot;x&quot;: 0.8333333333333336, &quot;y&quot;: 1.6794871794871788, &quot;z&quot;: 1.4205761462521507}, {&quot;x&quot;: 0.8333333333333336, &quot;y&quot;: 1.7051282051282044, &quot;z&quot;: 1.4176955779971703}, {&quot;x&quot;: 0.8333333333333336, &quot;y&quot;: 1.73076923076923, &quot;z&quot;: 1.4153507196796093}, {&quot;x&quot;: 0.8333333333333336, &quot;y&quot;: 1.7564102564102555, &quot;z&quot;: 1.4135415712994677}, {&quot;x&quot;: 0.8333333333333336, &quot;y&quot;: 1.782051282051281, &quot;z&quot;: 1.4122681328567455}, {&quot;x&quot;: 0.8333333333333336, &quot;y&quot;: 1.8076923076923066, &quot;z&quot;: 1.4115304043514425}, {&quot;x&quot;: 0.8333333333333336, &quot;y&quot;: 1.8333333333333321, &quot;z&quot;: 1.411328385783559}, {&quot;x&quot;: 0.8333333333333336, &quot;y&quot;: 1.8589743589743577, &quot;z&quot;: 1.4116620771530948}, {&quot;x&quot;: 0.8333333333333336, &quot;y&quot;: 1.8846153846153832, &quot;z&quot;: 1.4125314784600496}, {&quot;x&quot;: 0.8333333333333336, &quot;y&quot;: 1.9102564102564088, &quot;z&quot;: 1.4139365897044243}, {&quot;x&quot;: 0.8333333333333336, &quot;y&quot;: 1.9358974358974343, &quot;z&quot;: 1.4158774108862178}, {&quot;x&quot;: 0.8333333333333336, &quot;y&quot;: 1.96153846153846, &quot;z&quot;: 1.4183539420054307}, {&quot;x&quot;: 0.8333333333333336, &quot;y&quot;: 1.9871794871794854, &quot;z&quot;: 1.4213661830620634}, {&quot;x&quot;: 0.8333333333333336, &quot;y&quot;: 2.012820512820511, &quot;z&quot;: 1.424914134056115}, {&quot;x&quot;: 0.8333333333333336, &quot;y&quot;: 2.0384615384615365, &quot;z&quot;: 1.4289977949875863}, {&quot;x&quot;: 0.8333333333333336, &quot;y&quot;: 2.064102564102562, &quot;z&quot;: 1.4336171658564767}, {&quot;x&quot;: 0.8333333333333336, &quot;y&quot;: 2.0897435897435876, &quot;z&quot;: 1.4387722466627861}, {&quot;x&quot;: 0.8333333333333336, &quot;y&quot;: 2.115384615384613, &quot;z&quot;: 1.4444630374065155}, {&quot;x&quot;: 0.8333333333333336, &quot;y&quot;: 2.1410256410256387, &quot;z&quot;: 1.4506895380876639}, {&quot;x&quot;: 0.8333333333333336, &quot;y&quot;: 2.1666666666666643, &quot;z&quot;: 1.4574517487062313}, {&quot;x&quot;: 0.8333333333333336, &quot;y&quot;: 2.19230769230769, &quot;z&quot;: 1.4647496692622188}, {&quot;x&quot;: 0.8333333333333336, &quot;y&quot;: 2.2179487179487154, &quot;z&quot;: 1.4725832997556254}, {&quot;x&quot;: 0.8333333333333336, &quot;y&quot;: 2.243589743589741, &quot;z&quot;: 1.4809526401864508}, {&quot;x&quot;: 0.8333333333333336, &quot;y&quot;: 2.2692307692307665, &quot;z&quot;: 1.489857690554696}, {&quot;x&quot;: 0.8333333333333336, &quot;y&quot;: 2.294871794871792, &quot;z&quot;: 1.4992984508603604}, {&quot;x&quot;: 0.8333333333333336, &quot;y&quot;: 2.3205128205128176, &quot;z&quot;: 1.509274921103444}, {&quot;x&quot;: 0.8333333333333336, &quot;y&quot;: 2.346153846153843, &quot;z&quot;: 1.519787101283947}, {&quot;x&quot;: 0.8333333333333336, &quot;y&quot;: 2.3717948717948687, &quot;z&quot;: 1.5308349914018695}, {&quot;x&quot;: 0.8333333333333336, &quot;y&quot;: 2.3974358974358942, &quot;z&quot;: 1.5424185914572113}, {&quot;x&quot;: 0.8333333333333336, &quot;y&quot;: 2.42307692307692, &quot;z&quot;: 1.5545379014499727}, {&quot;x&quot;: 0.8333333333333336, &quot;y&quot;: 2.4487179487179453, &quot;z&quot;: 1.5671929213801528}, {&quot;x&quot;: 0.8333333333333336, &quot;y&quot;: 2.474358974358971, &quot;z&quot;: 1.5803836512477527}, {&quot;x&quot;: 0.8333333333333336, &quot;y&quot;: 2.5, &quot;z&quot;: 1.594110091052774}, {&quot;x&quot;: 0.8589743589743593, &quot;y&quot;: 1.5256410256410255, &quot;z&quot;: 1.446201502260656}, {&quot;x&quot;: 0.8589743589743593, &quot;y&quot;: 1.5, &quot;z&quot;: 1.4528320400775718}, {&quot;x&quot;: 0.8589743589743593, &quot;y&quot;: 1.551282051282051, &quot;z&quot;: 1.4401066743811597}, {&quot;x&quot;: 0.8589743589743593, &quot;y&quot;: 1.5769230769230766, &quot;z&quot;: 1.434547556439083}, {&quot;x&quot;: 0.8589743589743593, &quot;y&quot;: 1.6025641025641022, &quot;z&quot;: 1.4295241484344252}, {&quot;x&quot;: 0.8589743589743593, &quot;y&quot;: 1.6282051282051277, &quot;z&quot;: 1.4250364503671868}, {&quot;x&quot;: 0.8589743589743593, &quot;y&quot;: 1.6538461538461533, &quot;z&quot;: 1.421084462237368}, {&quot;x&quot;: 0.8589743589743593, &quot;y&quot;: 1.6794871794871788, &quot;z&quot;: 1.4176681840449683}, {&quot;x&quot;: 0.8589743589743593, &quot;y&quot;: 1.7051282051282044, &quot;z&quot;: 1.4147876157899881}, {&quot;x&quot;: 0.8589743589743593, &quot;y&quot;: 1.73076923076923, &quot;z&quot;: 1.4124427574724272}, {&quot;x&quot;: 0.8589743589743593, &quot;y&quot;: 1.7564102564102555, &quot;z&quot;: 1.4106336090922855}, {&quot;x&quot;: 0.8589743589743593, &quot;y&quot;: 1.782051282051281, &quot;z&quot;: 1.4093601706495633}, {&quot;x&quot;: 0.8589743589743593, &quot;y&quot;: 1.8076923076923066, &quot;z&quot;: 1.4086224421442604}, {&quot;x&quot;: 0.8589743589743593, &quot;y&quot;: 1.8333333333333321, &quot;z&quot;: 1.4084204235763766}, {&quot;x&quot;: 0.8589743589743593, &quot;y&quot;: 1.8589743589743577, &quot;z&quot;: 1.4087541149459124}, {&quot;x&quot;: 0.8589743589743593, &quot;y&quot;: 1.8846153846153832, &quot;z&quot;: 1.4096235162528674}, {&quot;x&quot;: 0.8589743589743593, &quot;y&quot;: 1.9102564102564088, &quot;z&quot;: 1.411028627497242}, {&quot;x&quot;: 0.8589743589743593, &quot;y&quot;: 1.9358974358974343, &quot;z&quot;: 1.4129694486790354}, {&quot;x&quot;: 0.8589743589743593, &quot;y&quot;: 1.96153846153846, &quot;z&quot;: 1.4154459797982488}, {&quot;x&quot;: 0.8589743589743593, &quot;y&quot;: 1.9871794871794854, &quot;z&quot;: 1.4184582208548813}, {&quot;x&quot;: 0.8589743589743593, &quot;y&quot;: 2.012820512820511, &quot;z&quot;: 1.422006171848933}, {&quot;x&quot;: 0.8589743589743593, &quot;y&quot;: 2.0384615384615365, &quot;z&quot;: 1.426089832780404}, {&quot;x&quot;: 0.8589743589743593, &quot;y&quot;: 2.064102564102562, &quot;z&quot;: 1.4307092036492945}, {&quot;x&quot;: 0.8589743589743593, &quot;y&quot;: 2.0897435897435876, &quot;z&quot;: 1.4358642844556042}, {&quot;x&quot;: 0.8589743589743593, &quot;y&quot;: 2.115384615384613, &quot;z&quot;: 1.4415550751993333}, {&quot;x&quot;: 0.8589743589743593, &quot;y&quot;: 2.1410256410256387, &quot;z&quot;: 1.4477815758804815}, {&quot;x&quot;: 0.8589743589743593, &quot;y&quot;: 2.1666666666666643, &quot;z&quot;: 1.4545437864990494}, {&quot;x&quot;: 0.8589743589743593, &quot;y&quot;: 2.19230769230769, &quot;z&quot;: 1.461841707055036}, {&quot;x&quot;: 0.8589743589743593, &quot;y&quot;: 2.2179487179487154, &quot;z&quot;: 1.4696753375484428}, {&quot;x&quot;: 0.8589743589743593, &quot;y&quot;: 2.243589743589741, &quot;z&quot;: 1.4780446779792684}, {&quot;x&quot;: 0.8589743589743593, &quot;y&quot;: 2.2692307692307665, &quot;z&quot;: 1.4869497283475135}, {&quot;x&quot;: 0.8589743589743593, &quot;y&quot;: 2.294871794871792, &quot;z&quot;: 1.4963904886531778}, {&quot;x&quot;: 0.8589743589743593, &quot;y&quot;: 2.3205128205128176, &quot;z&quot;: 1.506366958896262}, {&quot;x&quot;: 0.8589743589743593, &quot;y&quot;: 2.346153846153843, &quot;z&quot;: 1.5168791390767649}, {&quot;x&quot;: 0.8589743589743593, &quot;y&quot;: 2.3717948717948687, &quot;z&quot;: 1.5279270291946871}, {&quot;x&quot;: 0.8589743589743593, &quot;y&quot;: 2.3974358974358942, &quot;z&quot;: 1.5395106292500293}, {&quot;x&quot;: 0.8589743589743593, &quot;y&quot;: 2.42307692307692, &quot;z&quot;: 1.5516299392427904}, {&quot;x&quot;: 0.8589743589743593, &quot;y&quot;: 2.4487179487179453, &quot;z&quot;: 1.5642849591729708}, {&quot;x&quot;: 0.8589743589743593, &quot;y&quot;: 2.474358974358971, &quot;z&quot;: 1.5774756890405706}, {&quot;x&quot;: 0.8589743589743593, &quot;y&quot;: 2.5, &quot;z&quot;: 1.5912021288455913}, {&quot;x&quot;: 0.8846153846153849, &quot;y&quot;: 1.5256410256410255, &quot;z&quot;: 1.4446084644453212}, {&quot;x&quot;: 0.8846153846153849, &quot;y&quot;: 1.5, &quot;z&quot;: 1.4512390022622363}, {&quot;x&quot;: 0.8846153846153849, &quot;y&quot;: 1.551282051282051, &quot;z&quot;: 1.4385136365658249}, {&quot;x&quot;: 0.8846153846153849, &quot;y&quot;: 1.5769230769230766, &quot;z&quot;: 1.4329545186237478}, {&quot;x&quot;: 0.8846153846153849, &quot;y&quot;: 1.6025641025641022, &quot;z&quot;: 1.4279311106190904}, {&quot;x&quot;: 0.8846153846153849, &quot;y&quot;: 1.6282051282051277, &quot;z&quot;: 1.423443412551852}, {&quot;x&quot;: 0.8846153846153849, &quot;y&quot;: 1.6538461538461533, &quot;z&quot;: 1.419491424422033}, {&quot;x&quot;: 0.8846153846153849, &quot;y&quot;: 1.6794871794871788, &quot;z&quot;: 1.4160751462296335}, {&quot;x&quot;: 0.8846153846153849, &quot;y&quot;: 1.7051282051282044, &quot;z&quot;: 1.4131945779746533}, {&quot;x&quot;: 0.8846153846153849, &quot;y&quot;: 1.73076923076923, &quot;z&quot;: 1.4108497196570922}, {&quot;x&quot;: 0.8846153846153849, &quot;y&quot;: 1.7564102564102555, &quot;z&quot;: 1.4090405712769507}, {&quot;x&quot;: 0.8846153846153849, &quot;y&quot;: 1.782051282051281, &quot;z&quot;: 1.4077671328342283}, {&quot;x&quot;: 0.8846153846153849, &quot;y&quot;: 1.8076923076923066, &quot;z&quot;: 1.4070294043289253}, {&quot;x&quot;: 0.8846153846153849, &quot;y&quot;: 1.8333333333333321, &quot;z&quot;: 1.4068273857610418}, {&quot;x&quot;: 0.8846153846153849, &quot;y&quot;: 1.8589743589743577, &quot;z&quot;: 1.4071610771305774}, {&quot;x&quot;: 0.8846153846153849, &quot;y&quot;: 1.8846153846153832, &quot;z&quot;: 1.4080304784375326}, {&quot;x&quot;: 0.8846153846153849, &quot;y&quot;: 1.9102564102564088, &quot;z&quot;: 1.4094355896819073}, {&quot;x&quot;: 0.8846153846153849, &quot;y&quot;: 1.9358974358974343, &quot;z&quot;: 1.411376410863701}, {&quot;x&quot;: 0.8846153846153849, &quot;y&quot;: 1.96153846153846, &quot;z&quot;: 1.4138529419829138}, {&quot;x&quot;: 0.8846153846153849, &quot;y&quot;: 1.9871794871794854, &quot;z&quot;: 1.4168651830395462}, {&quot;x&quot;: 0.8846153846153849, &quot;y&quot;: 2.012820512820511, &quot;z&quot;: 1.420413134033598}, {&quot;x&quot;: 0.8846153846153849, &quot;y&quot;: 2.0384615384615365, &quot;z&quot;: 1.4244967949650689}, {&quot;x&quot;: 0.8846153846153849, &quot;y&quot;: 2.064102564102562, &quot;z&quot;: 1.4291161658339597}, {&quot;x&quot;: 0.8846153846153849, &quot;y&quot;: 2.0897435897435876, &quot;z&quot;: 1.4342712466402692}, {&quot;x&quot;: 0.8846153846153849, &quot;y&quot;: 2.115384615384613, &quot;z&quot;: 1.4399620373839983}, {&quot;x&quot;: 0.8846153846153849, &quot;y&quot;: 2.1410256410256387, &quot;z&quot;: 1.4461885380651467}, {&quot;x&quot;: 0.8846153846153849, &quot;y&quot;: 2.1666666666666643, &quot;z&quot;: 1.4529507486837148}, {&quot;x&quot;: 0.8846153846153849, &quot;y&quot;: 2.19230769230769, &quot;z&quot;: 1.4602486692397014}, {&quot;x&quot;: 0.8846153846153849, &quot;y&quot;: 2.2179487179487154, &quot;z&quot;: 1.468082299733108}, {&quot;x&quot;: 0.8846153846153849, &quot;y&quot;: 2.243589743589741, &quot;z&quot;: 1.4764516401639338}, {&quot;x&quot;: 0.8846153846153849, &quot;y&quot;: 2.2692307692307665, &quot;z&quot;: 1.485356690532179}, {&quot;x&quot;: 0.8846153846153849, &quot;y&quot;: 2.294871794871792, &quot;z&quot;: 1.4947974508378434}, {&quot;x&quot;: 0.8846153846153849, &quot;y&quot;: 2.3205128205128176, &quot;z&quot;: 1.504773921080927}, {&quot;x&quot;: 0.8846153846153849, &quot;y&quot;: 2.346153846153843, &quot;z&quot;: 1.51528610126143}, {&quot;x&quot;: 0.8846153846153849, &quot;y&quot;: 2.3717948717948687, &quot;z&quot;: 1.5263339913793526}, {&quot;x&quot;: 0.8846153846153849, &quot;y&quot;: 2.3974358974358942, &quot;z&quot;: 1.5379175914346945}, {&quot;x&quot;: 0.8846153846153849, &quot;y&quot;: 2.42307692307692, &quot;z&quot;: 1.5500369014274553}, {&quot;x&quot;: 0.8846153846153849, &quot;y&quot;: 2.4487179487179453, &quot;z&quot;: 1.562691921357636}, {&quot;x&quot;: 0.8846153846153849, &quot;y&quot;: 2.474358974358971, &quot;z&quot;: 1.575882651225236}, {&quot;x&quot;: 0.8846153846153849, &quot;y&quot;: 2.5, &quot;z&quot;: 1.5896090910302567}, {&quot;x&quot;: 0.9102564102564106, &quot;y&quot;: 1.5256410256410255, &quot;z&quot;: 1.4443303510218342}, {&quot;x&quot;: 0.9102564102564106, &quot;y&quot;: 1.5, &quot;z&quot;: 1.4509608888387495}, {&quot;x&quot;: 0.9102564102564106, &quot;y&quot;: 1.551282051282051, &quot;z&quot;: 1.4382355231423376}, {&quot;x&quot;: 0.9102564102564106, &quot;y&quot;: 1.5769230769230766, &quot;z&quot;: 1.4326764052002605}, {&quot;x&quot;: 0.9102564102564106, &quot;y&quot;: 1.6025641025641022, &quot;z&quot;: 1.427652997195603}, {&quot;x&quot;: 0.9102564102564106, &quot;y&quot;: 1.6282051282051277, &quot;z&quot;: 1.4231652991283643}, {&quot;x&quot;: 0.9102564102564106, &quot;y&quot;: 1.6538461538461533, &quot;z&quot;: 1.4192133109985456}, {&quot;x&quot;: 0.9102564102564106, &quot;y&quot;: 1.6794871794871788, &quot;z&quot;: 1.4157970328061462}, {&quot;x&quot;: 0.9102564102564106, &quot;y&quot;: 1.7051282051282044, &quot;z&quot;: 1.4129164645511658}, {&quot;x&quot;: 0.9102564102564106, &quot;y&quot;: 1.73076923076923, &quot;z&quot;: 1.410571606233605}, {&quot;x&quot;: 0.9102564102564106, &quot;y&quot;: 1.7564102564102555, &quot;z&quot;: 1.4087624578534637}, {&quot;x&quot;: 0.9102564102564106, &quot;y&quot;: 1.782051282051281, &quot;z&quot;: 1.407489019410741}, {&quot;x&quot;: 0.9102564102564106, &quot;y&quot;: 1.8076923076923066, &quot;z&quot;: 1.406751290905438}, {&quot;x&quot;: 0.9102564102564106, &quot;y&quot;: 1.8333333333333321, &quot;z&quot;: 1.4065492723375546}, {&quot;x&quot;: 0.9102564102564106, &quot;y&quot;: 1.8589743589743577, &quot;z&quot;: 1.40688296370709}, {&quot;x&quot;: 0.9102564102564106, &quot;y&quot;: 1.8846153846153832, &quot;z&quot;: 1.4077523650140453}, {&quot;x&quot;: 0.9102564102564106, &quot;y&quot;: 1.9102564102564088, &quot;z&quot;: 1.4091574762584198}, {&quot;x&quot;: 0.9102564102564106, &quot;y&quot;: 1.9358974358974343, &quot;z&quot;: 1.4110982974402135}, {&quot;x&quot;: 0.9102564102564106, &quot;y&quot;: 1.96153846153846, &quot;z&quot;: 1.4135748285594265}, {&quot;x&quot;: 0.9102564102564106, &quot;y&quot;: 1.9871794871794854, &quot;z&quot;: 1.416587069616059}, {&quot;x&quot;: 0.9102564102564106, &quot;y&quot;: 2.012820512820511, &quot;z&quot;: 1.4201350206101104}, {&quot;x&quot;: 0.9102564102564106, &quot;y&quot;: 2.0384615384615365, &quot;z&quot;: 1.4242186815415816}, {&quot;x&quot;: 0.9102564102564106, &quot;y&quot;: 2.064102564102562, &quot;z&quot;: 1.428838052410472}, {&quot;x&quot;: 0.9102564102564106, &quot;y&quot;: 2.0897435897435876, &quot;z&quot;: 1.4339931332167821}, {&quot;x&quot;: 0.9102564102564106, &quot;y&quot;: 2.115384615384613, &quot;z&quot;: 1.4396839239605108}, {&quot;x&quot;: 0.9102564102564106, &quot;y&quot;: 2.1410256410256387, &quot;z&quot;: 1.4459104246416594}, {&quot;x&quot;: 0.9102564102564106, &quot;y&quot;: 2.1666666666666643, &quot;z&quot;: 1.4526726352602273}, {&quot;x&quot;: 0.9102564102564106, &quot;y&quot;: 2.19230769230769, &quot;z&quot;: 1.4599705558162142}, {&quot;x&quot;: 0.9102564102564106, &quot;y&quot;: 2.2179487179487154, &quot;z&quot;: 1.4678041863096207}, {&quot;x&quot;: 0.9102564102564106, &quot;y&quot;: 2.243589743589741, &quot;z&quot;: 1.4761735267404463}, {&quot;x&quot;: 0.9102564102564106, &quot;y&quot;: 2.2692307692307665, &quot;z&quot;: 1.4850785771086916}, {&quot;x&quot;: 0.9102564102564106, &quot;y&quot;: 2.294871794871792, &quot;z&quot;: 1.494519337414356}, {&quot;x&quot;: 0.9102564102564106, &quot;y&quot;: 2.3205128205128176, &quot;z&quot;: 1.5044958076574395}, {&quot;x&quot;: 0.9102564102564106, &quot;y&quot;: 2.346153846153843, &quot;z&quot;: 1.515007987837943}, {&quot;x&quot;: 0.9102564102564106, &quot;y&quot;: 2.3717948717948687, &quot;z&quot;: 1.5260558779558653}, {&quot;x&quot;: 0.9102564102564106, &quot;y&quot;: 2.3974358974358942, &quot;z&quot;: 1.5376394780112073}, {&quot;x&quot;: 0.9102564102564106, &quot;y&quot;: 2.42307692307692, &quot;z&quot;: 1.549758788003968}, {&quot;x&quot;: 0.9102564102564106, &quot;y&quot;: 2.4487179487179453, &quot;z&quot;: 1.5624138079341487}, {&quot;x&quot;: 0.9102564102564106, &quot;y&quot;: 2.474358974358971, &quot;z&quot;: 1.5756045378017485}, {&quot;x&quot;: 0.9102564102564106, &quot;y&quot;: 2.5, &quot;z&quot;: 1.5893309776067697}, {&quot;x&quot;: 0.9358974358974362, &quot;y&quot;: 1.5256410256410255, &quot;z&quot;: 1.445367161990194}, {&quot;x&quot;: 0.9358974358974362, &quot;y&quot;: 1.5, &quot;z&quot;: 1.45199769980711}, {&quot;x&quot;: 0.9358974358974362, &quot;y&quot;: 1.551282051282051, &quot;z&quot;: 1.4392723341106979}, {&quot;x&quot;: 0.9358974358974362, &quot;y&quot;: 1.5769230769230766, &quot;z&quot;: 1.433713216168621}, {&quot;x&quot;: 0.9358974358974362, &quot;y&quot;: 1.6025641025641022, &quot;z&quot;: 1.4286898081639632}, {&quot;x&quot;: 0.9358974358974362, &quot;y&quot;: 1.6282051282051277, &quot;z&quot;: 1.4242021100967253}, {&quot;x&quot;: 0.9358974358974362, &quot;y&quot;: 1.6538461538461533, &quot;z&quot;: 1.420250121966906}, {&quot;x&quot;: 0.9358974358974362, &quot;y&quot;: 1.6794871794871788, &quot;z&quot;: 1.4168338437745063}, {&quot;x&quot;: 0.9358974358974362, &quot;y&quot;: 1.7051282051282044, &quot;z&quot;: 1.4139532755195263}, {&quot;x&quot;: 0.9358974358974362, &quot;y&quot;: 1.73076923076923, &quot;z&quot;: 1.4116084172019654}, {&quot;x&quot;: 0.9358974358974362, &quot;y&quot;: 1.7564102564102555, &quot;z&quot;: 1.4097992688218235}, {&quot;x&quot;: 0.9358974358974362, &quot;y&quot;: 1.782051282051281, &quot;z&quot;: 1.4085258303791015}, {&quot;x&quot;: 0.9358974358974362, &quot;y&quot;: 1.8076923076923066, &quot;z&quot;: 1.4077881018737983}, {&quot;x&quot;: 0.9358974358974362, &quot;y&quot;: 1.8333333333333321, &quot;z&quot;: 1.4075860833059144}, {&quot;x&quot;: 0.9358974358974362, &quot;y&quot;: 1.8589743589743577, &quot;z&quot;: 1.4079197746754508}, {&quot;x&quot;: 0.9358974358974362, &quot;y&quot;: 1.8846153846153832, &quot;z&quot;: 1.4087891759824056}, {&quot;x&quot;: 0.9358974358974362, &quot;y&quot;: 1.9102564102564088, &quot;z&quot;: 1.41019428722678}, {&quot;x&quot;: 0.9358974358974362, &quot;y&quot;: 1.9358974358974343, &quot;z&quot;: 1.4121351084085736}, {&quot;x&quot;: 0.9358974358974362, &quot;y&quot;: 1.96153846153846, &quot;z&quot;: 1.4146116395277868}, {&quot;x&quot;: 0.9358974358974362, &quot;y&quot;: 1.9871794871794854, &quot;z&quot;: 1.417623880584419}, {&quot;x&quot;: 0.9358974358974362, &quot;y&quot;: 2.012820512820511, &quot;z&quot;: 1.421171831578471}, {&quot;x&quot;: 0.9358974358974362, &quot;y&quot;: 2.0384615384615365, &quot;z&quot;: 1.4252554925099419}, {&quot;x&quot;: 0.9358974358974362, &quot;y&quot;: 2.064102564102562, &quot;z&quot;: 1.429874863378832}, {&quot;x&quot;: 0.9358974358974362, &quot;y&quot;: 2.0897435897435876, &quot;z&quot;: 1.4350299441851422}, {&quot;x&quot;: 0.9358974358974362, &quot;y&quot;: 2.115384615384613, &quot;z&quot;: 1.440720734928871}, {&quot;x&quot;: 0.9358974358974362, &quot;y&quot;: 2.1410256410256387, &quot;z&quot;: 1.4469472356100197}, {&quot;x&quot;: 0.9358974358974362, &quot;y&quot;: 2.1666666666666643, &quot;z&quot;: 1.4537094462285876}, {&quot;x&quot;: 0.9358974358974362, &quot;y&quot;: 2.19230769230769, &quot;z&quot;: 1.4610073667845742}, {&quot;x&quot;: 0.9358974358974362, &quot;y&quot;: 2.2179487179487154, &quot;z&quot;: 1.4688409972779808}, {&quot;x&quot;: 0.9358974358974362, &quot;y&quot;: 2.243589743589741, &quot;z&quot;: 1.4772103377088068}, {&quot;x&quot;: 0.9358974358974362, &quot;y&quot;: 2.2692307692307665, &quot;z&quot;: 1.4861153880770517}, {&quot;x&quot;: 0.9358974358974362, &quot;y&quot;: 2.294871794871792, &quot;z&quot;: 1.4955561483827162}, {&quot;x&quot;: 0.9358974358974362, &quot;y&quot;: 2.3205128205128176, &quot;z&quot;: 1.5055326186258002}, {&quot;x&quot;: 0.9358974358974362, &quot;y&quot;: 2.346153846153843, &quot;z&quot;: 1.516044798806303}, {&quot;x&quot;: 0.9358974358974362, &quot;y&quot;: 2.3717948717948687, &quot;z&quot;: 1.5270926889242253}, {&quot;x&quot;: 0.9358974358974362, &quot;y&quot;: 2.3974358974358942, &quot;z&quot;: 1.5386762889795675}, {&quot;x&quot;: 0.9358974358974362, &quot;y&quot;: 2.42307692307692, &quot;z&quot;: 1.5507955989723283}, {&quot;x&quot;: 0.9358974358974362, &quot;y&quot;: 2.4487179487179453, &quot;z&quot;: 1.5634506189025088}, {&quot;x&quot;: 0.9358974358974362, &quot;y&quot;: 2.474358974358971, &quot;z&quot;: 1.5766413487701088}, {&quot;x&quot;: 0.9358974358974362, &quot;y&quot;: 2.5, &quot;z&quot;: 1.5903677885751297}, {&quot;x&quot;: 0.9615384615384619, &quot;y&quot;: 1.5256410256410255, &quot;z&quot;: 1.4477188973504018}, {&quot;x&quot;: 0.9615384615384619, &quot;y&quot;: 1.5, &quot;z&quot;: 1.4543494351673174}, {&quot;x&quot;: 0.9615384615384619, &quot;y&quot;: 1.551282051282051, &quot;z&quot;: 1.4416240694709057}, {&quot;x&quot;: 0.9615384615384619, &quot;y&quot;: 1.5769230769230766, &quot;z&quot;: 1.4360649515288284}, {&quot;x&quot;: 0.9615384615384619, &quot;y&quot;: 1.6025641025641022, &quot;z&quot;: 1.431041543524171}, {&quot;x&quot;: 0.9615384615384619, &quot;y&quot;: 1.6282051282051277, &quot;z&quot;: 1.4265538454569326}, {&quot;x&quot;: 0.9615384615384619, &quot;y&quot;: 1.6538461538461533, &quot;z&quot;: 1.4226018573271135}, {&quot;x&quot;: 0.9615384615384619, &quot;y&quot;: 1.6794871794871788, &quot;z&quot;: 1.419185579134714}, {&quot;x&quot;: 0.9615384615384619, &quot;y&quot;: 1.7051282051282044, &quot;z&quot;: 1.4163050108797337}, {&quot;x&quot;: 0.9615384615384619, &quot;y&quot;: 1.73076923076923, &quot;z&quot;: 1.4139601525621726}, {&quot;x&quot;: 0.9615384615384619, &quot;y&quot;: 1.7564102564102555, &quot;z&quot;: 1.412151004182031}, {&quot;x&quot;: 0.9615384615384619, &quot;y&quot;: 1.782051282051281, &quot;z&quot;: 1.4108775657393091}, {&quot;x&quot;: 0.9615384615384619, &quot;y&quot;: 1.8076923076923066, &quot;z&quot;: 1.410139837234006}, {&quot;x&quot;: 0.9615384615384619, &quot;y&quot;: 1.8333333333333321, &quot;z&quot;: 1.4099378186661222}, {&quot;x&quot;: 0.9615384615384619, &quot;y&quot;: 1.8589743589743577, &quot;z&quot;: 1.4102715100356584}, {&quot;x&quot;: 0.9615384615384619, &quot;y&quot;: 1.8846153846153832, &quot;z&quot;: 1.4111409113426132}, {&quot;x&quot;: 0.9615384615384619, &quot;y&quot;: 1.9102564102564088, &quot;z&quot;: 1.4125460225869875}, {&quot;x&quot;: 0.9615384615384619, &quot;y&quot;: 1.9358974358974343, &quot;z&quot;: 1.4144868437687816}, {&quot;x&quot;: 0.9615384615384619, &quot;y&quot;: 1.96153846153846, &quot;z&quot;: 1.4169633748879942}, {&quot;x&quot;: 0.9615384615384619, &quot;y&quot;: 1.9871794871794854, &quot;z&quot;: 1.4199756159446268}, {&quot;x&quot;: 0.9615384615384619, &quot;y&quot;: 2.012820512820511, &quot;z&quot;: 1.423523566938679}, {&quot;x&quot;: 0.9615384615384619, &quot;y&quot;: 2.0384615384615365, &quot;z&quot;: 1.4276072278701495}, {&quot;x&quot;: 0.9615384615384619, &quot;y&quot;: 2.064102564102562, &quot;z&quot;: 1.43222659873904}, {&quot;x&quot;: 0.9615384615384619, &quot;y&quot;: 2.0897435897435876, &quot;z&quot;: 1.4373816795453498}, {&quot;x&quot;: 0.9615384615384619, &quot;y&quot;: 2.115384615384613, &quot;z&quot;: 1.4430724702890787}, {&quot;x&quot;: 0.9615384615384619, &quot;y&quot;: 2.1410256410256387, &quot;z&quot;: 1.449298970970227}, {&quot;x&quot;: 0.9615384615384619, &quot;y&quot;: 2.1666666666666643, &quot;z&quot;: 1.4560611815887952}, {&quot;x&quot;: 0.9615384615384619, &quot;y&quot;: 2.19230769230769, &quot;z&quot;: 1.463359102144782}, {&quot;x&quot;: 0.9615384615384619, &quot;y&quot;: 2.2179487179487154, &quot;z&quot;: 1.4711927326381884}, {&quot;x&quot;: 0.9615384615384619, &quot;y&quot;: 2.243589743589741, &quot;z&quot;: 1.4795620730690144}, {&quot;x&quot;: 0.9615384615384619, &quot;y&quot;: 2.2692307692307665, &quot;z&quot;: 1.4884671234372593}, {&quot;x&quot;: 0.9615384615384619, &quot;y&quot;: 2.294871794871792, &quot;z&quot;: 1.4979078837429238}, {&quot;x&quot;: 0.9615384615384619, &quot;y&quot;: 2.3205128205128176, &quot;z&quot;: 1.5078843539860078}, {&quot;x&quot;: 0.9615384615384619, &quot;y&quot;: 2.346153846153843, &quot;z&quot;: 1.5183965341665107}, {&quot;x&quot;: 0.9615384615384619, &quot;y&quot;: 2.3717948717948687, &quot;z&quot;: 1.5294444242844334}, {&quot;x&quot;: 0.9615384615384619, &quot;y&quot;: 2.3974358974358942, &quot;z&quot;: 1.541028024339775}, {&quot;x&quot;: 0.9615384615384619, &quot;y&quot;: 2.42307692307692, &quot;z&quot;: 1.553147334332536}, {&quot;x&quot;: 0.9615384615384619, &quot;y&quot;: 2.4487179487179453, &quot;z&quot;: 1.5658023542627162}, {&quot;x&quot;: 0.9615384615384619, &quot;y&quot;: 2.474358974358971, &quot;z&quot;: 1.5789930841303164}, {&quot;x&quot;: 0.9615384615384619, &quot;y&quot;: 2.5, &quot;z&quot;: 1.5927195239353373}, {&quot;x&quot;: 0.9871794871794876, &quot;y&quot;: 1.5256410256410255, &quot;z&quot;: 1.4513855571024568}, {&quot;x&quot;: 0.9871794871794876, &quot;y&quot;: 1.5, &quot;z&quot;: 1.4580160949193723}, {&quot;x&quot;: 0.9871794871794876, &quot;y&quot;: 1.551282051282051, &quot;z&quot;: 1.4452907292229604}, {&quot;x&quot;: 0.9871794871794876, &quot;y&quot;: 1.5769230769230766, &quot;z&quot;: 1.4397316112808833}, {&quot;x&quot;: 0.9871794871794876, &quot;y&quot;: 1.6025641025641022, &quot;z&quot;: 1.4347082032762257}, {&quot;x&quot;: 0.9871794871794876, &quot;y&quot;: 1.6282051282051277, &quot;z&quot;: 1.4302205052089878}, {&quot;x&quot;: 0.9871794871794876, &quot;y&quot;: 1.6538461538461533, &quot;z&quot;: 1.4262685170791687}, {&quot;x&quot;: 0.9871794871794876, &quot;y&quot;: 1.6794871794871788, &quot;z&quot;: 1.4228522388867688}, {&quot;x&quot;: 0.9871794871794876, &quot;y&quot;: 1.7051282051282044, &quot;z&quot;: 1.419971670631789}, {&quot;x&quot;: 0.9871794871794876, &quot;y&quot;: 1.73076923076923, &quot;z&quot;: 1.4176268123142277}, {&quot;x&quot;: 0.9871794871794876, &quot;y&quot;: 1.7564102564102555, &quot;z&quot;: 1.415817663934086}, {&quot;x&quot;: 0.9871794871794876, &quot;y&quot;: 1.782051282051281, &quot;z&quot;: 1.414544225491364}, {&quot;x&quot;: 0.9871794871794876, &quot;y&quot;: 1.8076923076923066, &quot;z&quot;: 1.4138064969860613}, {&quot;x&quot;: 0.9871794871794876, &quot;y&quot;: 1.8333333333333321, &quot;z&quot;: 1.4136044784181774}, {&quot;x&quot;: 0.9871794871794876, &quot;y&quot;: 1.8589743589743577, &quot;z&quot;: 1.4139381697877131}, {&quot;x&quot;: 0.9871794871794876, &quot;y&quot;: 1.8846153846153832, &quot;z&quot;: 1.4148075710946684}, {&quot;x&quot;: 0.9871794871794876, &quot;y&quot;: 1.9102564102564088, &quot;z&quot;: 1.4162126823390424}, {&quot;x&quot;: 0.9871794871794876, &quot;y&quot;: 1.9358974358974343, &quot;z&quot;: 1.4181535035208364}, {&quot;x&quot;: 0.9871794871794876, &quot;y&quot;: 1.96153846153846, &quot;z&quot;: 1.4206300346400496}, {&quot;x&quot;: 0.9871794871794876, &quot;y&quot;: 1.9871794871794854, &quot;z&quot;: 1.423642275696682}, {&quot;x&quot;: 0.9871794871794876, &quot;y&quot;: 2.012820512820511, &quot;z&quot;: 1.4271902266907337}, {&quot;x&quot;: 0.9871794871794876, &quot;y&quot;: 2.0384615384615365, &quot;z&quot;: 1.4312738876222046}, {&quot;x&quot;: 0.9871794871794876, &quot;y&quot;: 2.064102564102562, &quot;z&quot;: 1.4358932584910948}, {&quot;x&quot;: 0.9871794871794876, &quot;y&quot;: 2.0897435897435876, &quot;z&quot;: 1.441048339297405}, {&quot;x&quot;: 0.9871794871794876, &quot;y&quot;: 2.115384615384613, &quot;z&quot;: 1.4467391300411339}, {&quot;x&quot;: 0.9871794871794876, &quot;y&quot;: 2.1410256410256387, &quot;z&quot;: 1.452965630722282}, {&quot;x&quot;: 0.9871794871794876, &quot;y&quot;: 2.1666666666666643, &quot;z&quot;: 1.4597278413408503}, {&quot;x&quot;: 0.9871794871794876, &quot;y&quot;: 2.19230769230769, &quot;z&quot;: 1.4670257618968372}, {&quot;x&quot;: 0.9871794871794876, &quot;y&quot;: 2.2179487179487154, &quot;z&quot;: 1.4748593923902436}, {&quot;x&quot;: 0.9871794871794876, &quot;y&quot;: 2.243589743589741, &quot;z&quot;: 1.4832287328210696}, {&quot;x&quot;: 0.9871794871794876, &quot;y&quot;: 2.2692307692307665, &quot;z&quot;: 1.4921337831893144}, {&quot;x&quot;: 0.9871794871794876, &quot;y&quot;: 2.294871794871792, &quot;z&quot;: 1.5015745434949788}, {&quot;x&quot;: 0.9871794871794876, &quot;y&quot;: 2.3205128205128176, &quot;z&quot;: 1.5115510137380628}, {&quot;x&quot;: 0.9871794871794876, &quot;y&quot;: 2.346153846153843, &quot;z&quot;: 1.522063193918566}, {&quot;x&quot;: 0.9871794871794876, &quot;y&quot;: 2.3717948717948687, &quot;z&quot;: 1.5331110840364883}, {&quot;x&quot;: 0.9871794871794876, &quot;y&quot;: 2.3974358974358942, &quot;z&quot;: 1.54469468409183}, {&quot;x&quot;: 0.9871794871794876, &quot;y&quot;: 2.42307692307692, &quot;z&quot;: 1.5568139940845913}, {&quot;x&quot;: 0.9871794871794876, &quot;y&quot;: 2.4487179487179453, &quot;z&quot;: 1.5694690140147718}, {&quot;x&quot;: 0.9871794871794876, &quot;y&quot;: 2.474358974358971, &quot;z&quot;: 1.5826597438823715}, {&quot;x&quot;: 0.9871794871794876, &quot;y&quot;: 2.5, &quot;z&quot;: 1.5963861836873923}, {&quot;x&quot;: 1.0128205128205132, &quot;y&quot;: 1.5256410256410255, &quot;z&quot;: 1.4563671412463592}, {&quot;x&quot;: 1.0128205128205132, &quot;y&quot;: 1.5, &quot;z&quot;: 1.4629976790632753}, {&quot;x&quot;: 1.0128205128205132, &quot;y&quot;: 1.551282051282051, &quot;z&quot;: 1.4502723133668634}, {&quot;x&quot;: 1.0128205128205132, &quot;y&quot;: 1.5769230769230766, &quot;z&quot;: 1.4447131954247863}, {&quot;x&quot;: 1.0128205128205132, &quot;y&quot;: 1.6025641025641022, &quot;z&quot;: 1.4396897874201282}, {&quot;x&quot;: 1.0128205128205132, &quot;y&quot;: 1.6282051282051277, &quot;z&quot;: 1.4352020893528903}, {&quot;x&quot;: 1.0128205128205132, &quot;y&quot;: 1.6538461538461533, &quot;z&quot;: 1.4312501012230712}, {&quot;x&quot;: 1.0128205128205132, &quot;y&quot;: 1.6794871794871788, &quot;z&quot;: 1.4278338230306717}, {&quot;x&quot;: 1.0128205128205132, &quot;y&quot;: 1.7051282051282044, &quot;z&quot;: 1.4249532547756913}, {&quot;x&quot;: 1.0128205128205132, &quot;y&quot;: 1.73076923076923, &quot;z&quot;: 1.4226083964581304}, {&quot;x&quot;: 1.0128205128205132, &quot;y&quot;: 1.7564102564102555, &quot;z&quot;: 1.4207992480779887}, {&quot;x&quot;: 1.0128205128205132, &quot;y&quot;: 1.782051282051281, &quot;z&quot;: 1.4195258096352665}, {&quot;x&quot;: 1.0128205128205132, &quot;y&quot;: 1.8076923076923066, &quot;z&quot;: 1.4187880811299638}, {&quot;x&quot;: 1.0128205128205132, &quot;y&quot;: 1.8333333333333321, &quot;z&quot;: 1.4185860625620799}, {&quot;x&quot;: 1.0128205128205132, &quot;y&quot;: 1.8589743589743577, &quot;z&quot;: 1.4189197539316156}, {&quot;x&quot;: 1.0128205128205132, &quot;y&quot;: 1.8846153846153832, &quot;z&quot;: 1.4197891552385709}, {&quot;x&quot;: 1.0128205128205132, &quot;y&quot;: 1.9102564102564088, &quot;z&quot;: 1.4211942664829453}, {&quot;x&quot;: 1.0128205128205132, &quot;y&quot;: 1.9358974358974343, &quot;z&quot;: 1.4231350876647388}, {&quot;x&quot;: 1.0128205128205132, &quot;y&quot;: 1.96153846153846, &quot;z&quot;: 1.4256116187839518}, {&quot;x&quot;: 1.0128205128205132, &quot;y&quot;: 1.9871794871794854, &quot;z&quot;: 1.4286238598405847}, {&quot;x&quot;: 1.0128205128205132, &quot;y&quot;: 2.012820512820511, &quot;z&quot;: 1.4321718108346362}, {&quot;x&quot;: 1.0128205128205132, &quot;y&quot;: 2.0384615384615365, &quot;z&quot;: 1.4362554717661074}, {&quot;x&quot;: 1.0128205128205132, &quot;y&quot;: 2.064102564102562, &quot;z&quot;: 1.4408748426349978}, {&quot;x&quot;: 1.0128205128205132, &quot;y&quot;: 2.0897435897435876, &quot;z&quot;: 1.4460299234413072}, {&quot;x&quot;: 1.0128205128205132, &quot;y&quot;: 2.115384615384613, &quot;z&quot;: 1.4517207141850363}, {&quot;x&quot;: 1.0128205128205132, &quot;y&quot;: 2.1410256410256387, &quot;z&quot;: 1.4579472148661847}, {&quot;x&quot;: 1.0128205128205132, &quot;y&quot;: 2.1666666666666643, &quot;z&quot;: 1.4647094254847526}, {&quot;x&quot;: 1.0128205128205132, &quot;y&quot;: 2.19230769230769, &quot;z&quot;: 1.4720073460407397}, {&quot;x&quot;: 1.0128205128205132, &quot;y&quot;: 2.2179487179487154, &quot;z&quot;: 1.4798409765341465}, {&quot;x&quot;: 1.0128205128205132, &quot;y&quot;: 2.243589743589741, &quot;z&quot;: 1.488210316964972}, {&quot;x&quot;: 1.0128205128205132, &quot;y&quot;: 2.2692307692307665, &quot;z&quot;: 1.4971153673332172}, {&quot;x&quot;: 1.0128205128205132, &quot;y&quot;: 2.294871794871792, &quot;z&quot;: 1.5065561276388817}, {&quot;x&quot;: 1.0128205128205132, &quot;y&quot;: 2.3205128205128176, &quot;z&quot;: 1.5165325978819653}, {&quot;x&quot;: 1.0128205128205132, &quot;y&quot;: 2.346153846153843, &quot;z&quot;: 1.5270447780624685}, {&quot;x&quot;: 1.0128205128205132, &quot;y&quot;: 2.3717948717948687, &quot;z&quot;: 1.538092668180391}, {&quot;x&quot;: 1.0128205128205132, &quot;y&quot;: 2.3974358974358942, &quot;z&quot;: 1.5496762682357326}, {&quot;x&quot;: 1.0128205128205132, &quot;y&quot;: 2.42307692307692, &quot;z&quot;: 1.5617955782284938}, {&quot;x&quot;: 1.0128205128205132, &quot;y&quot;: 2.4487179487179453, &quot;z&quot;: 1.5744505981586743}, {&quot;x&quot;: 1.0128205128205132, &quot;y&quot;: 2.474358974358971, &quot;z&quot;: 1.5876413280262738}, {&quot;x&quot;: 1.0128205128205132, &quot;y&quot;: 2.5, &quot;z&quot;: 1.6013677678312948}, {&quot;x&quot;: 1.0384615384615388, &quot;y&quot;: 1.5256410256410255, &quot;z&quot;: 1.4626636497821095}, {&quot;x&quot;: 1.0384615384615388, &quot;y&quot;: 1.5, &quot;z&quot;: 1.469294187599025}, {&quot;x&quot;: 1.0384615384615388, &quot;y&quot;: 1.551282051282051, &quot;z&quot;: 1.456568821902613}, {&quot;x&quot;: 1.0384615384615388, &quot;y&quot;: 1.5769230769230766, &quot;z&quot;: 1.451009703960536}, {&quot;x&quot;: 1.0384615384615388, &quot;y&quot;: 1.6025641025641022, &quot;z&quot;: 1.4459862959558787}, {&quot;x&quot;: 1.0384615384615388, &quot;y&quot;: 1.6282051282051277, &quot;z&quot;: 1.44149859788864}, {&quot;x&quot;: 1.0384615384615388, &quot;y&quot;: 1.6538461538461533, &quot;z&quot;: 1.4375466097588212}, {&quot;x&quot;: 1.0384615384615388, &quot;y&quot;: 1.6794871794871788, &quot;z&quot;: 1.4341303315664216}, {&quot;x&quot;: 1.0384615384615388, &quot;y&quot;: 1.7051282051282044, &quot;z&quot;: 1.4312497633114414}, {&quot;x&quot;: 1.0384615384615388, &quot;y&quot;: 1.73076923076923, &quot;z&quot;: 1.4289049049938805}, {&quot;x&quot;: 1.0384615384615388, &quot;y&quot;: 1.7564102564102555, &quot;z&quot;: 1.4270957566137388}, {&quot;x&quot;: 1.0384615384615388, &quot;y&quot;: 1.782051282051281, &quot;z&quot;: 1.4258223181710168}, {&quot;x&quot;: 1.0384615384615388, &quot;y&quot;: 1.8076923076923066, &quot;z&quot;: 1.4250845896657138}, {&quot;x&quot;: 1.0384615384615388, &quot;y&quot;: 1.8333333333333321, &quot;z&quot;: 1.42488257109783}, {&quot;x&quot;: 1.0384615384615388, &quot;y&quot;: 1.8589743589743577, &quot;z&quot;: 1.4252162624673657}, {&quot;x&quot;: 1.0384615384615388, &quot;y&quot;: 1.8846153846153832, &quot;z&quot;: 1.4260856637743209}, {&quot;x&quot;: 1.0384615384615388, &quot;y&quot;: 1.9102564102564088, &quot;z&quot;: 1.4274907750186954}, {&quot;x&quot;: 1.0384615384615388, &quot;y&quot;: 1.9358974358974343, &quot;z&quot;: 1.4294315962004889}, {&quot;x&quot;: 1.0384615384615388, &quot;y&quot;: 1.96153846153846, &quot;z&quot;: 1.4319081273197023}, {&quot;x&quot;: 1.0384615384615388, &quot;y&quot;: 1.9871794871794854, &quot;z&quot;: 1.4349203683763345}, {&quot;x&quot;: 1.0384615384615388, &quot;y&quot;: 2.012820512820511, &quot;z&quot;: 1.438468319370386}, {&quot;x&quot;: 1.0384615384615388, &quot;y&quot;: 2.0384615384615365, &quot;z&quot;: 1.4425519803018572}, {&quot;x&quot;: 1.0384615384615388, &quot;y&quot;: 2.064102564102562, &quot;z&quot;: 1.4471713511707476}, {&quot;x&quot;: 1.0384615384615388, &quot;y&quot;: 2.0897435897435876, &quot;z&quot;: 1.4523264319770575}, {&quot;x&quot;: 1.0384615384615388, &quot;y&quot;: 2.115384615384613, &quot;z&quot;: 1.4580172227207866}, {&quot;x&quot;: 1.0384615384615388, &quot;y&quot;: 2.1410256410256387, &quot;z&quot;: 1.464243723401935}, {&quot;x&quot;: 1.0384615384615388, &quot;y&quot;: 2.1666666666666643, &quot;z&quot;: 1.4710059340205026}, {&quot;x&quot;: 1.0384615384615388, &quot;y&quot;: 2.19230769230769, &quot;z&quot;: 1.47830385457649}, {&quot;x&quot;: 1.0384615384615388, &quot;y&quot;: 2.2179487179487154, &quot;z&quot;: 1.4861374850698963}, {&quot;x&quot;: 1.0384615384615388, &quot;y&quot;: 2.243589743589741, &quot;z&quot;: 1.494506825500722}, {&quot;x&quot;: 1.0384615384615388, &quot;y&quot;: 2.2692307692307665, &quot;z&quot;: 1.503411875868967}, {&quot;x&quot;: 1.0384615384615388, &quot;y&quot;: 2.294871794871792, &quot;z&quot;: 1.5128526361746315}, {&quot;x&quot;: 1.0384615384615388, &quot;y&quot;: 2.3205128205128176, &quot;z&quot;: 1.5228291064177153}, {&quot;x&quot;: 1.0384615384615388, &quot;y&quot;: 2.346153846153843, &quot;z&quot;: 1.5333412865982186}, {&quot;x&quot;: 1.0384615384615388, &quot;y&quot;: 2.3717948717948687, &quot;z&quot;: 1.5443891767161408}, {&quot;x&quot;: 1.0384615384615388, &quot;y&quot;: 2.3974358974358942, &quot;z&quot;: 1.5559727767714828}, {&quot;x&quot;: 1.0384615384615388, &quot;y&quot;: 2.42307692307692, &quot;z&quot;: 1.5680920867642438}, {&quot;x&quot;: 1.0384615384615388, &quot;y&quot;: 2.4487179487179453, &quot;z&quot;: 1.580747106694424}, {&quot;x&quot;: 1.0384615384615388, &quot;y&quot;: 2.474358974358971, &quot;z&quot;: 1.5939378365620238}, {&quot;x&quot;: 1.0384615384615388, &quot;y&quot;: 2.5, &quot;z&quot;: 1.6076642763670446}, {&quot;x&quot;: 1.0641025641025643, &quot;y&quot;: 1.5256410256410255, &quot;z&quot;: 1.4702750827097069}, {&quot;x&quot;: 1.0641025641025643, &quot;y&quot;: 1.5, &quot;z&quot;: 1.4769056205266227}, {&quot;x&quot;: 1.0641025641025643, &quot;y&quot;: 1.551282051282051, &quot;z&quot;: 1.4641802548302105}, {&quot;x&quot;: 1.0641025641025643, &quot;y&quot;: 1.5769230769230766, &quot;z&quot;: 1.4586211368881337}, {&quot;x&quot;: 1.0641025641025643, &quot;y&quot;: 1.6025641025641022, &quot;z&quot;: 1.453597728883476}, {&quot;x&quot;: 1.0641025641025643, &quot;y&quot;: 1.6282051282051277, &quot;z&quot;: 1.4491100308162377}, {&quot;x&quot;: 1.0641025641025643, &quot;y&quot;: 1.6538461538461533, &quot;z&quot;: 1.4451580426864188}, {&quot;x&quot;: 1.0641025641025643, &quot;y&quot;: 1.6794871794871788, &quot;z&quot;: 1.4417417644940191}, {&quot;x&quot;: 1.0641025641025643, &quot;y&quot;: 1.7051282051282044, &quot;z&quot;: 1.438861196239039}, {&quot;x&quot;: 1.0641025641025643, &quot;y&quot;: 1.73076923076923, &quot;z&quot;: 1.436516337921478}, {&quot;x&quot;: 1.0641025641025643, &quot;y&quot;: 1.7564102564102555, &quot;z&quot;: 1.4347071895413364}, {&quot;x&quot;: 1.0641025641025643, &quot;y&quot;: 1.782051282051281, &quot;z&quot;: 1.433433751098614}, {&quot;x&quot;: 1.0641025641025643, &quot;y&quot;: 1.8076923076923066, &quot;z&quot;: 1.4326960225933112}, {&quot;x&quot;: 1.0641025641025643, &quot;y&quot;: 1.8333333333333321, &quot;z&quot;: 1.4324940040254275}, {&quot;x&quot;: 1.0641025641025643, &quot;y&quot;: 1.8589743589743577, &quot;z&quot;: 1.432827695394963}, {&quot;x&quot;: 1.0641025641025643, &quot;y&quot;: 1.8846153846153832, &quot;z&quot;: 1.4336970967019182}, {&quot;x&quot;: 1.0641025641025643, &quot;y&quot;: 1.9102564102564088, &quot;z&quot;: 1.435102207946293}, {&quot;x&quot;: 1.0641025641025643, &quot;y&quot;: 1.9358974358974343, &quot;z&quot;: 1.4370430291280862}, {&quot;x&quot;: 1.0641025641025643, &quot;y&quot;: 1.96153846153846, &quot;z&quot;: 1.4395195602472994}, {&quot;x&quot;: 1.0641025641025643, &quot;y&quot;: 1.9871794871794854, &quot;z&quot;: 1.4425318013039319}, {&quot;x&quot;: 1.0641025641025643, &quot;y&quot;: 2.012820512820511, &quot;z&quot;: 1.4460797522979836}, {&quot;x&quot;: 1.0641025641025643, &quot;y&quot;: 2.0384615384615365, &quot;z&quot;: 1.450163413229455}, {&quot;x&quot;: 1.0641025641025643, &quot;y&quot;: 2.064102564102562, &quot;z&quot;: 1.4547827840983452}, {&quot;x&quot;: 1.0641025641025643, &quot;y&quot;: 2.0897435897435876, &quot;z&quot;: 1.459937864904655}, {&quot;x&quot;: 1.0641025641025643, &quot;y&quot;: 2.115384615384613, &quot;z&quot;: 1.4656286556483842}, {&quot;x&quot;: 1.0641025641025643, &quot;y&quot;: 2.1410256410256387, &quot;z&quot;: 1.4718551563295323}, {&quot;x&quot;: 1.0641025641025643, &quot;y&quot;: 2.1666666666666643, &quot;z&quot;: 1.4786173669481004}, {&quot;x&quot;: 1.0641025641025643, &quot;y&quot;: 2.19230769230769, &quot;z&quot;: 1.485915287504087}, {&quot;x&quot;: 1.0641025641025643, &quot;y&quot;: 2.2179487179487154, &quot;z&quot;: 1.4937489179974937}, {&quot;x&quot;: 1.0641025641025643, &quot;y&quot;: 2.243589743589741, &quot;z&quot;: 1.5021182584283193}, {&quot;x&quot;: 1.0641025641025643, &quot;y&quot;: 2.2692307692307665, &quot;z&quot;: 1.5110233087965645}, {&quot;x&quot;: 1.0641025641025643, &quot;y&quot;: 2.294871794871792, &quot;z&quot;: 1.520464069102229}, {&quot;x&quot;: 1.0641025641025643, &quot;y&quot;: 2.3205128205128176, &quot;z&quot;: 1.5304405393453127}, {&quot;x&quot;: 1.0641025641025643, &quot;y&quot;: 2.346153846153843, &quot;z&quot;: 1.540952719525816}, {&quot;x&quot;: 1.0641025641025643, &quot;y&quot;: 2.3717948717948687, &quot;z&quot;: 1.5520006096437384}, {&quot;x&quot;: 1.0641025641025643, &quot;y&quot;: 2.3974358974358942, &quot;z&quot;: 1.56358420969908}, {&quot;x&quot;: 1.0641025641025643, &quot;y&quot;: 2.42307692307692, &quot;z&quot;: 1.575703519691841}, {&quot;x&quot;: 1.0641025641025643, &quot;y&quot;: 2.4487179487179453, &quot;z&quot;: 1.5883585396220217}, {&quot;x&quot;: 1.0641025641025643, &quot;y&quot;: 2.474358974358971, &quot;z&quot;: 1.6015492694896214}, {&quot;x&quot;: 1.0641025641025643, &quot;y&quot;: 2.5, &quot;z&quot;: 1.6152757092946424}, {&quot;x&quot;: 1.0897435897435899, &quot;y&quot;: 1.5256410256410255, &quot;z&quot;: 1.479201440029152}, {&quot;x&quot;: 1.0897435897435899, &quot;y&quot;: 1.5, &quot;z&quot;: 1.4858319778460678}, {&quot;x&quot;: 1.0897435897435899, &quot;y&quot;: 1.551282051282051, &quot;z&quot;: 1.4731066121496557}, {&quot;x&quot;: 1.0897435897435899, &quot;y&quot;: 1.5769230769230766, &quot;z&quot;: 1.4675474942075786}, {&quot;x&quot;: 1.0897435897435899, &quot;y&quot;: 1.6025641025641022, &quot;z&quot;: 1.4625240862029207}, {&quot;x&quot;: 1.0897435897435899, &quot;y&quot;: 1.6282051282051277, &quot;z&quot;: 1.4580363881356826}, {&quot;x&quot;: 1.0897435897435899, &quot;y&quot;: 1.6538461538461533, &quot;z&quot;: 1.4540844000058635}, {&quot;x&quot;: 1.0897435897435899, &quot;y&quot;: 1.6794871794871788, &quot;z&quot;: 1.450668121813464}, {&quot;x&quot;: 1.0897435897435899, &quot;y&quot;: 1.7051282051282044, &quot;z&quot;: 1.4477875535584837}, {&quot;x&quot;: 1.0897435897435899, &quot;y&quot;: 1.73076923076923, &quot;z&quot;: 1.445442695240923}, {&quot;x&quot;: 1.0897435897435899, &quot;y&quot;: 1.7564102564102555, &quot;z&quot;: 1.4436335468607813}, {&quot;x&quot;: 1.0897435897435899, &quot;y&quot;: 1.782051282051281, &quot;z&quot;: 1.4423601084180588}, {&quot;x&quot;: 1.0897435897435899, &quot;y&quot;: 1.8076923076923066, &quot;z&quot;: 1.441622379912756}, {&quot;x&quot;: 1.0897435897435899, &quot;y&quot;: 1.8333333333333321, &quot;z&quot;: 1.4414203613448726}, {&quot;x&quot;: 1.0897435897435899, &quot;y&quot;: 1.8589743589743577, &quot;z&quot;: 1.441754052714408}, {&quot;x&quot;: 1.0897435897435899, &quot;y&quot;: 1.8846153846153832, &quot;z&quot;: 1.4426234540213634}, {&quot;x&quot;: 1.0897435897435899, &quot;y&quot;: 1.9102564102564088, &quot;z&quot;: 1.4440285652657376}, {&quot;x&quot;: 1.0897435897435899, &quot;y&quot;: 1.9358974358974343, &quot;z&quot;: 1.4459693864475311}, {&quot;x&quot;: 1.0897435897435899, &quot;y&quot;: 1.96153846153846, &quot;z&quot;: 1.4484459175667443}, {&quot;x&quot;: 1.0897435897435899, &quot;y&quot;: 1.9871794871794854, &quot;z&quot;: 1.4514581586233768}, {&quot;x&quot;: 1.0897435897435899, &quot;y&quot;: 2.012820512820511, &quot;z&quot;: 1.4550061096174285}, {&quot;x&quot;: 1.0897435897435899, &quot;y&quot;: 2.0384615384615365, &quot;z&quot;: 1.4590897705488997}, {&quot;x&quot;: 1.0897435897435899, &quot;y&quot;: 2.064102564102562, &quot;z&quot;: 1.4637091414177903}, {&quot;x&quot;: 1.0897435897435899, &quot;y&quot;: 2.0897435897435876, &quot;z&quot;: 1.4688642222240997}, {&quot;x&quot;: 1.0897435897435899, &quot;y&quot;: 2.115384615384613, &quot;z&quot;: 1.474555012967829}, {&quot;x&quot;: 1.0897435897435899, &quot;y&quot;: 2.1410256410256387, &quot;z&quot;: 1.4807815136489775}, {&quot;x&quot;: 1.0897435897435899, &quot;y&quot;: 2.1666666666666643, &quot;z&quot;: 1.487543724267545}, {&quot;x&quot;: 1.0897435897435899, &quot;y&quot;: 2.19230769230769, &quot;z&quot;: 1.494841644823532}, {&quot;x&quot;: 1.0897435897435899, &quot;y&quot;: 2.2179487179487154, &quot;z&quot;: 1.5026752753169386}, {&quot;x&quot;: 1.0897435897435899, &quot;y&quot;: 2.243589743589741, &quot;z&quot;: 1.5110446157477642}, {&quot;x&quot;: 1.0897435897435899, &quot;y&quot;: 2.2692307692307665, &quot;z&quot;: 1.5199496661160095}, {&quot;x&quot;: 1.0897435897435899, &quot;y&quot;: 2.294871794871792, &quot;z&quot;: 1.5293904264216738}, {&quot;x&quot;: 1.0897435897435899, &quot;y&quot;: 2.3205128205128176, &quot;z&quot;: 1.5393668966647576}, {&quot;x&quot;: 1.0897435897435899, &quot;y&quot;: 2.346153846153843, &quot;z&quot;: 1.5498790768452608}, {&quot;x&quot;: 1.0897435897435899, &quot;y&quot;: 2.3717948717948687, &quot;z&quot;: 1.5609269669631833}, {&quot;x&quot;: 1.0897435897435899, &quot;y&quot;: 2.3974358974358942, &quot;z&quot;: 1.5725105670185249}, {&quot;x&quot;: 1.0897435897435899, &quot;y&quot;: 2.42307692307692, &quot;z&quot;: 1.584629877011286}, {&quot;x&quot;: 1.0897435897435899, &quot;y&quot;: 2.4487179487179453, &quot;z&quot;: 1.5972848969414666}, {&quot;x&quot;: 1.0897435897435899, &quot;y&quot;: 2.474358974358971, &quot;z&quot;: 1.610475626809066}, {&quot;x&quot;: 1.0897435897435899, &quot;y&quot;: 2.5, &quot;z&quot;: 1.624202066614087}, {&quot;x&quot;: 1.1153846153846154, &quot;y&quot;: 1.5256410256410255, &quot;z&quot;: 1.4894427217404442}, {&quot;x&quot;: 1.1153846153846154, &quot;y&quot;: 1.5, &quot;z&quot;: 1.49607325955736}, {&quot;x&quot;: 1.1153846153846154, &quot;y&quot;: 1.551282051282051, &quot;z&quot;: 1.483347893860948}, {&quot;x&quot;: 1.1153846153846154, &quot;y&quot;: 1.5769230769230766, &quot;z&quot;: 1.477788775918871}, {&quot;x&quot;: 1.1153846153846154, &quot;y&quot;: 1.6025641025641022, &quot;z&quot;: 1.4727653679142134}, {&quot;x&quot;: 1.1153846153846154, &quot;y&quot;: 1.6282051282051277, &quot;z&quot;: 1.468277669846975}, {&quot;x&quot;: 1.1153846153846154, &quot;y&quot;: 1.6538461538461533, &quot;z&quot;: 1.464325681717156}, {&quot;x&quot;: 1.1153846153846154, &quot;y&quot;: 1.6794871794871788, &quot;z&quot;: 1.4609094035247567}, {&quot;x&quot;: 1.1153846153846154, &quot;y&quot;: 1.7051282051282044, &quot;z&quot;: 1.4580288352697761}, {&quot;x&quot;: 1.1153846153846154, &quot;y&quot;: 1.73076923076923, &quot;z&quot;: 1.4556839769522152}, {&quot;x&quot;: 1.1153846153846154, &quot;y&quot;: 1.7564102564102555, &quot;z&quot;: 1.4538748285720735}, {&quot;x&quot;: 1.1153846153846154, &quot;y&quot;: 1.782051282051281, &quot;z&quot;: 1.4526013901293513}, {&quot;x&quot;: 1.1153846153846154, &quot;y&quot;: 1.8076923076923066, &quot;z&quot;: 1.4518636616240483}, {&quot;x&quot;: 1.1153846153846154, &quot;y&quot;: 1.8333333333333321, &quot;z&quot;: 1.4516616430561649}, {&quot;x&quot;: 1.1153846153846154, &quot;y&quot;: 1.8589743589743577, &quot;z&quot;: 1.4519953344257006}, {&quot;x&quot;: 1.1153846153846154, &quot;y&quot;: 1.8846153846153832, &quot;z&quot;: 1.4528647357326558}, {&quot;x&quot;: 1.1153846153846154, &quot;y&quot;: 1.9102564102564088, &quot;z&quot;: 1.45426984697703}, {&quot;x&quot;: 1.1153846153846154, &quot;y&quot;: 1.9358974358974343, &quot;z&quot;: 1.4562106681588236}, {&quot;x&quot;: 1.1153846153846154, &quot;y&quot;: 1.96153846153846, &quot;z&quot;: 1.4586871992780366}, {&quot;x&quot;: 1.1153846153846154, &quot;y&quot;: 1.9871794871794854, &quot;z&quot;: 1.4616994403346695}, {&quot;x&quot;: 1.1153846153846154, &quot;y&quot;: 2.012820512820511, &quot;z&quot;: 1.465247391328721}, {&quot;x&quot;: 1.1153846153846154, &quot;y&quot;: 2.0384615384615365, &quot;z&quot;: 1.4693310522601923}, {&quot;x&quot;: 1.1153846153846154, &quot;y&quot;: 2.064102564102562, &quot;z&quot;: 1.4739504231290828}, {&quot;x&quot;: 1.1153846153846154, &quot;y&quot;: 2.0897435897435876, &quot;z&quot;: 1.4791055039353922}, {&quot;x&quot;: 1.1153846153846154, &quot;y&quot;: 2.115384615384613, &quot;z&quot;: 1.4847962946791216}, {&quot;x&quot;: 1.1153846153846154, &quot;y&quot;: 2.1410256410256387, &quot;z&quot;: 1.4910227953602697}, {&quot;x&quot;: 1.1153846153846154, &quot;y&quot;: 2.1666666666666643, &quot;z&quot;: 1.4977850059788373}, {&quot;x&quot;: 1.1153846153846154, &quot;y&quot;: 2.19230769230769, &quot;z&quot;: 1.5050829265348245}, {&quot;x&quot;: 1.1153846153846154, &quot;y&quot;: 2.2179487179487154, &quot;z&quot;: 1.5129165570282308}, {&quot;x&quot;: 1.1153846153846154, &quot;y&quot;: 2.243589743589741, &quot;z&quot;: 1.5212858974590566}, {&quot;x&quot;: 1.1153846153846154, &quot;y&quot;: 2.2692307692307665, &quot;z&quot;: 1.530190947827302}, {&quot;x&quot;: 1.1153846153846154, &quot;y&quot;: 2.294871794871792, &quot;z&quot;: 1.5396317081329667}, {&quot;x&quot;: 1.1153846153846154, &quot;y&quot;: 2.3205128205128176, &quot;z&quot;: 1.54960817837605}, {&quot;x&quot;: 1.1153846153846154, &quot;y&quot;: 2.346153846153843, &quot;z&quot;: 1.5601203585565533}, {&quot;x&quot;: 1.1153846153846154, &quot;y&quot;: 2.3717948717948687, &quot;z&quot;: 1.5711682486744758}, {&quot;x&quot;: 1.1153846153846154, &quot;y&quot;: 2.3974358974358942, &quot;z&quot;: 1.5827518487298171}, {&quot;x&quot;: 1.1153846153846154, &quot;y&quot;: 2.42307692307692, &quot;z&quot;: 1.5948711587225788}, {&quot;x&quot;: 1.1153846153846154, &quot;y&quot;: 2.4487179487179453, &quot;z&quot;: 1.607526178652759}, {&quot;x&quot;: 1.1153846153846154, &quot;y&quot;: 2.474358974358971, &quot;z&quot;: 1.6207169085203585}, {&quot;x&quot;: 1.1153846153846154, &quot;y&quot;: 2.5, &quot;z&quot;: 1.6344433483253795}, {&quot;x&quot;: 1.141025641025641, &quot;y&quot;: 1.5256410256410255, &quot;z&quot;: 1.500998927843584}, {&quot;x&quot;: 1.141025641025641, &quot;y&quot;: 1.5, &quot;z&quot;: 1.5076294656604998}, {&quot;x&quot;: 1.141025641025641, &quot;y&quot;: 1.551282051282051, &quot;z&quot;: 1.4949040999640877}, {&quot;x&quot;: 1.141025641025641, &quot;y&quot;: 1.5769230769230766, &quot;z&quot;: 1.4893449820220108}, {&quot;x&quot;: 1.141025641025641, &quot;y&quot;: 1.6025641025641022, &quot;z&quot;: 1.4843215740173532}, {&quot;x&quot;: 1.141025641025641, &quot;y&quot;: 1.6282051282051277, &quot;z&quot;: 1.4798338759501148}, {&quot;x&quot;: 1.141025641025641, &quot;y&quot;: 1.6538461538461533, &quot;z&quot;: 1.4758818878202962}, {&quot;x&quot;: 1.141025641025641, &quot;y&quot;: 1.6794871794871788, &quot;z&quot;: 1.4724656096278965}, {&quot;x&quot;: 1.141025641025641, &quot;y&quot;: 1.7051282051282044, &quot;z&quot;: 1.469585041372916}, {&quot;x&quot;: 1.141025641025641, &quot;y&quot;: 1.73076923076923, &quot;z&quot;: 1.467240183055355}, {&quot;x&quot;: 1.141025641025641, &quot;y&quot;: 1.7564102564102555, &quot;z&quot;: 1.4654310346752137}, {&quot;x&quot;: 1.141025641025641, &quot;y&quot;: 1.782051282051281, &quot;z&quot;: 1.4641575962324913}, {&quot;x&quot;: 1.141025641025641, &quot;y&quot;: 1.8076923076923066, &quot;z&quot;: 1.4634198677271884}, {&quot;x&quot;: 1.141025641025641, &quot;y&quot;: 1.8333333333333321, &quot;z&quot;: 1.4632178491593044}, {&quot;x&quot;: 1.141025641025641, &quot;y&quot;: 1.8589743589743577, &quot;z&quot;: 1.4635515405288404}, {&quot;x&quot;: 1.141025641025641, &quot;y&quot;: 1.8846153846153832, &quot;z&quot;: 1.4644209418357954}, {&quot;x&quot;: 1.141025641025641, &quot;y&quot;: 1.9102564102564088, &quot;z&quot;: 1.4658260530801699}, {&quot;x&quot;: 1.141025641025641, &quot;y&quot;: 1.9358974358974343, &quot;z&quot;: 1.4677668742619634}, {&quot;x&quot;: 1.141025641025641, &quot;y&quot;: 1.96153846153846, &quot;z&quot;: 1.4702434053811768}, {&quot;x&quot;: 1.141025641025641, &quot;y&quot;: 1.9871794871794854, &quot;z&quot;: 1.4732556464378088}, {&quot;x&quot;: 1.141025641025641, &quot;y&quot;: 2.012820512820511, &quot;z&quot;: 1.476803597431861}, {&quot;x&quot;: 1.141025641025641, &quot;y&quot;: 2.0384615384615365, &quot;z&quot;: 1.4808872583633321}, {&quot;x&quot;: 1.141025641025641, &quot;y&quot;: 2.064102564102562, &quot;z&quot;: 1.4855066292322223}, {&quot;x&quot;: 1.141025641025641, &quot;y&quot;: 2.0897435897435876, &quot;z&quot;: 1.490661710038532}, {&quot;x&quot;: 1.141025641025641, &quot;y&quot;: 2.115384615384613, &quot;z&quot;: 1.496352500782261}, {&quot;x&quot;: 1.141025641025641, &quot;y&quot;: 2.1410256410256387, &quot;z&quot;: 1.5025790014634097}, {&quot;x&quot;: 1.141025641025641, &quot;y&quot;: 2.1666666666666643, &quot;z&quot;: 1.5093412120819771}, {&quot;x&quot;: 1.141025641025641, &quot;y&quot;: 2.19230769230769, &quot;z&quot;: 1.5166391326379642}, {&quot;x&quot;: 1.141025641025641, &quot;y&quot;: 2.2179487179487154, &quot;z&quot;: 1.524472763131371}, {&quot;x&quot;: 1.141025641025641, &quot;y&quot;: 2.243589743589741, &quot;z&quot;: 1.5328421035621966}, {&quot;x&quot;: 1.141025641025641, &quot;y&quot;: 2.2692307692307665, &quot;z&quot;: 1.541747153930442}, {&quot;x&quot;: 1.141025641025641, &quot;y&quot;: 2.294871794871792, &quot;z&quot;: 1.5511879142361062}, {&quot;x&quot;: 1.141025641025641, &quot;y&quot;: 2.3205128205128176, &quot;z&quot;: 1.5611643844791898}, {&quot;x&quot;: 1.141025641025641, &quot;y&quot;: 2.346153846153843, &quot;z&quot;: 1.571676564659693}, {&quot;x&quot;: 1.141025641025641, &quot;y&quot;: 2.3717948717948687, &quot;z&quot;: 1.5827244547776158}, {&quot;x&quot;: 1.141025641025641, &quot;y&quot;: 2.3974358974358942, &quot;z&quot;: 1.5943080548329571}, {&quot;x&quot;: 1.141025641025641, &quot;y&quot;: 2.42307692307692, &quot;z&quot;: 1.6064273648257186}, {&quot;x&quot;: 1.141025641025641, &quot;y&quot;: 2.4487179487179453, &quot;z&quot;: 1.6190823847558988}, {&quot;x&quot;: 1.141025641025641, &quot;y&quot;: 2.474358974358971, &quot;z&quot;: 1.6322731146234986}, {&quot;x&quot;: 1.141025641025641, &quot;y&quot;: 2.5, &quot;z&quot;: 1.6459995544285195}, {&quot;x&quot;: 1.1666666666666665, &quot;y&quot;: 1.5256410256410255, &quot;z&quot;: 1.5138700583385714}, {&quot;x&quot;: 1.1666666666666665, &quot;y&quot;: 1.5, &quot;z&quot;: 1.5205005961554872}, {&quot;x&quot;: 1.1666666666666665, &quot;y&quot;: 1.551282051282051, &quot;z&quot;: 1.507775230459075}, {&quot;x&quot;: 1.1666666666666665, &quot;y&quot;: 1.5769230769230766, &quot;z&quot;: 1.5022161125169982}, {&quot;x&quot;: 1.1666666666666665, &quot;y&quot;: 1.6025641025641022, &quot;z&quot;: 1.4971927045123405}, {&quot;x&quot;: 1.1666666666666665, &quot;y&quot;: 1.6282051282051277, &quot;z&quot;: 1.4927050064451024}, {&quot;x&quot;: 1.1666666666666665, &quot;y&quot;: 1.6538461538461533, &quot;z&quot;: 1.4887530183152835}, {&quot;x&quot;: 1.1666666666666665, &quot;y&quot;: 1.6794871794871788, &quot;z&quot;: 1.4853367401228839}, {&quot;x&quot;: 1.1666666666666665, &quot;y&quot;: 1.7051282051282044, &quot;z&quot;: 1.4824561718679032}, {&quot;x&quot;: 1.1666666666666665, &quot;y&quot;: 1.73076923076923, &quot;z&quot;: 1.4801113135503425}, {&quot;x&quot;: 1.1666666666666665, &quot;y&quot;: 1.7564102564102555, &quot;z&quot;: 1.4783021651702009}, {&quot;x&quot;: 1.1666666666666665, &quot;y&quot;: 1.782051282051281, &quot;z&quot;: 1.4770287267274784}, {&quot;x&quot;: 1.1666666666666665, &quot;y&quot;: 1.8076923076923066, &quot;z&quot;: 1.4762909982221757}, {&quot;x&quot;: 1.1666666666666665, &quot;y&quot;: 1.8333333333333321, &quot;z&quot;: 1.4760889796542922}, {&quot;x&quot;: 1.1666666666666665, &quot;y&quot;: 1.8589743589743577, &quot;z&quot;: 1.4764226710238275}, {&quot;x&quot;: 1.1666666666666665, &quot;y&quot;: 1.8846153846153832, &quot;z&quot;: 1.477292072330783}, {&quot;x&quot;: 1.1666666666666665, &quot;y&quot;: 1.9102564102564088, &quot;z&quot;: 1.4786971835751574}, {&quot;x&quot;: 1.1666666666666665, &quot;y&quot;: 1.9358974358974343, &quot;z&quot;: 1.4806380047569507}, {&quot;x&quot;: 1.1666666666666665, &quot;y&quot;: 1.96153846153846, &quot;z&quot;: 1.483114535876164}, {&quot;x&quot;: 1.1666666666666665, &quot;y&quot;: 1.9871794871794854, &quot;z&quot;: 1.4861267769327966}, {&quot;x&quot;: 1.1666666666666665, &quot;y&quot;: 2.012820512820511, &quot;z&quot;: 1.4896747279268483}, {&quot;x&quot;: 1.1666666666666665, &quot;y&quot;: 2.0384615384615365, &quot;z&quot;: 1.4937583888583192}, {&quot;x&quot;: 1.1666666666666665, &quot;y&quot;: 2.064102564102562, &quot;z&quot;: 1.4983777597272097}, {&quot;x&quot;: 1.1666666666666665, &quot;y&quot;: 2.0897435897435876, &quot;z&quot;: 1.5035328405335193}, {&quot;x&quot;: 1.1666666666666665, &quot;y&quot;: 2.115384615384613, &quot;z&quot;: 1.5092236312772485}, {&quot;x&quot;: 1.1666666666666665, &quot;y&quot;: 2.1410256410256387, &quot;z&quot;: 1.515450131958397}, {&quot;x&quot;: 1.1666666666666665, &quot;y&quot;: 2.1666666666666643, &quot;z&quot;: 1.5222123425769647}, {&quot;x&quot;: 1.1666666666666665, &quot;y&quot;: 2.19230769230769, &quot;z&quot;: 1.5295102631329516}, {&quot;x&quot;: 1.1666666666666665, &quot;y&quot;: 2.2179487179487154, &quot;z&quot;: 1.5373438936263581}, {&quot;x&quot;: 1.1666666666666665, &quot;y&quot;: 2.243589743589741, &quot;z&quot;: 1.545713234057184}, {&quot;x&quot;: 1.1666666666666665, &quot;y&quot;: 2.2692307692307665, &quot;z&quot;: 1.554618284425429}, {&quot;x&quot;: 1.1666666666666665, &quot;y&quot;: 2.294871794871792, &quot;z&quot;: 1.5640590447310936}, {&quot;x&quot;: 1.1666666666666665, &quot;y&quot;: 2.3205128205128176, &quot;z&quot;: 1.5740355149741772}, {&quot;x&quot;: 1.1666666666666665, &quot;y&quot;: 2.346153846153843, &quot;z&quot;: 1.5845476951546804}, {&quot;x&quot;: 1.1666666666666665, &quot;y&quot;: 2.3717948717948687, &quot;z&quot;: 1.5955955852726031}, {&quot;x&quot;: 1.1666666666666665, &quot;y&quot;: 2.3974358974358942, &quot;z&quot;: 1.6071791853279442}, {&quot;x&quot;: 1.1666666666666665, &quot;y&quot;: 2.42307692307692, &quot;z&quot;: 1.6192984953207055}, {&quot;x&quot;: 1.1666666666666665, &quot;y&quot;: 2.4487179487179453, &quot;z&quot;: 1.631953515250886}, {&quot;x&quot;: 1.1666666666666665, &quot;y&quot;: 2.474358974358971, &quot;z&quot;: 1.6451442451184861}, {&quot;x&quot;: 1.1666666666666665, &quot;y&quot;: 2.5, &quot;z&quot;: 1.658870684923507}, {&quot;x&quot;: 1.192307692307692, &quot;y&quot;: 1.5256410256410255, &quot;z&quot;: 1.5280561132254062}, {&quot;x&quot;: 1.192307692307692, &quot;y&quot;: 1.5, &quot;z&quot;: 1.5346866510423218}, {&quot;x&quot;: 1.192307692307692, &quot;y&quot;: 1.551282051282051, &quot;z&quot;: 1.52196128534591}, {&quot;x&quot;: 1.192307692307692, &quot;y&quot;: 1.5769230769230766, &quot;z&quot;: 1.516402167403833}, {&quot;x&quot;: 1.192307692307692, &quot;y&quot;: 1.6025641025641022, &quot;z&quot;: 1.5113787593991757}, {&quot;x&quot;: 1.192307692307692, &quot;y&quot;: 1.6282051282051277, &quot;z&quot;: 1.5068910613319368}, {&quot;x&quot;: 1.192307692307692, &quot;y&quot;: 1.6538461538461533, &quot;z&quot;: 1.5029390732021182}, {&quot;x&quot;: 1.192307692307692, &quot;y&quot;: 1.6794871794871788, &quot;z&quot;: 1.4995227950097185}, {&quot;x&quot;: 1.192307692307692, &quot;y&quot;: 1.7051282051282044, &quot;z&quot;: 1.4966422267547381}, {&quot;x&quot;: 1.192307692307692, &quot;y&quot;: 1.73076923076923, &quot;z&quot;: 1.4942973684371772}, {&quot;x&quot;: 1.192307692307692, &quot;y&quot;: 1.7564102564102555, &quot;z&quot;: 1.4924882200570355}, {&quot;x&quot;: 1.192307692307692, &quot;y&quot;: 1.782051282051281, &quot;z&quot;: 1.4912147816143133}, {&quot;x&quot;: 1.192307692307692, &quot;y&quot;: 1.8076923076923066, &quot;z&quot;: 1.4904770531090106}, {&quot;x&quot;: 1.192307692307692, &quot;y&quot;: 1.8333333333333321, &quot;z&quot;: 1.4902750345411269}, {&quot;x&quot;: 1.192307692307692, &quot;y&quot;: 1.8589743589743577, &quot;z&quot;: 1.4906087259106624}, {&quot;x&quot;: 1.192307692307692, &quot;y&quot;: 1.8846153846153832, &quot;z&quot;: 1.4914781272176176}, {&quot;x&quot;: 1.192307692307692, &quot;y&quot;: 1.9102564102564088, &quot;z&quot;: 1.492883238461992}, {&quot;x&quot;: 1.192307692307692, &quot;y&quot;: 1.9358974358974343, &quot;z&quot;: 1.4948240596437854}, {&quot;x&quot;: 1.192307692307692, &quot;y&quot;: 1.96153846153846, &quot;z&quot;: 1.497300590762999}, {&quot;x&quot;: 1.192307692307692, &quot;y&quot;: 1.9871794871794854, &quot;z&quot;: 1.5003128318196313}, {&quot;x&quot;: 1.192307692307692, &quot;y&quot;: 2.012820512820511, &quot;z&quot;: 1.503860782813683}, {&quot;x&quot;: 1.192307692307692, &quot;y&quot;: 2.0384615384615365, &quot;z&quot;: 1.5079444437451541}, {&quot;x&quot;: 1.192307692307692, &quot;y&quot;: 2.064102564102562, &quot;z&quot;: 1.5125638146140443}, {&quot;x&quot;: 1.192307692307692, &quot;y&quot;: 2.0897435897435876, &quot;z&quot;: 1.5177188954203542}, {&quot;x&quot;: 1.192307692307692, &quot;y&quot;: 2.115384615384613, &quot;z&quot;: 1.5234096861640833}, {&quot;x&quot;: 1.192307692307692, &quot;y&quot;: 2.1410256410256387, &quot;z&quot;: 1.529636186845232}, {&quot;x&quot;: 1.192307692307692, &quot;y&quot;: 2.1666666666666643, &quot;z&quot;: 1.5363983974637994}, {&quot;x&quot;: 1.192307692307692, &quot;y&quot;: 2.19230769230769, &quot;z&quot;: 1.5436963180197867}, {&quot;x&quot;: 1.192307692307692, &quot;y&quot;: 2.2179487179487154, &quot;z&quot;: 1.551529948513193}, {&quot;x&quot;: 1.192307692307692, &quot;y&quot;: 2.243589743589741, &quot;z&quot;: 1.5598992889440186}, {&quot;x&quot;: 1.192307692307692, &quot;y&quot;: 2.2692307692307665, &quot;z&quot;: 1.568804339312264}, {&quot;x&quot;: 1.192307692307692, &quot;y&quot;: 2.294871794871792, &quot;z&quot;: 1.5782450996179285}, {&quot;x&quot;: 1.192307692307692, &quot;y&quot;: 2.3205128205128176, &quot;z&quot;: 1.5882215698610116}, {&quot;x&quot;: 1.192307692307692, &quot;y&quot;: 2.346153846153843, &quot;z&quot;: 1.598733750041515}, {&quot;x&quot;: 1.192307692307692, &quot;y&quot;: 2.3717948717948687, &quot;z&quot;: 1.6097816401594376}, {&quot;x&quot;: 1.192307692307692, &quot;y&quot;: 2.3974358974358942, &quot;z&quot;: 1.6213652402147793}, {&quot;x&quot;: 1.192307692307692, &quot;y&quot;: 2.42307692307692, &quot;z&quot;: 1.6334845502075404}, {&quot;x&quot;: 1.192307692307692, &quot;y&quot;: 2.4487179487179453, &quot;z&quot;: 1.646139570137721}, {&quot;x&quot;: 1.192307692307692, &quot;y&quot;: 2.474358974358971, &quot;z&quot;: 1.6593303000053208}, {&quot;x&quot;: 1.192307692307692, &quot;y&quot;: 2.5, &quot;z&quot;: 1.6730567398103413}, {&quot;x&quot;: 1.2179487179487176, &quot;y&quot;: 1.5256410256410255, &quot;z&quot;: 1.5435570925040885}, {&quot;x&quot;: 1.2179487179487176, &quot;y&quot;: 1.5, &quot;z&quot;: 1.550187630321004}, {&quot;x&quot;: 1.2179487179487176, &quot;y&quot;: 1.551282051282051, &quot;z&quot;: 1.537462264624592}, {&quot;x&quot;: 1.2179487179487176, &quot;y&quot;: 1.5769230769230766, &quot;z&quot;: 1.5319031466825153}, {&quot;x&quot;: 1.2179487179487176, &quot;y&quot;: 1.6025641025641022, &quot;z&quot;: 1.5268797386778574}, {&quot;x&quot;: 1.2179487179487176, &quot;y&quot;: 1.6282051282051277, &quot;z&quot;: 1.5223920406106193}, {&quot;x&quot;: 1.2179487179487176, &quot;y&quot;: 1.6538461538461533, &quot;z&quot;: 1.5184400524808004}, {&quot;x&quot;: 1.2179487179487176, &quot;y&quot;: 1.6794871794871788, &quot;z&quot;: 1.5150237742884007}, {&quot;x&quot;: 1.2179487179487176, &quot;y&quot;: 1.7051282051282044, &quot;z&quot;: 1.5121432060334203}, {&quot;x&quot;: 1.2179487179487176, &quot;y&quot;: 1.73076923076923, &quot;z&quot;: 1.5097983477158596}, {&quot;x&quot;: 1.2179487179487176, &quot;y&quot;: 1.7564102564102555, &quot;z&quot;: 1.507989199335718}, {&quot;x&quot;: 1.2179487179487176, &quot;y&quot;: 1.782051282051281, &quot;z&quot;: 1.5067157608929955}, {&quot;x&quot;: 1.2179487179487176, &quot;y&quot;: 1.8076923076923066, &quot;z&quot;: 1.5059780323876926}, {&quot;x&quot;: 1.2179487179487176, &quot;y&quot;: 1.8333333333333321, &quot;z&quot;: 1.505776013819809}, {&quot;x&quot;: 1.2179487179487176, &quot;y&quot;: 1.8589743589743577, &quot;z&quot;: 1.5061097051893448}, {&quot;x&quot;: 1.2179487179487176, &quot;y&quot;: 1.8846153846153832, &quot;z&quot;: 1.5069791064962998}, {&quot;x&quot;: 1.2179487179487176, &quot;y&quot;: 1.9102564102564088, &quot;z&quot;: 1.5083842177406743}, {&quot;x&quot;: 1.2179487179487176, &quot;y&quot;: 1.9358974358974343, &quot;z&quot;: 1.510325038922468}, {&quot;x&quot;: 1.2179487179487176, &quot;y&quot;: 1.96153846153846, &quot;z&quot;: 1.5128015700416813}, {&quot;x&quot;: 1.2179487179487176, &quot;y&quot;: 1.9871794871794854, &quot;z&quot;: 1.5158138110983135}, {&quot;x&quot;: 1.2179487179487176, &quot;y&quot;: 2.012820512820511, &quot;z&quot;: 1.5193617620923652}, {&quot;x&quot;: 1.2179487179487176, &quot;y&quot;: 2.0384615384615365, &quot;z&quot;: 1.5234454230238363}, {&quot;x&quot;: 1.2179487179487176, &quot;y&quot;: 2.064102564102562, &quot;z&quot;: 1.5280647938927268}, {&quot;x&quot;: 1.2179487179487176, &quot;y&quot;: 2.0897435897435876, &quot;z&quot;: 1.5332198746990362}, {&quot;x&quot;: 1.2179487179487176, &quot;y&quot;: 2.115384615384613, &quot;z&quot;: 1.5389106654427656}, {&quot;x&quot;: 1.2179487179487176, &quot;y&quot;: 2.1410256410256387, &quot;z&quot;: 1.545137166123914}, {&quot;x&quot;: 1.2179487179487176, &quot;y&quot;: 2.1666666666666643, &quot;z&quot;: 1.5518993767424818}, {&quot;x&quot;: 1.2179487179487176, &quot;y&quot;: 2.19230769230769, &quot;z&quot;: 1.5591972972984691}, {&quot;x&quot;: 1.2179487179487176, &quot;y&quot;: 2.2179487179487154, &quot;z&quot;: 1.5670309277918752}, {&quot;x&quot;: 1.2179487179487176, &quot;y&quot;: 2.243589743589741, &quot;z&quot;: 1.5754002682227006}, {&quot;x&quot;: 1.2179487179487176, &quot;y&quot;: 2.2692307692307665, &quot;z&quot;: 1.5843053185909461}, {&quot;x&quot;: 1.2179487179487176, &quot;y&quot;: 2.294871794871792, &quot;z&quot;: 1.5937460788966107}, {&quot;x&quot;: 1.2179487179487176, &quot;y&quot;: 2.3205128205128176, &quot;z&quot;: 1.6037225491396943}, {&quot;x&quot;: 1.2179487179487176, &quot;y&quot;: 2.346153846153843, &quot;z&quot;: 1.6142347293201973}, {&quot;x&quot;: 1.2179487179487176, &quot;y&quot;: 2.3717948717948687, &quot;z&quot;: 1.62528261943812}, {&quot;x&quot;: 1.2179487179487176, &quot;y&quot;: 2.3974358974358942, &quot;z&quot;: 1.6368662194934616}, {&quot;x&quot;: 1.2179487179487176, &quot;y&quot;: 2.42307692307692, &quot;z&quot;: 1.6489855294862228}, {&quot;x&quot;: 1.2179487179487176, &quot;y&quot;: 2.4487179487179453, &quot;z&quot;: 1.6616405494164035}, {&quot;x&quot;: 1.2179487179487176, &quot;y&quot;: 2.474358974358971, &quot;z&quot;: 1.6748312792840028}, {&quot;x&quot;: 1.2179487179487176, &quot;y&quot;: 2.5, &quot;z&quot;: 1.6885577190890237}, {&quot;x&quot;: 1.2435897435897432, &quot;y&quot;: 1.5256410256410255, &quot;z&quot;: 1.5603729961746182}, {&quot;x&quot;: 1.2435897435897432, &quot;y&quot;: 1.5, &quot;z&quot;: 1.5670035339915338}, {&quot;x&quot;: 1.2435897435897432, &quot;y&quot;: 1.551282051282051, &quot;z&quot;: 1.5542781682951219}, {&quot;x&quot;: 1.2435897435897432, &quot;y&quot;: 1.5769230769230766, &quot;z&quot;: 1.548719050353045}, {&quot;x&quot;: 1.2435897435897432, &quot;y&quot;: 1.6025641025641022, &quot;z&quot;: 1.5436956423483872}, {&quot;x&quot;: 1.2435897435897432, &quot;y&quot;: 1.6282051282051277, &quot;z&quot;: 1.5392079442811488}, {&quot;x&quot;: 1.2435897435897432, &quot;y&quot;: 1.6538461538461533, &quot;z&quot;: 1.5352559561513301}, {&quot;x&quot;: 1.2435897435897432, &quot;y&quot;: 1.6794871794871788, &quot;z&quot;: 1.5318396779589303}, {&quot;x&quot;: 1.2435897435897432, &quot;y&quot;: 1.7051282051282044, &quot;z&quot;: 1.5289591097039499}, {&quot;x&quot;: 1.2435897435897432, &quot;y&quot;: 1.73076923076923, &quot;z&quot;: 1.5266142513863892}, {&quot;x&quot;: 1.2435897435897432, &quot;y&quot;: 1.7564102564102555, &quot;z&quot;: 1.5248051030062475}, {&quot;x&quot;: 1.2435897435897432, &quot;y&quot;: 1.782051282051281, &quot;z&quot;: 1.523531664563525}, {&quot;x&quot;: 1.2435897435897432, &quot;y&quot;: 1.8076923076923066, &quot;z&quot;: 1.5227939360582226}, {&quot;x&quot;: 1.2435897435897432, &quot;y&quot;: 1.8333333333333321, &quot;z&quot;: 1.5225919174903388}, {&quot;x&quot;: 1.2435897435897432, &quot;y&quot;: 1.8589743589743577, &quot;z&quot;: 1.5229256088598744}, {&quot;x&quot;: 1.2435897435897432, &quot;y&quot;: 1.8846153846153832, &quot;z&quot;: 1.5237950101668294}, {&quot;x&quot;: 1.2435897435897432, &quot;y&quot;: 1.9102564102564088, &quot;z&quot;: 1.525200121411204}, {&quot;x&quot;: 1.2435897435897432, &quot;y&quot;: 1.9358974358974343, &quot;z&quot;: 1.5271409425929978}, {&quot;x&quot;: 1.2435897435897432, &quot;y&quot;: 1.96153846153846, &quot;z&quot;: 1.529617473712211}, {&quot;x&quot;: 1.2435897435897432, &quot;y&quot;: 1.9871794871794854, &quot;z&quot;: 1.5326297147688432}, {&quot;x&quot;: 1.2435897435897432, &quot;y&quot;: 2.012820512820511, &quot;z&quot;: 1.5361776657628945}, {&quot;x&quot;: 1.2435897435897432, &quot;y&quot;: 2.0384615384615365, &quot;z&quot;: 1.540261326694366}, {&quot;x&quot;: 1.2435897435897432, &quot;y&quot;: 2.064102564102562, &quot;z&quot;: 1.5448806975632565}, {&quot;x&quot;: 1.2435897435897432, &quot;y&quot;: 2.0897435897435876, &quot;z&quot;: 1.550035778369566}, {&quot;x&quot;: 1.2435897435897432, &quot;y&quot;: 2.115384615384613, &quot;z&quot;: 1.5557265691132953}, {&quot;x&quot;: 1.2435897435897432, &quot;y&quot;: 2.1410256410256387, &quot;z&quot;: 1.5619530697944435}, {&quot;x&quot;: 1.2435897435897432, &quot;y&quot;: 2.1666666666666643, &quot;z&quot;: 1.5687152804130113}, {&quot;x&quot;: 1.2435897435897432, &quot;y&quot;: 2.19230769230769, &quot;z&quot;: 1.5760132009689987}, {&quot;x&quot;: 1.2435897435897432, &quot;y&quot;: 2.2179487179487154, &quot;z&quot;: 1.5838468314624052}, {&quot;x&quot;: 1.2435897435897432, &quot;y&quot;: 2.243589743589741, &quot;z&quot;: 1.5922161718932304}, {&quot;x&quot;: 1.2435897435897432, &quot;y&quot;: 2.2692307692307665, &quot;z&quot;: 1.601121222261476}, {&quot;x&quot;: 1.2435897435897432, &quot;y&quot;: 2.294871794871792, &quot;z&quot;: 1.6105619825671404}, {&quot;x&quot;: 1.2435897435897432, &quot;y&quot;: 2.3205128205128176, &quot;z&quot;: 1.620538452810224}, {&quot;x&quot;: 1.2435897435897432, &quot;y&quot;: 2.346153846153843, &quot;z&quot;: 1.6310506329907273}, {&quot;x&quot;: 1.2435897435897432, &quot;y&quot;: 2.3717948717948687, &quot;z&quot;: 1.6420985231086498}, {&quot;x&quot;: 1.2435897435897432, &quot;y&quot;: 2.3974358974358942, &quot;z&quot;: 1.6536821231639913}, {&quot;x&quot;: 1.2435897435897432, &quot;y&quot;: 2.42307692307692, &quot;z&quot;: 1.6658014331567526}, {&quot;x&quot;: 1.2435897435897432, &quot;y&quot;: 2.4487179487179453, &quot;z&quot;: 1.6784564530869328}, {&quot;x&quot;: 1.2435897435897432, &quot;y&quot;: 2.474358974358971, &quot;z&quot;: 1.6916471829545325}, {&quot;x&quot;: 1.2435897435897432, &quot;y&quot;: 2.5, &quot;z&quot;: 1.7053736227595535}, {&quot;x&quot;: 1.2692307692307687, &quot;y&quot;: 1.5256410256410255, &quot;z&quot;: 1.5785038242369953}, {&quot;x&quot;: 1.2692307692307687, &quot;y&quot;: 1.5, &quot;z&quot;: 1.5851343620539111}, {&quot;x&quot;: 1.2692307692307687, &quot;y&quot;: 1.551282051282051, &quot;z&quot;: 1.572408996357499}, {&quot;x&quot;: 1.2692307692307687, &quot;y&quot;: 1.5769230769230766, &quot;z&quot;: 1.5668498784154221}, {&quot;x&quot;: 1.2692307692307687, &quot;y&quot;: 1.6025641025641022, &quot;z&quot;: 1.5618264704107643}, {&quot;x&quot;: 1.2692307692307687, &quot;y&quot;: 1.6282051282051277, &quot;z&quot;: 1.557338772343526}, {&quot;x&quot;: 1.2692307692307687, &quot;y&quot;: 1.6538461538461533, &quot;z&quot;: 1.5533867842137072}, {&quot;x&quot;: 1.2692307692307687, &quot;y&quot;: 1.6794871794871788, &quot;z&quot;: 1.5499705060213074}, {&quot;x&quot;: 1.2692307692307687, &quot;y&quot;: 1.7051282051282044, &quot;z&quot;: 1.5470899377663272}, {&quot;x&quot;: 1.2692307692307687, &quot;y&quot;: 1.73076923076923, &quot;z&quot;: 1.5447450794487665}, {&quot;x&quot;: 1.2692307692307687, &quot;y&quot;: 1.7564102564102555, &quot;z&quot;: 1.5429359310686246}, {&quot;x&quot;: 1.2692307692307687, &quot;y&quot;: 1.782051282051281, &quot;z&quot;: 1.5416624926259022}, {&quot;x&quot;: 1.2692307692307687, &quot;y&quot;: 1.8076923076923066, &quot;z&quot;: 1.5409247641205996}, {&quot;x&quot;: 1.2692307692307687, &quot;y&quot;: 1.8333333333333321, &quot;z&quot;: 1.5407227455527157}, {&quot;x&quot;: 1.2692307692307687, &quot;y&quot;: 1.8589743589743577, &quot;z&quot;: 1.5410564369222515}, {&quot;x&quot;: 1.2692307692307687, &quot;y&quot;: 1.8846153846153832, &quot;z&quot;: 1.5419258382292067}, {&quot;x&quot;: 1.2692307692307687, &quot;y&quot;: 1.9102564102564088, &quot;z&quot;: 1.5433309494735812}, {&quot;x&quot;: 1.2692307692307687, &quot;y&quot;: 1.9358974358974343, &quot;z&quot;: 1.545271770655375}, {&quot;x&quot;: 1.2692307692307687, &quot;y&quot;: 1.96153846153846, &quot;z&quot;: 1.547748301774588}, {&quot;x&quot;: 1.2692307692307687, &quot;y&quot;: 1.9871794871794854, &quot;z&quot;: 1.5507605428312203}, {&quot;x&quot;: 1.2692307692307687, &quot;y&quot;: 2.012820512820511, &quot;z&quot;: 1.554308493825272}, {&quot;x&quot;: 1.2692307692307687, &quot;y&quot;: 2.0384615384615365, &quot;z&quot;: 1.5583921547567432}, {&quot;x&quot;: 1.2692307692307687, &quot;y&quot;: 2.064102564102562, &quot;z&quot;: 1.5630115256256336}, {&quot;x&quot;: 1.2692307692307687, &quot;y&quot;: 2.0897435897435876, &quot;z&quot;: 1.568166606431943}, {&quot;x&quot;: 1.2692307692307687, &quot;y&quot;: 2.115384615384613, &quot;z&quot;: 1.5738573971756724}, {&quot;x&quot;: 1.2692307692307687, &quot;y&quot;: 2.1410256410256387, &quot;z&quot;: 1.580083897856821}, {&quot;x&quot;: 1.2692307692307687, &quot;y&quot;: 2.1666666666666643, &quot;z&quot;: 1.5868461084753887}, {&quot;x&quot;: 1.2692307692307687, &quot;y&quot;: 2.19230769230769, &quot;z&quot;: 1.5941440290313758}, {&quot;x&quot;: 1.2692307692307687, &quot;y&quot;: 2.2179487179487154, &quot;z&quot;: 1.6019776595247823}, {&quot;x&quot;: 1.2692307692307687, &quot;y&quot;: 2.243589743589741, &quot;z&quot;: 1.610346999955608}, {&quot;x&quot;: 1.2692307692307687, &quot;y&quot;: 2.2692307692307665, &quot;z&quot;: 1.6192520503238534}, {&quot;x&quot;: 1.2692307692307687, &quot;y&quot;: 2.294871794871792, &quot;z&quot;: 1.6286928106295175}, {&quot;x&quot;: 1.2692307692307687, &quot;y&quot;: 2.3205128205128176, &quot;z&quot;: 1.638669280872601}, {&quot;x&quot;: 1.2692307692307687, &quot;y&quot;: 2.346153846153843, &quot;z&quot;: 1.6491814610531044}, {&quot;x&quot;: 1.2692307692307687, &quot;y&quot;: 2.3717948717948687, &quot;z&quot;: 1.6602293511710269}, {&quot;x&quot;: 1.2692307692307687, &quot;y&quot;: 2.3974358974358942, &quot;z&quot;: 1.6718129512263684}, {&quot;x&quot;: 1.2692307692307687, &quot;y&quot;: 2.42307692307692, &quot;z&quot;: 1.6839322612191296}, {&quot;x&quot;: 1.2692307692307687, &quot;y&quot;: 2.4487179487179453, &quot;z&quot;: 1.6965872811493103}, {&quot;x&quot;: 1.2692307692307687, &quot;y&quot;: 2.474358974358971, &quot;z&quot;: 1.7097780110169096}, {&quot;x&quot;: 1.2692307692307687, &quot;y&quot;: 2.5, &quot;z&quot;: 1.7235044508219306}, {&quot;x&quot;: 1.2948717948717943, &quot;y&quot;: 1.5256410256410255, &quot;z&quot;: 1.59794957669122}, {&quot;x&quot;: 1.2948717948717943, &quot;y&quot;: 1.5, &quot;z&quot;: 1.6045801145081355}, {&quot;x&quot;: 1.2948717948717943, &quot;y&quot;: 1.551282051282051, &quot;z&quot;: 1.5918547488117234}, {&quot;x&quot;: 1.2948717948717943, &quot;y&quot;: 1.5769230769230766, &quot;z&quot;: 1.5862956308696468}, {&quot;x&quot;: 1.2948717948717943, &quot;y&quot;: 1.6025641025641022, &quot;z&quot;: 1.5812722228649891}, {&quot;x&quot;: 1.2948717948717943, &quot;y&quot;: 1.6282051282051277, &quot;z&quot;: 1.5767845247977508}, {&quot;x&quot;: 1.2948717948717943, &quot;y&quot;: 1.6538461538461533, &quot;z&quot;: 1.5728325366679319}, {&quot;x&quot;: 1.2948717948717943, &quot;y&quot;: 1.6794871794871788, &quot;z&quot;: 1.5694162584755322}, {&quot;x&quot;: 1.2948717948717943, &quot;y&quot;: 1.7051282051282044, &quot;z&quot;: 1.566535690220552}, {&quot;x&quot;: 1.2948717948717943, &quot;y&quot;: 1.73076923076923, &quot;z&quot;: 1.564190831902991}, {&quot;x&quot;: 1.2948717948717943, &quot;y&quot;: 1.7564102564102555, &quot;z&quot;: 1.5623816835228495}, {&quot;x&quot;: 1.2948717948717943, &quot;y&quot;: 1.782051282051281, &quot;z&quot;: 1.561108245080127}, {&quot;x&quot;: 1.2948717948717943, &quot;y&quot;: 1.8076923076923066, &quot;z&quot;: 1.560370516574824}, {&quot;x&quot;: 1.2948717948717943, &quot;y&quot;: 1.8333333333333321, &quot;z&quot;: 1.5601684980069406}, {&quot;x&quot;: 1.2948717948717943, &quot;y&quot;: 1.8589743589743577, &quot;z&quot;: 1.5605021893764761}, {&quot;x&quot;: 1.2948717948717943, &quot;y&quot;: 1.8846153846153832, &quot;z&quot;: 1.5613715906834313}, {&quot;x&quot;: 1.2948717948717943, &quot;y&quot;: 1.9102564102564088, &quot;z&quot;: 1.5627767019278056}, {&quot;x&quot;: 1.2948717948717943, &quot;y&quot;: 1.9358974358974343, &quot;z&quot;: 1.5647175231095993}, {&quot;x&quot;: 1.2948717948717943, &quot;y&quot;: 1.96153846153846, &quot;z&quot;: 1.5671940542288127}, {&quot;x&quot;: 1.2948717948717943, &quot;y&quot;: 1.9871794871794854, &quot;z&quot;: 1.5702062952854452}, {&quot;x&quot;: 1.2948717948717943, &quot;y&quot;: 2.012820512820511, &quot;z&quot;: 1.5737542462794964}, {&quot;x&quot;: 1.2948717948717943, &quot;y&quot;: 2.0384615384615365, &quot;z&quot;: 1.5778379072109678}, {&quot;x&quot;: 1.2948717948717943, &quot;y&quot;: 2.064102564102562, &quot;z&quot;: 1.5824572780798583}, {&quot;x&quot;: 1.2948717948717943, &quot;y&quot;: 2.0897435897435876, &quot;z&quot;: 1.5876123588861677}, {&quot;x&quot;: 1.2948717948717943, &quot;y&quot;: 2.115384615384613, &quot;z&quot;: 1.593303149629897}, {&quot;x&quot;: 1.2948717948717943, &quot;y&quot;: 2.1410256410256387, &quot;z&quot;: 1.5995296503110454}, {&quot;x&quot;: 1.2948717948717943, &quot;y&quot;: 2.1666666666666643, &quot;z&quot;: 1.606291860929613}, {&quot;x&quot;: 1.2948717948717943, &quot;y&quot;: 2.19230769230769, &quot;z&quot;: 1.6135897814856002}, {&quot;x&quot;: 1.2948717948717943, &quot;y&quot;: 2.2179487179487154, &quot;z&quot;: 1.6214234119790067}, {&quot;x&quot;: 1.2948717948717943, &quot;y&quot;: 2.243589743589741, &quot;z&quot;: 1.6297927524098323}, {&quot;x&quot;: 1.2948717948717943, &quot;y&quot;: 2.2692307692307665, &quot;z&quot;: 1.6386978027780779}, {&quot;x&quot;: 1.2948717948717943, &quot;y&quot;: 2.294871794871792, &quot;z&quot;: 1.648138563083742}, {&quot;x&quot;: 1.2948717948717943, &quot;y&quot;: 2.3205128205128176, &quot;z&quot;: 1.6581150333268255}, {&quot;x&quot;: 1.2948717948717943, &quot;y&quot;: 2.346153846153843, &quot;z&quot;: 1.6686272135073292}, {&quot;x&quot;: 1.2948717948717943, &quot;y&quot;: 2.3717948717948687, &quot;z&quot;: 1.6796751036252515}, {&quot;x&quot;: 1.2948717948717943, &quot;y&quot;: 2.3974358974358942, &quot;z&quot;: 1.6912587036805935}, {&quot;x&quot;: 1.2948717948717943, &quot;y&quot;: 2.42307692307692, &quot;z&quot;: 1.7033780136733543}, {&quot;x&quot;: 1.2948717948717943, &quot;y&quot;: 2.4487179487179453, &quot;z&quot;: 1.7160330336035348}, {&quot;x&quot;: 1.2948717948717943, &quot;y&quot;: 2.474358974358971, &quot;z&quot;: 1.729223763471134}, {&quot;x&quot;: 1.2948717948717943, &quot;y&quot;: 2.5, &quot;z&quot;: 1.7429502032761548}, {&quot;x&quot;: 1.3205128205128198, &quot;y&quot;: 1.5256410256410255, &quot;z&quot;: 1.6187102535372921}, {&quot;x&quot;: 1.3205128205128198, &quot;y&quot;: 1.5, &quot;z&quot;: 1.6253407913542077}, {&quot;x&quot;: 1.3205128205128198, &quot;y&quot;: 1.551282051282051, &quot;z&quot;: 1.6126154256577956}, {&quot;x&quot;: 1.3205128205128198, &quot;y&quot;: 1.5769230769230766, &quot;z&quot;: 1.607056307715719}, {&quot;x&quot;: 1.3205128205128198, &quot;y&quot;: 1.6025641025641022, &quot;z&quot;: 1.602032899711061}, {&quot;x&quot;: 1.3205128205128198, &quot;y&quot;: 1.6282051282051277, &quot;z&quot;: 1.5975452016438225}, {&quot;x&quot;: 1.3205128205128198, &quot;y&quot;: 1.6538461538461533, &quot;z&quot;: 1.593593213514004}, {&quot;x&quot;: 1.3205128205128198, &quot;y&quot;: 1.6794871794871788, &quot;z&quot;: 1.5901769353216044}, {&quot;x&quot;: 1.3205128205128198, &quot;y&quot;: 1.7051282051282044, &quot;z&quot;: 1.587296367066624}, {&quot;x&quot;: 1.3205128205128198, &quot;y&quot;: 1.73076923076923, &quot;z&quot;: 1.584951508749063}, {&quot;x&quot;: 1.3205128205128198, &quot;y&quot;: 1.7564102564102555, &quot;z&quot;: 1.5831423603689214}, {&quot;x&quot;: 1.3205128205128198, &quot;y&quot;: 1.782051282051281, &quot;z&quot;: 1.581868921926199}, {&quot;x&quot;: 1.3205128205128198, &quot;y&quot;: 1.8076923076923066, &quot;z&quot;: 1.5811311934208963}, {&quot;x&quot;: 1.3205128205128198, &quot;y&quot;: 1.8333333333333321, &quot;z&quot;: 1.5809291748530125}, {&quot;x&quot;: 1.3205128205128198, &quot;y&quot;: 1.8589743589743577, &quot;z&quot;: 1.5812628662225483}, {&quot;x&quot;: 1.3205128205128198, &quot;y&quot;: 1.8846153846153832, &quot;z&quot;: 1.5821322675295033}, {&quot;x&quot;: 1.3205128205128198, &quot;y&quot;: 1.9102564102564088, &quot;z&quot;: 1.5835373787738782}, {&quot;x&quot;: 1.3205128205128198, &quot;y&quot;: 1.9358974358974343, &quot;z&quot;: 1.5854781999556713}, {&quot;x&quot;: 1.3205128205128198, &quot;y&quot;: 1.96153846153846, &quot;z&quot;: 1.5879547310748847}, {&quot;x&quot;: 1.3205128205128198, &quot;y&quot;: 1.9871794871794854, &quot;z&quot;: 1.590966972131517}, {&quot;x&quot;: 1.3205128205128198, &quot;y&quot;: 2.012820512820511, &quot;z&quot;: 1.5945149231255686}, {&quot;x&quot;: 1.3205128205128198, &quot;y&quot;: 2.0384615384615365, &quot;z&quot;: 1.59859858405704}, {&quot;x&quot;: 1.3205128205128198, &quot;y&quot;: 2.064102564102562, &quot;z&quot;: 1.60321795492593}, {&quot;x&quot;: 1.3205128205128198, &quot;y&quot;: 2.0897435897435876, &quot;z&quot;: 1.6083730357322399}, {&quot;x&quot;: 1.3205128205128198, &quot;y&quot;: 2.115384615384613, &quot;z&quot;: 1.614063826475969}, {&quot;x&quot;: 1.3205128205128198, &quot;y&quot;: 2.1410256410256387, &quot;z&quot;: 1.6202903271571174}, {&quot;x&quot;: 1.3205128205128198, &quot;y&quot;: 2.1666666666666643, &quot;z&quot;: 1.627052537775685}, {&quot;x&quot;: 1.3205128205128198, &quot;y&quot;: 2.19230769230769, &quot;z&quot;: 1.6343504583316721}, {&quot;x&quot;: 1.3205128205128198, &quot;y&quot;: 2.2179487179487154, &quot;z&quot;: 1.6421840888250787}, {&quot;x&quot;: 1.3205128205128198, &quot;y&quot;: 2.243589743589741, &quot;z&quot;: 1.6505534292559045}, {&quot;x&quot;: 1.3205128205128198, &quot;y&quot;: 2.2692307692307665, &quot;z&quot;: 1.6594584796241496}, {&quot;x&quot;: 1.3205128205128198, &quot;y&quot;: 2.294871794871792, &quot;z&quot;: 1.6688992399298144}, {&quot;x&quot;: 1.3205128205128198, &quot;y&quot;: 2.3205128205128176, &quot;z&quot;: 1.678875710172898}, {&quot;x&quot;: 1.3205128205128198, &quot;y&quot;: 2.346153846153843, &quot;z&quot;: 1.689387890353401}, {&quot;x&quot;: 1.3205128205128198, &quot;y&quot;: 2.3717948717948687, &quot;z&quot;: 1.7004357804713237}, {&quot;x&quot;: 1.3205128205128198, &quot;y&quot;: 2.3974358974358942, &quot;z&quot;: 1.7120193805266652}, {&quot;x&quot;: 1.3205128205128198, &quot;y&quot;: 2.42307692307692, &quot;z&quot;: 1.7241386905194265}, {&quot;x&quot;: 1.3205128205128198, &quot;y&quot;: 2.4487179487179453, &quot;z&quot;: 1.736793710449606}, {&quot;x&quot;: 1.3205128205128198, &quot;y&quot;: 2.474358974358971, &quot;z&quot;: 1.7499844403172062}, {&quot;x&quot;: 1.3205128205128198, &quot;y&quot;: 2.5, &quot;z&quot;: 1.7637108801222272}, {&quot;x&quot;: 1.3461538461538454, &quot;y&quot;: 1.5256410256410255, &quot;z&quot;: 1.6407858547752117}, {&quot;x&quot;: 1.3461538461538454, &quot;y&quot;: 1.5, &quot;z&quot;: 1.6474163925921275}, {&quot;x&quot;: 1.3461538461538454, &quot;y&quot;: 1.551282051282051, &quot;z&quot;: 1.6346910268957149}, {&quot;x&quot;: 1.3461538461538454, &quot;y&quot;: 1.5769230769230766, &quot;z&quot;: 1.6291319089536382}, {&quot;x&quot;: 1.3461538461538454, &quot;y&quot;: 1.6025641025641022, &quot;z&quot;: 1.6241085009489804}, {&quot;x&quot;: 1.3461538461538454, &quot;y&quot;: 1.6282051282051277, &quot;z&quot;: 1.6196208028817423}, {&quot;x&quot;: 1.3461538461538454, &quot;y&quot;: 1.6538461538461533, &quot;z&quot;: 1.6156688147519234}, {&quot;x&quot;: 1.3461538461538454, &quot;y&quot;: 1.6794871794871788, &quot;z&quot;: 1.6122525365595237}, {&quot;x&quot;: 1.3461538461538454, &quot;y&quot;: 1.7051282051282044, &quot;z&quot;: 1.6093719683045435}, {&quot;x&quot;: 1.3461538461538454, &quot;y&quot;: 1.73076923076923, &quot;z&quot;: 1.6070271099869824}, {&quot;x&quot;: 1.3461538461538454, &quot;y&quot;: 1.7564102564102555, &quot;z&quot;: 1.6052179616068412}, {&quot;x&quot;: 1.3461538461538454, &quot;y&quot;: 1.782051282051281, &quot;z&quot;: 1.603944523164119}, {&quot;x&quot;: 1.3461538461538454, &quot;y&quot;: 1.8076923076923066, &quot;z&quot;: 1.6032067946588158}, {&quot;x&quot;: 1.3461538461538454, &quot;y&quot;: 1.8333333333333321, &quot;z&quot;: 1.6030047760909318}, {&quot;x&quot;: 1.3461538461538454, &quot;y&quot;: 1.8589743589743577, &quot;z&quot;: 1.603338467460468}, {&quot;x&quot;: 1.3461538461538454, &quot;y&quot;: 1.8846153846153832, &quot;z&quot;: 1.6042078687674226}, {&quot;x&quot;: 1.3461538461538454, &quot;y&quot;: 1.9102564102564088, &quot;z&quot;: 1.6056129800117975}, {&quot;x&quot;: 1.3461538461538454, &quot;y&quot;: 1.9358974358974343, &quot;z&quot;: 1.6075538011935908}, {&quot;x&quot;: 1.3461538461538454, &quot;y&quot;: 1.96153846153846, &quot;z&quot;: 1.6100303323128042}, {&quot;x&quot;: 1.3461538461538454, &quot;y&quot;: 1.9871794871794854, &quot;z&quot;: 1.6130425733694367}, {&quot;x&quot;: 1.3461538461538454, &quot;y&quot;: 2.012820512820511, &quot;z&quot;: 1.6165905243634882}, {&quot;x&quot;: 1.3461538461538454, &quot;y&quot;: 2.0384615384615365, &quot;z&quot;: 1.6206741852949595}, {&quot;x&quot;: 1.3461538461538454, &quot;y&quot;: 2.064102564102562, &quot;z&quot;: 1.6252935561638497}, {&quot;x&quot;: 1.3461538461538454, &quot;y&quot;: 2.0897435897435876, &quot;z&quot;: 1.6304486369701592}, {&quot;x&quot;: 1.3461538461538454, &quot;y&quot;: 2.115384615384613, &quot;z&quot;: 1.6361394277138885}, {&quot;x&quot;: 1.3461538461538454, &quot;y&quot;: 2.1410256410256387, &quot;z&quot;: 1.6423659283950371}, {&quot;x&quot;: 1.3461538461538454, &quot;y&quot;: 2.1666666666666643, &quot;z&quot;: 1.6491281390136046}, {&quot;x&quot;: 1.3461538461538454, &quot;y&quot;: 2.19230769230769, &quot;z&quot;: 1.656426059569592}, {&quot;x&quot;: 1.3461538461538454, &quot;y&quot;: 2.2179487179487154, &quot;z&quot;: 1.6642596900629982}, {&quot;x&quot;: 1.3461538461538454, &quot;y&quot;: 2.243589743589741, &quot;z&quot;: 1.6726290304938238}, {&quot;x&quot;: 1.3461538461538454, &quot;y&quot;: 2.2692307692307665, &quot;z&quot;: 1.681534080862069}, {&quot;x&quot;: 1.3461538461538454, &quot;y&quot;: 2.294871794871792, &quot;z&quot;: 1.6909748411677339}, {&quot;x&quot;: 1.3461538461538454, &quot;y&quot;: 2.3205128205128176, &quot;z&quot;: 1.7009513114108177}, {&quot;x&quot;: 1.3461538461538454, &quot;y&quot;: 2.346153846153843, &quot;z&quot;: 1.7114634915913203}, {&quot;x&quot;: 1.3461538461538454, &quot;y&quot;: 2.3717948717948687, &quot;z&quot;: 1.7225113817092428}, {&quot;x&quot;: 1.3461538461538454, &quot;y&quot;: 2.3974358974358942, &quot;z&quot;: 1.7340949817645845}, {&quot;x&quot;: 1.3461538461538454, &quot;y&quot;: 2.42307692307692, &quot;z&quot;: 1.746214291757346}, {&quot;x&quot;: 1.3461538461538454, &quot;y&quot;: 2.4487179487179453, &quot;z&quot;: 1.7588693116875267}, {&quot;x&quot;: 1.3461538461538454, &quot;y&quot;: 2.474358974358971, &quot;z&quot;: 1.772060041555126}, {&quot;x&quot;: 1.3461538461538454, &quot;y&quot;: 2.5, &quot;z&quot;: 1.785786481360147}, {&quot;x&quot;: 1.371794871794871, &quot;y&quot;: 1.5256410256410255, &quot;z&quot;: 1.6641763804049787}, {&quot;x&quot;: 1.371794871794871, &quot;y&quot;: 1.5, &quot;z&quot;: 1.6708069182218945}, {&quot;x&quot;: 1.371794871794871, &quot;y&quot;: 1.551282051282051, &quot;z&quot;: 1.658081552525482}, {&quot;x&quot;: 1.371794871794871, &quot;y&quot;: 1.5769230769230766, &quot;z&quot;: 1.6525224345834055}, {&quot;x&quot;: 1.371794871794871, &quot;y&quot;: 1.6025641025641022, &quot;z&quot;: 1.6474990265787475}, {&quot;x&quot;: 1.371794871794871, &quot;y&quot;: 1.6282051282051277, &quot;z&quot;: 1.643011328511509}, {&quot;x&quot;: 1.371794871794871, &quot;y&quot;: 1.6538461538461533, &quot;z&quot;: 1.6390593403816904}, {&quot;x&quot;: 1.371794871794871, &quot;y&quot;: 1.6794871794871788, &quot;z&quot;: 1.6356430621892912}, {&quot;x&quot;: 1.371794871794871, &quot;y&quot;: 1.7051282051282044, &quot;z&quot;: 1.6327624939343106}, {&quot;x&quot;: 1.371794871794871, &quot;y&quot;: 1.73076923076923, &quot;z&quot;: 1.63041763561675}, {&quot;x&quot;: 1.371794871794871, &quot;y&quot;: 1.7564102564102555, &quot;z&quot;: 1.6286084872366078}, {&quot;x&quot;: 1.371794871794871, &quot;y&quot;: 1.782051282051281, &quot;z&quot;: 1.6273350487938854}, {&quot;x&quot;: 1.371794871794871, &quot;y&quot;: 1.8076923076923066, &quot;z&quot;: 1.6265973202885828}, {&quot;x&quot;: 1.371794871794871, &quot;y&quot;: 1.8333333333333321, &quot;z&quot;: 1.6263953017206993}, {&quot;x&quot;: 1.371794871794871, &quot;y&quot;: 1.8589743589743577, &quot;z&quot;: 1.6267289930902347}, {&quot;x&quot;: 1.371794871794871, &quot;y&quot;: 1.8846153846153832, &quot;z&quot;: 1.6275983943971901}, {&quot;x&quot;: 1.371794871794871, &quot;y&quot;: 1.9102564102564088, &quot;z&quot;: 1.6290035056415644}, {&quot;x&quot;: 1.371794871794871, &quot;y&quot;: 1.9358974358974343, &quot;z&quot;: 1.6309443268233579}, {&quot;x&quot;: 1.371794871794871, &quot;y&quot;: 1.96153846153846, &quot;z&quot;: 1.6334208579425713}, {&quot;x&quot;: 1.371794871794871, &quot;y&quot;: 1.9871794871794854, &quot;z&quot;: 1.6364330989992038}, {&quot;x&quot;: 1.371794871794871, &quot;y&quot;: 2.012820512820511, &quot;z&quot;: 1.6399810499932552}, {&quot;x&quot;: 1.371794871794871, &quot;y&quot;: 2.0384615384615365, &quot;z&quot;: 1.6440647109247262}, {&quot;x&quot;: 1.371794871794871, &quot;y&quot;: 2.064102564102562, &quot;z&quot;: 1.648684081793617}, {&quot;x&quot;: 1.371794871794871, &quot;y&quot;: 2.0897435897435876, &quot;z&quot;: 1.6538391625999265}, {&quot;x&quot;: 1.371794871794871, &quot;y&quot;: 2.115384615384613, &quot;z&quot;: 1.6595299533436552}, {&quot;x&quot;: 1.371794871794871, &quot;y&quot;: 2.1410256410256387, &quot;z&quot;: 1.665756454024804}, {&quot;x&quot;: 1.371794871794871, &quot;y&quot;: 2.1666666666666643, &quot;z&quot;: 1.6725186646433712}, {&quot;x&quot;: 1.371794871794871, &quot;y&quot;: 2.19230769230769, &quot;z&quot;: 1.6798165851993587}, {&quot;x&quot;: 1.371794871794871, &quot;y&quot;: 2.2179487179487154, &quot;z&quot;: 1.687650215692765}, {&quot;x&quot;: 1.371794871794871, &quot;y&quot;: 2.243589743589741, &quot;z&quot;: 1.6960195561235907}, {&quot;x&quot;: 1.371794871794871, &quot;y&quot;: 2.2692307692307665, &quot;z&quot;: 1.704924606491836}, {&quot;x&quot;: 1.371794871794871, &quot;y&quot;: 2.294871794871792, &quot;z&quot;: 1.714365366797501}, {&quot;x&quot;: 1.371794871794871, &quot;y&quot;: 2.3205128205128176, &quot;z&quot;: 1.7243418370405845}, {&quot;x&quot;: 1.371794871794871, &quot;y&quot;: 2.346153846153843, &quot;z&quot;: 1.7348540172210876}, {&quot;x&quot;: 1.371794871794871, &quot;y&quot;: 2.3717948717948687, &quot;z&quot;: 1.7459019073390099}, {&quot;x&quot;: 1.371794871794871, &quot;y&quot;: 2.3974358974358942, &quot;z&quot;: 1.7574855073943518}, {&quot;x&quot;: 1.371794871794871, &quot;y&quot;: 2.42307692307692, &quot;z&quot;: 1.7696048173871124}, {&quot;x&quot;: 1.371794871794871, &quot;y&quot;: 2.4487179487179453, &quot;z&quot;: 1.7822598373172933}, {&quot;x&quot;: 1.371794871794871, &quot;y&quot;: 2.474358974358971, &quot;z&quot;: 1.7954505671848928}, {&quot;x&quot;: 1.371794871794871, &quot;y&quot;: 2.5, &quot;z&quot;: 1.8091770069899138}, {&quot;x&quot;: 1.3974358974358965, &quot;y&quot;: 1.5256410256410255, &quot;z&quot;: 1.688881830426593}, {&quot;x&quot;: 1.3974358974358965, &quot;y&quot;: 1.5, &quot;z&quot;: 1.6955123682435087}, {&quot;x&quot;: 1.3974358974358965, &quot;y&quot;: 1.551282051282051, &quot;z&quot;: 1.6827870025470966}, {&quot;x&quot;: 1.3974358974358965, &quot;y&quot;: 1.5769230769230766, &quot;z&quot;: 1.67722788460502}, {&quot;x&quot;: 1.3974358974358965, &quot;y&quot;: 1.6025641025641022, &quot;z&quot;: 1.672204476600362}, {&quot;x&quot;: 1.3974358974358965, &quot;y&quot;: 1.6282051282051277, &quot;z&quot;: 1.6677167785331235}, {&quot;x&quot;: 1.3974358974358965, &quot;y&quot;: 1.6538461538461533, &quot;z&quot;: 1.6637647904033053}, {&quot;x&quot;: 1.3974358974358965, &quot;y&quot;: 1.6794871794871788, &quot;z&quot;: 1.6603485122109056}, {&quot;x&quot;: 1.3974358974358965, &quot;y&quot;: 1.7051282051282044, &quot;z&quot;: 1.6574679439559248}, {&quot;x&quot;: 1.3974358974358965, &quot;y&quot;: 1.73076923076923, &quot;z&quot;: 1.655123085638364}, {&quot;x&quot;: 1.3974358974358965, &quot;y&quot;: 1.7564102564102555, &quot;z&quot;: 1.6533139372582226}, {&quot;x&quot;: 1.3974358974358965, &quot;y&quot;: 1.782051282051281, &quot;z&quot;: 1.6520404988155}, {&quot;x&quot;: 1.3974358974358965, &quot;y&quot;: 1.8076923076923066, &quot;z&quot;: 1.6513027703101972}, {&quot;x&quot;: 1.3974358974358965, &quot;y&quot;: 1.8333333333333321, &quot;z&quot;: 1.6511007517423137}, {&quot;x&quot;: 1.3974358974358965, &quot;y&quot;: 1.8589743589743577, &quot;z&quot;: 1.6514344431118495}, {&quot;x&quot;: 1.3974358974358965, &quot;y&quot;: 1.8846153846153832, &quot;z&quot;: 1.6523038444188043}, {&quot;x&quot;: 1.3974358974358965, &quot;y&quot;: 1.9102564102564088, &quot;z&quot;: 1.6537089556631792}, {&quot;x&quot;: 1.3974358974358965, &quot;y&quot;: 1.9358974358974343, &quot;z&quot;: 1.655649776844972}, {&quot;x&quot;: 1.3974358974358965, &quot;y&quot;: 1.96153846153846, &quot;z&quot;: 1.6581263079641857}, {&quot;x&quot;: 1.3974358974358965, &quot;y&quot;: 1.9871794871794854, &quot;z&quot;: 1.6611385490208181}, {&quot;x&quot;: 1.3974358974358965, &quot;y&quot;: 2.012820512820511, &quot;z&quot;: 1.6646865000148696}, {&quot;x&quot;: 1.3974358974358965, &quot;y&quot;: 2.0384615384615365, &quot;z&quot;: 1.6687701609463406}, {&quot;x&quot;: 1.3974358974358965, &quot;y&quot;: 2.064102564102562, &quot;z&quot;: 1.673389531815231}, {&quot;x&quot;: 1.3974358974358965, &quot;y&quot;: 2.0897435897435876, &quot;z&quot;: 1.678544612621541}, {&quot;x&quot;: 1.3974358974358965, &quot;y&quot;: 2.115384615384613, &quot;z&quot;: 1.68423540336527}, {&quot;x&quot;: 1.3974358974358965, &quot;y&quot;: 2.1410256410256387, &quot;z&quot;: 1.690461904046418}, {&quot;x&quot;: 1.3974358974358965, &quot;y&quot;: 2.1666666666666643, &quot;z&quot;: 1.6972241146649865}, {&quot;x&quot;: 1.3974358974358965, &quot;y&quot;: 2.19230769230769, &quot;z&quot;: 1.7045220352209736}, {&quot;x&quot;: 1.3974358974358965, &quot;y&quot;: 2.2179487179487154, &quot;z&quot;: 1.7123556657143801}, {&quot;x&quot;: 1.3974358974358965, &quot;y&quot;: 2.243589743589741, &quot;z&quot;: 1.720725006145205}, {&quot;x&quot;: 1.3974358974358965, &quot;y&quot;: 2.2692307692307665, &quot;z&quot;: 1.7296300565134508}, {&quot;x&quot;: 1.3974358974358965, &quot;y&quot;: 2.294871794871792, &quot;z&quot;: 1.739070816819115}, {&quot;x&quot;: 1.3974358974358965, &quot;y&quot;: 2.3205128205128176, &quot;z&quot;: 1.7490472870621985}, {&quot;x&quot;: 1.3974358974358965, &quot;y&quot;: 2.346153846153843, &quot;z&quot;: 1.759559467242702}, {&quot;x&quot;: 1.3974358974358965, &quot;y&quot;: 2.3717948717948687, &quot;z&quot;: 1.7706073573606242}, {&quot;x&quot;: 1.3974358974358965, &quot;y&quot;: 2.3974358974358942, &quot;z&quot;: 1.7821909574159658}, {&quot;x&quot;: 1.3974358974358965, &quot;y&quot;: 2.42307692307692, &quot;z&quot;: 1.7943102674087275}, {&quot;x&quot;: 1.3974358974358965, &quot;y&quot;: 2.4487179487179453, &quot;z&quot;: 1.8069652873389075}, {&quot;x&quot;: 1.3974358974358965, &quot;y&quot;: 2.474358974358971, &quot;z&quot;: 1.8201560172065077}, {&quot;x&quot;: 1.3974358974358965, &quot;y&quot;: 2.5, &quot;z&quot;: 1.8338824570115286}, {&quot;x&quot;: 1.423076923076922, &quot;y&quot;: 1.5256410256410255, &quot;z&quot;: 1.714902204840055}, {&quot;x&quot;: 1.423076923076922, &quot;y&quot;: 1.5, &quot;z&quot;: 1.7215327426569709}, {&quot;x&quot;: 1.423076923076922, &quot;y&quot;: 1.551282051282051, &quot;z&quot;: 1.7088073769605585}, {&quot;x&quot;: 1.423076923076922, &quot;y&quot;: 1.5769230769230766, &quot;z&quot;: 1.7032482590184816}, {&quot;x&quot;: 1.423076923076922, &quot;y&quot;: 1.6025641025641022, &quot;z&quot;: 1.698224851013824}, {&quot;x&quot;: 1.423076923076922, &quot;y&quot;: 1.6282051282051277, &quot;z&quot;: 1.6937371529465857}, {&quot;x&quot;: 1.423076923076922, &quot;y&quot;: 1.6538461538461533, &quot;z&quot;: 1.689785164816767}, {&quot;x&quot;: 1.423076923076922, &quot;y&quot;: 1.6794871794871788, &quot;z&quot;: 1.6863688866243673}, {&quot;x&quot;: 1.423076923076922, &quot;y&quot;: 1.7051282051282044, &quot;z&quot;: 1.683488318369387}, {&quot;x&quot;: 1.423076923076922, &quot;y&quot;: 1.73076923076923, &quot;z&quot;: 1.681143460051826}, {&quot;x&quot;: 1.423076923076922, &quot;y&quot;: 1.7564102564102555, &quot;z&quot;: 1.6793343116716843}, {&quot;x&quot;: 1.423076923076922, &quot;y&quot;: 1.782051282051281, &quot;z&quot;: 1.6780608732289621}, {&quot;x&quot;: 1.423076923076922, &quot;y&quot;: 1.8076923076923066, &quot;z&quot;: 1.677323144723659}, {&quot;x&quot;: 1.423076923076922, &quot;y&quot;: 1.8333333333333321, &quot;z&quot;: 1.6771211261557752}, {&quot;x&quot;: 1.423076923076922, &quot;y&quot;: 1.8589743589743577, &quot;z&quot;: 1.677454817525311}, {&quot;x&quot;: 1.423076923076922, &quot;y&quot;: 1.8846153846153832, &quot;z&quot;: 1.678324218832266}, {&quot;x&quot;: 1.423076923076922, &quot;y&quot;: 1.9102564102564088, &quot;z&quot;: 1.6797293300766405}, {&quot;x&quot;: 1.423076923076922, &quot;y&quot;: 1.9358974358974343, &quot;z&quot;: 1.6816701512584344}, {&quot;x&quot;: 1.423076923076922, &quot;y&quot;: 1.96153846153846, &quot;z&quot;: 1.6841466823776472}, {&quot;x&quot;: 1.423076923076922, &quot;y&quot;: 1.9871794871794854, &quot;z&quot;: 1.6871589234342799}, {&quot;x&quot;: 1.423076923076922, &quot;y&quot;: 2.012820512820511, &quot;z&quot;: 1.6907068744283318}, {&quot;x&quot;: 1.423076923076922, &quot;y&quot;: 2.0384615384615365, &quot;z&quot;: 1.6947905353598027}, {&quot;x&quot;: 1.423076923076922, &quot;y&quot;: 2.064102564102562, &quot;z&quot;: 1.6994099062286936}, {&quot;x&quot;: 1.423076923076922, &quot;y&quot;: 2.0897435897435876, &quot;z&quot;: 1.704564987035003}, {&quot;x&quot;: 1.423076923076922, &quot;y&quot;: 2.115384615384613, &quot;z&quot;: 1.7102557777787317}, {&quot;x&quot;: 1.423076923076922, &quot;y&quot;: 2.1410256410256387, &quot;z&quot;: 1.7164822784598806}, {&quot;x&quot;: 1.423076923076922, &quot;y&quot;: 2.1666666666666643, &quot;z&quot;: 1.7232444890784482}, {&quot;x&quot;: 1.423076923076922, &quot;y&quot;: 2.19230769230769, &quot;z&quot;: 1.7305424096344353}, {&quot;x&quot;: 1.423076923076922, &quot;y&quot;: 2.2179487179487154, &quot;z&quot;: 1.7383760401278419}, {&quot;x&quot;: 1.423076923076922, &quot;y&quot;: 2.243589743589741, &quot;z&quot;: 1.7467453805586675}, {&quot;x&quot;: 1.423076923076922, &quot;y&quot;: 2.2692307692307665, &quot;z&quot;: 1.755650430926913}, {&quot;x&quot;: 1.423076923076922, &quot;y&quot;: 2.294871794871792, &quot;z&quot;: 1.7650911912325769}, {&quot;x&quot;: 1.423076923076922, &quot;y&quot;: 2.3205128205128176, &quot;z&quot;: 1.7750676614756606}, {&quot;x&quot;: 1.423076923076922, &quot;y&quot;: 2.346153846153843, &quot;z&quot;: 1.7855798416561637}, {&quot;x&quot;: 1.423076923076922, &quot;y&quot;: 2.3717948717948687, &quot;z&quot;: 1.7966277317740864}, {&quot;x&quot;: 1.423076923076922, &quot;y&quot;: 2.3974358974358942, &quot;z&quot;: 1.808211331829428}, {&quot;x&quot;: 1.423076923076922, &quot;y&quot;: 2.42307692307692, &quot;z&quot;: 1.8203306418221892}, {&quot;x&quot;: 1.423076923076922, &quot;y&quot;: 2.4487179487179453, &quot;z&quot;: 1.8329856617523699}, {&quot;x&quot;: 1.423076923076922, &quot;y&quot;: 2.474358974358971, &quot;z&quot;: 1.8461763916199694}, {&quot;x&quot;: 1.423076923076922, &quot;y&quot;: 2.5, &quot;z&quot;: 1.8599028314249904}, {&quot;x&quot;: 1.4487179487179476, &quot;y&quot;: 1.5256410256410255, &quot;z&quot;: 1.7422375036453643}, {&quot;x&quot;: 1.4487179487179476, &quot;y&quot;: 1.5, &quot;z&quot;: 1.74886804146228}, {&quot;x&quot;: 1.4487179487179476, &quot;y&quot;: 1.551282051282051, &quot;z&quot;: 1.7361426757658678}, {&quot;x&quot;: 1.4487179487179476, &quot;y&quot;: 1.5769230769230766, &quot;z&quot;: 1.7305835578237911}, {&quot;x&quot;: 1.4487179487179476, &quot;y&quot;: 1.6025641025641022, &quot;z&quot;: 1.7255601498191335}, {&quot;x&quot;: 1.4487179487179476, &quot;y&quot;: 1.6282051282051277, &quot;z&quot;: 1.7210724517518952}, {&quot;x&quot;: 1.4487179487179476, &quot;y&quot;: 1.6538461538461533, &quot;z&quot;: 1.717120463622076}, {&quot;x&quot;: 1.4487179487179476, &quot;y&quot;: 1.6794871794871788, &quot;z&quot;: 1.7137041854296764}, {&quot;x&quot;: 1.4487179487179476, &quot;y&quot;: 1.7051282051282044, &quot;z&quot;: 1.7108236171746962}, {&quot;x&quot;: 1.4487179487179476, &quot;y&quot;: 1.73076923076923, &quot;z&quot;: 1.7084787588571353}, {&quot;x&quot;: 1.4487179487179476, &quot;y&quot;: 1.7564102564102555, &quot;z&quot;: 1.7066696104769938}, {&quot;x&quot;: 1.4487179487179476, &quot;y&quot;: 1.782051282051281, &quot;z&quot;: 1.7053961720342716}, {&quot;x&quot;: 1.4487179487179476, &quot;y&quot;: 1.8076923076923066, &quot;z&quot;: 1.7046584435289684}, {&quot;x&quot;: 1.4487179487179476, &quot;y&quot;: 1.8333333333333321, &quot;z&quot;: 1.704456424961085}, {&quot;x&quot;: 1.4487179487179476, &quot;y&quot;: 1.8589743589743577, &quot;z&quot;: 1.7047901163306207}, {&quot;x&quot;: 1.4487179487179476, &quot;y&quot;: 1.8846153846153832, &quot;z&quot;: 1.7056595176375755}, {&quot;x&quot;: 1.4487179487179476, &quot;y&quot;: 1.9102564102564088, &quot;z&quot;: 1.70706462888195}, {&quot;x&quot;: 1.4487179487179476, &quot;y&quot;: 1.9358974358974343, &quot;z&quot;: 1.7090054500637435}, {&quot;x&quot;: 1.4487179487179476, &quot;y&quot;: 1.96153846153846, &quot;z&quot;: 1.7114819811829567}, {&quot;x&quot;: 1.4487179487179476, &quot;y&quot;: 1.9871794871794854, &quot;z&quot;: 1.7144942222395894}, {&quot;x&quot;: 1.4487179487179476, &quot;y&quot;: 2.012820512820511, &quot;z&quot;: 1.7180421732336408}, {&quot;x&quot;: 1.4487179487179476, &quot;y&quot;: 2.0384615384615365, &quot;z&quot;: 1.7221258341651122}, {&quot;x&quot;: 1.4487179487179476, &quot;y&quot;: 2.064102564102562, &quot;z&quot;: 1.7267452050340029}, {&quot;x&quot;: 1.4487179487179476, &quot;y&quot;: 2.0897435897435876, &quot;z&quot;: 1.7319002858403123}, {&quot;x&quot;: 1.4487179487179476, &quot;y&quot;: 2.115384615384613, &quot;z&quot;: 1.7375910765840417}, {&quot;x&quot;: 1.4487179487179476, &quot;y&quot;: 2.1410256410256387, &quot;z&quot;: 1.7438175772651896}, {&quot;x&quot;: 1.4487179487179476, &quot;y&quot;: 2.1666666666666643, &quot;z&quot;: 1.7505797878837577}, {&quot;x&quot;: 1.4487179487179476, &quot;y&quot;: 2.19230769230769, &quot;z&quot;: 1.7578777084397443}, {&quot;x&quot;: 1.4487179487179476, &quot;y&quot;: 2.2179487179487154, &quot;z&quot;: 1.765711338933151}, {&quot;x&quot;: 1.4487179487179476, &quot;y&quot;: 2.243589743589741, &quot;z&quot;: 1.7740806793639767}, {&quot;x&quot;: 1.4487179487179476, &quot;y&quot;: 2.2692307692307665, &quot;z&quot;: 1.7829857297322218}, {&quot;x&quot;: 1.4487179487179476, &quot;y&quot;: 2.294871794871792, &quot;z&quot;: 1.7924264900378866}, {&quot;x&quot;: 1.4487179487179476, &quot;y&quot;: 2.3205128205128176, &quot;z&quot;: 1.8024029602809697}, {&quot;x&quot;: 1.4487179487179476, &quot;y&quot;: 2.346153846153843, &quot;z&quot;: 1.8129151404614734}, {&quot;x&quot;: 1.4487179487179476, &quot;y&quot;: 2.3717948717948687, &quot;z&quot;: 1.8239630305793955}, {&quot;x&quot;: 1.4487179487179476, &quot;y&quot;: 2.3974358974358942, &quot;z&quot;: 1.8355466306347374}, {&quot;x&quot;: 1.4487179487179476, &quot;y&quot;: 2.42307692307692, &quot;z&quot;: 1.8476659406274982}, {&quot;x&quot;: 1.4487179487179476, &quot;y&quot;: 2.4487179487179453, &quot;z&quot;: 1.8603209605576794}, {&quot;x&quot;: 1.4487179487179476, &quot;y&quot;: 2.474358974358971, &quot;z&quot;: 1.8735116904252789}, {&quot;x&quot;: 1.4487179487179476, &quot;y&quot;: 2.5, &quot;z&quot;: 1.8872381302302998}, {&quot;x&quot;: 1.4743589743589731, &quot;y&quot;: 1.5256410256410255, &quot;z&quot;: 1.7708877268425212}, {&quot;x&quot;: 1.4743589743589731, &quot;y&quot;: 1.5, &quot;z&quot;: 1.777518264659437}, {&quot;x&quot;: 1.4743589743589731, &quot;y&quot;: 1.551282051282051, &quot;z&quot;: 1.7647928989630244}, {&quot;x&quot;: 1.4743589743589731, &quot;y&quot;: 1.5769230769230766, &quot;z&quot;: 1.759233781020948}, {&quot;x&quot;: 1.4743589743589731, &quot;y&quot;: 1.6025641025641022, &quot;z&quot;: 1.7542103730162903}, {&quot;x&quot;: 1.4743589743589731, &quot;y&quot;: 1.6282051282051277, &quot;z&quot;: 1.749722674949052}, {&quot;x&quot;: 1.4743589743589731, &quot;y&quot;: 1.6538461538461533, &quot;z&quot;: 1.7457706868192333}, {&quot;x&quot;: 1.4743589743589731, &quot;y&quot;: 1.6794871794871788, &quot;z&quot;: 1.7423544086268337}, {&quot;x&quot;: 1.4743589743589731, &quot;y&quot;: 1.7051282051282044, &quot;z&quot;: 1.739473840371853}, {&quot;x&quot;: 1.4743589743589731, &quot;y&quot;: 1.73076923076923, &quot;z&quot;: 1.7371289820542923}, {&quot;x&quot;: 1.4743589743589731, &quot;y&quot;: 1.7564102564102555, &quot;z&quot;: 1.7353198336741507}, {&quot;x&quot;: 1.4743589743589731, &quot;y&quot;: 1.782051282051281, &quot;z&quot;: 1.7340463952314285}, {&quot;x&quot;: 1.4743589743589731, &quot;y&quot;: 1.8076923076923066, &quot;z&quot;: 1.7333086667261253}, {&quot;x&quot;: 1.4743589743589731, &quot;y&quot;: 1.8333333333333321, &quot;z&quot;: 1.7331066481582418}, {&quot;x&quot;: 1.4743589743589731, &quot;y&quot;: 1.8589743589743577, &quot;z&quot;: 1.7334403395277775}, {&quot;x&quot;: 1.4743589743589731, &quot;y&quot;: 1.8846153846153832, &quot;z&quot;: 1.7343097408347323}, {&quot;x&quot;: 1.4743589743589731, &quot;y&quot;: 1.9102564102564088, &quot;z&quot;: 1.7357148520791068}, {&quot;x&quot;: 1.4743589743589731, &quot;y&quot;: 1.9358974358974343, &quot;z&quot;: 1.7376556732609003}, {&quot;x&quot;: 1.4743589743589731, &quot;y&quot;: 1.96153846153846, &quot;z&quot;: 1.7401322043801142}, {&quot;x&quot;: 1.4743589743589731, &quot;y&quot;: 1.9871794871794854, &quot;z&quot;: 1.7431444454367462}, {&quot;x&quot;: 1.4743589743589731, &quot;y&quot;: 2.012820512820511, &quot;z&quot;: 1.7466923964307974}, {&quot;x&quot;: 1.4743589743589731, &quot;y&quot;: 2.0384615384615365, &quot;z&quot;: 1.750776057362269}, {&quot;x&quot;: 1.4743589743589731, &quot;y&quot;: 2.064102564102562, &quot;z&quot;: 1.7553954282311595}, {&quot;x&quot;: 1.4743589743589731, &quot;y&quot;: 2.0897435897435876, &quot;z&quot;: 1.7605505090374691}, {&quot;x&quot;: 1.4743589743589731, &quot;y&quot;: 2.115384615384613, &quot;z&quot;: 1.766241299781198}, {&quot;x&quot;: 1.4743589743589731, &quot;y&quot;: 2.1410256410256387, &quot;z&quot;: 1.772467800462347}, {&quot;x&quot;: 1.4743589743589731, &quot;y&quot;: 2.1666666666666643, &quot;z&quot;: 1.779230011080914}, {&quot;x&quot;: 1.4743589743589731, &quot;y&quot;: 2.19230769230769, &quot;z&quot;: 1.7865279316369016}, {&quot;x&quot;: 1.4743589743589731, &quot;y&quot;: 2.2179487179487154, &quot;z&quot;: 1.7943615621303082}, {&quot;x&quot;: 1.4743589743589731, &quot;y&quot;: 2.243589743589741, &quot;z&quot;: 1.8027309025611338}, {&quot;x&quot;: 1.4743589743589731, &quot;y&quot;: 2.2692307692307665, &quot;z&quot;: 1.8116359529293788}, {&quot;x&quot;: 1.4743589743589731, &quot;y&quot;: 2.294871794871792, &quot;z&quot;: 1.8210767132350434}, {&quot;x&quot;: 1.4743589743589731, &quot;y&quot;: 2.3205128205128176, &quot;z&quot;: 1.831053183478127}, {&quot;x&quot;: 1.4743589743589731, &quot;y&quot;: 2.346153846153843, &quot;z&quot;: 1.84156536365863}, {&quot;x&quot;: 1.4743589743589731, &quot;y&quot;: 2.3717948717948687, &quot;z&quot;: 1.8526132537765523}, {&quot;x&quot;: 1.4743589743589731, &quot;y&quot;: 2.3974358974358942, &quot;z&quot;: 1.8641968538318943}, {&quot;x&quot;: 1.4743589743589731, &quot;y&quot;: 2.42307692307692, &quot;z&quot;: 1.876316163824655}, {&quot;x&quot;: 1.4743589743589731, &quot;y&quot;: 2.4487179487179453, &quot;z&quot;: 1.8889711837548357}, {&quot;x&quot;: 1.4743589743589731, &quot;y&quot;: 2.474358974358971, &quot;z&quot;: 1.9021619136224355}, {&quot;x&quot;: 1.4743589743589731, &quot;y&quot;: 2.5, &quot;z&quot;: 1.9158883534274564}, {&quot;x&quot;: 1.5, &quot;y&quot;: 1.5256410256410255, &quot;z&quot;: 1.8008528744315266}, {&quot;x&quot;: 1.5, &quot;y&quot;: 1.5, &quot;z&quot;: 1.8074834122484422}, {&quot;x&quot;: 1.5, &quot;y&quot;: 1.551282051282051, &quot;z&quot;: 1.7947580465520308}, {&quot;x&quot;: 1.5, &quot;y&quot;: 1.5769230769230766, &quot;z&quot;: 1.7891989286099537}, {&quot;x&quot;: 1.5, &quot;y&quot;: 1.6025641025641022, &quot;z&quot;: 1.7841755206052958}, {&quot;x&quot;: 1.5, &quot;y&quot;: 1.6282051282051277, &quot;z&quot;: 1.7796878225380577}, {&quot;x&quot;: 1.5, &quot;y&quot;: 1.6538461538461533, &quot;z&quot;: 1.7757358344082388}, {&quot;x&quot;: 1.5, &quot;y&quot;: 1.6794871794871788, &quot;z&quot;: 1.7723195562158391}, {&quot;x&quot;: 1.5, &quot;y&quot;: 1.7051282051282044, &quot;z&quot;: 1.769438987960859}, {&quot;x&quot;: 1.5, &quot;y&quot;: 1.73076923076923, &quot;z&quot;: 1.7670941296432978}, {&quot;x&quot;: 1.5, &quot;y&quot;: 1.7564102564102555, &quot;z&quot;: 1.7652849812631566}, {&quot;x&quot;: 1.5, &quot;y&quot;: 1.782051282051281, &quot;z&quot;: 1.764011542820434}, {&quot;x&quot;: 1.5, &quot;y&quot;: 1.8076923076923066, &quot;z&quot;: 1.7632738143151312}, {&quot;x&quot;: 1.5, &quot;y&quot;: 1.8333333333333321, &quot;z&quot;: 1.7630717957472477}, {&quot;x&quot;: 1.5, &quot;y&quot;: 1.8589743589743577, &quot;z&quot;: 1.763405487116783}, {&quot;x&quot;: 1.5, &quot;y&quot;: 1.8846153846153832, &quot;z&quot;: 1.764274888423738}, {&quot;x&quot;: 1.5, &quot;y&quot;: 1.9102564102564088, &quot;z&quot;: 1.765679999668113}, {&quot;x&quot;: 1.5, &quot;y&quot;: 1.9358974358974343, &quot;z&quot;: 1.7676208208499062}, {&quot;x&quot;: 1.5, &quot;y&quot;: 1.96153846153846, &quot;z&quot;: 1.7700973519691197}, {&quot;x&quot;: 1.5, &quot;y&quot;: 1.9871794871794854, &quot;z&quot;: 1.7731095930257517}, {&quot;x&quot;: 1.5, &quot;y&quot;: 2.012820512820511, &quot;z&quot;: 1.7766575440198036}, {&quot;x&quot;: 1.5, &quot;y&quot;: 2.0384615384615365, &quot;z&quot;: 1.7807412049512745}, {&quot;x&quot;: 1.5, &quot;y&quot;: 2.064102564102562, &quot;z&quot;: 1.785360575820165}, {&quot;x&quot;: 1.5, &quot;y&quot;: 2.0897435897435876, &quot;z&quot;: 1.790515656626475}, {&quot;x&quot;: 1.5, &quot;y&quot;: 2.115384615384613, &quot;z&quot;: 1.7962064473702035}, {&quot;x&quot;: 1.5, &quot;y&quot;: 2.1410256410256387, &quot;z&quot;: 1.8024329480513521}, {&quot;x&quot;: 1.5, &quot;y&quot;: 2.1666666666666643, &quot;z&quot;: 1.80919515866992}, {&quot;x&quot;: 1.5, &quot;y&quot;: 2.19230769230769, &quot;z&quot;: 1.816493079225907}, {&quot;x&quot;: 1.5, &quot;y&quot;: 2.2179487179487154, &quot;z&quot;: 1.824326709719314}, {&quot;x&quot;: 1.5, &quot;y&quot;: 2.243589743589741, &quot;z&quot;: 1.8326960501501393}, {&quot;x&quot;: 1.5, &quot;y&quot;: 2.2692307692307665, &quot;z&quot;: 1.841601100518384}, {&quot;x&quot;: 1.5, &quot;y&quot;: 2.294871794871792, &quot;z&quot;: 1.8510418608240489}, {&quot;x&quot;: 1.5, &quot;y&quot;: 2.3205128205128176, &quot;z&quot;: 1.8610183310671329}, {&quot;x&quot;: 1.5, &quot;y&quot;: 2.346153846153843, &quot;z&quot;: 1.8715305112476357}, {&quot;x&quot;: 1.5, &quot;y&quot;: 2.3717948717948687, &quot;z&quot;: 1.8825784013655582}, {&quot;x&quot;: 1.5, &quot;y&quot;: 2.3974358974358942, &quot;z&quot;: 1.8941620014209}, {&quot;x&quot;: 1.5, &quot;y&quot;: 2.42307692307692, &quot;z&quot;: 1.906281311413661}, {&quot;x&quot;: 1.5, &quot;y&quot;: 2.4487179487179453, &quot;z&quot;: 1.9189363313438417}, {&quot;x&quot;: 1.5, &quot;y&quot;: 2.474358974358971, &quot;z&quot;: 1.9321270612114414}, {&quot;x&quot;: 1.5, &quot;y&quot;: 2.5, &quot;z&quot;: 1.9458535010164624}], &quot;faces&quot;: [[0, 1, 2, 3], [1, 4, 5, 2], [4, 6, 7, 5], [6, 8, 9, 7], [8, 10, 11, 9], [10, 12, 13, 11], [12, 14, 15, 13], [14, 16, 17, 15], [16, 18, 19, 17], [18, 20, 21, 19], [20, 22, 23, 21], [22, 24, 25, 23], [24, 26, 27, 25], [26, 28, 29, 27], [28, 30, 31, 29], [30, 32, 33, 31], [32, 34, 35, 33], [34, 36, 37, 35], [36, 38, 39, 37], [38, 40, 41, 39], [40, 42, 43, 41], [42, 44, 45, 43], [44, 46, 47, 45], [46, 48, 49, 47], [48, 50, 51, 49], [50, 52, 53, 51], [52, 54, 55, 53], [54, 56, 57, 55], [56, 58, 59, 57], [58, 60, 61, 59], [60, 62, 63, 61], [62, 64, 65, 63], [64, 66, 67, 65], [66, 68, 69, 67], [68, 70, 71, 69], [70, 72, 73, 71], [72, 74, 75, 73], [74, 76, 77, 75], [76, 78, 79, 77], [3, 2, 80, 81], [2, 5, 82, 80], [5, 7, 83, 82], [7, 9, 84, 83], [9, 11, 85, 84], [11, 13, 86, 85], [13, 15, 87, 86], [15, 17, 88, 87], [17, 19, 89, 88], [19, 21, 90, 89], [21, 23, 91, 90], [23, 25, 92, 91], [25, 27, 93, 92], [27, 29, 94, 93], [29, 31, 95, 94], [31, 33, 96, 95], [33, 35, 97, 96], [35, 37, 98, 97], [37, 39, 99, 98], [39, 41, 100, 99], [41, 43, 101, 100], [43, 45, 102, 101], [45, 47, 103, 102], [47, 49, 104, 103], [49, 51, 105, 104], [51, 53, 106, 105], [53, 55, 107, 106], [55, 57, 108, 107], [57, 59, 109, 108], [59, 61, 110, 109], [61, 63, 111, 110], [63, 65, 112, 111], [65, 67, 113, 112], [67, 69, 114, 113], [69, 71, 115, 114], [71, 73, 116, 115], [73, 75, 117, 116], [75, 77, 118, 117], [77, 79, 119, 118], [81, 80, 120, 121], [80, 82, 122, 120], [82, 83, 123, 122], [83, 84, 124, 123], [84, 85, 125, 124], [85, 86, 126, 125], [86, 87, 127, 126], [87, 88, 128, 127], [88, 89, 129, 128], [89, 90, 130, 129], [90, 91, 131, 130], [91, 92, 132, 131], [92, 93, 133, 132], [93, 94, 134, 133], [94, 95, 135, 134], [95, 96, 136, 135], [96, 97, 137, 136], [97, 98, 138, 137], [98, 99, 139, 138], [99, 100, 140, 139], [100, 101, 141, 140], [101, 102, 142, 141], [102, 103, 143, 142], [103, 104, 144, 143], [104, 105, 145, 144], [105, 106, 146, 145], [106, 107, 147, 146], [107, 108, 148, 147], [108, 109, 149, 148], [109, 110, 150, 149], [110, 111, 151, 150], [111, 112, 152, 151], [112, 113, 153, 152], [113, 114, 154, 153], [114, 115, 155, 154], [115, 116, 156, 155], [116, 117, 157, 156], [117, 118, 158, 157], [118, 119, 159, 158], [121, 120, 160, 161], [120, 122, 162, 160], [122, 123, 163, 162], [123, 124, 164, 163], [124, 125, 165, 164], [125, 126, 166, 165], [126, 127, 167, 166], [127, 128, 168, 167], [128, 129, 169, 168], [129, 130, 170, 169], [130, 131, 171, 170], [131, 132, 172, 171], [132, 133, 173, 172], [133, 134, 174, 173], [134, 135, 175, 174], [135, 136, 176, 175], [136, 137, 177, 176], [137, 138, 178, 177], [138, 139, 179, 178], [139, 140, 180, 179], [140, 141, 181, 180], [141, 142, 182, 181], [142, 143, 183, 182], [143, 144, 184, 183], [144, 145, 185, 184], [145, 146, 186, 185], [146, 147, 187, 186], [147, 148, 188, 187], [148, 149, 189, 188], [149, 150, 190, 189], [150, 151, 191, 190], [151, 152, 192, 191], [152, 153, 193, 192], [153, 154, 194, 193], [154, 155, 195, 194], [155, 156, 196, 195], [156, 157, 197, 196], [157, 158, 198, 197], [158, 159, 199, 198], [161, 160, 200, 201], [160, 162, 202, 200], [162, 163, 203, 202], [163, 164, 204, 203], [164, 165, 205, 204], [165, 166, 206, 205], [166, 167, 207, 206], [167, 168, 208, 207], [168, 169, 209, 208], [169, 170, 210, 209], [170, 171, 211, 210], [171, 172, 212, 211], [172, 173, 213, 212], [173, 174, 214, 213], [174, 175, 215, 214], [175, 176, 216, 215], [176, 177, 217, 216], [177, 178, 218, 217], [178, 179, 219, 218], [179, 180, 220, 219], [180, 181, 221, 220], [181, 182, 222, 221], [182, 183, 223, 222], [183, 184, 224, 223], [184, 185, 225, 224], [185, 186, 226, 225], [186, 187, 227, 226], [187, 188, 228, 227], [188, 189, 229, 228], [189, 190, 230, 229], [190, 191, 231, 230], [191, 192, 232, 231], [192, 193, 233, 232], [193, 194, 234, 233], [194, 195, 235, 234], [195, 196, 236, 235], [196, 197, 237, 236], [197, 198, 238, 237], [198, 199, 239, 238], [201, 200, 240, 241], [200, 202, 242, 240], [202, 203, 243, 242], [203, 204, 244, 243], [204, 205, 245, 244], [205, 206, 246, 245], [206, 207, 247, 246], [207, 208, 248, 247], [208, 209, 249, 248], [209, 210, 250, 249], [210, 211, 251, 250], [211, 212, 252, 251], [212, 213, 253, 252], [213, 214, 254, 253], [214, 215, 255, 254], [215, 216, 256, 255], [216, 217, 257, 256], [217, 218, 258, 257], [218, 219, 259, 258], [219, 220, 260, 259], [220, 221, 261, 260], [221, 222, 262, 261], [222, 223, 263, 262], [223, 224, 264, 263], [224, 225, 265, 264], [225, 226, 266, 265], [226, 227, 267, 266], [227, 228, 268, 267], [228, 229, 269, 268], [229, 230, 270, 269], [230, 231, 271, 270], [231, 232, 272, 271], [232, 233, 273, 272], [233, 234, 274, 273], [234, 235, 275, 274], [235, 236, 276, 275], [236, 237, 277, 276], [237, 238, 278, 277], [238, 239, 279, 278], [241, 240, 280, 281], [240, 242, 282, 280], [242, 243, 283, 282], [243, 244, 284, 283], [244, 245, 285, 284], [245, 246, 286, 285], [246, 247, 287, 286], [247, 248, 288, 287], [248, 249, 289, 288], [249, 250, 290, 289], [250, 251, 291, 290], [251, 252, 292, 291], [252, 253, 293, 292], [253, 254, 294, 293], [254, 255, 295, 294], [255, 256, 296, 295], [256, 257, 297, 296], [257, 258, 298, 297], [258, 259, 299, 298], [259, 260, 300, 299], [260, 261, 301, 300], [261, 262, 302, 301], [262, 263, 303, 302], [263, 264, 304, 303], [264, 265, 305, 304], [265, 266, 306, 305], [266, 267, 307, 306], [267, 268, 308, 307], [268, 269, 309, 308], [269, 270, 310, 309], [270, 271, 311, 310], [271, 272, 312, 311], [272, 273, 313, 312], [273, 274, 314, 313], [274, 275, 315, 314], [275, 276, 316, 315], [276, 277, 317, 316], [277, 278, 318, 317], [278, 279, 319, 318], [281, 280, 320, 321], [280, 282, 322, 320], [282, 283, 323, 322], [283, 284, 324, 323], [284, 285, 325, 324], [285, 286, 326, 325], [286, 287, 327, 326], [287, 288, 328, 327], [288, 289, 329, 328], [289, 290, 330, 329], [290, 291, 331, 330], [291, 292, 332, 331], [292, 293, 333, 332], [293, 294, 334, 333], [294, 295, 335, 334], [295, 296, 336, 335], [296, 297, 337, 336], [297, 298, 338, 337], [298, 299, 339, 338], [299, 300, 340, 339], [300, 301, 341, 340], [301, 302, 342, 341], [302, 303, 343, 342], [303, 304, 344, 343], [304, 305, 345, 344], [305, 306, 346, 345], [306, 307, 347, 346], [307, 308, 348, 347], [308, 309, 349, 348], [309, 310, 350, 349], [310, 311, 351, 350], [311, 312, 352, 351], [312, 313, 353, 352], [313, 314, 354, 353], [314, 315, 355, 354], [315, 316, 356, 355], [316, 317, 357, 356], [317, 318, 358, 357], [318, 319, 359, 358], [321, 320, 360, 361], [320, 322, 362, 360], [322, 323, 363, 362], [323, 324, 364, 363], [324, 325, 365, 364], [325, 326, 366, 365], [326, 327, 367, 366], [327, 328, 368, 367], [328, 329, 369, 368], [329, 330, 370, 369], [330, 331, 371, 370], [331, 332, 372, 371], [332, 333, 373, 372], [333, 334, 374, 373], [334, 335, 375, 374], [335, 336, 376, 375], [336, 337, 377, 376], [337, 338, 378, 377], [338, 339, 379, 378], [339, 340, 380, 379], [340, 341, 381, 380], [341, 342, 382, 381], [342, 343, 383, 382], [343, 344, 384, 383], [344, 345, 385, 384], [345, 346, 386, 385], [346, 347, 387, 386], [347, 348, 388, 387], [348, 349, 389, 388], [349, 350, 390, 389], [350, 351, 391, 390], [351, 352, 392, 391], [352, 353, 393, 392], [353, 354, 394, 393], [354, 355, 395, 394], [355, 356, 396, 395], [356, 357, 397, 396], [357, 358, 398, 397], [358, 359, 399, 398], [361, 360, 400, 401], [360, 362, 402, 400], [362, 363, 403, 402], [363, 364, 404, 403], [364, 365, 405, 404], [365, 366, 406, 405], [366, 367, 407, 406], [367, 368, 408, 407], [368, 369, 409, 408], [369, 370, 410, 409], [370, 371, 411, 410], [371, 372, 412, 411], [372, 373, 413, 412], [373, 374, 414, 413], [374, 375, 415, 414], [375, 376, 416, 415], [376, 377, 417, 416], [377, 378, 418, 417], [378, 379, 419, 418], [379, 380, 420, 419], [380, 381, 421, 420], [381, 382, 422, 421], [382, 383, 423, 422], [383, 384, 424, 423], [384, 385, 425, 424], [385, 386, 426, 425], [386, 387, 427, 426], [387, 388, 428, 427], [388, 389, 429, 428], [389, 390, 430, 429], [390, 391, 431, 430], [391, 392, 432, 431], [392, 393, 433, 432], [393, 394, 434, 433], [394, 395, 435, 434], [395, 396, 436, 435], [396, 397, 437, 436], [397, 398, 438, 437], [398, 399, 439, 438], [401, 400, 440, 441], [400, 402, 442, 440], [402, 403, 443, 442], [403, 404, 444, 443], [404, 405, 445, 444], [405, 406, 446, 445], [406, 407, 447, 446], [407, 408, 448, 447], [408, 409, 449, 448], [409, 410, 450, 449], [410, 411, 451, 450], [411, 412, 452, 451], [412, 413, 453, 452], [413, 414, 454, 453], [414, 415, 455, 454], [415, 416, 456, 455], [416, 417, 457, 456], [417, 418, 458, 457], [418, 419, 459, 458], [419, 420, 460, 459], [420, 421, 461, 460], [421, 422, 462, 461], [422, 423, 463, 462], [423, 424, 464, 463], [424, 425, 465, 464], [425, 426, 466, 465], [426, 427, 467, 466], [427, 428, 468, 467], [428, 429, 469, 468], [429, 430, 470, 469], [430, 431, 471, 470], [431, 432, 472, 471], [432, 433, 473, 472], [433, 434, 474, 473], [434, 435, 475, 474], [435, 436, 476, 475], [436, 437, 477, 476], [437, 438, 478, 477], [438, 439, 479, 478], [441, 440, 480, 481], [440, 442, 482, 480], [442, 443, 483, 482], [443, 444, 484, 483], [444, 445, 485, 484], [445, 446, 486, 485], [446, 447, 487, 486], [447, 448, 488, 487], [448, 449, 489, 488], [449, 450, 490, 489], [450, 451, 491, 490], [451, 452, 492, 491], [452, 453, 493, 492], [453, 454, 494, 493], [454, 455, 495, 494], [455, 456, 496, 495], [456, 457, 497, 496], [457, 458, 498, 497], [458, 459, 499, 498], [459, 460, 500, 499], [460, 461, 501, 500], [461, 462, 502, 501], [462, 463, 503, 502], [463, 464, 504, 503], [464, 465, 505, 504], [465, 466, 506, 505], [466, 467, 507, 506], [467, 468, 508, 507], [468, 469, 509, 508], [469, 470, 510, 509], [470, 471, 511, 510], [471, 472, 512, 511], [472, 473, 513, 512], [473, 474, 514, 513], [474, 475, 515, 514], [475, 476, 516, 515], [476, 477, 517, 516], [477, 478, 518, 517], [478, 479, 519, 518], [481, 480, 520, 521], [480, 482, 522, 520], [482, 483, 523, 522], [483, 484, 524, 523], [484, 485, 525, 524], [485, 486, 526, 525], [486, 487, 527, 526], [487, 488, 528, 527], [488, 489, 529, 528], [489, 490, 530, 529], [490, 491, 531, 530], [491, 492, 532, 531], [492, 493, 533, 532], [493, 494, 534, 533], [494, 495, 535, 534], [495, 496, 536, 535], [496, 497, 537, 536], [497, 498, 538, 537], [498, 499, 539, 538], [499, 500, 540, 539], [500, 501, 541, 540], [501, 502, 542, 541], [502, 503, 543, 542], [503, 504, 544, 543], [504, 505, 545, 544], [505, 506, 546, 545], [506, 507, 547, 546], [507, 508, 548, 547], [508, 509, 549, 548], [509, 510, 550, 549], [510, 511, 551, 550], [511, 512, 552, 551], [512, 513, 553, 552], [513, 514, 554, 553], [514, 515, 555, 554], [515, 516, 556, 555], [516, 517, 557, 556], [517, 518, 558, 557], [518, 519, 559, 558], [521, 520, 560, 561], [520, 522, 562, 560], [522, 523, 563, 562], [523, 524, 564, 563], [524, 525, 565, 564], [525, 526, 566, 565], [526, 527, 567, 566], [527, 528, 568, 567], [528, 529, 569, 568], [529, 530, 570, 569], [530, 531, 571, 570], [531, 532, 572, 571], [532, 533, 573, 572], [533, 534, 574, 573], [534, 535, 575, 574], [535, 536, 576, 575], [536, 537, 577, 576], [537, 538, 578, 577], [538, 539, 579, 578], [539, 540, 580, 579], [540, 541, 581, 580], [541, 542, 582, 581], [542, 543, 583, 582], [543, 544, 584, 583], [544, 545, 585, 584], [545, 546, 586, 585], [546, 547, 587, 586], [547, 548, 588, 587], [548, 549, 589, 588], [549, 550, 590, 589], [550, 551, 591, 590], [551, 552, 592, 591], [552, 553, 593, 592], [553, 554, 594, 593], [554, 555, 595, 594], [555, 556, 596, 595], [556, 557, 597, 596], [557, 558, 598, 597], [558, 559, 599, 598], [561, 560, 600, 601], [560, 562, 602, 600], [562, 563, 603, 602], [563, 564, 604, 603], [564, 565, 605, 604], [565, 566, 606, 605], [566, 567, 607, 606], [567, 568, 608, 607], [568, 569, 609, 608], [569, 570, 610, 609], [570, 571, 611, 610], [571, 572, 612, 611], [572, 573, 613, 612], [573, 574, 614, 613], [574, 575, 615, 614], [575, 576, 616, 615], [576, 577, 617, 616], [577, 578, 618, 617], [578, 579, 619, 618], [579, 580, 620, 619], [580, 581, 621, 620], [581, 582, 622, 621], [582, 583, 623, 622], [583, 584, 624, 623], [584, 585, 625, 624], [585, 586, 626, 625], [586, 587, 627, 626], [587, 588, 628, 627], [588, 589, 629, 628], [589, 590, 630, 629], [590, 591, 631, 630], [591, 592, 632, 631], [592, 593, 633, 632], [593, 594, 634, 633], [594, 595, 635, 634], [595, 596, 636, 635], [596, 597, 637, 636], [597, 598, 638, 637], [598, 599, 639, 638], [601, 600, 640, 641], [600, 602, 642, 640], [602, 603, 643, 642], [603, 604, 644, 643], [604, 605, 645, 644], [605, 606, 646, 645], [606, 607, 647, 646], [607, 608, 648, 647], [608, 609, 649, 648], [609, 610, 650, 649], [610, 611, 651, 650], [611, 612, 652, 651], [612, 613, 653, 652], [613, 614, 654, 653], [614, 615, 655, 654], [615, 616, 656, 655], [616, 617, 657, 656], [617, 618, 658, 657], [618, 619, 659, 658], [619, 620, 660, 659], [620, 621, 661, 660], [621, 622, 662, 661], [622, 623, 663, 662], [623, 624, 664, 663], [624, 625, 665, 664], [625, 626, 666, 665], [626, 627, 667, 666], [627, 628, 668, 667], [628, 629, 669, 668], [629, 630, 670, 669], [630, 631, 671, 670], [631, 632, 672, 671], [632, 633, 673, 672], [633, 634, 674, 673], [634, 635, 675, 674], [635, 636, 676, 675], [636, 637, 677, 676], [637, 638, 678, 677], [638, 639, 679, 678], [641, 640, 680, 681], [640, 642, 682, 680], [642, 643, 683, 682], [643, 644, 684, 683], [644, 645, 685, 684], [645, 646, 686, 685], [646, 647, 687, 686], [647, 648, 688, 687], [648, 649, 689, 688], [649, 650, 690, 689], [650, 651, 691, 690], [651, 652, 692, 691], [652, 653, 693, 692], [653, 654, 694, 693], [654, 655, 695, 694], [655, 656, 696, 695], [656, 657, 697, 696], [657, 658, 698, 697], [658, 659, 699, 698], [659, 660, 700, 699], [660, 661, 701, 700], [661, 662, 702, 701], [662, 663, 703, 702], [663, 664, 704, 703], [664, 665, 705, 704], [665, 666, 706, 705], [666, 667, 707, 706], [667, 668, 708, 707], [668, 669, 709, 708], [669, 670, 710, 709], [670, 671, 711, 710], [671, 672, 712, 711], [672, 673, 713, 712], [673, 674, 714, 713], [674, 675, 715, 714], [675, 676, 716, 715], [676, 677, 717, 716], [677, 678, 718, 717], [678, 679, 719, 718], [681, 680, 720, 721], [680, 682, 722, 720], [682, 683, 723, 722], [683, 684, 724, 723], [684, 685, 725, 724], [685, 686, 726, 725], [686, 687, 727, 726], [687, 688, 728, 727], [688, 689, 729, 728], [689, 690, 730, 729], [690, 691, 731, 730], [691, 692, 732, 731], [692, 693, 733, 732], [693, 694, 734, 733], [694, 695, 735, 734], [695, 696, 736, 735], [696, 697, 737, 736], [697, 698, 738, 737], [698, 699, 739, 738], [699, 700, 740, 739], [700, 701, 741, 740], [701, 702, 742, 741], [702, 703, 743, 742], [703, 704, 744, 743], [704, 705, 745, 744], [705, 706, 746, 745], [706, 707, 747, 746], [707, 708, 748, 747], [708, 709, 749, 748], [709, 710, 750, 749], [710, 711, 751, 750], [711, 712, 752, 751], [712, 713, 753, 752], [713, 714, 754, 753], [714, 715, 755, 754], [715, 716, 756, 755], [716, 717, 757, 756], [717, 718, 758, 757], [718, 719, 759, 758], [721, 720, 760, 761], [720, 722, 762, 760], [722, 723, 763, 762], [723, 724, 764, 763], [724, 725, 765, 764], [725, 726, 766, 765], [726, 727, 767, 766], [727, 728, 768, 767], [728, 729, 769, 768], [729, 730, 770, 769], [730, 731, 771, 770], [731, 732, 772, 771], [732, 733, 773, 772], [733, 734, 774, 773], [734, 735, 775, 774], [735, 736, 776, 775], [736, 737, 777, 776], [737, 738, 778, 777], [738, 739, 779, 778], [739, 740, 780, 779], [740, 741, 781, 780], [741, 742, 782, 781], [742, 743, 783, 782], [743, 744, 784, 783], [744, 745, 785, 784], [745, 746, 786, 785], [746, 747, 787, 786], [747, 748, 788, 787], [748, 749, 789, 788], [749, 750, 790, 789], [750, 751, 791, 790], [751, 752, 792, 791], [752, 753, 793, 792], [753, 754, 794, 793], [754, 755, 795, 794], [755, 756, 796, 795], [756, 757, 797, 796], [757, 758, 798, 797], [758, 759, 799, 798], [761, 760, 800, 801], [760, 762, 802, 800], [762, 763, 803, 802], [763, 764, 804, 803], [764, 765, 805, 804], [765, 766, 806, 805], [766, 767, 807, 806], [767, 768, 808, 807], [768, 769, 809, 808], [769, 770, 810, 809], [770, 771, 811, 810], [771, 772, 812, 811], [772, 773, 813, 812], [773, 774, 814, 813], [774, 775, 815, 814], [775, 776, 816, 815], [776, 777, 817, 816], [777, 778, 818, 817], [778, 779, 819, 818], [779, 780, 820, 819], [780, 781, 821, 820], [781, 782, 822, 821], [782, 783, 823, 822], [783, 784, 824, 823], [784, 785, 825, 824], [785, 786, 826, 825], [786, 787, 827, 826], [787, 788, 828, 827], [788, 789, 829, 828], [789, 790, 830, 829], [790, 791, 831, 830], [791, 792, 832, 831], [792, 793, 833, 832], [793, 794, 834, 833], [794, 795, 835, 834], [795, 796, 836, 835], [796, 797, 837, 836], [797, 798, 838, 837], [798, 799, 839, 838], [801, 800, 840, 841], [800, 802, 842, 840], [802, 803, 843, 842], [803, 804, 844, 843], [804, 805, 845, 844], [805, 806, 846, 845], [806, 807, 847, 846], [807, 808, 848, 847], [808, 809, 849, 848], [809, 810, 850, 849], [810, 811, 851, 850], [811, 812, 852, 851], [812, 813, 853, 852], [813, 814, 854, 853], [814, 815, 855, 854], [815, 816, 856, 855], [816, 817, 857, 856], [817, 818, 858, 857], [818, 819, 859, 858], [819, 820, 860, 859], [820, 821, 861, 860], [821, 822, 862, 861], [822, 823, 863, 862], [823, 824, 864, 863], [824, 825, 865, 864], [825, 826, 866, 865], [826, 827, 867, 866], [827, 828, 868, 867], [828, 829, 869, 868], [829, 830, 870, 869], [830, 831, 871, 870], [831, 832, 872, 871], [832, 833, 873, 872], [833, 834, 874, 873], [834, 835, 875, 874], [835, 836, 876, 875], [836, 837, 877, 876], [837, 838, 878, 877], [838, 839, 879, 878], [841, 840, 880, 881], [840, 842, 882, 880], [842, 843, 883, 882], [843, 844, 884, 883], [844, 845, 885, 884], [845, 846, 886, 885], [846, 847, 887, 886], [847, 848, 888, 887], [848, 849, 889, 888], [849, 850, 890, 889], [850, 851, 891, 890], [851, 852, 892, 891], [852, 853, 893, 892], [853, 854, 894, 893], [854, 855, 895, 894], [855, 856, 896, 895], [856, 857, 897, 896], [857, 858, 898, 897], [858, 859, 899, 898], [859, 860, 900, 899], [860, 861, 901, 900], [861, 862, 902, 901], [862, 863, 903, 902], [863, 864, 904, 903], [864, 865, 905, 904], [865, 866, 906, 905], [866, 867, 907, 906], [867, 868, 908, 907], [868, 869, 909, 908], [869, 870, 910, 909], [870, 871, 911, 910], [871, 872, 912, 911], [872, 873, 913, 912], [873, 874, 914, 913], [874, 875, 915, 914], [875, 876, 916, 915], [876, 877, 917, 916], [877, 878, 918, 917], [878, 879, 919, 918], [881, 880, 920, 921], [880, 882, 922, 920], [882, 883, 923, 922], [883, 884, 924, 923], [884, 885, 925, 924], [885, 886, 926, 925], [886, 887, 927, 926], [887, 888, 928, 927], [888, 889, 929, 928], [889, 890, 930, 929], [890, 891, 931, 930], [891, 892, 932, 931], [892, 893, 933, 932], [893, 894, 934, 933], [894, 895, 935, 934], [895, 896, 936, 935], [896, 897, 937, 936], [897, 898, 938, 937], [898, 899, 939, 938], [899, 900, 940, 939], [900, 901, 941, 940], [901, 902, 942, 941], [902, 903, 943, 942], [903, 904, 944, 943], [904, 905, 945, 944], [905, 906, 946, 945], [906, 907, 947, 946], [907, 908, 948, 947], [908, 909, 949, 948], [909, 910, 950, 949], [910, 911, 951, 950], [911, 912, 952, 951], [912, 913, 953, 952], [913, 914, 954, 953], [914, 915, 955, 954], [915, 916, 956, 955], [916, 917, 957, 956], [917, 918, 958, 957], [918, 919, 959, 958], [921, 920, 960, 961], [920, 922, 962, 960], [922, 923, 963, 962], [923, 924, 964, 963], [924, 925, 965, 964], [925, 926, 966, 965], [926, 927, 967, 966], [927, 928, 968, 967], [928, 929, 969, 968], [929, 930, 970, 969], [930, 931, 971, 970], [931, 932, 972, 971], [932, 933, 973, 972], [933, 934, 974, 973], [934, 935, 975, 974], [935, 936, 976, 975], [936, 937, 977, 976], [937, 938, 978, 977], [938, 939, 979, 978], [939, 940, 980, 979], [940, 941, 981, 980], [941, 942, 982, 981], [942, 943, 983, 982], [943, 944, 984, 983], [944, 945, 985, 984], [945, 946, 986, 985], [946, 947, 987, 986], [947, 948, 988, 987], [948, 949, 989, 988], [949, 950, 990, 989], [950, 951, 991, 990], [951, 952, 992, 991], [952, 953, 993, 992], [953, 954, 994, 993], [954, 955, 995, 994], [955, 956, 996, 995], [956, 957, 997, 996], [957, 958, 998, 997], [958, 959, 999, 998], [961, 960, 1000, 1001], [960, 962, 1002, 1000], [962, 963, 1003, 1002], [963, 964, 1004, 1003], [964, 965, 1005, 1004], [965, 966, 1006, 1005], [966, 967, 1007, 1006], [967, 968, 1008, 1007], [968, 969, 1009, 1008], [969, 970, 1010, 1009], [970, 971, 1011, 1010], [971, 972, 1012, 1011], [972, 973, 1013, 1012], [973, 974, 1014, 1013], [974, 975, 1015, 1014], [975, 976, 1016, 1015], [976, 977, 1017, 1016], [977, 978, 1018, 1017], [978, 979, 1019, 1018], [979, 980, 1020, 1019], [980, 981, 1021, 1020], [981, 982, 1022, 1021], [982, 983, 1023, 1022], [983, 984, 1024, 1023], [984, 985, 1025, 1024], [985, 986, 1026, 1025], [986, 987, 1027, 1026], [987, 988, 1028, 1027], [988, 989, 1029, 1028], [989, 990, 1030, 1029], [990, 991, 1031, 1030], [991, 992, 1032, 1031], [992, 993, 1033, 1032], [993, 994, 1034, 1033], [994, 995, 1035, 1034], [995, 996, 1036, 1035], [996, 997, 1037, 1036], [997, 998, 1038, 1037], [998, 999, 1039, 1038], [1001, 1000, 1040, 1041], [1000, 1002, 1042, 1040], [1002, 1003, 1043, 1042], [1003, 1004, 1044, 1043], [1004, 1005, 1045, 1044], [1005, 1006, 1046, 1045], [1006, 1007, 1047, 1046], [1007, 1008, 1048, 1047], [1008, 1009, 1049, 1048], [1009, 1010, 1050, 1049], [1010, 1011, 1051, 1050], [1011, 1012, 1052, 1051], [1012, 1013, 1053, 1052], [1013, 1014, 1054, 1053], [1014, 1015, 1055, 1054], [1015, 1016, 1056, 1055], [1016, 1017, 1057, 1056], [1017, 1018, 1058, 1057], [1018, 1019, 1059, 1058], [1019, 1020, 1060, 1059], [1020, 1021, 1061, 1060], [1021, 1022, 1062, 1061], [1022, 1023, 1063, 1062], [1023, 1024, 1064, 1063], [1024, 1025, 1065, 1064], [1025, 1026, 1066, 1065], [1026, 1027, 1067, 1066], [1027, 1028, 1068, 1067], [1028, 1029, 1069, 1068], [1029, 1030, 1070, 1069], [1030, 1031, 1071, 1070], [1031, 1032, 1072, 1071], [1032, 1033, 1073, 1072], [1033, 1034, 1074, 1073], [1034, 1035, 1075, 1074], [1035, 1036, 1076, 1075], [1036, 1037, 1077, 1076], [1037, 1038, 1078, 1077], [1038, 1039, 1079, 1078], [1041, 1040, 1080, 1081], [1040, 1042, 1082, 1080], [1042, 1043, 1083, 1082], [1043, 1044, 1084, 1083], [1044, 1045, 1085, 1084], [1045, 1046, 1086, 1085], [1046, 1047, 1087, 1086], [1047, 1048, 1088, 1087], [1048, 1049, 1089, 1088], [1049, 1050, 1090, 1089], [1050, 1051, 1091, 1090], [1051, 1052, 1092, 1091], [1052, 1053, 1093, 1092], [1053, 1054, 1094, 1093], [1054, 1055, 1095, 1094], [1055, 1056, 1096, 1095], [1056, 1057, 1097, 1096], [1057, 1058, 1098, 1097], [1058, 1059, 1099, 1098], [1059, 1060, 1100, 1099], [1060, 1061, 1101, 1100], [1061, 1062, 1102, 1101], [1062, 1063, 1103, 1102], [1063, 1064, 1104, 1103], [1064, 1065, 1105, 1104], [1065, 1066, 1106, 1105], [1066, 1067, 1107, 1106], [1067, 1068, 1108, 1107], [1068, 1069, 1109, 1108], [1069, 1070, 1110, 1109], [1070, 1071, 1111, 1110], [1071, 1072, 1112, 1111], [1072, 1073, 1113, 1112], [1073, 1074, 1114, 1113], [1074, 1075, 1115, 1114], [1075, 1076, 1116, 1115], [1076, 1077, 1117, 1116], [1077, 1078, 1118, 1117], [1078, 1079, 1119, 1118], [1081, 1080, 1120, 1121], [1080, 1082, 1122, 1120], [1082, 1083, 1123, 1122], [1083, 1084, 1124, 1123], [1084, 1085, 1125, 1124], [1085, 1086, 1126, 1125], [1086, 1087, 1127, 1126], [1087, 1088, 1128, 1127], [1088, 1089, 1129, 1128], [1089, 1090, 1130, 1129], [1090, 1091, 1131, 1130], [1091, 1092, 1132, 1131], [1092, 1093, 1133, 1132], [1093, 1094, 1134, 1133], [1094, 1095, 1135, 1134], [1095, 1096, 1136, 1135], [1096, 1097, 1137, 1136], [1097, 1098, 1138, 1137], [1098, 1099, 1139, 1138], [1099, 1100, 1140, 1139], [1100, 1101, 1141, 1140], [1101, 1102, 1142, 1141], [1102, 1103, 1143, 1142], [1103, 1104, 1144, 1143], [1104, 1105, 1145, 1144], [1105, 1106, 1146, 1145], [1106, 1107, 1147, 1146], [1107, 1108, 1148, 1147], [1108, 1109, 1149, 1148], [1109, 1110, 1150, 1149], [1110, 1111, 1151, 1150], [1111, 1112, 1152, 1151], [1112, 1113, 1153, 1152], [1113, 1114, 1154, 1153], [1114, 1115, 1155, 1154], [1115, 1116, 1156, 1155], [1116, 1117, 1157, 1156], [1117, 1118, 1158, 1157], [1118, 1119, 1159, 1158], [1121, 1120, 1160, 1161], [1120, 1122, 1162, 1160], [1122, 1123, 1163, 1162], [1123, 1124, 1164, 1163], [1124, 1125, 1165, 1164], [1125, 1126, 1166, 1165], [1126, 1127, 1167, 1166], [1127, 1128, 1168, 1167], [1128, 1129, 1169, 1168], [1129, 1130, 1170, 1169], [1130, 1131, 1171, 1170], [1131, 1132, 1172, 1171], [1132, 1133, 1173, 1172], [1133, 1134, 1174, 1173], [1134, 1135, 1175, 1174], [1135, 1136, 1176, 1175], [1136, 1137, 1177, 1176], [1137, 1138, 1178, 1177], [1138, 1139, 1179, 1178], [1139, 1140, 1180, 1179], [1140, 1141, 1181, 1180], [1141, 1142, 1182, 1181], [1142, 1143, 1183, 1182], [1143, 1144, 1184, 1183], [1144, 1145, 1185, 1184], [1145, 1146, 1186, 1185], [1146, 1147, 1187, 1186], [1147, 1148, 1188, 1187], [1148, 1149, 1189, 1188], [1149, 1150, 1190, 1189], [1150, 1151, 1191, 1190], [1151, 1152, 1192, 1191], [1152, 1153, 1193, 1192], [1153, 1154, 1194, 1193], [1154, 1155, 1195, 1194], [1155, 1156, 1196, 1195], [1156, 1157, 1197, 1196], [1157, 1158, 1198, 1197], [1158, 1159, 1199, 1198], [1161, 1160, 1200, 1201], [1160, 1162, 1202, 1200], [1162, 1163, 1203, 1202], [1163, 1164, 1204, 1203], [1164, 1165, 1205, 1204], [1165, 1166, 1206, 1205], [1166, 1167, 1207, 1206], [1167, 1168, 1208, 1207], [1168, 1169, 1209, 1208], [1169, 1170, 1210, 1209], [1170, 1171, 1211, 1210], [1171, 1172, 1212, 1211], [1172, 1173, 1213, 1212], [1173, 1174, 1214, 1213], [1174, 1175, 1215, 1214], [1175, 1176, 1216, 1215], [1176, 1177, 1217, 1216], [1177, 1178, 1218, 1217], [1178, 1179, 1219, 1218], [1179, 1180, 1220, 1219], [1180, 1181, 1221, 1220], [1181, 1182, 1222, 1221], [1182, 1183, 1223, 1222], [1183, 1184, 1224, 1223], [1184, 1185, 1225, 1224], [1185, 1186, 1226, 1225], [1186, 1187, 1227, 1226], [1187, 1188, 1228, 1227], [1188, 1189, 1229, 1228], [1189, 1190, 1230, 1229], [1190, 1191, 1231, 1230], [1191, 1192, 1232, 1231], [1192, 1193, 1233, 1232], [1193, 1194, 1234, 1233], [1194, 1195, 1235, 1234], [1195, 1196, 1236, 1235], [1196, 1197, 1237, 1236], [1197, 1198, 1238, 1237], [1198, 1199, 1239, 1238], [1201, 1200, 1240, 1241], [1200, 1202, 1242, 1240], [1202, 1203, 1243, 1242], [1203, 1204, 1244, 1243], [1204, 1205, 1245, 1244], [1205, 1206, 1246, 1245], [1206, 1207, 1247, 1246], [1207, 1208, 1248, 1247], [1208, 1209, 1249, 1248], [1209, 1210, 1250, 1249], [1210, 1211, 1251, 1250], [1211, 1212, 1252, 1251], [1212, 1213, 1253, 1252], [1213, 1214, 1254, 1253], [1214, 1215, 1255, 1254], [1215, 1216, 1256, 1255], [1216, 1217, 1257, 1256], [1217, 1218, 1258, 1257], [1218, 1219, 1259, 1258], [1219, 1220, 1260, 1259], [1220, 1221, 1261, 1260], [1221, 1222, 1262, 1261], [1222, 1223, 1263, 1262], [1223, 1224, 1264, 1263], [1224, 1225, 1265, 1264], [1225, 1226, 1266, 1265], [1226, 1227, 1267, 1266], [1227, 1228, 1268, 1267], [1228, 1229, 1269, 1268], [1229, 1230, 1270, 1269], [1230, 1231, 1271, 1270], [1231, 1232, 1272, 1271], [1232, 1233, 1273, 1272], [1233, 1234, 1274, 1273], [1234, 1235, 1275, 1274], [1235, 1236, 1276, 1275], [1236, 1237, 1277, 1276], [1237, 1238, 1278, 1277], [1238, 1239, 1279, 1278], [1241, 1240, 1280, 1281], [1240, 1242, 1282, 1280], [1242, 1243, 1283, 1282], [1243, 1244, 1284, 1283], [1244, 1245, 1285, 1284], [1245, 1246, 1286, 1285], [1246, 1247, 1287, 1286], [1247, 1248, 1288, 1287], [1248, 1249, 1289, 1288], [1249, 1250, 1290, 1289], [1250, 1251, 1291, 1290], [1251, 1252, 1292, 1291], [1252, 1253, 1293, 1292], [1253, 1254, 1294, 1293], [1254, 1255, 1295, 1294], [1255, 1256, 1296, 1295], [1256, 1257, 1297, 1296], [1257, 1258, 1298, 1297], [1258, 1259, 1299, 1298], [1259, 1260, 1300, 1299], [1260, 1261, 1301, 1300], [1261, 1262, 1302, 1301], [1262, 1263, 1303, 1302], [1263, 1264, 1304, 1303], [1264, 1265, 1305, 1304], [1265, 1266, 1306, 1305], [1266, 1267, 1307, 1306], [1267, 1268, 1308, 1307], [1268, 1269, 1309, 1308], [1269, 1270, 1310, 1309], [1270, 1271, 1311, 1310], [1271, 1272, 1312, 1311], [1272, 1273, 1313, 1312], [1273, 1274, 1314, 1313], [1274, 1275, 1315, 1314], [1275, 1276, 1316, 1315], [1276, 1277, 1317, 1316], [1277, 1278, 1318, 1317], [1278, 1279, 1319, 1318], [1281, 1280, 1320, 1321], [1280, 1282, 1322, 1320], [1282, 1283, 1323, 1322], [1283, 1284, 1324, 1323], [1284, 1285, 1325, 1324], [1285, 1286, 1326, 1325], [1286, 1287, 1327, 1326], [1287, 1288, 1328, 1327], [1288, 1289, 1329, 1328], [1289, 1290, 1330, 1329], [1290, 1291, 1331, 1330], [1291, 1292, 1332, 1331], [1292, 1293, 1333, 1332], [1293, 1294, 1334, 1333], [1294, 1295, 1335, 1334], [1295, 1296, 1336, 1335], [1296, 1297, 1337, 1336], [1297, 1298, 1338, 1337], [1298, 1299, 1339, 1338], [1299, 1300, 1340, 1339], [1300, 1301, 1341, 1340], [1301, 1302, 1342, 1341], [1302, 1303, 1343, 1342], [1303, 1304, 1344, 1343], [1304, 1305, 1345, 1344], [1305, 1306, 1346, 1345], [1306, 1307, 1347, 1346], [1307, 1308, 1348, 1347], [1308, 1309, 1349, 1348], [1309, 1310, 1350, 1349], [1310, 1311, 1351, 1350], [1311, 1312, 1352, 1351], [1312, 1313, 1353, 1352], [1313, 1314, 1354, 1353], [1314, 1315, 1355, 1354], [1315, 1316, 1356, 1355], [1316, 1317, 1357, 1356], [1317, 1318, 1358, 1357], [1318, 1319, 1359, 1358], [1321, 1320, 1360, 1361], [1320, 1322, 1362, 1360], [1322, 1323, 1363, 1362], [1323, 1324, 1364, 1363], [1324, 1325, 1365, 1364], [1325, 1326, 1366, 1365], [1326, 1327, 1367, 1366], [1327, 1328, 1368, 1367], [1328, 1329, 1369, 1368], [1329, 1330, 1370, 1369], [1330, 1331, 1371, 1370], [1331, 1332, 1372, 1371], [1332, 1333, 1373, 1372], [1333, 1334, 1374, 1373], [1334, 1335, 1375, 1374], [1335, 1336, 1376, 1375], [1336, 1337, 1377, 1376], [1337, 1338, 1378, 1377], [1338, 1339, 1379, 1378], [1339, 1340, 1380, 1379], [1340, 1341, 1381, 1380], [1341, 1342, 1382, 1381], [1342, 1343, 1383, 1382], [1343, 1344, 1384, 1383], [1344, 1345, 1385, 1384], [1345, 1346, 1386, 1385], [1346, 1347, 1387, 1386], [1347, 1348, 1388, 1387], [1348, 1349, 1389, 1388], [1349, 1350, 1390, 1389], [1350, 1351, 1391, 1390], [1351, 1352, 1392, 1391], [1352, 1353, 1393, 1392], [1353, 1354, 1394, 1393], [1354, 1355, 1395, 1394], [1355, 1356, 1396, 1395], [1356, 1357, 1397, 1396], [1357, 1358, 1398, 1397], [1358, 1359, 1399, 1398], [1361, 1360, 1400, 1401], [1360, 1362, 1402, 1400], [1362, 1363, 1403, 1402], [1363, 1364, 1404, 1403], [1364, 1365, 1405, 1404], [1365, 1366, 1406, 1405], [1366, 1367, 1407, 1406], [1367, 1368, 1408, 1407], [1368, 1369, 1409, 1408], [1369, 1370, 1410, 1409], [1370, 1371, 1411, 1410], [1371, 1372, 1412, 1411], [1372, 1373, 1413, 1412], [1373, 1374, 1414, 1413], [1374, 1375, 1415, 1414], [1375, 1376, 1416, 1415], [1376, 1377, 1417, 1416], [1377, 1378, 1418, 1417], [1378, 1379, 1419, 1418], [1379, 1380, 1420, 1419], [1380, 1381, 1421, 1420], [1381, 1382, 1422, 1421], [1382, 1383, 1423, 1422], [1383, 1384, 1424, 1423], [1384, 1385, 1425, 1424], [1385, 1386, 1426, 1425], [1386, 1387, 1427, 1426], [1387, 1388, 1428, 1427], [1388, 1389, 1429, 1428], [1389, 1390, 1430, 1429], [1390, 1391, 1431, 1430], [1391, 1392, 1432, 1431], [1392, 1393, 1433, 1432], [1393, 1394, 1434, 1433], [1394, 1395, 1435, 1434], [1395, 1396, 1436, 1435], [1396, 1397, 1437, 1436], [1397, 1398, 1438, 1437], [1398, 1399, 1439, 1438], [1401, 1400, 1440, 1441], [1400, 1402, 1442, 1440], [1402, 1403, 1443, 1442], [1403, 1404, 1444, 1443], [1404, 1405, 1445, 1444], [1405, 1406, 1446, 1445], [1406, 1407, 1447, 1446], [1407, 1408, 1448, 1447], [1408, 1409, 1449, 1448], [1409, 1410, 1450, 1449], [1410, 1411, 1451, 1450], [1411, 1412, 1452, 1451], [1412, 1413, 1453, 1452], [1413, 1414, 1454, 1453], [1414, 1415, 1455, 1454], [1415, 1416, 1456, 1455], [1416, 1417, 1457, 1456], [1417, 1418, 1458, 1457], [1418, 1419, 1459, 1458], [1419, 1420, 1460, 1459], [1420, 1421, 1461, 1460], [1421, 1422, 1462, 1461], [1422, 1423, 1463, 1462], [1423, 1424, 1464, 1463], [1424, 1425, 1465, 1464], [1425, 1426, 1466, 1465], [1426, 1427, 1467, 1466], [1427, 1428, 1468, 1467], [1428, 1429, 1469, 1468], [1429, 1430, 1470, 1469], [1430, 1431, 1471, 1470], [1431, 1432, 1472, 1471], [1432, 1433, 1473, 1472], [1433, 1434, 1474, 1473], [1434, 1435, 1475, 1474], [1435, 1436, 1476, 1475], [1436, 1437, 1477, 1476], [1437, 1438, 1478, 1477], [1438, 1439, 1479, 1478], [1441, 1440, 1480, 1481], [1440, 1442, 1482, 1480], [1442, 1443, 1483, 1482], [1443, 1444, 1484, 1483], [1444, 1445, 1485, 1484], [1445, 1446, 1486, 1485], [1446, 1447, 1487, 1486], [1447, 1448, 1488, 1487], [1448, 1449, 1489, 1488], [1449, 1450, 1490, 1489], [1450, 1451, 1491, 1490], [1451, 1452, 1492, 1491], [1452, 1453, 1493, 1492], [1453, 1454, 1494, 1493], [1454, 1455, 1495, 1494], [1455, 1456, 1496, 1495], [1456, 1457, 1497, 1496], [1457, 1458, 1498, 1497], [1458, 1459, 1499, 1498], [1459, 1460, 1500, 1499], [1460, 1461, 1501, 1500], [1461, 1462, 1502, 1501], [1462, 1463, 1503, 1502], [1463, 1464, 1504, 1503], [1464, 1465, 1505, 1504], [1465, 1466, 1506, 1505], [1466, 1467, 1507, 1506], [1467, 1468, 1508, 1507], [1468, 1469, 1509, 1508], [1469, 1470, 1510, 1509], [1470, 1471, 1511, 1510], [1471, 1472, 1512, 1511], [1472, 1473, 1513, 1512], [1473, 1474, 1514, 1513], [1474, 1475, 1515, 1514], [1475, 1476, 1516, 1515], [1476, 1477, 1517, 1516], [1477, 1478, 1518, 1517], [1478, 1479, 1519, 1518], [1481, 1480, 1520, 1521], [1480, 1482, 1522, 1520], [1482, 1483, 1523, 1522], [1483, 1484, 1524, 1523], [1484, 1485, 1525, 1524], [1485, 1486, 1526, 1525], [1486, 1487, 1527, 1526], [1487, 1488, 1528, 1527], [1488, 1489, 1529, 1528], [1489, 1490, 1530, 1529], [1490, 1491, 1531, 1530], [1491, 1492, 1532, 1531], [1492, 1493, 1533, 1532], [1493, 1494, 1534, 1533], [1494, 1495, 1535, 1534], [1495, 1496, 1536, 1535], [1496, 1497, 1537, 1536], [1497, 1498, 1538, 1537], [1498, 1499, 1539, 1538], [1499, 1500, 1540, 1539], [1500, 1501, 1541, 1540], [1501, 1502, 1542, 1541], [1502, 1503, 1543, 1542], [1503, 1504, 1544, 1543], [1504, 1505, 1545, 1544], [1505, 1506, 1546, 1545], [1506, 1507, 1547, 1546], [1507, 1508, 1548, 1547], [1508, 1509, 1549, 1548], [1509, 1510, 1550, 1549], [1510, 1511, 1551, 1550], [1511, 1512, 1552, 1551], [1512, 1513, 1553, 1552], [1513, 1514, 1554, 1553], [1514, 1515, 1555, 1554], [1515, 1516, 1556, 1555], [1516, 1517, 1557, 1556], [1517, 1518, 1558, 1557], [1518, 1519, 1559, 1558], [1521, 1520, 1560, 1561], [1520, 1522, 1562, 1560], [1522, 1523, 1563, 1562], [1523, 1524, 1564, 1563], [1524, 1525, 1565, 1564], [1525, 1526, 1566, 1565], [1526, 1527, 1567, 1566], [1527, 1528, 1568, 1567], [1528, 1529, 1569, 1568], [1529, 1530, 1570, 1569], [1530, 1531, 1571, 1570], [1531, 1532, 1572, 1571], [1532, 1533, 1573, 1572], [1533, 1534, 1574, 1573], [1534, 1535, 1575, 1574], [1535, 1536, 1576, 1575], [1536, 1537, 1577, 1576], [1537, 1538, 1578, 1577], [1538, 1539, 1579, 1578], [1539, 1540, 1580, 1579], [1540, 1541, 1581, 1580], [1541, 1542, 1582, 1581], [1542, 1543, 1583, 1582], [1543, 1544, 1584, 1583], [1544, 1545, 1585, 1584], [1545, 1546, 1586, 1585], [1546, 1547, 1587, 1586], [1547, 1548, 1588, 1587], [1548, 1549, 1589, 1588], [1549, 1550, 1590, 1589], [1550, 1551, 1591, 1590], [1551, 1552, 1592, 1591], [1552, 1553, 1593, 1592], [1553, 1554, 1594, 1593], [1554, 1555, 1595, 1594], [1555, 1556, 1596, 1595], [1556, 1557, 1597, 1596], [1557, 1558, 1598, 1597], [1558, 1559, 1599, 1598]], &quot;color&quot;: &quot;#6666ff&quot;, &quot;opacity&quot;: 1.0}];\n",
       "    for ( var i=0 ; i < surfaces.length ; i++ ) addSurface( surfaces[i] );\n",
       "\n",
       "    function addSurface( json ) {\n",
       "\n",
       "        var useFaceColors = 'faceColors' in json ? true : false;\n",
       "\n",
       "        var geometry = new THREE.Geometry();\n",
       "        for ( var i=0 ; i < json.vertices.length ; i++ ) {\n",
       "            var v = json.vertices[i];\n",
       "            geometry.vertices.push( new THREE.Vector3( a[0]*v.x, a[1]*v.y, a[2]*v.z ) );\n",
       "        }\n",
       "        for ( var i=0 ; i < json.faces.length ; i++ ) {\n",
       "            var f = json.faces[i];\n",
       "            for ( var j=0 ; j < f.length - 2 ; j++ ) {\n",
       "                var face = new THREE.Face3( f[0], f[j+1], f[j+2] );\n",
       "                if ( useFaceColors ) face.color.set( json.faceColors[i] );\n",
       "                geometry.faces.push( face );\n",
       "            }\n",
       "        }\n",
       "        geometry.computeVertexNormals();\n",
       "\n",
       "        var side = json.singleSide ? THREE.FrontSide : THREE.DoubleSide;\n",
       "        var transparent = json.opacity < 1 ? true : false;\n",
       "\n",
       "        var material = new THREE.MeshPhongMaterial( { side: side,\n",
       "                                     color: useFaceColors ? 'white' : json.color,\n",
       "                                     vertexColors: useFaceColors ? THREE.FaceColors : THREE.NoColors,\n",
       "                                     transparent: transparent, opacity: json.opacity,\n",
       "                                     shininess: 20, flatShading: json.useFlatShading } );\n",
       "\n",
       "        var c = new THREE.Vector3();\n",
       "        geometry.computeBoundingBox();\n",
       "        geometry.boundingBox.getCenter( c );\n",
       "        geometry.translate( -c.x, -c.y, -c.z );\n",
       "\n",
       "        var mesh = new THREE.Mesh( geometry, material );\n",
       "        mesh.position.set( c.x, c.y, c.z );\n",
       "        if ( transparent && json.renderOrder ) mesh.renderOrder = json.renderOrder;\n",
       "        scene.add( mesh );\n",
       "\n",
       "        if ( json.showMeshGrid ) {\n",
       "\n",
       "            var geometry = new THREE.Geometry();\n",
       "\n",
       "            for ( var i=0 ; i < json.faces.length ; i++ ) {\n",
       "                var f = json.faces[i];\n",
       "                for ( var j=0 ; j < f.length ; j++ ) {\n",
       "                    var k = j === f.length-1 ? 0 : j+1;\n",
       "                    var v1 = json.vertices[f[j]];\n",
       "                    var v2 = json.vertices[f[k]];\n",
       "                    // vertices in opposite directions on neighboring faces\n",
       "                    var nudge = f[j] < f[k] ? .0005*zRange : -.0005*zRange;\n",
       "                    geometry.vertices.push( new THREE.Vector3( a[0]*v1.x, a[1]*v1.y, a[2]*(v1.z+nudge) ) );\n",
       "                    geometry.vertices.push( new THREE.Vector3( a[0]*v2.x, a[1]*v2.y, a[2]*(v2.z+nudge) ) );\n",
       "                }\n",
       "            }\n",
       "\n",
       "            var material = new THREE.LineBasicMaterial( { color: 'black', linewidth: 1 } );\n",
       "\n",
       "            var c = new THREE.Vector3();\n",
       "            geometry.computeBoundingBox();\n",
       "            geometry.boundingBox.getCenter( c );\n",
       "            geometry.translate( -c.x, -c.y, -c.z );\n",
       "\n",
       "            var mesh = new THREE.LineSegments( geometry, material );\n",
       "            mesh.position.set( c.x, c.y, c.z );\n",
       "            scene.add( mesh );\n",
       "\n",
       "        }\n",
       "\n",
       "    }\n",
       "\n",
       "    var scratch = new THREE.Vector3();\n",
       "\n",
       "    function render() {\n",
       "\n",
       "        if ( animate ) requestAnimationFrame( render );\n",
       "        renderer.render( scene, camera );\n",
       "\n",
       "        // Resize text based on distance from camera.\n",
       "        // Not neccessary for orthographic due to the nature of the projection (preserves sizes).\n",
       "        if ( !camera.isOrthographicCamera ) {\n",
       "            for ( var i=0 ; i < scene.children.length ; i++ ) {\n",
       "                if ( scene.children[i].type === 'Sprite' ) {\n",
       "                    var sprite = scene.children[i];\n",
       "                    var adjust = scratch.addVectors( sprite.position, scene.position )\n",
       "                                    .sub( camera.position ).length() / 5;\n",
       "                    sprite.scale.set( adjust, .25*adjust, 1 ); // ratio of canvas width to height\n",
       "                }\n",
       "            }\n",
       "        }\n",
       "    }\n",
       "    \n",
       "    render();\n",
       "    controls.update();\n",
       "    if ( !animate ) render();\n",
       "\n",
       "\n",
       "    // menu functions\n",
       "\n",
       "    function toggleMenu() {\n",
       "\n",
       "        var m = document.getElementById( 'menu-content' );\n",
       "        if ( m.style.display === 'block' ) m.style.display = 'none'\n",
       "        else m.style.display = 'block';\n",
       "\n",
       "    }\n",
       "\n",
       "\n",
       "    function saveAsPNG() {\n",
       "\n",
       "        var a = document.body.appendChild( document.createElement( 'a' ) );\n",
       "        a.href = renderer.domElement.toDataURL( 'image/png' );\n",
       "        a.download = 'screenshot';\n",
       "        a.click();\n",
       "\n",
       "    }\n",
       "\n",
       "    function saveAsHTML() {\n",
       "\n",
       "        toggleMenu(); // otherwise visible in output\n",
       "        event.stopPropagation();\n",
       "\n",
       "        var blob = new Blob( [ '<!DOCTYPE html>\\n' + document.documentElement.outerHTML ] );\n",
       "        var a = document.body.appendChild( document.createElement( 'a' ) );\n",
       "        a.href = window.URL.createObjectURL( blob );\n",
       "        a.download = 'graphic.html';\n",
       "        a.click();\n",
       "\n",
       "    }\n",
       "\n",
       "    function getViewpoint() {\n",
       "\n",
       "        function roundTo( x, n ) { return +x.toFixed(n); }\n",
       "\n",
       "        var v = camera.quaternion.inverse();\n",
       "        var r = Math.sqrt( v.x*v.x + v.y*v.y + v.z*v.z );\n",
       "        var axis = [ roundTo( v.x / r, 4 ), roundTo( v.y / r, 4 ), roundTo( v.z / r, 4 ) ];\n",
       "        var angle = roundTo( 2 * Math.atan2( r, v.w ) * 180 / Math.PI, 2 );\n",
       "\n",
       "        var textArea = document.createElement( 'textarea' );\n",
       "        textArea.textContent = JSON.stringify( axis ) + ',' + angle;\n",
       "        textArea.style.csstext = 'position: absolute; top: -100%';\n",
       "        document.body.append( textArea );\n",
       "        textArea.select();\n",
       "        document.execCommand( 'copy' );\n",
       "\n",
       "        var m = document.getElementById( 'menu-message' );\n",
       "        m.innerHTML = 'Viewpoint copied to clipboard';\n",
       "        m.style.display = 'block';\n",
       "        setTimeout( function() { m.style.display = 'none'; }, 2000 );\n",
       "\n",
       "    }\n",
       "\n",
       "</script>\n",
       "\n",
       "<div id=&quot;menu-container&quot; onclick=&quot;toggleMenu()&quot;>&#x24d8;\n",
       "<div id=&quot;menu-message&quot;></div>\n",
       "<div id=&quot;menu-content&quot;>\n",
       "<div onclick=&quot;saveAsPNG()&quot;>Save as PNG</div>\n",
       "<div onclick=&quot;saveAsHTML()&quot;>Save as HTML</div>\n",
       "<div onclick=&quot;getViewpoint()&quot;>Get Viewpoint</div>\n",
       "<div>Close Menu</div>\n",
       "</div></div>\n",
       "\n",
       "</body>\n",
       "</html>\n",
       "\"\n",
       "        width=\"100%\"\n",
       "        height=\"400\"\n",
       "        style=\"border: 0;\">\n",
       "</iframe>\n"
      ],
      "text/plain": [
       "Graphics3d Object"
      ]
     },
     "execution_count": 17,
     "metadata": {},
     "output_type": "execute_result"
    }
   ],
   "source": [
    "plot3d(L,(a,0.5,1.5),(b,1.5,2.5))"
   ]
  },
  {
   "cell_type": "code",
   "execution_count": 0,
   "metadata": {
    "collapsed": false
   },
   "outputs": [],
   "source": []
  },
  {
   "cell_type": "markdown",
   "metadata": {
    "collapsed": false
   },
   "source": [
    "The iterative solution is called **gradient descent** and it goes like this: \n",
    "\n",
    "- *Initialise:* Let us start with some initial parameters, say in our linear regression example $(a,b) = (0,0)$, say at iteration $i=0$.\n",
    "- *Update:* then we construct an update rule like the following to update the parameter values at $i+1$ from those at iteration $i$:\n",
    "  - $a_i = a_{i-1}-l \\frac{dL}{da}(a_{i-1},b_{i-1})$\n",
    "  - $b_i = b_{i-1}-l \\frac{dL}{db}(a_{i-1},b_{i-1})$\n",
    "  - where $l > 0$ is called the learning rate.\n",
    "- *Stop:* Finally we stop when a stopping rule like the following is satisfied:\n",
    "$$\\sqrt( ( L(a_{i+1},b_{i+1})- L(a_{i},b_{i}))^2) < \\tau, \\qquad \\text{ where, $\\tau$ is some tolerance threshold that says we are close enough to the minimum value found by our iteration}.$$"
   ]
  },
  {
   "cell_type": "code",
   "execution_count": 18,
   "metadata": {
    "collapsed": false
   },
   "outputs": [],
   "source": [
    "G(a,b) = L(a,b) # Create a symbolic expression"
   ]
  },
  {
   "cell_type": "code",
   "execution_count": 19,
   "metadata": {
    "collapsed": false
   },
   "outputs": [
    {
     "data": {
      "application/vnd.jupyter.widget-view+json": {
       "model_id": "0e405b0cf4fd4bac85c93746decd2b8c",
       "version_major": 2,
       "version_minor": 0
      },
      "text/plain": [
       "Interactive function <function gradient_descent_3d at 0x7f29c081fbf8> with 3 widgets\n",
       "  x_start: EvalText(value…"
      ]
     },
     "execution_count": 19,
     "metadata": {},
     "output_type": "execute_result"
    }
   ],
   "source": [
    "@interact\n",
    "def gradient_descent_3d(x_start=input_box(0,type=float,label='x_start'), y_start=input_box(0,type=float,label='y_start'), n_steps=(1,(1,30))):\n",
    "    P=points([])\n",
    "\n",
    "    lr = 0.1\n",
    "    point = (x_start,y_start)\n",
    "    levels = []\n",
    "    for i in range(0,n_steps):\n",
    "        dLdb = G.diff(b).subs(b=point[1]).subs(a=point[0]).n(10)\n",
    "        dLda = G.diff(a).subs(b=point[1]).subs(a=point[0]).n(10)\n",
    "        new_a = point[0] - lr*dLda\n",
    "        new_b = point[1] - lr*dLdb\n",
    "\n",
    "        P+=arrow((point[0],point[1],L(point[0],point[1])),(new_a,new_b,L(new_a,new_b)),color='red',width=0.5)\n",
    "        #plt.arrow(point[0],point[1],-lr*dLda*0.7,-lr*dLdb*0.7,head_width=0.05)\n",
    "        point = (new_a,new_b)\n",
    "    x_min = min(x_start,new_a)-0.1\n",
    "    x_max = max(x_start,new_a)+0.1\n",
    "    y_min = min(y_start,new_b)-0.1\n",
    "    y_max = max(y_start,new_b)+0.1\n",
    "    P+=plot3d(L,(a,x_min,x_max),(b,y_min,y_max))\n",
    "    P.show() # increase the number of steps by toggling n_steps or play with initial values x_start and y_start"
   ]
  },
  {
   "cell_type": "code",
   "execution_count": 0,
   "metadata": {
    "collapsed": false
   },
   "outputs": [],
   "source": []
  },
  {
   "cell_type": "code",
   "execution_count": 20,
   "metadata": {
    "collapsed": false
   },
   "outputs": [
    {
     "data": {
      "application/vnd.jupyter.widget-view+json": {
       "model_id": "f9239a7f27c741aabe0c217f4052dd7d",
       "version_major": 2,
       "version_minor": 0
      },
      "text/plain": [
       "Interactive function <function gradient_descent_contours at 0x7f29bdaecea0> with 1 widget\n",
       "  n_steps: IntSlider…"
      ]
     },
     "execution_count": 20,
     "metadata": {},
     "output_type": "execute_result"
    }
   ],
   "source": [
    "import numpy as np\n",
    "\n",
    "@interact\n",
    "def gradient_descent_contours(n_steps=(1,(1,30))):\n",
    "    # make a contour plot\n",
    "    P=contour_plot(G, (a, 0.3, 1.5), (b, 1.2, 2.5),fill=False, aspect_ratio=1, contours=20)\n",
    "    lr = 0.2\n",
    "    point = (0.3,1.2)\n",
    "\n",
    "    for i in range(0,n_steps):\n",
    "        dLdb = G.diff(b).subs(b=point[1]).subs(a=point[0]).n(10)\n",
    "        dLda = G.diff(a).subs(b=point[1]).subs(a=point[0]).n(10)\n",
    "        new_a = point[0] - lr*dLda\n",
    "        new_b = point[1] - lr*dLdb\n",
    "\n",
    "        P+=arrow((point[0],point[1]),(new_a,new_b),color='red',width=0.3)\n",
    "        #plt.arrow(point[0],point[1],-lr*dLda*0.7,-lr*dLdb*0.7,head_width=0.05)\n",
    "        point = (new_a,new_b)\n",
    "\n",
    "    P.show()"
   ]
  },
  {
   "cell_type": "code",
   "execution_count": 0,
   "metadata": {
    "collapsed": false
   },
   "outputs": [],
   "source": []
  },
  {
   "cell_type": "markdown",
   "metadata": {
    "collapsed": false
   },
   "source": [
    "## Introduction to R in SageMath Jupyter IPython Notebook\n",
    "\n",
    "1. How to run R commands in SageMath\n",
    "  * doing linear regression regression using R's builtin `lm` (linear model) package in SageMath/R\n",
    "  * installing non-builtin packages, loading libraries and data"
   ]
  },
  {
   "cell_type": "markdown",
   "metadata": {
    "collapsed": false
   },
   "source": [
    "### Running R in SageMath is \"easy as\":\n",
    "\n",
    "- Use `%%r` to denote that the `Code` cell is of language `R`\n",
    "\n",
    "First note that SageMath/Python and R kernels will be available in the SageMath Jupyter notebook."
   ]
  },
  {
   "cell_type": "code",
   "execution_count": 21,
   "metadata": {
    "collapsed": false
   },
   "outputs": [
    {
     "name": "stdout",
     "output_type": "stream",
     "text": [
      "[5.23 5.74 4.93 5.74 5.19 5.46 5.27 5.57 5.12 5.45 5.42 4.05 4.26 4.58\n",
      " 3.94 4.18 4.18 4.38 4.22 4.42 4.85 5.02 4.66 4.66 4.9  4.39 4.42 5.1\n",
      " 5.22 4.34 5.62 5.1  5.22 5.18 5.57 4.62 5.06 5.34 5.34 5.54 4.98 4.5 ]\n",
      "[4.37 4.56 4.26 4.56 4.3  4.46 4.57 4.26 4.37 4.43 4.48 4.01 4.29 4.42\n",
      " 4.23 4.42 4.23 4.29 4.29 4.42 4.49 4.38 4.42 4.29 4.38 4.22 4.38 4.56\n",
      " 4.45 4.23 4.62 4.53 4.45 4.53 4.43 4.38 4.45 4.5  4.45 4.55 4.45 4.42]\n"
     ]
    }
   ],
   "source": [
    "# this is x and y available as numpy arrays in SageMath/Python\n",
    "logLightIntens_logSurfTemp=[(4.37,5.23),(4.56,5.74),\n",
    "(4.26,4.93),(4.56,5.74),(4.30,5.19),(4.46,5.46),(3.84,4.65),(4.57,5.27),(4.26,5.57),(4.37,5.12),(3.49,5.73),\n",
    "(4.43,5.45),(4.48,5.42),(4.01,4.05),(4.29,4.26),(4.42,4.58),(4.23,3.94),(4.42,4.18),(4.23,4.18),(3.49,5.89),\n",
    "(4.29,4.38),(4.29,4.22),(4.42,4.42),(4.49,4.85),(4.38,5.02),(4.42,4.66),(4.29,4.66),(4.38,4.90),(4.22,4.39),\n",
    "(3.48,6.05),(4.38,4.42),(4.56,5.10),(4.45,5.22),(3.49,6.29),(4.23,4.34),(4.62,5.62),(4.53,5.10),(4.45,5.22),\n",
    "(4.53,5.18),(4.43,5.57),(4.38,4.62),(4.45,5.06),(4.50,5.34),(4.45,5.34),(4.55,5.54),(4.45,4.98),(4.42,4.50)]\n",
    "CleanedlogLightIntens_logSurfTemp=\\\n",
    "np.array([yx for yx in logLightIntens_logSurfTemp if yx[1]<5.9 and yx[0]>4]) # data range constraint\n",
    "x=CleanedlogLightIntens_logSurfTemp[:,1]\n",
    "y=CleanedlogLightIntens_logSurfTemp[:,0]\n",
    "print (x)\n",
    "print (y)"
   ]
  },
  {
   "cell_type": "markdown",
   "metadata": {
    "collapsed": false
   },
   "source": [
    "#### Assigning to `x` and `y` in SageMath/R\n",
    "\n",
    "We use the assignment operator, `<-`, in R, as follows:"
   ]
  },
  {
   "cell_type": "code",
   "execution_count": 22,
   "metadata": {
    "collapsed": false
   },
   "outputs": [
    {
     "name": "stdout",
     "output_type": "stream",
     "text": [
      " [1] 4.37 4.56 4.26 4.56 4.30 4.46 4.57 4.26 4.37 4.43 4.48 4.01 4.29 4.42 4.23\n",
      "[16] 4.42 4.23 4.29 4.29 4.42 4.49 4.38 4.42 4.29 4.38 4.22 4.38 4.56 4.45 4.23\n",
      "[31] 4.62 4.53 4.45 4.53 4.43 4.38 4.45 4.50 4.45 4.55 4.45 4.42\n"
     ]
    }
   ],
   "source": [
    "%%r\n",
    "x <- c(5.23,  5.74,  4.93,  5.74,  5.19,  5.46,  5.27,  5.57,  5.12,\n",
    "         5.45,  5.42,  4.05,  4.26,  4.58,  3.94,  4.18,  4.18,  4.38,\n",
    "         4.22,  4.42,  4.85,  5.02,  4.66,  4.66,  4.9 ,  4.39,  4.42,\n",
    "         5.1 ,  5.22,  4.34,  5.62,  5.1 ,  5.22,  5.18,  5.57,  4.62,\n",
    "         5.06,  5.34,  5.34,  5.54,  4.98,  4.5)\n",
    "y <- c(4.37,  4.56,  4.26,  4.56,  4.3 ,  4.46,  4.57,  4.26,  4.37,\n",
    "         4.43,  4.48,  4.01,  4.29,  4.42,  4.23,  4.42,  4.23,  4.29,\n",
    "         4.29,  4.42,  4.49,  4.38,  4.42,  4.29,  4.38,  4.22,  4.38,\n",
    "         4.56,  4.45,  4.23,  4.62,  4.53,  4.45,  4.53,  4.43,  4.38,\n",
    "         4.45,  4.5 ,  4.45,  4.55,  4.45,  4.42)"
   ]
  },
  {
   "cell_type": "markdown",
   "metadata": {
    "collapsed": false
   },
   "source": [
    "#### Doing Linear Regression in SameMath/R"
   ]
  },
  {
   "cell_type": "code",
   "execution_count": 23,
   "metadata": {
    "collapsed": false
   },
   "outputs": [
    {
     "name": "stdout",
     "output_type": "stream",
     "text": [
      "\n",
      "Call:\n",
      "lm(formula = y ~ x + I(x^2))\n",
      "\n",
      "Residuals:\n",
      "     Min       1Q   Median       3Q      Max \n",
      "-0.22916 -0.05145  0.01121  0.06263  0.16072 \n",
      "\n",
      "Coefficients:\n",
      "            Estimate Std. Error t value Pr(>|t|)\n",
      "(Intercept)  1.87480    1.44471   1.298    0.202\n",
      "x            0.87443    0.59759   1.463    0.151\n",
      "I(x^2)      -0.07272    0.06128  -1.187    0.243\n",
      "\n",
      "Residual standard error: 0.09108 on 39 degrees of freedom\n",
      "Multiple R-squared:  0.484,\tAdjusted R-squared:  0.4576 \n",
      "F-statistic: 18.29 on 2 and 39 DF,  p-value: 2.491e-06\n"
     ]
    }
   ],
   "source": [
    "%%r\n",
    "linearRegressionModel <- lm(formula = y ~ x + I(x^2))\n",
    "\n",
    "summary(linearRegressionModel)"
   ]
  },
  {
   "cell_type": "markdown",
   "metadata": {
    "collapsed": false
   },
   "source": [
    "### Running R in SageMath is \"easy as\":\n",
    "\n",
    "Sometimes you need additional `R` packages.\n",
    "\n",
    "- Installing R packages with `install.packages(...)`\n",
    "\n",
    "**Note:** Once a package is installed on a particular machine using `install.packages(\"wantedpackage\")` then you only need to load that library using `library(wantedpackage)` when you are using the same machine.\n",
    "\n",
    "#### Additional Packages\n",
    "\n",
    "One often needs several additional packages to run certain desired `R` commands. Let's get some such packages.\n",
    "\n",
    "\n",
    "In other words, you don't have to install packages that are already installed and thus can be automatically found by `R` in the default location it will be installed at. In the case below, you can see where the package was installed from the following line:\n",
    "\n",
    "-  `Installing package into ‘/some_path_to_where_the_package_is_installed’`"
   ]
  },
  {
   "cell_type": "code",
   "execution_count": 24,
   "metadata": {
    "collapsed": false
   },
   "outputs": [
    {
     "name": "stdout",
     "output_type": "stream",
     "text": [
      "<rpy2.rinterface_lib.sexp.NULLType object at 0x7f29b952dd08> [RTYPES.NILSXP]\n"
     ]
    }
   ],
   "source": [
    "%%r\n",
    "# there will be further dependencies, you may need to recursively install...\n",
    "#install.packages(\"Flury\")\n",
    "#library(Flury)\n",
    "#data(dead.beetles)"
   ]
  },
  {
   "cell_type": "markdown",
   "metadata": {
    "collapsed": false
   },
   "source": [
    "### SageMath/R docs\n",
    "\n",
    "For example, you can find in the docs more systematic/programmatic way to assign SageMath/Python objects to SageMath/R objects.\n",
    "\n",
    "- R:\n",
    "  - [https://cran.r-project.org/doc/manuals/R-intro.html](https://cran.r-project.org/doc/manuals/R-intro.html)\n",
    "- SageMath/R:\n",
    "  - [http://doc.sagemath.org/html/en/reference/interfaces/sage/interfaces/r.html](http://doc.sagemath.org/html/en/reference/interfaces/sage/interfaces/r.html)\n"
   ]
  }
 ],
 "metadata": {
  "kernelspec": {
   "display_name": "SageMath 9.1",
   "language": "sagemath",
   "metadata": {
    "cocalc": {
     "description": "Open-source mathematical software system",
     "priority": 1,
     "url": "https://www.sagemath.org/"
    }
   },
   "name": "sage-9.1",
   "resource_dir": "/ext/jupyter/kernels/sage-9.1"
  },
  "language_info": {
   "codemirror_mode": {
    "name": "ipython",
    "version": 3
   },
   "file_extension": ".py",
   "mimetype": "text/x-python",
   "name": "python",
   "nbconvert_exporter": "python",
   "pygments_lexer": "ipython3",
   "version": "3.7.8"
  },
  "lx_course_instance": "2021",
  "lx_course_name": "Introduction to Data Science: A Comp-Math-Stat Approach",
  "lx_course_number": "1MS041"
 },
 "nbformat": 4,
 "nbformat_minor": 4
}
